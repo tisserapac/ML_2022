{
 "cells": [
  {
   "cell_type": "code",
   "execution_count": 1,
   "id": "235f86a0",
   "metadata": {},
   "outputs": [],
   "source": [
    "import torch\n",
    "import torch.nn as nn\n",
    "from torch.utils.data import DataLoader\n",
    "\n",
    "import numpy as np\n",
    "import pandas as pd\n",
    "import matplotlib.pyplot as plt"
   ]
  },
  {
   "cell_type": "code",
   "execution_count": 2,
   "id": "e779913e",
   "metadata": {},
   "outputs": [],
   "source": [
    "import numpy as np\n",
    "\n",
    "X1 = np.matrix([[70.4611978, 6.77435737], [26.63557899, 6.18519845], [21.21435842, 5.98482521],\n",
    "      [49.46520438, 6.46685477], [36.31867059, 6.26767026], [65.40450545, 6.69973324],\n",
    "      [47.63604002, 6.52991946], [51.12650291, 6.55278139], [16.19718639, 5.8701804],\n",
    "      [41.09647679, 6.39265021], [48.52977517, 6.54874167], [33.2783272, 6.24645442],\n",
    "      [54.2416494, 6.68772955], [63.87981696, 6.64426231], [49.74926534, 6.54019839],\n",
    "      [45.50085081, 6.40530107], [31.80572899, 6.33114329], [25.88027769, 6.00191626],\n",
    "      [25.34847504, 6.07445523], [59.5509754, 6.67139653], [50.69674158, 6.51872281],\n",
    "      [54.11728722, 6.58716206], [58.22172538, 6.58217774], [38.82480513, 6.43235051],\n",
    "      [54.62361945, 6.62107478], [42.24368621, 6.43349846], [44.91058546, 6.40702283],\n",
    "      [62.72139429, 6.81082283], [77.55458346, 6.86015373], [49.07536097, 6.58151526],\n",
    "      [51.48292856, 6.62113585], [57.37090719, 6.65400127], [48.48641553, 6.54340401],\n",
    "      [21.24715108, 6.07259954], [37.64146721, 6.46820336], [12.35289436, 5.4695928],\n",
    "      [37.65875476, 6.18370352], [49.85008383, 6.60947486], [66.13648137, 6.79896653],\n",
    "      [27.29008652, 6.15868866], [82.89679414, 6.86219115], [60.28610161, 6.77246816],\n",
    "      [45.99452861, 6.40409124], [77.29411953, 6.88564085], [49.24729059, 6.39129918],\n",
    "      [52.19238458, 6.52793378], [55.55244532, 6.5922497], [38.28876143, 6.35421521],\n",
    "      [41.28903755, 6.33314064], [73.83202683, 6.85274489], [62.84426032, 6.63317405],\n",
    "      [27.66679337, 6.0765891], [64.90528747, 6.7277243], [62.75897971, 6.74867287],\n",
    "      [57.47911597, 6.56964198], [32.54225548, 6.14425762], [44.7087849, 6.55684065],\n",
    "      [30.22868535, 6.17664755], [66.43902044, 6.66354862], [57.50647725, 6.63295779],\n",
    "      [56.23274763, 6.65483072], [71.62377075, 6.8249259], [37.21929751, 6.45896618],\n",
    "      [30.33685416, 6.29108668], [53.72586113, 6.55558498], [58.92009067, 6.58914418],\n",
    "      [60.36917635, 6.73713645], [46.46087002, 6.61086064], [54.97919255, 6.48830287],\n",
    "      [60.08999745, 6.63018137], [29.23503961, 6.06804535], [45.18879885, 6.44043758],\n",
    "      [67.91432786, 6.8105173], [46.5800853, 6.50060039], [56.70569052, 6.65565127],\n",
    "      [40.68951533, 6.41478636], [48.67956085, 6.48811567], [41.59182624, 6.38699182],\n",
    "      [39.95740486, 6.33546435], [44.94880975, 6.46206514], [64.78053936, 6.74188874],\n",
    "      [57.93695294, 6.73064008], [55.49704023, 6.64231398], [39.57510111, 6.29139288],\n",
    "      [33.95225046, 6.33743394], [77.23246962, 6.79966126], [56.49647686, 6.66597049],\n",
    "      [72.05710124, 6.83097927], [51.36582347, 6.63984591], [36.23540347, 6.26819074],\n",
    "      [51.33172918, 6.55170989], [65.9107458, 6.7412432], [45.92145099, 6.55785946],\n",
    "      [48.73393011, 6.5700271], [43.19824007, 6.5765512], [32.51187411, 6.17277242],\n",
    "      [66.52125325, 6.7549236], [71.77667409, 6.77447514], [27.54687135, 6.07712865],\n",
    "      [70.29209858, 6.82371897]])\n",
    "\n",
    "X2 = np.matrix([[103.48734726, 7.06665128], [45.95181945, 6.92463529], [62.51311459, 7.29929464],\n",
    "      [34.75905558, 6.82590246], [61.42150233, 7.14207452], [20.92995779, 6.18926827],\n",
    "      [48.88757058, 7.10046058], [47.00567217, 6.87392491], [66.03960746, 7.21300884],\n",
    "      [41.00765303, 6.88260887], [53.39454458, 7.12002753], [59.05801699, 7.07708207],\n",
    "      [25.84457253, 6.52661965], [20.64948341, 6.4810278], [63.28046094, 7.18001038],\n",
    "      [66.29002442, 7.24725685], [49.26589866, 7.02704851], [59.53968788, 7.12513223],\n",
    "      [48.46665858, 6.97610637], [34.51909729, 6.85422354], [61.16606292, 7.1611797],\n",
    "      [65.62870788, 7.25370585], [57.43965533, 7.12551572], [51.4256259, 7.12109028],\n",
    "      [78.45648704, 7.38957843], [70.23973965, 7.28014297], [61.12178687, 7.14687961],\n",
    "      [75.55803406, 7.2645782], [44.9666415, 7.00364604], [43.94509452, 6.94630876],\n",
    "      [44.98195858, 6.94771427], [44.07909292, 6.84250384], [33.27404217, 6.76884994],\n",
    "      [66.83707899, 7.26223859], [34.99475166, 6.75074986], [59.51675598, 7.18130986],\n",
    "      [37.03437849, 6.87742508], [62.14584595, 7.21712651], [51.37422401, 7.1478843],\n",
    "      [25.75396602, 6.83643475], [66.18768985, 7.28574587], [50.46927715, 7.0901681],\n",
    "      [66.08232926, 7.28108743], [16.81537222, 6.44176855], [38.49515228, 6.85670726],\n",
    "      [44.87889506, 6.89762361], [51.72803212, 7.15768698], [26.41099035, 6.69220322],\n",
    "      [67.40763472, 7.25475514], [60.26711966, 7.13606818], [41.26604269, 6.82072533],\n",
    "      [36.25102952, 6.81241658], [90.34415059, 7.10789215], [49.9112951, 7.04364433],\n",
    "      [37.60574769, 6.75709643], [47.69027385, 7.15224795], [70.7126762, 7.37139046],\n",
    "      [31.38034068, 6.57171353], [45.43488612, 6.97156664], [29.83557583, 6.77016354],\n",
    "      [53.58242995, 7.14264146], [40.28103375, 6.88596508], [69.76687507, 7.29225697],\n",
    "      [40.72428579, 6.90370374], [38.35168955, 6.72388286], [88.77752009, 7.30440221],\n",
    "      [52.71910503, 7.10525341], [78.13634099, 7.43246583], [55.28469075, 7.15527197],\n",
    "      [26.12154, 6.77911307], [57.9174037, 7.16031425], [59.96888213, 7.04359248],\n",
    "      [28.979886, 6.69711096], [54.10548377, 7.08093707], [46.24087958, 7.03464403],\n",
    "      [46.02151582, 6.98139406], [32.74868227, 6.69473258], [45.70424283, 6.94792668],\n",
    "      [25.85436229, 6.58336042], [77.98270261, 7.41044107], [54.65190235, 7.11080335],\n",
    "      [60.44627103, 7.07123203], [68.58296094, 7.33179762], [42.80337975, 6.87396778],\n",
    "      [31.35673666, 6.66603545], [19.04585207, 6.62207371], [48.79436125, 7.01009406],\n",
    "      [45.44124128, 7.08039785], [41.97937064, 6.854478], [53.39688062, 7.02525752],\n",
    "      [66.0637938, 7.258192], [55.09943464, 7.1307132], [65.22295533, 7.28208667],\n",
    "      [48.25983281, 6.93393588], [19.00711267, 6.33112045], [39.14998323, 6.99193013],\n",
    "      [75.51283715, 7.34232193], [20.07554717, 6.65314899], [40.64087416, 6.81927983],\n",
    "      [68.19628122, 7.3153336]])\n",
    "\n",
    "X = np.concatenate([X1, X2],0);\n",
    "y = np.concatenate([np.matrix(np.zeros([100,1])),np.matrix(np.ones([100,1]))]);"
   ]
  },
  {
   "cell_type": "code",
   "execution_count": 3,
   "id": "2b1728b5",
   "metadata": {},
   "outputs": [],
   "source": [
    "import random\n",
    "random.seed(12)\n",
    "\n",
    "percent_train = .8\n",
    "\n",
    "#Standardize\n",
    "XX = (X-np.mean(X, axis = 0))/np.std(X, axis = 0)\n",
    "\n",
    "# Partion data into training and test datasets\n",
    "m, n = X.shape\n",
    "\n",
    "y = y.reshape(m, 1)\n",
    "idx = np.arange(0, m)\n",
    "random.shuffle(idx)\n",
    "m_train = int(m * percent_train)\n",
    "train_idx = idx[0:m_train]\n",
    "test_idx = idx[m_train:]\n",
    "X_train = XX[train_idx,:]\n",
    "X_test = XX[test_idx,:]\n",
    "\n",
    "y_train = y[train_idx]\n",
    "y_test = y[test_idx]"
   ]
  },
  {
   "cell_type": "code",
   "execution_count": 4,
   "id": "4f71e7f7",
   "metadata": {},
   "outputs": [
    {
     "data": {
      "text/plain": [
       "((160, 2), (40, 2))"
      ]
     },
     "execution_count": 4,
     "metadata": {},
     "output_type": "execute_result"
    }
   ],
   "source": [
    "X_train.shape, X_test.shape"
   ]
  },
  {
   "cell_type": "code",
   "execution_count": 5,
   "id": "51575fd5",
   "metadata": {},
   "outputs": [
    {
     "data": {
      "text/plain": [
       "(torch.Size([160, 2]), torch.Size([160]))"
      ]
     },
     "execution_count": 5,
     "metadata": {},
     "output_type": "execute_result"
    }
   ],
   "source": [
    "X_train_tensor = torch.tensor(X_train, dtype=torch.float32)\n",
    "y_train_tensor = torch.tensor(y_train, dtype=torch.int64).flatten()\n",
    "X_train_tensor.shape, y_train_tensor.shape"
   ]
  },
  {
   "cell_type": "code",
   "execution_count": 6,
   "id": "5a689d26",
   "metadata": {},
   "outputs": [
    {
     "data": {
      "text/plain": [
       "(torch.Size([40, 2]), torch.Size([40]))"
      ]
     },
     "execution_count": 6,
     "metadata": {},
     "output_type": "execute_result"
    }
   ],
   "source": [
    "X_test_tensor = torch.tensor(X_test, dtype=torch.float32)\n",
    "y_test_tensor = torch.tensor(y_test, dtype=torch.int64).flatten()\n",
    "X_test_tensor.shape, y_test_tensor.shape"
   ]
  },
  {
   "cell_type": "code",
   "execution_count": 7,
   "id": "71da0b7b",
   "metadata": {},
   "outputs": [],
   "source": [
    "train_dataset = torch.utils.data.TensorDataset(X_train_tensor, y_train_tensor)\n",
    "test_dataset = torch.utils.data.TensorDataset(X_test_tensor, y_test_tensor)"
   ]
  },
  {
   "cell_type": "code",
   "execution_count": 8,
   "id": "29f27104",
   "metadata": {},
   "outputs": [],
   "source": [
    "#set the seed for reproducibility in shuffling\n",
    "torch.manual_seed(999)\n",
    "\n",
    "#set the dataloader\n",
    "train_batch_size = 40\n",
    "test_batch_size  = 40\n",
    "#format: DataLoader(dataset, batch_size, shuffle)\n",
    "train_loader = DataLoader(train_dataset, batch_size = train_batch_size, shuffle=True)\n",
    "test_loader  = DataLoader(test_dataset,  batch_size = test_batch_size, shuffle=False)"
   ]
  },
  {
   "cell_type": "code",
   "execution_count": 9,
   "id": "1f3c3ca6",
   "metadata": {},
   "outputs": [
    {
     "data": {
      "text/plain": [
       "(tensor([ 0.3500, -0.3094]), tensor(0))"
      ]
     },
     "execution_count": 9,
     "metadata": {},
     "output_type": "execute_result"
    }
   ],
   "source": [
    "train_dataset[0]"
   ]
  },
  {
   "cell_type": "code",
   "execution_count": 10,
   "id": "f35c26bb",
   "metadata": {},
   "outputs": [],
   "source": [
    "class TestNN(nn.Module):\n",
    "    \n",
    "    def __init__(self, input_size=2, out_size=2, layer_size=[]):\n",
    "        super().__init__()        \n",
    "        layerlist = []\n",
    "        for i in layer_size:\n",
    "            layerlist.append(nn.Linear(input_size,i)\n",
    "            layerlist.append(nn.ReLU(inplace=True)) \n",
    "            input_size = i \n",
    "        layerlist.append(nn.Linear(input_size,out_size))\n",
    "        \n",
    "        self.layers = nn.Sequential(*layerlist)\n",
    "        \n",
    "        \n",
    "    def forward(self, x):\n",
    "        x = self.layers(x)\n",
    "        return x"
   ]
  },
  {
   "cell_type": "code",
   "execution_count": 11,
   "id": "f685336a",
   "metadata": {},
   "outputs": [
    {
     "data": {
      "text/plain": [
       "TestNN(\n",
       "  (layers): Sequential(\n",
       "    (0): Linear(in_features=2, out_features=10, bias=True)\n",
       "    (1): ReLU(inplace=True)\n",
       "    (2): Linear(in_features=10, out_features=5, bias=True)\n",
       "    (3): ReLU(inplace=True)\n",
       "    (4): Linear(in_features=5, out_features=2, bias=True)\n",
       "  )\n",
       ")"
      ]
     },
     "execution_count": 11,
     "metadata": {},
     "output_type": "execute_result"
    }
   ],
   "source": [
    "# device = torch.device('cuda' if torch.cuda.is_available() else 'cpu')\n",
    "# print(device)\n",
    "\n",
    "model = TestNN(layer_size=[10,5])\n",
    "model"
   ]
  },
  {
   "cell_type": "code",
   "execution_count": 12,
   "id": "a46ee731",
   "metadata": {},
   "outputs": [],
   "source": [
    "J_fn = nn.CrossEntropyLoss()\n",
    "optimizer = torch.optim.SGD(model.parameters(), lr=0.01)"
   ]
  },
  {
   "cell_type": "code",
   "execution_count": 13,
   "id": "83f57b39",
   "metadata": {},
   "outputs": [
    {
     "name": "stdout",
     "output_type": "stream",
     "text": [
      "Epoch: 0: Batch:   0; Loss: 0.70; Acc: 55.00\n",
      "Epoch: 0: Batch:   2; Loss: 0.74; Acc: 51.67\n",
      "++++++Validation++++++ Val Loss: 0.73 - Val Acc: 47.50\n",
      "Epoch: 1: Batch:   0; Loss: 0.67; Acc: 60.00\n",
      "Epoch: 1: Batch:   2; Loss: 0.74; Acc: 55.00\n",
      "++++++Validation++++++ Val Loss: 0.72 - Val Acc: 47.50\n",
      "Epoch: 2: Batch:   0; Loss: 0.74; Acc: 45.00\n",
      "Epoch: 2: Batch:   2; Loss: 0.66; Acc: 50.83\n",
      "++++++Validation++++++ Val Loss: 0.72 - Val Acc: 47.50\n",
      "Epoch: 3: Batch:   0; Loss: 0.65; Acc: 65.00\n",
      "Epoch: 3: Batch:   2; Loss: 0.73; Acc: 49.17\n",
      "++++++Validation++++++ Val Loss: 0.72 - Val Acc: 47.50\n",
      "Epoch: 4: Batch:   0; Loss: 0.69; Acc: 55.00\n",
      "Epoch: 4: Batch:   2; Loss: 0.74; Acc: 50.00\n",
      "++++++Validation++++++ Val Loss: 0.72 - Val Acc: 47.50\n",
      "Epoch: 5: Batch:   0; Loss: 0.71; Acc: 50.00\n",
      "Epoch: 5: Batch:   2; Loss: 0.69; Acc: 51.67\n",
      "++++++Validation++++++ Val Loss: 0.71 - Val Acc: 47.50\n",
      "Epoch: 6: Batch:   0; Loss: 0.70; Acc: 50.00\n",
      "Epoch: 6: Batch:   2; Loss: 0.76; Acc: 47.50\n",
      "++++++Validation++++++ Val Loss: 0.71 - Val Acc: 47.50\n",
      "Epoch: 7: Batch:   0; Loss: 0.67; Acc: 60.00\n",
      "Epoch: 7: Batch:   2; Loss: 0.73; Acc: 52.50\n",
      "++++++Validation++++++ Val Loss: 0.71 - Val Acc: 47.50\n",
      "Epoch: 8: Batch:   0; Loss: 0.73; Acc: 42.50\n",
      "Epoch: 8: Batch:   2; Loss: 0.68; Acc: 47.50\n",
      "++++++Validation++++++ Val Loss: 0.70 - Val Acc: 47.50\n",
      "Epoch: 9: Batch:   0; Loss: 0.69; Acc: 52.50\n",
      "Epoch: 9: Batch:   2; Loss: 0.67; Acc: 49.17\n",
      "++++++Validation++++++ Val Loss: 0.70 - Val Acc: 47.50\n",
      "Epoch: 10: Batch:   0; Loss: 0.68; Acc: 55.00\n",
      "Epoch: 10: Batch:   2; Loss: 0.69; Acc: 52.50\n",
      "++++++Validation++++++ Val Loss: 0.70 - Val Acc: 47.50\n",
      "Epoch: 11: Batch:   0; Loss: 0.65; Acc: 62.50\n",
      "Epoch: 11: Batch:   2; Loss: 0.69; Acc: 50.83\n",
      "++++++Validation++++++ Val Loss: 0.70 - Val Acc: 47.50\n",
      "Epoch: 12: Batch:   0; Loss: 0.68; Acc: 52.50\n",
      "Epoch: 12: Batch:   2; Loss: 0.70; Acc: 47.50\n",
      "++++++Validation++++++ Val Loss: 0.69 - Val Acc: 47.50\n",
      "Epoch: 13: Batch:   0; Loss: 0.72; Acc: 42.50\n",
      "Epoch: 13: Batch:   2; Loss: 0.67; Acc: 50.00\n",
      "++++++Validation++++++ Val Loss: 0.69 - Val Acc: 47.50\n",
      "Epoch: 14: Batch:   0; Loss: 0.70; Acc: 45.00\n",
      "Epoch: 14: Batch:   2; Loss: 0.69; Acc: 46.67\n",
      "++++++Validation++++++ Val Loss: 0.69 - Val Acc: 47.50\n",
      "Epoch: 15: Batch:   0; Loss: 0.66; Acc: 57.50\n",
      "Epoch: 15: Batch:   2; Loss: 0.71; Acc: 51.67\n",
      "++++++Validation++++++ Val Loss: 0.68 - Val Acc: 47.50\n",
      "Epoch: 16: Batch:   0; Loss: 0.66; Acc: 57.50\n",
      "Epoch: 16: Batch:   2; Loss: 0.72; Acc: 51.67\n",
      "++++++Validation++++++ Val Loss: 0.68 - Val Acc: 47.50\n",
      "Epoch: 17: Batch:   0; Loss: 0.67; Acc: 52.50\n",
      "Epoch: 17: Batch:   2; Loss: 0.70; Acc: 48.33\n",
      "++++++Validation++++++ Val Loss: 0.68 - Val Acc: 47.50\n",
      "Epoch: 18: Batch:   0; Loss: 0.66; Acc: 55.00\n",
      "Epoch: 18: Batch:   2; Loss: 0.67; Acc: 50.83\n",
      "++++++Validation++++++ Val Loss: 0.68 - Val Acc: 47.50\n",
      "Epoch: 19: Batch:   0; Loss: 0.66; Acc: 55.00\n",
      "Epoch: 19: Batch:   2; Loss: 0.67; Acc: 51.67\n",
      "++++++Validation++++++ Val Loss: 0.67 - Val Acc: 47.50\n",
      "Epoch: 20: Batch:   0; Loss: 0.66; Acc: 50.00\n",
      "Epoch: 20: Batch:   2; Loss: 0.67; Acc: 47.50\n",
      "++++++Validation++++++ Val Loss: 0.67 - Val Acc: 47.50\n",
      "Epoch: 21: Batch:   0; Loss: 0.69; Acc: 45.00\n",
      "Epoch: 21: Batch:   2; Loss: 0.70; Acc: 50.00\n",
      "++++++Validation++++++ Val Loss: 0.67 - Val Acc: 47.50\n",
      "Epoch: 22: Batch:   0; Loss: 0.64; Acc: 57.50\n",
      "Epoch: 22: Batch:   2; Loss: 0.65; Acc: 53.33\n",
      "++++++Validation++++++ Val Loss: 0.66 - Val Acc: 47.50\n",
      "Epoch: 23: Batch:   0; Loss: 0.67; Acc: 50.00\n",
      "Epoch: 23: Batch:   2; Loss: 0.66; Acc: 51.67\n",
      "++++++Validation++++++ Val Loss: 0.66 - Val Acc: 47.50\n",
      "Epoch: 24: Batch:   0; Loss: 0.64; Acc: 57.50\n",
      "Epoch: 24: Batch:   2; Loss: 0.68; Acc: 48.33\n",
      "++++++Validation++++++ Val Loss: 0.66 - Val Acc: 47.50\n",
      "Epoch: 25: Batch:   0; Loss: 0.62; Acc: 62.50\n",
      "Epoch: 25: Batch:   2; Loss: 0.69; Acc: 51.67\n",
      "++++++Validation++++++ Val Loss: 0.65 - Val Acc: 47.50\n",
      "Epoch: 26: Batch:   0; Loss: 0.66; Acc: 52.50\n",
      "Epoch: 26: Batch:   2; Loss: 0.68; Acc: 48.33\n",
      "++++++Validation++++++ Val Loss: 0.65 - Val Acc: 47.50\n",
      "Epoch: 27: Batch:   0; Loss: 0.65; Acc: 50.00\n",
      "Epoch: 27: Batch:   2; Loss: 0.64; Acc: 50.00\n",
      "++++++Validation++++++ Val Loss: 0.65 - Val Acc: 50.00\n",
      "Epoch: 28: Batch:   0; Loss: 0.64; Acc: 52.50\n",
      "Epoch: 28: Batch:   2; Loss: 0.67; Acc: 50.83\n",
      "++++++Validation++++++ Val Loss: 0.64 - Val Acc: 50.00\n",
      "Epoch: 29: Batch:   0; Loss: 0.66; Acc: 50.00\n",
      "Epoch: 29: Batch:   2; Loss: 0.60; Acc: 55.83\n",
      "++++++Validation++++++ Val Loss: 0.64 - Val Acc: 55.00\n",
      "Epoch: 30: Batch:   0; Loss: 0.64; Acc: 52.50\n",
      "Epoch: 30: Batch:   2; Loss: 0.60; Acc: 53.33\n",
      "++++++Validation++++++ Val Loss: 0.64 - Val Acc: 55.00\n",
      "Epoch: 31: Batch:   0; Loss: 0.63; Acc: 60.00\n",
      "Epoch: 31: Batch:   2; Loss: 0.63; Acc: 58.33\n",
      "++++++Validation++++++ Val Loss: 0.63 - Val Acc: 60.00\n",
      "Epoch: 32: Batch:   0; Loss: 0.61; Acc: 62.50\n",
      "Epoch: 32: Batch:   2; Loss: 0.65; Acc: 54.17\n",
      "++++++Validation++++++ Val Loss: 0.63 - Val Acc: 62.50\n",
      "Epoch: 33: Batch:   0; Loss: 0.61; Acc: 60.00\n",
      "Epoch: 33: Batch:   2; Loss: 0.60; Acc: 60.83\n",
      "++++++Validation++++++ Val Loss: 0.62 - Val Acc: 62.50\n",
      "Epoch: 34: Batch:   0; Loss: 0.60; Acc: 65.00\n",
      "Epoch: 34: Batch:   2; Loss: 0.60; Acc: 55.83\n",
      "++++++Validation++++++ Val Loss: 0.62 - Val Acc: 67.50\n",
      "Epoch: 35: Batch:   0; Loss: 0.67; Acc: 42.50\n",
      "Epoch: 35: Batch:   2; Loss: 0.63; Acc: 55.00\n",
      "++++++Validation++++++ Val Loss: 0.62 - Val Acc: 67.50\n",
      "Epoch: 36: Batch:   0; Loss: 0.62; Acc: 55.00\n",
      "Epoch: 36: Batch:   2; Loss: 0.62; Acc: 59.17\n",
      "++++++Validation++++++ Val Loss: 0.61 - Val Acc: 67.50\n",
      "Epoch: 37: Batch:   0; Loss: 0.63; Acc: 55.00\n",
      "Epoch: 37: Batch:   2; Loss: 0.59; Acc: 57.50\n",
      "++++++Validation++++++ Val Loss: 0.61 - Val Acc: 67.50\n",
      "Epoch: 38: Batch:   0; Loss: 0.63; Acc: 50.00\n",
      "Epoch: 38: Batch:   2; Loss: 0.62; Acc: 58.33\n",
      "++++++Validation++++++ Val Loss: 0.60 - Val Acc: 70.00\n",
      "Epoch: 39: Batch:   0; Loss: 0.59; Acc: 67.50\n",
      "Epoch: 39: Batch:   2; Loss: 0.61; Acc: 66.67\n",
      "++++++Validation++++++ Val Loss: 0.60 - Val Acc: 70.00\n",
      "Epoch: 40: Batch:   0; Loss: 0.61; Acc: 60.00\n",
      "Epoch: 40: Batch:   2; Loss: 0.59; Acc: 64.17\n",
      "++++++Validation++++++ Val Loss: 0.59 - Val Acc: 70.00\n",
      "Epoch: 41: Batch:   0; Loss: 0.58; Acc: 67.50\n",
      "Epoch: 41: Batch:   2; Loss: 0.60; Acc: 64.17\n",
      "++++++Validation++++++ Val Loss: 0.59 - Val Acc: 70.00\n",
      "Epoch: 42: Batch:   0; Loss: 0.59; Acc: 72.50\n",
      "Epoch: 42: Batch:   2; Loss: 0.59; Acc: 70.00\n",
      "++++++Validation++++++ Val Loss: 0.58 - Val Acc: 70.00\n",
      "Epoch: 43: Batch:   0; Loss: 0.62; Acc: 60.00\n",
      "Epoch: 43: Batch:   2; Loss: 0.57; Acc: 65.00\n",
      "++++++Validation++++++ Val Loss: 0.58 - Val Acc: 72.50\n",
      "Epoch: 44: Batch:   0; Loss: 0.60; Acc: 65.00\n",
      "Epoch: 44: Batch:   2; Loss: 0.58; Acc: 68.33\n",
      "++++++Validation++++++ Val Loss: 0.57 - Val Acc: 75.00\n",
      "Epoch: 45: Batch:   0; Loss: 0.60; Acc: 60.00\n",
      "Epoch: 45: Batch:   2; Loss: 0.57; Acc: 70.00\n",
      "++++++Validation++++++ Val Loss: 0.57 - Val Acc: 75.00\n",
      "Epoch: 46: Batch:   0; Loss: 0.58; Acc: 77.50\n",
      "Epoch: 46: Batch:   2; Loss: 0.59; Acc: 75.00\n",
      "++++++Validation++++++ Val Loss: 0.56 - Val Acc: 77.50\n",
      "Epoch: 47: Batch:   0; Loss: 0.57; Acc: 67.50\n",
      "Epoch: 47: Batch:   2; Loss: 0.57; Acc: 75.83\n",
      "++++++Validation++++++ Val Loss: 0.56 - Val Acc: 77.50\n",
      "Epoch: 48: Batch:   0; Loss: 0.60; Acc: 72.50\n",
      "Epoch: 48: Batch:   2; Loss: 0.58; Acc: 75.00\n",
      "++++++Validation++++++ Val Loss: 0.55 - Val Acc: 77.50\n",
      "Epoch: 49: Batch:   0; Loss: 0.55; Acc: 87.50\n",
      "Epoch: 49: Batch:   2; Loss: 0.59; Acc: 80.00\n",
      "++++++Validation++++++ Val Loss: 0.55 - Val Acc: 80.00\n",
      "Epoch: 50: Batch:   0; Loss: 0.56; Acc: 87.50\n",
      "Epoch: 50: Batch:   2; Loss: 0.55; Acc: 84.17\n",
      "++++++Validation++++++ Val Loss: 0.54 - Val Acc: 80.00\n",
      "Epoch: 51: Batch:   0; Loss: 0.57; Acc: 80.00\n",
      "Epoch: 51: Batch:   2; Loss: 0.58; Acc: 83.33\n",
      "++++++Validation++++++ Val Loss: 0.54 - Val Acc: 85.00\n",
      "Epoch: 52: Batch:   0; Loss: 0.54; Acc: 90.00\n",
      "Epoch: 52: Batch:   2; Loss: 0.55; Acc: 85.00\n",
      "++++++Validation++++++ Val Loss: 0.53 - Val Acc: 87.50\n",
      "Epoch: 53: Batch:   0; Loss: 0.55; Acc: 85.00\n",
      "Epoch: 53: Batch:   2; Loss: 0.56; Acc: 86.67\n",
      "++++++Validation++++++ Val Loss: 0.53 - Val Acc: 87.50\n",
      "Epoch: 54: Batch:   0; Loss: 0.54; Acc: 92.50\n",
      "Epoch: 54: Batch:   2; Loss: 0.53; Acc: 92.50\n",
      "++++++Validation++++++ Val Loss: 0.52 - Val Acc: 95.00\n",
      "Epoch: 55: Batch:   0; Loss: 0.55; Acc: 87.50\n",
      "Epoch: 55: Batch:   2; Loss: 0.54; Acc: 90.83\n",
      "++++++Validation++++++ Val Loss: 0.51 - Val Acc: 95.00\n",
      "Epoch: 56: Batch:   0; Loss: 0.54; Acc: 85.00\n",
      "Epoch: 56: Batch:   2; Loss: 0.53; Acc: 90.00\n",
      "++++++Validation++++++ Val Loss: 0.51 - Val Acc: 95.00\n",
      "Epoch: 57: Batch:   0; Loss: 0.53; Acc: 95.00\n",
      "Epoch: 57: Batch:   2; Loss: 0.51; Acc: 91.67\n",
      "++++++Validation++++++ Val Loss: 0.50 - Val Acc: 95.00\n",
      "Epoch: 58: Batch:   0; Loss: 0.50; Acc: 92.50\n",
      "Epoch: 58: Batch:   2; Loss: 0.52; Acc: 95.83\n",
      "++++++Validation++++++ Val Loss: 0.50 - Val Acc: 95.00\n",
      "Epoch: 59: Batch:   0; Loss: 0.51; Acc: 97.50\n",
      "Epoch: 59: Batch:   2; Loss: 0.49; Acc: 96.67\n",
      "++++++Validation++++++ Val Loss: 0.49 - Val Acc: 97.50\n",
      "Epoch: 60: Batch:   0; Loss: 0.49; Acc: 100.00\n",
      "Epoch: 60: Batch:   2; Loss: 0.52; Acc: 98.33\n",
      "++++++Validation++++++ Val Loss: 0.48 - Val Acc: 97.50\n",
      "Epoch: 61: Batch:   0; Loss: 0.52; Acc: 95.00\n",
      "Epoch: 61: Batch:   2; Loss: 0.48; Acc: 97.50\n",
      "++++++Validation++++++ Val Loss: 0.48 - Val Acc: 100.00\n",
      "Epoch: 62: Batch:   0; Loss: 0.51; Acc: 97.50\n",
      "Epoch: 62: Batch:   2; Loss: 0.48; Acc: 98.33\n",
      "++++++Validation++++++ Val Loss: 0.47 - Val Acc: 100.00\n",
      "Epoch: 63: Batch:   0; Loss: 0.47; Acc: 97.50\n",
      "Epoch: 63: Batch:   2; Loss: 0.46; Acc: 99.17\n",
      "++++++Validation++++++ Val Loss: 0.46 - Val Acc: 100.00\n",
      "Epoch: 64: Batch:   0; Loss: 0.45; Acc: 100.00\n",
      "Epoch: 64: Batch:   2; Loss: 0.49; Acc: 98.33\n",
      "++++++Validation++++++ Val Loss: 0.46 - Val Acc: 100.00\n",
      "Epoch: 65: Batch:   0; Loss: 0.48; Acc: 97.50\n",
      "Epoch: 65: Batch:   2; Loss: 0.47; Acc: 98.33\n",
      "++++++Validation++++++ Val Loss: 0.45 - Val Acc: 100.00\n",
      "Epoch: 66: Batch:   0; Loss: 0.48; Acc: 97.50\n",
      "Epoch: 66: Batch:   2; Loss: 0.43; Acc: 98.33\n",
      "++++++Validation++++++ Val Loss: 0.44 - Val Acc: 100.00\n",
      "Epoch: 67: Batch:   0; Loss: 0.43; Acc: 97.50\n",
      "Epoch: 67: Batch:   2; Loss: 0.46; Acc: 98.33\n",
      "++++++Validation++++++ Val Loss: 0.44 - Val Acc: 100.00\n",
      "Epoch: 68: Batch:   0; Loss: 0.45; Acc: 97.50\n",
      "Epoch: 68: Batch:   2; Loss: 0.46; Acc: 98.33\n",
      "++++++Validation++++++ Val Loss: 0.43 - Val Acc: 100.00\n",
      "Epoch: 69: Batch:   0; Loss: 0.45; Acc: 100.00\n",
      "Epoch: 69: Batch:   2; Loss: 0.45; Acc: 99.17\n",
      "++++++Validation++++++ Val Loss: 0.42 - Val Acc: 100.00\n",
      "Epoch: 70: Batch:   0; Loss: 0.43; Acc: 100.00\n",
      "Epoch: 70: Batch:   2; Loss: 0.41; Acc: 99.17\n",
      "++++++Validation++++++ Val Loss: 0.42 - Val Acc: 100.00\n",
      "Epoch: 71: Batch:   0; Loss: 0.41; Acc: 97.50\n",
      "Epoch: 71: Batch:   2; Loss: 0.43; Acc: 98.33\n",
      "++++++Validation++++++ Val Loss: 0.41 - Val Acc: 100.00\n",
      "Epoch: 72: Batch:   0; Loss: 0.42; Acc: 100.00\n",
      "Epoch: 72: Batch:   2; Loss: 0.42; Acc: 98.33\n",
      "++++++Validation++++++ Val Loss: 0.40 - Val Acc: 100.00\n",
      "Epoch: 73: Batch:   0; Loss: 0.43; Acc: 97.50\n",
      "Epoch: 73: Batch:   2; Loss: 0.41; Acc: 98.33\n",
      "++++++Validation++++++ Val Loss: 0.40 - Val Acc: 100.00\n",
      "Epoch: 74: Batch:   0; Loss: 0.39; Acc: 100.00\n",
      "Epoch: 74: Batch:   2; Loss: 0.42; Acc: 98.33\n",
      "++++++Validation++++++ Val Loss: 0.39 - Val Acc: 100.00\n",
      "Epoch: 75: Batch:   0; Loss: 0.39; Acc: 95.00\n",
      "Epoch: 75: Batch:   2; Loss: 0.42; Acc: 98.33\n",
      "++++++Validation++++++ Val Loss: 0.38 - Val Acc: 100.00\n",
      "Epoch: 76: Batch:   0; Loss: 0.39; Acc: 100.00\n",
      "Epoch: 76: Batch:   2; Loss: 0.40; Acc: 98.33\n",
      "++++++Validation++++++ Val Loss: 0.38 - Val Acc: 100.00\n",
      "Epoch: 77: Batch:   0; Loss: 0.43; Acc: 92.50\n",
      "Epoch: 77: Batch:   2; Loss: 0.38; Acc: 97.50\n",
      "++++++Validation++++++ Val Loss: 0.37 - Val Acc: 100.00\n",
      "Epoch: 78: Batch:   0; Loss: 0.39; Acc: 97.50\n",
      "Epoch: 78: Batch:   2; Loss: 0.36; Acc: 97.50\n",
      "++++++Validation++++++ Val Loss: 0.36 - Val Acc: 100.00\n",
      "Epoch: 79: Batch:   0; Loss: 0.39; Acc: 100.00\n",
      "Epoch: 79: Batch:   2; Loss: 0.37; Acc: 98.33\n",
      "++++++Validation++++++ Val Loss: 0.36 - Val Acc: 100.00\n",
      "Epoch: 80: Batch:   0; Loss: 0.37; Acc: 100.00\n",
      "Epoch: 80: Batch:   2; Loss: 0.34; Acc: 99.17\n",
      "++++++Validation++++++ Val Loss: 0.35 - Val Acc: 100.00\n",
      "Epoch: 81: Batch:   0; Loss: 0.38; Acc: 97.50\n",
      "Epoch: 81: Batch:   2; Loss: 0.34; Acc: 97.50\n",
      "++++++Validation++++++ Val Loss: 0.34 - Val Acc: 100.00\n",
      "Epoch: 82: Batch:   0; Loss: 0.35; Acc: 97.50\n",
      "Epoch: 82: Batch:   2; Loss: 0.35; Acc: 98.33\n",
      "++++++Validation++++++ Val Loss: 0.34 - Val Acc: 100.00\n",
      "Epoch: 83: Batch:   0; Loss: 0.37; Acc: 95.00\n",
      "Epoch: 83: Batch:   2; Loss: 0.34; Acc: 98.33\n",
      "++++++Validation++++++ Val Loss: 0.33 - Val Acc: 100.00\n",
      "Epoch: 84: Batch:   0; Loss: 0.35; Acc: 97.50\n",
      "Epoch: 84: Batch:   2; Loss: 0.34; Acc: 99.17\n",
      "++++++Validation++++++ Val Loss: 0.32 - Val Acc: 100.00\n",
      "Epoch: 85: Batch:   0; Loss: 0.37; Acc: 97.50\n",
      "Epoch: 85: Batch:   2; Loss: 0.35; Acc: 98.33\n",
      "++++++Validation++++++ Val Loss: 0.32 - Val Acc: 100.00\n",
      "Epoch: 86: Batch:   0; Loss: 0.32; Acc: 97.50\n",
      "Epoch: 86: Batch:   2; Loss: 0.33; Acc: 99.17\n",
      "++++++Validation++++++ Val Loss: 0.31 - Val Acc: 100.00\n",
      "Epoch: 87: Batch:   0; Loss: 0.35; Acc: 97.50\n",
      "Epoch: 87: Batch:   2; Loss: 0.34; Acc: 97.50\n",
      "++++++Validation++++++ Val Loss: 0.30 - Val Acc: 100.00\n",
      "Epoch: 88: Batch:   0; Loss: 0.32; Acc: 97.50\n",
      "Epoch: 88: Batch:   2; Loss: 0.34; Acc: 98.33\n",
      "++++++Validation++++++ Val Loss: 0.30 - Val Acc: 100.00\n",
      "Epoch: 89: Batch:   0; Loss: 0.35; Acc: 95.00\n",
      "Epoch: 89: Batch:   2; Loss: 0.29; Acc: 98.33\n",
      "++++++Validation++++++ Val Loss: 0.29 - Val Acc: 100.00\n",
      "Epoch: 90: Batch:   0; Loss: 0.31; Acc: 100.00\n",
      "Epoch: 90: Batch:   2; Loss: 0.37; Acc: 97.50\n",
      "++++++Validation++++++ Val Loss: 0.29 - Val Acc: 100.00\n",
      "Epoch: 91: Batch:   0; Loss: 0.30; Acc: 100.00\n",
      "Epoch: 91: Batch:   2; Loss: 0.32; Acc: 99.17\n",
      "++++++Validation++++++ Val Loss: 0.28 - Val Acc: 100.00\n",
      "Epoch: 92: Batch:   0; Loss: 0.28; Acc: 100.00\n",
      "Epoch: 92: Batch:   2; Loss: 0.32; Acc: 97.50\n",
      "++++++Validation++++++ Val Loss: 0.28 - Val Acc: 100.00\n",
      "Epoch: 93: Batch:   0; Loss: 0.30; Acc: 95.00\n",
      "Epoch: 93: Batch:   2; Loss: 0.29; Acc: 98.33\n",
      "++++++Validation++++++ Val Loss: 0.27 - Val Acc: 100.00\n",
      "Epoch: 94: Batch:   0; Loss: 0.28; Acc: 97.50\n",
      "Epoch: 94: Batch:   2; Loss: 0.32; Acc: 98.33\n",
      "++++++Validation++++++ Val Loss: 0.26 - Val Acc: 100.00\n",
      "Epoch: 95: Batch:   0; Loss: 0.26; Acc: 100.00\n",
      "Epoch: 95: Batch:   2; Loss: 0.29; Acc: 98.33\n",
      "++++++Validation++++++ Val Loss: 0.26 - Val Acc: 100.00\n",
      "Epoch: 96: Batch:   0; Loss: 0.29; Acc: 95.00\n",
      "Epoch: 96: Batch:   2; Loss: 0.28; Acc: 97.50\n",
      "++++++Validation++++++ Val Loss: 0.25 - Val Acc: 100.00\n",
      "Epoch: 97: Batch:   0; Loss: 0.28; Acc: 97.50\n",
      "Epoch: 97: Batch:   2; Loss: 0.23; Acc: 96.67\n",
      "++++++Validation++++++ Val Loss: 0.25 - Val Acc: 100.00\n",
      "Epoch: 98: Batch:   0; Loss: 0.29; Acc: 95.00\n",
      "Epoch: 98: Batch:   2; Loss: 0.26; Acc: 97.50\n",
      "++++++Validation++++++ Val Loss: 0.24 - Val Acc: 100.00\n",
      "Epoch: 99: Batch:   0; Loss: 0.26; Acc: 100.00\n",
      "Epoch: 99: Batch:   2; Loss: 0.29; Acc: 98.33\n",
      "++++++Validation++++++ Val Loss: 0.24 - Val Acc: 100.00\n"
     ]
    }
   ],
   "source": [
    "#training\n",
    "epochs = 100\n",
    "train_losses = []\n",
    "train_accs   = []\n",
    "val_losses   = []\n",
    "val_accs     = []\n",
    "\n",
    "#for epochs\n",
    "for i in range(epochs):\n",
    "    total_corr = 0\n",
    "    acc = 0\n",
    "    \n",
    "    #for loader\n",
    "    for batch, (inputs, targets) in enumerate(train_loader):\n",
    "#         inputs = inputs.to(device)\n",
    "#         #targets = targets.to(device)\n",
    "#         targets = targets.type(torch.LongTensor).to(device)\n",
    "        \n",
    "        batch_size = len(targets)\n",
    "        \n",
    "        #1. predict\n",
    "        yhat = model(inputs)\n",
    "        #1.1 calculate the accuracy\n",
    "        predicted = torch.max(yhat, 1)[1]   #if you use 0, it will return the probability, 1 is for index\n",
    "        batch_corr = (predicted == targets).sum()\n",
    "        total_corr += batch_corr\n",
    "        \n",
    "        #2. loss\n",
    "        loss = J_fn(yhat, targets)\n",
    "        train_losses.append(loss)\n",
    "        #3. clear gradients using zero_grad()\n",
    "        optimizer.zero_grad()\n",
    "        #4. backprop using backward()\n",
    "        loss.backward()\n",
    "        #5. update using step()\n",
    "        optimizer.step()\n",
    "        train_acc = (total_corr * 100) / (batch_size * (batch + 1))\n",
    "        train_accs.append(train_acc)\n",
    "        \n",
    "        if batch % 2 == 0:\n",
    "            acc = (total_corr * 100) / (train_batch_size * (batch + 1))\n",
    "            print(f\"Epoch: {i:1.0f}: Batch: {batch:>3}; Loss: {loss:3.2f}; Acc: {acc:3.2f}\")\n",
    "            \n",
    "    with torch.no_grad():\n",
    "        val_corr = 0 \n",
    "        for val_inputs, val_targets in test_loader:\n",
    "#             val_image = val_image.to(device)\n",
    "#             val_label = val_label.to(device)\n",
    "            val_yhat = model(val_inputs)\n",
    "            val_loss = J_fn(val_yhat, val_targets)\n",
    "            val_predicted = torch.max(val_yhat, 1)[1]\n",
    "            val_corr += (val_predicted == val_targets).sum()\n",
    "#             if val_loss < val_old_loss:\n",
    "#                 torch.save(model.state_dict(), filepath)\n",
    "        val_acc = (val_corr * 100) / len(test_dataset)\n",
    "    val_accs.append(val_acc)\n",
    "    val_losses.append(val_loss)\n",
    "    \n",
    "    print(f\"++++++Validation++++++ Val Loss: {val_loss:.2f} - Val Acc: {val_acc:.2f}\")"
   ]
  },
  {
   "cell_type": "code",
   "execution_count": 15,
   "id": "a217c9a6",
   "metadata": {},
   "outputs": [],
   "source": [
    "train_loss = [loss.item() for loss in train_losses]\n",
    "test_loss = [loss.item() for loss in val_losses]"
   ]
  },
  {
   "cell_type": "code",
   "execution_count": 17,
   "id": "de7f3ebb",
   "metadata": {},
   "outputs": [
    {
     "data": {
      "image/png": "[encoded data removed]",
      "text/plain": [
       "<Figure size 432x288 with 1 Axes>"
      ]
     },
     "metadata": {
      "needs_background": "light"
     },
     "output_type": "display_data"
    }
   ],
   "source": [
    "# Plot training loss\n",
    "plt.plot(train_loss, label='Train loss')\n",
    "#plt.plot(test_loss, label='Test loss')\n",
    "plt.xlabel('Number of epochs')\n",
    "plt.ylabel('loss')\n",
    "plt.legend()\n",
    "plt.show()"
   ]
  },
  {
   "cell_type": "code",
   "execution_count": 18,
   "id": "716b05c4",
   "metadata": {},
   "outputs": [
    {
     "data": {
      "image/png": "[encoded data removed]",
      "text/plain": [
       "<Figure size 432x288 with 1 Axes>"
      ]
     },
     "metadata": {
      "needs_background": "light"
     },
     "output_type": "display_data"
    }
   ],
   "source": [
    "# Plot training loss\n",
    "#plt.plot(train_loss, label='Train loss')\n",
    "plt.plot(test_loss, label='Test loss')\n",
    "plt.xlabel('Number of epochs')\n",
    "plt.ylabel('loss')\n",
    "plt.legend()\n",
    "plt.show()"
   ]
  },
  {
   "cell_type": "code",
   "execution_count": 24,
   "id": "145bc969",
   "metadata": {},
   "outputs": [
    {
     "data": {
      "image/png": "[encoded data removed]",
      "text/plain": [
       "<Figure size 432x288 with 1 Axes>"
      ]
     },
     "metadata": {
      "needs_background": "light"
     },
     "output_type": "display_data"
    }
   ],
   "source": [
    "#train_correct = [x/len(y_train) for x in train_accs]\n",
    "#test_correct = [x/len(y_test) for x in test_correct]\n",
    "plt.plot(train_accs, label='Train Acc')\n",
    "#plt.plot(test_correct, label='Test Acc')\n",
    "plt.xlabel('Number of epochs')\n",
    "plt.ylabel('Test loss')\n",
    "plt.show()"
   ]
  },
  {
   "cell_type": "code",
   "execution_count": 23,
   "id": "a01d825e",
   "metadata": {},
   "outputs": [
    {
     "data": {
      "image/png": "[encoded data removed]",
      "text/plain": [
       "<Figure size 432x288 with 1 Axes>"
      ]
     },
     "metadata": {
      "needs_background": "light"
     },
     "output_type": "display_data"
    }
   ],
   "source": [
    "#train_correct = [x/len(y_train) for x in train_correct]\n",
    "#test_correct = [x/len(y_test) for x in val_accs]\n",
    "#plt.plot(train_correct, label='Train Acc')\n",
    "plt.plot(val_accs, label='Test Acc')\n",
    "plt.xlabel('Number of epochs')\n",
    "plt.ylabel('Test loss')\n",
    "plt.show()"
   ]
  },
  {
   "cell_type": "code",
   "execution_count": null,
   "id": "2c3cb0b1",
   "metadata": {},
   "outputs": [],
   "source": []
  }
 ],
 "metadata": {
  "kernelspec": {
   "display_name": "Python 3 (ipykernel)",
   "language": "python",
   "name": "python3"
  },
  "language_info": {
   "codemirror_mode": {
    "name": "ipython",
    "version": 3
   },
   "file_extension": ".py",
   "mimetype": "text/x-python",
   "name": "python",
   "nbconvert_exporter": "python",
   "pygments_lexer": "ipython3",
   "version": "3.9.12"
  }
 },
 "nbformat": 4,
 "nbformat_minor": 5
}

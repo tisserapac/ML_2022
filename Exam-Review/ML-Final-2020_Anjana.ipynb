{
 "cells": [
  {
   "cell_type": "markdown",
   "metadata": {},
   "source": [
    "# Machine Learning Final Exam, Aug Semester, 2020\n",
    "\n",
    "In this exam, you will demonstrate your understanding of the material from the lectures and labs.\n",
    "\n",
    "For each question, insert your answer directly in this sheet. When complete, export the sheet as a PDF and upload to Gradescope.\n",
    "Note that you have **2.5 hours** to do the exam. Also note that there are some short answer questions that you may be able to answer faster than the coding questions. You might consider answering those questions first to get as much credit as possible!\n",
    "\n",
    "## Question 1 (10 points)\n",
    "\n",
    "Download the [CSV dataset](http://www.cs.ait.ac.th/~mdailey/class/ml/final-exam-data.csv) for the exam.\n",
    "Note that the data are two dimensional with labels '0' and '1'. Provide a scatter plot for the data with\n",
    "the two classes shown in different colors."
   ]
  },
  {
   "cell_type": "code",
   "execution_count": 123,
   "metadata": {},
   "outputs": [
    {
     "data": {
      "text/html": [
       "<div>\n",
       "<style scoped>\n",
       "    .dataframe tbody tr th:only-of-type {\n",
       "        vertical-align: middle;\n",
       "    }\n",
       "\n",
       "    .dataframe tbody tr th {\n",
       "        vertical-align: top;\n",
       "    }\n",
       "\n",
       "    .dataframe thead th {\n",
       "        text-align: right;\n",
       "    }\n",
       "</style>\n",
       "<table border=\"1\" class=\"dataframe\">\n",
       "  <thead>\n",
       "    <tr style=\"text-align: right;\">\n",
       "      <th></th>\n",
       "      <th># x1</th>\n",
       "      <th>x2</th>\n",
       "      <th>y</th>\n",
       "    </tr>\n",
       "  </thead>\n",
       "  <tbody>\n",
       "    <tr>\n",
       "      <th>0</th>\n",
       "      <td>3.974170</td>\n",
       "      <td>3.138378</td>\n",
       "      <td>0.0</td>\n",
       "    </tr>\n",
       "    <tr>\n",
       "      <th>1</th>\n",
       "      <td>6.037439</td>\n",
       "      <td>7.155408</td>\n",
       "      <td>1.0</td>\n",
       "    </tr>\n",
       "    <tr>\n",
       "      <th>2</th>\n",
       "      <td>3.619643</td>\n",
       "      <td>2.524895</td>\n",
       "      <td>1.0</td>\n",
       "    </tr>\n",
       "    <tr>\n",
       "      <th>3</th>\n",
       "      <td>3.366346</td>\n",
       "      <td>3.106862</td>\n",
       "      <td>0.0</td>\n",
       "    </tr>\n",
       "    <tr>\n",
       "      <th>4</th>\n",
       "      <td>3.743221</td>\n",
       "      <td>9.250866</td>\n",
       "      <td>1.0</td>\n",
       "    </tr>\n",
       "  </tbody>\n",
       "</table>\n",
       "</div>"
      ],
      "text/plain": [
       "       # x1        x2    y\n",
       "0  3.974170  3.138378  0.0\n",
       "1  6.037439  7.155408  1.0\n",
       "2  3.619643  2.524895  1.0\n",
       "3  3.366346  3.106862  0.0\n",
       "4  3.743221  9.250866  1.0"
      ]
     },
     "execution_count": 123,
     "metadata": {},
     "output_type": "execute_result"
    }
   ],
   "source": [
    "# Place code to load the data and plot the scatterplot here\n",
    "import pandas as pd\n",
    "import numpy as np\n",
    "import random\n",
    "import matplotlib.pyplot as plt\n",
    "\n",
    "\n",
    "# Import the data\n",
    "\n",
    "df = pd.read_csv('final-exam-data.csv')\n",
    "df.head()"
   ]
  },
  {
   "cell_type": "markdown",
   "metadata": {},
   "source": [
    "## Question 2 (30 points)\n",
    "\n",
    "Do the following:\n",
    "1. Split the dataset from Question 1 into a training set (80%) and validation set (20%).\n",
    "2. Using the logistic regression code we developed in lab, fit a logistic regression model to the data in the training set.\n",
    "3. Indicate the training set accuracy and validation set accuracy of the logistic regression model.\n",
    "4. Make two separate plots, one for the training set and one for the validation set, with three colors: one for correctly classified points from class 1, one for correctly classified points from class 2, and one for incorrectly classified points."
   ]
  },
  {
   "cell_type": "code",
   "execution_count": 109,
   "metadata": {},
   "outputs": [
    {
     "data": {
      "text/plain": [
       "Index(['# x1', 'x2', 'y'], dtype='object')"
      ]
     },
     "execution_count": 109,
     "metadata": {},
     "output_type": "execute_result"
    }
   ],
   "source": [
    "df.columns"
   ]
  },
  {
   "cell_type": "code",
   "execution_count": 110,
   "metadata": {},
   "outputs": [
    {
     "name": "stdout",
     "output_type": "stream",
     "text": [
      "X.shape (400, 2)\n",
      "y.shape (400, 1)\n"
     ]
    }
   ],
   "source": [
    "feature_col_idx = df.columns.get_indexer(['# x1', 'x2'])\n",
    "#feature_col_idx\n",
    "\n",
    "\n",
    "target_col_idx = df.columns.get_indexer(['y'])\n",
    "#target_col_idx\n",
    "\n",
    "\n",
    "# Setting the X and y\n",
    "X = df.iloc[:,feature_col_idx].to_numpy()\n",
    "y = df.iloc[:,target_col_idx].to_numpy()\n",
    "m,n = X.shape\n",
    "y = y.reshape(m,1)\n",
    "\n",
    "print(\"X.shape\", X.shape)\n",
    "print(\"y.shape\", y.shape)"
   ]
  },
  {
   "cell_type": "code",
   "execution_count": 111,
   "metadata": {},
   "outputs": [],
   "source": [
    "#Standardize\n",
    "XX = (X-np.mean(X, axis = 0))/np.std(X, axis = 0)"
   ]
  },
  {
   "cell_type": "code",
   "execution_count": 112,
   "metadata": {},
   "outputs": [],
   "source": [
    "import random\n",
    "random.seed(12)\n",
    "\n",
    "percent_train = .8\n",
    "\n",
    "# Partion data into training and test datasets\n",
    "m, n = X.shape\n",
    "\n",
    "y = y.reshape(m, 1)\n",
    "idx = np.arange(0, m)\n",
    "random.shuffle(idx)\n",
    "m_train = int(m * percent_train)\n",
    "train_idx = idx[0:m_train]\n",
    "test_idx = idx[m_train:]\n",
    "X_train = XX[train_idx,:]\n",
    "X_test = XX[test_idx,:]\n",
    "\n",
    "y_train = y[train_idx]\n",
    "y_test = y[test_idx]"
   ]
  },
  {
   "cell_type": "code",
   "execution_count": 113,
   "metadata": {},
   "outputs": [],
   "source": [
    "#Augment\n",
    "X_train = np.insert(X_train, 0, 1, axis=1)\n",
    "X_test = np.insert(X_test, 0, 1, axis=1)"
   ]
  },
  {
   "cell_type": "code",
   "execution_count": 114,
   "metadata": {},
   "outputs": [],
   "source": [
    "def sigmoid(z):   \n",
    "    return 1 / (1 + np.exp(-z))\n",
    "\n",
    "def h(X, theta):\n",
    "    return sigmoid(X @ theta)\n",
    "\n",
    "def grad_j(X, y, y_pred):\n",
    "    return X.T @ (y - y_pred) / X.shape[0] \n",
    "    \n",
    "def j(theta, X, y):    \n",
    "    y_pred = h(X, theta)\n",
    "    error = (-y * np.log(y_pred)) - ((1 - y) * np.log(1 - y_pred))\n",
    "    cost = sum(error) / X.shape[0]\n",
    "    grad = grad_j(X, y, y_pred)\n",
    "    return cost[0], grad\n",
    "\n",
    "def train(X, y, theta_initial, alpha, num_iters):\n",
    "    theta = theta_initial\n",
    "    j_history = []\n",
    "    for i in range(num_iters):\n",
    "        cost, grad = j(theta, X, y)\n",
    "        theta = theta + alpha * grad #grad_j use y-h not h-y so addition\n",
    "        j_history.append(cost)\n",
    "    return theta, j_history\n",
    "\n",
    "def r_squared(y, y_pred):\n",
    "    return 1 - np.square(y - y_pred).sum() / np.square(y - y.mean()).sum()"
   ]
  },
  {
   "cell_type": "code",
   "execution_count": 119,
   "metadata": {},
   "outputs": [
    {
     "name": "stdout",
     "output_type": "stream",
     "text": [
      "Theta optimized: [[3.34287641]\n",
      " [2.81086845]\n",
      " [3.04174562]]\n",
      "Cost with optimized theta: 0.2120027667583762\n"
     ]
    }
   ],
   "source": [
    "m,n = X_train.shape\n",
    "\n",
    "# Declare alpha\n",
    "alpha = .01\n",
    "\n",
    "# Initialize theta\n",
    "theta_initial = np.zeros((n, 1))                       \n",
    "\n",
    "# Number of iterations\n",
    "num_iters = 100000\n",
    "\n",
    "theta, j_history = train(X_train, y_train, theta_initial, alpha, num_iters)\n",
    "\n",
    "print(\"Theta optimized:\", theta)\n",
    "print(\"Cost with optimized theta:\", j_history[-1])"
   ]
  },
  {
   "cell_type": "code",
   "execution_count": 121,
   "metadata": {},
   "outputs": [
    {
     "name": "stdout",
     "output_type": "stream",
     "text": [
      "Train accuracy: 43.6\n",
      "Teat accuracy: 42.7\n"
     ]
    }
   ],
   "source": [
    "#Indicate the training set accuracy and validation set accuracy of the logistic regression model.\n",
    "\n",
    "y_train_pred_soft = h(X_train, theta)\n",
    "#y_test_pred_hard = (y_test_pred_soft > 0.5).astype(int)\n",
    "y_train_pred_hard = [1. if y > 0.5 else 0. for y in y_train_pred_soft]\n",
    "train_acc = (y_train_pred_hard == y_train).astype(int).sum() / y_train.shape[0]\n",
    "print(\"Train accuracy:\", train_acc)\n",
    "\n",
    "y_test_pred_soft = h(X_test, theta)\n",
    "#y_test_pred_hard = (y_test_pred_soft > 0.5).astype(int)\n",
    "y_test_pred_hard = [1. if y > 0.5 else 0. for y in y_test_pred_soft]\n",
    "test_acc = (y_test_pred_hard == y_test).astype(int).sum() / y_test.shape[0]\n",
    "print(\"Test accuracy:\", test_acc)"
   ]
  },
  {
   "cell_type": "code",
   "execution_count": 237,
   "metadata": {},
   "outputs": [
    {
     "data": {
      "image/png": "[encoded data removed]",
      "text/plain": [
       "<Figure size 432x288 with 1 Axes>"
      ]
     },
     "metadata": {
      "needs_background": "light"
     },
     "output_type": "display_data"
    }
   ],
   "source": [
    "y_train_pred_hard = np.array(y_train_pred_hard)\n",
    "\n",
    "idx_01 = np.where(y_train_pred_hard == 0.0)\n",
    "idx_02 = np.where(y_train[:,0] == 0.0)\n",
    "idx_0 = np.intersect1d(idx_01, idx_02)\n",
    "\n",
    "idx_11 = np.where(y_train_pred_hard == 1.0)\n",
    "idx_12 = np.where(y_train[:,0] == 1.0)\n",
    "idx_1 = np.intersect1d(idx_11, idx_12)\n",
    "\n",
    "idx2 = np.where(y_train_pred_hard != y_train[:,0])\n",
    "\n",
    "ax = plt.axes()\n",
    "plt.title('Distribution')\n",
    "plt.xlabel('0')\n",
    "plt.ylabel('1')\n",
    "plt.grid(axis='both', alpha=.25)\n",
    "ax.scatter(X_train[idx_0,:][:,1], X_train[idx_0,:][:,2], s=20, c='r', label='0')\n",
    "ax.scatter(X_train[idx_1,:][:,1], X_train[idx_1,:][:,2], s=20, c='b', label='1')\n",
    "ax.scatter(X_train[idx2[0],:][:,1], X_train[idx2[0],:][:,2], s=20, c='black', label='misclassified')\n",
    "plt.legend()\n",
    "plt.show()\n"
   ]
  },
  {
   "cell_type": "code",
   "execution_count": 242,
   "metadata": {},
   "outputs": [
    {
     "data": {
      "image/png": "[encoded data removed]",
      "text/plain": [
       "<Figure size 432x288 with 1 Axes>"
      ]
     },
     "metadata": {
      "needs_background": "light"
     },
     "output_type": "display_data"
    }
   ],
   "source": [
    "y_test_pred_hard = np.array(y_test_pred_hard)\n",
    "\n",
    "idx_01 = np.where(y_test_pred_hard == 0.0)\n",
    "idx_02 = np.where(y_test[:,0] == 0.0)\n",
    "idx_0 = np.intersect1d(idx_01, idx_02)\n",
    "\n",
    "idx_11 = np.where(y_test_pred_hard == 1.0)\n",
    "idx_12 = np.where(y_test[:,0] == 1.0)\n",
    "idx_1 = np.intersect1d(idx_11, idx_12)\n",
    "\n",
    "idx2 = np.where(y_test_pred_hard != y_test[:,0])\n",
    "\n",
    "ax = plt.axes()\n",
    "plt.title('Distribution')\n",
    "plt.xlabel('0')\n",
    "plt.ylabel('1')\n",
    "plt.grid(axis='both', alpha=.25)\n",
    "ax.scatter(X_test[idx_0,:][:,1], X_test[idx_0,:][:,2], s=20, c='r', label='0')\n",
    "ax.scatter(X_test[idx_1,:][:,1], X_test[idx_1,:][:,2], s=20, c='b', label='1')\n",
    "ax.scatter(X_test[idx2[0],:][:,1], X_test[idx2[0],:][:,2], s=20, c='black', label='misclassified')\n",
    "plt.legend()\n",
    "plt.show()"
   ]
  },
  {
   "cell_type": "code",
   "execution_count": 255,
   "metadata": {},
   "outputs": [
    {
     "data": {
      "image/png": "[encoded data removed]",
      "text/plain": [
       "<Figure size 432x288 with 1 Axes>"
      ]
     },
     "metadata": {
      "needs_background": "light"
     },
     "output_type": "display_data"
    }
   ],
   "source": [
    "matched_test = np.where(y_test_pred_hard == y_test[:,0])\n",
    "unmatched_test = np.where(y_test_pred_hard != y_test[:,0])\n",
    "X_test_matched = X_test[matched_test[0],:]\n",
    "y_test_matched = y_test[matched_test[0]]\n",
    "X_test_unmatched = X_test[unmatched_test[0],:]\n",
    "y_test_unmatched = y_test[unmatched_test[0]]\n",
    "\n",
    "plt.scatter(X_test_matched[:,1], X_test_matched[:,2], c=y_test_matched)\n",
    "plt.scatter(X_test_unmatched[:,1], X_test_unmatched[:,2], c='r', label='incorrect')\n",
    "plt.legend()\n",
    "plt.show()"
   ]
  },
  {
   "cell_type": "code",
   "execution_count": null,
   "metadata": {},
   "outputs": [],
   "source": []
  },
  {
   "cell_type": "markdown",
   "metadata": {},
   "source": [
    "## Question 3 (20 points)\n",
    "\n",
    "Repeat Question 2 using the PyTorch neural network library. Your PyTorch model should have a single linear layer with two inputs and a single output, a logistic sigmoid activation function, binary cross entropy loss function, and stochastic gradient descent for the optimizer. Show the same plots you showed for Question 2."
   ]
  },
  {
   "cell_type": "code",
   "execution_count": 340,
   "metadata": {},
   "outputs": [
    {
     "name": "stdout",
     "output_type": "stream",
     "text": [
      "X.shape (400, 2)\n",
      "y.shape (400, 1)\n"
     ]
    }
   ],
   "source": [
    "feature_col_idx = df.columns.get_indexer(['# x1', 'x2'])\n",
    "#feature_col_idx\n",
    "\n",
    "\n",
    "target_col_idx = df.columns.get_indexer(['y'])\n",
    "#target_col_idx\n",
    "\n",
    "\n",
    "# Setting the X and y\n",
    "X = df.iloc[:,feature_col_idx].to_numpy()\n",
    "y = df.iloc[:,target_col_idx].to_numpy()\n",
    "m,n = X.shape\n",
    "y = y.reshape(m,1)\n",
    "\n",
    "print(\"X.shape\", X.shape)\n",
    "print(\"y.shape\", y.shape)\n",
    "\n",
    "XX = (X-np.mean(X, axis = 0))/np.std(X, axis = 0)\n",
    "\n",
    "import random\n",
    "random.seed(12)\n",
    "\n",
    "percent_train = .8\n",
    "\n",
    "# Partion data into training and test datasets\n",
    "m, n = X.shape\n",
    "\n",
    "y = y.reshape(m, 1)\n",
    "idx = np.arange(0, m)\n",
    "random.shuffle(idx)\n",
    "m_train = int(m * percent_train)\n",
    "train_idx = idx[0:m_train]\n",
    "test_idx = idx[m_train:]\n",
    "X_train = XX[train_idx,:]\n",
    "X_test = XX[test_idx,:]\n",
    "\n",
    "y_train = y[train_idx]\n",
    "y_test = y[test_idx]"
   ]
  },
  {
   "cell_type": "code",
   "execution_count": 341,
   "metadata": {},
   "outputs": [],
   "source": [
    "#X_train"
   ]
  },
  {
   "cell_type": "code",
   "execution_count": 342,
   "metadata": {},
   "outputs": [],
   "source": [
    "# Place code to build, train, and evaluate your PyTorch model here\n",
    "import torch\n",
    "import torch.nn as nn\n",
    "import torch.nn.functional as F\n",
    "from torch.utils.data import Dataset, DataLoader\n",
    "from sklearn.model_selection import train_test_split\n",
    "\n",
    "import pandas as pd\n",
    "import matplotlib.pyplot as plt"
   ]
  },
  {
   "cell_type": "code",
   "execution_count": 343,
   "metadata": {},
   "outputs": [],
   "source": [
    "output_size = 1\n",
    "\n",
    "class LogisticRegressTorch(nn.Module):\n",
    "    \n",
    "    def __init__(self, n_features=2):\n",
    "        super().__init__()\n",
    "        self.l1 = nn.Linear(n_features, output_size)\n",
    "        self.sigmoid = nn.Sigmoid()\n",
    "        \n",
    "    def forward(self, x):\n",
    "        x = self.l1(x)\n",
    "        x =  self.sigmoid(x)\n",
    "        return x"
   ]
  },
  {
   "cell_type": "code",
   "execution_count": 344,
   "metadata": {},
   "outputs": [],
   "source": [
    "X_train = torch.tensor(X_train, dtype=torch.float)\n",
    "y_train = torch.tensor(y_train, dtype=torch.float)\n",
    "X_test = torch.tensor(X_test, dtype=torch.float)\n",
    "y_test = torch.tensor(y_test, dtype=torch.float)"
   ]
  },
  {
   "cell_type": "code",
   "execution_count": 345,
   "metadata": {},
   "outputs": [],
   "source": [
    "#Create the model object\n",
    "torch.manual_seed(999)\n",
    "model = LogisticRegressTorch(n_features=2)\n",
    "\n",
    "# Define the loss function - Binary Cross Entropy\n",
    "criterion = nn.BCELoss()\n",
    "\n",
    "# Define the optimizer\n",
    "optimizer = torch.optim.SGD(model.parameters(), lr=0.01)"
   ]
  },
  {
   "cell_type": "code",
   "execution_count": 346,
   "metadata": {},
   "outputs": [],
   "source": [
    "epochs = 1000\n",
    "train_losses = []\n",
    "test_losses = []\n",
    "train_correct = []\n",
    "test_correct = []\n",
    "\n",
    "for i in range(epochs):\n",
    "    trn_corr = 0\n",
    "    tst_corr = 0\n",
    "    \n",
    "    # Run the training batches\n",
    "    #for b, (X_train, y_train) in enumerate(train_loader):\n",
    "        \n",
    "    # Apply the model\n",
    "    y_pred = model(X_train)\n",
    "    loss = criterion(y_pred, y_train)\n",
    "\n",
    "    # Tally the number of correct predictions\n",
    "    predictions = [1. if x > 0.5 else 0. for x in y_pred.data.numpy()]\n",
    "    y_train_np = y_train.numpy().reshape(1,-1)\n",
    "    trn_corr = (predictions == y_train_np).sum()\n",
    "    #trn_corr += batch_corr\n",
    "\n",
    "    # Update parameters\n",
    "    optimizer.zero_grad()\n",
    "    loss.backward()\n",
    "    optimizer.step()\n",
    "\n",
    "    train_losses.append(loss)\n",
    "    train_correct.append(trn_corr)\n",
    "\n",
    "    # Run the testing batches\n",
    "    with torch.no_grad():\n",
    "        #for b, (X_test, y_test) in enumerate(test_loader):\n",
    "\n",
    "        # Apply the model\n",
    "        y_val = model(X_test)\n",
    "\n",
    "        # Tally the number of correct predictions\n",
    "        predictions = [1. if x > 0.5 else 0. for x in y_val.data.numpy()]\n",
    "        y_test_np = y_test.numpy().reshape(1,-1)\n",
    "        tst_corr = (predictions == y_test_np).sum()\n",
    "\n",
    "    val_loss = criterion(y_val, y_test)\n",
    "    test_losses.append(val_loss)\n",
    "    test_correct.append(tst_corr)"
   ]
  },
  {
   "cell_type": "code",
   "execution_count": 347,
   "metadata": {},
   "outputs": [
    {
     "name": "stdout",
     "output_type": "stream",
     "text": [
      "0.934375\n",
      "0.925\n"
     ]
    }
   ],
   "source": [
    "print(train_correct[-1]/len(y_train))\n",
    "print(test_correct[-1]/len(y_test))"
   ]
  },
  {
   "cell_type": "code",
   "execution_count": 348,
   "metadata": {},
   "outputs": [],
   "source": [
    "y_pred_train = model(X_train)\n",
    "y_pred_train = [1. if x > 0.5 else 0. for x in y_pred_train.data.numpy()]"
   ]
  },
  {
   "cell_type": "code",
   "execution_count": 349,
   "metadata": {},
   "outputs": [
    {
     "data": {
      "image/png": "[encoded data removed]",
      "text/plain": [
       "<Figure size 432x288 with 1 Axes>"
      ]
     },
     "metadata": {
      "needs_background": "light"
     },
     "output_type": "display_data"
    }
   ],
   "source": [
    "matched_train = np.where(y_pred_train == y_train.data.numpy()[:,0])\n",
    "unmatched_train = np.where(y_pred_train != y_train.data.numpy()[:,0])\n",
    "X_train_matched = X_train.data.numpy()[matched_train[0],:]\n",
    "y_train_matched = y_train.data.numpy()[matched_train[0]]\n",
    "X_train_unmatched = X_train.data.numpy()[unmatched_train[0],:]\n",
    "y_train_unmatched = y_train.data.numpy()[unmatched_train[0]]\n",
    "\n",
    "plt.scatter(X_train_matched[:,0], X_train_matched[:,1], c=y_train_matched)\n",
    "plt.scatter(X_train_unmatched[:,0], X_train_unmatched[:,1], c='r', label='incorrect')\n",
    "plt.legend()\n",
    "plt.show()"
   ]
  },
  {
   "cell_type": "code",
   "execution_count": 350,
   "metadata": {},
   "outputs": [],
   "source": [
    "y_pred_test = model(X_test)\n",
    "y_pred_test = [1. if x > 0.5 else 0. for x in y_pred_test.data.numpy()]"
   ]
  },
  {
   "cell_type": "code",
   "execution_count": 351,
   "metadata": {},
   "outputs": [
    {
     "data": {
      "image/png": "[encoded data removed]",
      "text/plain": [
       "<Figure size 432x288 with 1 Axes>"
      ]
     },
     "metadata": {
      "needs_background": "light"
     },
     "output_type": "display_data"
    }
   ],
   "source": [
    "matched_test = np.where(y_pred_test == y_test.data.numpy()[:,0])\n",
    "unmatched_test = np.where(y_pred_test != y_test.data.numpy()[:,0])\n",
    "X_test_matched = X_test.data.numpy()[matched_test[0],:]\n",
    "y_test_matched = y_test.data.numpy()[matched_test[0]]\n",
    "X_test_unmatched = X_test.data.numpy()[unmatched_test[0],:]\n",
    "y_test_unmatched = y_test.data.numpy()[unmatched_test[0]]\n",
    "\n",
    "plt.scatter(X_test_matched[:,0], X_test_matched[:,1], c=y_test_matched)\n",
    "plt.scatter(X_test_unmatched[:,0], X_test_unmatched[:,1], c='r', label='incorrect')\n",
    "plt.legend()\n",
    "plt.show()"
   ]
  },
  {
   "cell_type": "markdown",
   "metadata": {},
   "source": [
    "## Question 4 (20 points)\n",
    "\n",
    "Add a 10-unit hidden layer with ReLU activation to the PyTorch model from Question 3. Plot training loss and validation loss as function of epoch of training. Do you see any evidence of overfitting?"
   ]
  },
  {
   "cell_type": "code",
   "execution_count": 380,
   "metadata": {},
   "outputs": [],
   "source": [
    "output_size = 1\n",
    "hidden1_size = 10\n",
    "\n",
    "class LogisticRegressTorch_2(nn.Module):\n",
    "    \n",
    "    def __init__(self, n_features=2):\n",
    "        super().__init__()        \n",
    "        self.l1 = nn.Linear(n_features, hidden1_size)\n",
    "        self.relu1 = nn.ReLU()\n",
    "        self.l2 = nn.Linear(hidden1_size, output_size)\n",
    "        self.sigmoid = nn.Sigmoid()\n",
    "        \n",
    "    def forward(self, x):\n",
    "        x = self.l1(x)\n",
    "        x = self.relu1(x)\n",
    "        x = self.l2(x)\n",
    "        x =  self.sigmoid(x)\n",
    "        return x"
   ]
  },
  {
   "cell_type": "code",
   "execution_count": 381,
   "metadata": {},
   "outputs": [],
   "source": [
    "#Create the model object\n",
    "torch.manual_seed(999)\n",
    "model = LogisticRegressTorch_2(n_features=2)\n",
    "\n",
    "# Define the loss function - Binary Cross Entropy\n",
    "criterion = nn.BCELoss()\n",
    "\n",
    "# Define the optimizer\n",
    "optimizer = torch.optim.SGD(model.parameters(), lr=0.01)"
   ]
  },
  {
   "cell_type": "code",
   "execution_count": 382,
   "metadata": {},
   "outputs": [],
   "source": [
    "epochs = 10000\n",
    "train_losses = []\n",
    "test_losses = []\n",
    "train_correct = []\n",
    "test_correct = []\n",
    "\n",
    "for i in range(epochs):\n",
    "    trn_corr = 0\n",
    "    tst_corr = 0\n",
    "    \n",
    "    # Run the training batches\n",
    "    #for b, (X_train, y_train) in enumerate(train_loader):\n",
    "        \n",
    "    # Apply the model\n",
    "    y_pred = model(X_train)\n",
    "    loss = criterion(y_pred, y_train)\n",
    "\n",
    "    # Tally the number of correct predictions\n",
    "    predictions = [1. if x > 0.5 else 0. for x in y_pred.data.numpy()]\n",
    "    y_train_np = y_train.numpy().reshape(1,-1)\n",
    "    trn_corr = (predictions == y_train_np).sum()\n",
    "    #trn_corr += batch_corr\n",
    "\n",
    "    # Update parameters\n",
    "    optimizer.zero_grad()\n",
    "    loss.backward()\n",
    "    optimizer.step()\n",
    "\n",
    "    train_losses.append(loss)\n",
    "    train_correct.append(trn_corr)\n",
    "\n",
    "    # Run the testing batches\n",
    "    with torch.no_grad():\n",
    "        #for b, (X_test, y_test) in enumerate(test_loader):\n",
    "\n",
    "        # Apply the model\n",
    "        y_val = model(X_test)\n",
    "\n",
    "        # Tally the number of correct predictions\n",
    "        predictions = [1. if x > 0.5 else 0. for x in y_val.data.numpy()]\n",
    "        y_test_np = y_test.numpy().reshape(1,-1)\n",
    "        tst_corr = (predictions == y_test_np).sum()\n",
    "\n",
    "    val_loss = criterion(y_val, y_test)\n",
    "    test_losses.append(val_loss)\n",
    "    test_correct.append(tst_corr)"
   ]
  },
  {
   "cell_type": "code",
   "execution_count": 383,
   "metadata": {},
   "outputs": [],
   "source": [
    "train_loss = [loss.item() for loss in train_losses]\n",
    "test_loss = [loss.item() for loss in test_losses]"
   ]
  },
  {
   "cell_type": "code",
   "execution_count": 384,
   "metadata": {},
   "outputs": [
    {
     "data": {
      "image/png": "[encoded data removed]",
      "text/plain": [
       "<Figure size 432x288 with 1 Axes>"
      ]
     },
     "metadata": {
      "needs_background": "light"
     },
     "output_type": "display_data"
    }
   ],
   "source": [
    "# Plot training loss\n",
    "plt.plot(train_loss, label='Train loss')\n",
    "plt.plot(test_loss, label='Test loss')\n",
    "plt.xlabel('Number of epochs')\n",
    "plt.ylabel('loss')\n",
    "plt.legend()\n",
    "plt.show()"
   ]
  },
  {
   "cell_type": "code",
   "execution_count": 385,
   "metadata": {},
   "outputs": [
    {
     "data": {
      "image/png": "[encoded data removed]",
      "text/plain": [
       "<Figure size 432x288 with 1 Axes>"
      ]
     },
     "metadata": {
      "needs_background": "light"
     },
     "output_type": "display_data"
    }
   ],
   "source": [
    "train_correct = [x/len(y_train) for x in train_correct]\n",
    "test_correct = [x/len(y_test) for x in test_correct]\n",
    "plt.plot(train_correct, label='Train Acc')\n",
    "plt.plot(test_correct, label='Test Acc')\n",
    "plt.xlabel('Number of epochs')\n",
    "plt.ylabel('Test loss')\n",
    "plt.show()"
   ]
  },
  {
   "cell_type": "markdown",
   "metadata": {},
   "source": [
    "*Discuss whether you observe overfitting here.*"
   ]
  },
  {
   "cell_type": "markdown",
   "metadata": {},
   "source": [
    "## Question 5 (10 points)\n",
    "\n",
    "In fact, the data from Question 1 were generated from a Gaussian mixture model. If you were given the data without the labels, for unsupervised learning, do you think the EM algorithm for Gaussian mixtures with $k=2$ components would recover the two classes? Why or why not?\n",
    "\n",
    "*Discuss here.*"
   ]
  },
  {
   "cell_type": "markdown",
   "metadata": {},
   "source": [
    "## Question 6 (10 points)\n",
    "\n",
    "Consider the following problem: Students taking classes in Room TC 103 often feel the room is too cold or too hot. To solve the problem, we connect three air conditioners' on/off switches to a computer, place a temperature sensor outdoors next to the room, and put a button box on each student's desk with 3 buttons, labeled \"I'm freezing,\" \"I'm sweating\", and \"I feel good.\" Students can press any of the three buttons to indicate their comfort level. Every 10 minutes, the outdoor temperature is measured in degrees Celsius, and the current comfort level of each student (1, 2, or 3) is measured. The system gets the measurements as input and then has to set the control for each of the three air conditioners to high, low, or off for the next 10 minutes.\n",
    "\n",
    "Suppose you would like to build a reinforcement learning agent to optmize the air conditioning control for the room. Do the following:\n",
    "\n",
    "1. Briefly explain the state space, action space, reward function, and discount factor you think should be used for this problem.\n",
    "2. Briefly explain the reason it is difficult to know the transition probabilities for this problem.\n",
    "3. Briefly describe how you could use a neural network to learn the state transition probabilities.\n",
    "\n",
    "*Write your explanations here.*"
   ]
  },
  {
   "cell_type": "markdown",
   "metadata": {},
   "source": [
    "State space \n",
    "- Aircon 1 - high, Aircon 2 - high, Aircon 3 - high\n",
    "- Aircon 1 - high, Aircon 2 - high, Aircon 3 - low\n",
    "- Aircon 1 - high, Aircon 2 - high, Aircon 3 - off\n",
    "\n",
    "- Aircon 1 - high, Aircon 2 - low, Aircon 3 - high\n",
    "- Aircon 1 - high, Aircon 2 - off, Aircon 3 - high\n",
    "- Aircon 1 - high, Aircon 2 - high, Aircon 3 - high\n",
    "\n",
    "Action space\n",
    "- ST 1 press 1\n",
    "- ST 1 press 2\n",
    "- ST 1 press 3\n",
    "- ...\n",
    "- ST n press 1\n",
    "- ST n press 2\n",
    "- ST n press 3\n",
    "\n",
    "Reward\n",
    "- at `t` if we are in same state as t-1 --> reward 100\n",
    "- at t if we are in a state where only one aircon setting is changed, compared to state at t-1 --> reward 67\n",
    "- at t if we are in a state where two aircon setting is changed, compared to state at t-1 --> reward 33\n",
    "- at t if we are in a state where all aircon setting is changed, compared to state at t-1 --> reward 0\n",
    "\n",
    "\n",
    "The number of possible states and the number of possible actions are large\n",
    "Thus developing the Psa table is difficult\n",
    "\n",
    "A DQN is trained to output  𝑄(𝑠,𝑎)  values for each action given the input state  𝑠 . In operation, in state  𝑠 , the action  𝑎  is chosen greedily based on  𝑄(𝑠,𝑎)  or stochastically following an epsilon-greedy policy."
   ]
  }
 ],
 "metadata": {
  "kernelspec": {
   "display_name": "Python 3 (ipykernel)",
   "language": "python",
   "name": "python3"
  },
  "language_info": {
   "codemirror_mode": {
    "name": "ipython",
    "version": 3
   },
   "file_extension": ".py",
   "mimetype": "text/x-python",
   "name": "python",
   "nbconvert_exporter": "python",
   "pygments_lexer": "ipython3",
   "version": "3.9.12"
  }
 },
 "nbformat": 4,
 "nbformat_minor": 4
}

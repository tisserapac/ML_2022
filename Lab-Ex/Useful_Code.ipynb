{
 "cells": [
  {
   "cell_type": "markdown",
   "id": "72d689e5",
   "metadata": {},
   "source": [
    "### Useful code fragments"
   ]
  },
  {
   "cell_type": "code",
   "execution_count": 2,
   "id": "96858b6c",
   "metadata": {},
   "outputs": [],
   "source": [
    "import numpy as np\n",
    "import matplotlib.pyplot as plt\n",
    "import random"
   ]
  },
  {
   "cell_type": "markdown",
   "id": "14b99b41",
   "metadata": {},
   "source": [
    "#### Normal Equation"
   ]
  },
  {
   "cell_type": "code",
   "execution_count": null,
   "id": "da2d6486",
   "metadata": {},
   "outputs": [],
   "source": [
    "theta = inv(X.T @ X) @ X.T @ y"
   ]
  },
  {
   "cell_type": "markdown",
   "id": "302ff5c9",
   "metadata": {},
   "source": [
    "#### Standardize"
   ]
  },
  {
   "cell_type": "code",
   "execution_count": null,
   "id": "46a8a1f0",
   "metadata": {},
   "outputs": [],
   "source": [
    "X = (X-np.mean(X, axis = 0))/np.std(X, axis = 0)"
   ]
  },
  {
   "cell_type": "markdown",
   "id": "7a7da505",
   "metadata": {},
   "source": [
    "#### Augmenting X"
   ]
  },
  {
   "cell_type": "code",
   "execution_count": null,
   "id": "6475862b",
   "metadata": {},
   "outputs": [],
   "source": [
    "XX_norm = np.insert(X_norm, 0, 1, axis=1)"
   ]
  },
  {
   "cell_type": "markdown",
   "id": "943646cd",
   "metadata": {},
   "source": [
    "#### Reshaping"
   ]
  },
  {
   "cell_type": "code",
   "execution_count": null,
   "id": "2d780566",
   "metadata": {},
   "outputs": [],
   "source": [
    "x = x.reshape(-1,1) # convert from 1d array to 2d (matrix) \n",
    "\n",
    "y = y.reshape(m,1)"
   ]
  },
  {
   "cell_type": "markdown",
   "id": "b34ed9ab",
   "metadata": {},
   "source": [
    "#### Train Test Split"
   ]
  },
  {
   "cell_type": "code",
   "execution_count": null,
   "id": "be6eaace",
   "metadata": {},
   "outputs": [],
   "source": [
    "import random\n",
    "random.seed(12)\n",
    "\n",
    "percent_train = .6\n",
    "\n",
    "# Partion data into training and test datasets\n",
    "m, n = X.shape\n",
    "\n",
    "y = y.reshape(m, 1)\n",
    "idx = np.arange(0, m)\n",
    "random.shuffle(idx)\n",
    "m_train = int(m * percent_train)\n",
    "train_idx = idx[0:m_train]\n",
    "test_idx = idx[m_train:]\n",
    "X_train = XX[train_idx,:]\n",
    "X_test = XX[test_idx,:]\n",
    "\n",
    "y_train = y[train_idx]\n",
    "y_test = y[test_idx]"
   ]
  },
  {
   "cell_type": "code",
   "execution_count": null,
   "id": "920ae6cb",
   "metadata": {},
   "outputs": [],
   "source": [
    "X_train = np.insert(X_train, 0, 1, axis=1)\n",
    "X_test = np.insert(X_test, 0, 1, axis=1)"
   ]
  },
  {
   "cell_type": "code",
   "execution_count": null,
   "id": "43288c6c",
   "metadata": {},
   "outputs": [],
   "source": []
  },
  {
   "cell_type": "markdown",
   "id": "998182cd",
   "metadata": {},
   "source": [
    "#### Normalization"
   ]
  },
  {
   "cell_type": "code",
   "execution_count": null,
   "id": "e1f7f7fc",
   "metadata": {},
   "outputs": [],
   "source": [
    "def normalization(X):\n",
    "    X_norm = None\n",
    "    \n",
    "    mean = np.mean(X, axis=0)\n",
    "    std = np.std(X, axis=0)\n",
    "    \n",
    "    X_norm = (X - mean)/std\n",
    "    \n",
    "    return X_norm"
   ]
  },
  {
   "cell_type": "markdown",
   "id": "0a40dd45",
   "metadata": {},
   "source": [
    "#### List to Array"
   ]
  },
  {
   "cell_type": "code",
   "execution_count": null,
   "id": "708a6d4b",
   "metadata": {},
   "outputs": [],
   "source": [
    "# initializing list\n",
    "lst = [1, 7, 0, 6, 2, 5, 6]\n",
    " \n",
    "# converting list to array\n",
    "arr = np.asarray(lst) # In place a copy is not made\n",
    "\n",
    "arr = numpy.array(lst) # A copy is made\n",
    "\n"
   ]
  },
  {
   "cell_type": "markdown",
   "id": "d6487d94",
   "metadata": {},
   "source": [
    "#### Theta Initial"
   ]
  },
  {
   "cell_type": "code",
   "execution_count": 4,
   "id": "a10925dc",
   "metadata": {},
   "outputs": [],
   "source": [
    "#(n,1)\n",
    "m,n = X.shape\n",
    "theta_initial = np.ones((n, 1)) # (3,1) is the shape"
   ]
  },
  {
   "cell_type": "markdown",
   "id": "68e08a74",
   "metadata": {},
   "source": [
    "#### Extracting Panda to NumPy"
   ]
  },
  {
   "cell_type": "code",
   "execution_count": null,
   "id": "7c1d55df",
   "metadata": {},
   "outputs": [],
   "source": [
    "feature_col_idx = new_df.columns.get_indexer(['island', 'culmen_length_mm', 'culmen_depth_mm','flipper_length_mm', 'body_mass_g'])\n",
    "feature_col_idx\n",
    "\n",
    "\n",
    "target_col_idx = new_df.columns.get_indexer(['species'])\n",
    "target_col_idx\n",
    "\n",
    "\n",
    "# Setting the X and y\n",
    "X = new_df.iloc[:,feature_col_idx].to_numpy()\n",
    "y = new_df.iloc[:,target_col_idx].to_numpy()\n",
    "m,n = X.shape\n",
    "y = y.reshape(m,1)\n",
    "\n",
    "print(\"X.shape\", X.shape)\n",
    "print(\"y.shape\", y.shape)"
   ]
  },
  {
   "cell_type": "markdown",
   "id": "91cfc11b",
   "metadata": {},
   "source": [
    "#### Transform standardized data back to original scale\n",
    "We can transform standardized predicted values, y_predicted into the orginal data scale using$$y_{\\text{norm}} = \\sigma_y y + \\mu_y$$"
   ]
  },
  {
   "cell_type": "markdown",
   "id": "518cbf59",
   "metadata": {},
   "source": [
    "#### Adding random error to a function "
   ]
  },
  {
   "cell_type": "code",
   "execution_count": null,
   "id": "50b0a93b",
   "metadata": {},
   "outputs": [],
   "source": [
    "def nl_func(x):\n",
    "    return 2*x**2 + 4 + np.random.normal(loc=0, scale=15)\n",
    "#Draw random samples from a normal (Gaussian) distribution.\n",
    "#loc = mean\n",
    "# scale = std\n",
    "\n",
    "\n",
    "np.random.seed(42)\n",
    "X = np.random.rand(1000,1)\n",
    "y = 5*((X)**(2)) + np.random.rand(1000,1) # Random values in a given shape.\n",
    "\n",
    "\n",
    "# Generate X\n",
    "m = 100\n",
    "X = np.random.uniform(-4, 4, (m,1))\n",
    "# Generate y\n",
    "q = 0.7\n",
    "b = 1\n",
    "c = 2\n",
    "y = a * X**2 + b * X + c + np.random.randn(m, 1) #Return mx1 array \n",
    "#Return a sample (or samples) from the “standard normal” distribution.\n",
    "#Draw samples from a standard Normal distribution (mean=0, stdev=1)."
   ]
  },
  {
   "cell_type": "markdown",
   "id": "b155657e",
   "metadata": {},
   "source": [
    "#### np.where"
   ]
  },
  {
   "cell_type": "code",
   "execution_count": null,
   "id": "18a6b2ae",
   "metadata": {},
   "outputs": [],
   "source": [
    "idx_0 = np.where(y == 0)\n",
    "idx_1 = np.where(y == 1)"
   ]
  },
  {
   "cell_type": "markdown",
   "id": "9af38cbf",
   "metadata": {},
   "source": [
    "#### Boolean to int array"
   ]
  },
  {
   "cell_type": "code",
   "execution_count": null,
   "id": "bf7d08ae",
   "metadata": {},
   "outputs": [],
   "source": [
    "y_test_pred_hard = (y_test_pred_soft > 0.5).astype(int)"
   ]
  },
  {
   "cell_type": "markdown",
   "id": "f9d80016",
   "metadata": {},
   "source": [
    "#### Identity Matrix"
   ]
  },
  {
   "cell_type": "code",
   "execution_count": null,
   "id": "d81b6b11",
   "metadata": {},
   "outputs": [],
   "source": [
    "Q = np.eye(3);"
   ]
  },
  {
   "cell_type": "markdown",
   "id": "35e89197",
   "metadata": {},
   "source": [
    "#### Inserting"
   ]
  },
  {
   "cell_type": "code",
   "execution_count": 23,
   "id": "c360b3c7",
   "metadata": {},
   "outputs": [],
   "source": [
    "X1 = np.array([\n",
    "    [5, 4],\n",
    "    [6, 3]\n",
    "]) "
   ]
  },
  {
   "cell_type": "code",
   "execution_count": 24,
   "id": "5005d3ed",
   "metadata": {},
   "outputs": [
    {
     "data": {
      "text/plain": [
       "(2,)"
      ]
     },
     "execution_count": 24,
     "metadata": {},
     "output_type": "execute_result"
    }
   ],
   "source": [
    "X1_2 = X1[:,0]**2\n",
    "X1_2.shape"
   ]
  },
  {
   "cell_type": "code",
   "execution_count": 25,
   "id": "c59ae29c",
   "metadata": {},
   "outputs": [
    {
     "data": {
      "text/plain": [
       "(2,)"
      ]
     },
     "execution_count": 25,
     "metadata": {},
     "output_type": "execute_result"
    }
   ],
   "source": [
    "m,n = X1.shape\n",
    "X1_2.reshape(1,m)\n",
    "X1_2.shape"
   ]
  },
  {
   "cell_type": "code",
   "execution_count": 26,
   "id": "f027875c",
   "metadata": {},
   "outputs": [
    {
     "data": {
      "text/plain": [
       "array([25, 36])"
      ]
     },
     "execution_count": 26,
     "metadata": {},
     "output_type": "execute_result"
    }
   ],
   "source": [
    "X1_2"
   ]
  },
  {
   "cell_type": "code",
   "execution_count": 27,
   "id": "2fce95d0",
   "metadata": {},
   "outputs": [],
   "source": [
    "X_new = np.insert(X1, 2, X1_2, axis=1)"
   ]
  },
  {
   "cell_type": "code",
   "execution_count": 28,
   "id": "f0f7f364",
   "metadata": {},
   "outputs": [
    {
     "data": {
      "text/plain": [
       "array([[ 5,  4, 25],\n",
       "       [ 6,  3, 36]])"
      ]
     },
     "execution_count": 28,
     "metadata": {},
     "output_type": "execute_result"
    }
   ],
   "source": [
    "X_new"
   ]
  },
  {
   "cell_type": "code",
   "execution_count": 3,
   "id": "f0955989",
   "metadata": {},
   "outputs": [
    {
     "name": "stdout",
     "output_type": "stream",
     "text": [
      "Array 1: \n",
      " [ 2  4  6  8 10 12]\n",
      "\n",
      "Array 2: \n",
      " [ 4  8 12 13]\n",
      "\n",
      "The set difference between array_1 and array_2 is:\n",
      " [13]\n"
     ]
    }
   ],
   "source": [
    "import numpy as np\n",
    "\n",
    "array_1 = np.array([2,4,6,8,10,12])\n",
    "print(\"Array 1: \\n\", array_1)\n",
    "\n",
    "array_2 = np.array([4,8,12,13])\n",
    "print(\"\\nArray 2: \\n\", array_2)\n",
    "\n",
    "set_diff = np.setdiff1d(array_2, array_1)\n",
    "print(\"\\nThe set difference between array_1 and array_2 is:\\n\",set_diff)"
   ]
  },
  {
   "cell_type": "markdown",
   "id": "2b23bf74",
   "metadata": {},
   "source": [
    "### Pandas"
   ]
  },
  {
   "cell_type": "code",
   "execution_count": null,
   "id": "7bbb548f",
   "metadata": {},
   "outputs": [],
   "source": [
    "import pandas as pd\n",
    "import numpy as np\n",
    "import random\n",
    "\n",
    "# Import the data\n",
    "\n",
    "df = pd.read_csv('final-exam-data.csv')\n",
    "df.head()\n",
    "\n",
    "\n",
    "df.columns\n",
    "\n",
    "from sklearn.model_selection import train_test_split\n",
    "\n",
    "X = df[['# x1', 'x2']]\n",
    "y = df['y']\n",
    "\n",
    "X_train, X_test, y_train, y_test = train_test_split(X, y, test_size=0.2, random_state=999)\n",
    "X_train.shape, X_test.shape, y_train.shape, y_test.shape"
   ]
  },
  {
   "cell_type": "code",
   "execution_count": 5,
   "id": "c1658c8f",
   "metadata": {},
   "outputs": [
    {
     "data": {
      "text/plain": [
       "((3, 2), (6,))"
      ]
     },
     "execution_count": 5,
     "metadata": {},
     "output_type": "execute_result"
    }
   ],
   "source": [
    "a = np.arange(6)\n",
    "b = a.reshape((3, 2))\n",
    "b.shape, a.shape\n"
   ]
  },
  {
   "cell_type": "code",
   "execution_count": null,
   "id": "88744e7a",
   "metadata": {},
   "outputs": [],
   "source": []
  }
 ],
 "metadata": {
  "kernelspec": {
   "display_name": "Python 3 (ipykernel)",
   "language": "python",
   "name": "python3"
  },
  "language_info": {
   "codemirror_mode": {
    "name": "ipython",
    "version": 3
   },
   "file_extension": ".py",
   "mimetype": "text/x-python",
   "name": "python",
   "nbconvert_exporter": "python",
   "pygments_lexer": "ipython3",
   "version": "3.9.12"
  }
 },
 "nbformat": 4,
 "nbformat_minor": 5
}

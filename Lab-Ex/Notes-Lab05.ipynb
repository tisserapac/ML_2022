{
 "cells": [
  {
   "attachments": {},
   "cell_type": "markdown",
   "id": "68ee5ea9",
   "metadata": {},
   "source": [
    "### Covarience - can be think same as correlation\n",
    "\n",
    "Examples:\n",
    "- x increase , y increase --> positive\n",
    "- x increase , y decrease --> negative\n",
    "- x increase , y same --> no relationship\n",
    "\n",
    "### Uniform vs. Normal Distribution\n",
    "- Normal Distribution is a probability distribution where probability of x is highest at centre and lowest in the ends whereas in Uniform Distribution probability of x is constant.\n",
    "\n",
    "![Uniform vs. Normal Distribution](images/normal_uniform.jpg \"Uniform vs. Normal Distribution\")\n",
    "\n",
    "\n",
    "### Important functions used\n",
    "**numpy.linspace(start, stop, num=50, endpoint=True, retstep=False, dtype=None, axis=0)** - Returns num evenly spaced samples, calculated over the interval.\n",
    "\n",
    "**np.polyval(p, x)** - Evaluate a polynomial at specific values.\n",
    "\n",
    "**np.random.multivariate_normal(mean, cov, size=None, check_valid='warn', tol=1e-8)** - Draw random samples from a multivariate normal distribution.\n",
    "\n",
    "**np.random.uniform(low=0.0, high=1.0, size=None)** - Draw samples from a uniform distribution.\n",
    "\n",
    "**np.random.normal(loc=0.0, scale=1.0, size=None)** - Draw random samples from a normal (Gaussian) distribution.\n",
    "\n",
    "**np.argmin(a, axis=None, out=None, *, keepdims=<no value>)** - Returns the indices of the minimum values along an axis.\n",
    "\n"
   ]
  },
  {
   "cell_type": "code",
   "execution_count": null,
   "id": "932892d3",
   "metadata": {},
   "outputs": [],
   "source": []
  }
 ],
 "metadata": {
  "kernelspec": {
   "display_name": "Python 3 (ipykernel)",
   "language": "python",
   "name": "python3"
  },
  "language_info": {
   "codemirror_mode": {
    "name": "ipython",
    "version": 3
   },
   "file_extension": ".py",
   "mimetype": "text/x-python",
   "name": "python",
   "nbconvert_exporter": "python",
   "pygments_lexer": "ipython3",
   "version": "3.9.12"
  }
 },
 "nbformat": 4,
 "nbformat_minor": 5
}

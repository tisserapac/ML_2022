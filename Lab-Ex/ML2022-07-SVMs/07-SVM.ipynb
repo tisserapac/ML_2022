{
 "cells": [
  {
   "cell_type": "markdown",
   "metadata": {},
   "source": [
    "Before you turn this problem in, make sure everything runs as expected. First, **restart the kernel** (in the menubar, select Kernel$\\rightarrow$Restart) and then **run all cells** (in the menubar, select Cell$\\rightarrow$Run All).\n",
    "\n",
    "Make sure you fill in any place that says `YOUR CODE HERE` or \"YOUR ANSWER HERE\", as well as your name and collaborators below:"
   ]
  },
  {
   "cell_type": "code",
   "execution_count": 1,
   "metadata": {},
   "outputs": [],
   "source": [
    "NAME = \"Anjana Tissera\"\n",
    "ID = \"st123459\""
   ]
  },
  {
   "cell_type": "markdown",
   "metadata": {},
   "source": [
    "---"
   ]
  },
  {
   "cell_type": "markdown",
   "metadata": {},
   "source": [
    "# Lab 07: Support Vector Machines\n",
    "\n",
    "Today we'll look at the SVM maximum margin classification problem and how we can implement the optimization\n",
    "in Python.\n",
    "\n",
    "We'll use the cvxopt quadratic programming optimizer in Python.\n",
    "\n",
    "Later in the lectures, we'll see that more specialized algorithms such as Sequential Minimal Optimization\n",
    "implemented by the machine learning libraries are more effective for large SVM problems."
   ]
  },
  {
   "cell_type": "markdown",
   "metadata": {},
   "source": [
    "## Linearly separable case: Direct solution using quadratic programming\n",
    "\n",
    "If we assume that the data are linearly separable, we can use the following setup for the optimization:\n",
    "- The data are pairs $(\\mathbf{x}^{(i)},y^{(i)})$ with $\\mathbf{x}^{(i)} \\in \\mathbb{R}^n$ and $y^{(i)} \\in \\{-1,1\\}$.\n",
    "- The hypothesis is\n",
    "  $$h_{\\mathbf{w},b}(\\mathbf{x}) = \\begin{cases} 1 & \\text{if} \\; \\mathbf{w}^\\top \\mathbf{x} + b > 0 \\\\ -1 & \\text{otherwise} \\end{cases}$$\n",
    "- The objective function is\n",
    "  $$\\mathbf{w}^*,b^* = \\mathrm{argmax}_{\\mathbf{w},b} \\gamma,$$\n",
    "  where $\\gamma$ is the minimum geometric margin for the training data:\n",
    "  $$\\gamma = \\min_i \\gamma^{(i)}$$\n",
    "  and $\\gamma^{(i)}$ is the geometric margin for training example $i$, i.e., the signed distance of $\\mathbf{x}^{(i)}$ from the decision boundary,\n",
    "  with positive distances indicating that the point is on the correct side of the boundary and negative distances indicating that the point is on the\n",
    "  incorrect side of the boundary:\n",
    "  $$\\gamma^{(i)} = y^{(i)}\\left( \\left( \\frac{\\mathbf{w}}{\\|\\mathbf{w}\\|} \\right)^\\top \\mathbf{x}^{(i)} + \\frac{b}{\\| \\mathbf{w}\\|} \\right). $$\n",
    "- As we derived in lecture, to find the optimal $\\mathbf{w},b$ according to the objective function above, we can in its place solve the constrained\n",
    "  optimization problem\n",
    "  $$ \\begin{array}{rl} \\min_{\\mathbf{w},b} & \\frac{1}{2}\\|\\mathbf{w}\\|^2 \\\\\n",
    "                     \\text{subject to} & y^{(i)}(\\mathbf{w}^\\top\\mathbf{x}^{(i)}+b)\\ge 1, i \\in 1..m\n",
    "   \\end{array}\n",
    "  $$\n",
    "  \n",
    "So let's do it! In case you don't already have the cvxopt pip package installed:"
   ]
  },
  {
   "cell_type": "code",
   "execution_count": 2,
   "metadata": {},
   "outputs": [
    {
     "name": "stdout",
     "output_type": "stream",
     "text": [
      "Requirement already satisfied: cvxopt in /home/anjana/anaconda3/lib/python3.9/site-packages (1.3.0)\r\n"
     ]
    }
   ],
   "source": [
    "# Run in case there is no cvxopt installed. You can also do this in a separate terminal.\n",
    "\n",
    "!https_proxy=http://192.41.170.23:3128 http_proxy=http://192.41.170.23:3128 pip install cvxopt"
   ]
  },
  {
   "cell_type": "code",
   "execution_count": 4,
   "metadata": {},
   "outputs": [],
   "source": [
    "import numpy as np\n",
    "import matplotlib.pyplot as plt\n",
    "import cvxopt\n",
    "import cvxopt.solvers"
   ]
  },
  {
   "cell_type": "markdown",
   "metadata": {},
   "source": [
    "Here are some sample data. In this example, we've planted some specific points that will serve as the support vectors so that we know the \"correct\" answer for the maximum margin hyperplane."
   ]
  },
  {
   "cell_type": "code",
   "execution_count": 4,
   "metadata": {},
   "outputs": [],
   "source": [
    "Xf = np.matrix([[ 164.939, 163.431, 157.554, 152.785, 156.385, 159.242, 156.281, 164.411, 157.308, 159.579 ],\n",
    "                [  56.927,  48.945,  45.678,  45.969,  40.896,  46.848,  42.225,  42.380,  42.150,  49.739 ]]).T;\n",
    "Xm = np.matrix([[ 168.524, 171.597, 179.469, 176.063, 180.939, 177.011, 183.284, 180.549, 176.502, 185.392 ],\n",
    "                [  64.353,  61.793,  74.552,  69.851,  74.730,  75.871,  79.170,  79.753,  64.923,  73.665 ]]).T;\n",
    "X = np.concatenate([Xf, Xm],0);\n",
    "y = np.concatenate([-np.matrix(np.ones([10,1])),np.matrix(np.ones([10,1]))]);"
   ]
  },
  {
   "cell_type": "code",
   "execution_count": 5,
   "metadata": {},
   "outputs": [
    {
     "name": "stdout",
     "output_type": "stream",
     "text": [
      "(20, 2)\n",
      "(20, 1)\n"
     ]
    }
   ],
   "source": [
    "print(X.shape)\n",
    "print(y.shape)"
   ]
  },
  {
   "cell_type": "code",
   "execution_count": 6,
   "metadata": {},
   "outputs": [
    {
     "data": {
      "image/png": "[encoded data removed]",
      "text/plain": [
       "<Figure size 432x288 with 1 Axes>"
      ]
     },
     "metadata": {
      "needs_background": "light"
     },
     "output_type": "display_data"
    }
   ],
   "source": [
    "# Plot the data\n",
    "def plot_mf(Xf,Xm):\n",
    "    axes = plt.axes()\n",
    "    females_series = plt.scatter(np.array(Xf[:,0]), np.array(Xf[:,1]), s=30, c='b', marker='o', label='Females')\n",
    "    males_series = plt.scatter(np.array(Xm[:,0]), np.array(Xm[:,1]), s=30, c='y', marker='o', label='Males')\n",
    "    axes.set_aspect('equal', 'datalim')\n",
    "    plt.xlabel('Height')\n",
    "    plt.ylabel('Weight')\n",
    "    plt.title('Height-weight data for males and females (fake data!)')\n",
    "    plt.legend(handles=[females_series, males_series], bbox_to_anchor=(1.05, 1), loc=2, borderaxespad=0.)\n",
    "    return axes\n",
    "\n",
    "def plot_w(axes, w, b):\n",
    "    ylim = axes.get_ylim()\n",
    "    xlim = axes.get_xlim()\n",
    "    p1 = (xlim[0], - (w[0,0] * xlim[0] + b) / w[1,0])\n",
    "    p2 = (xlim[1], - (w[0,0] * xlim[1] + b) / w[1,0])\n",
    "    plt.plot((p1[0],p2[0]), (p1[1],p2[1]), 'r-')\n",
    "    \n",
    "plot_mf(Xf, Xm)\n",
    "plt.show()"
   ]
  },
  {
   "cell_type": "markdown",
   "metadata": {
    "deletable": false,
    "editable": false,
    "nbgrader": {
     "cell_type": "markdown",
     "checksum": "d16ba799f8e97249e6655200ae9eeb7e",
     "grade": false,
     "grade_id": "cell-1d103ab78869ba19",
     "locked": true,
     "schema_version": 3,
     "solution": false,
     "task": false
    }
   },
   "source": [
    "## Exercise 1 (in lab): Linearly separable data (total of 25 points)\n",
    "\n",
    "Take the example data and SVM optimization code using cvxopt from the exercise in lecture. Verify that you can find the decision boundary for such \"easy\" cases.\n",
    "Show your results in your lab report. We'll go step by step below."
   ]
  },
  {
   "cell_type": "markdown",
   "metadata": {
    "deletable": false,
    "editable": false,
    "nbgrader": {
     "cell_type": "markdown",
     "checksum": "fbb8ff7b2e821107d2fdfd42414f9800",
     "grade": false,
     "grade_id": "cell-e315984c5219307a",
     "locked": true,
     "schema_version": 3,
     "solution": false,
     "task": false
    }
   },
   "source": [
    "### Exercise 1.1 Create SVM function using cvopt (5 points)\n",
    "\n",
    "You'll want to ensure that $\\mathtt{Q}$ is symmetric by setting it to $(\\mathtt{Q} + \\mathtt{Q}^\\top)/2$.\n",
    "Then create an `args` variable containing $\\mathtt{Q}$ and $\\mathbf{c}$, each converted from numpy to\n",
    "cvxopt using `cvxopt.matrix(numpy_matrix)`. If `A` is supplied, you should add `A` and `B` to the\n",
    "list of arguments, and if `E` is supplied, you should add `E` and `d` to the list of arguments. Finally,\n",
    "you can call `cvxopt.solvers.qp(*args)`. If the status returned is `optimal` return the valid solution else\n",
    "return `None`."
   ]
  },
  {
   "cell_type": "code",
   "execution_count": 7,
   "metadata": {
    "deletable": false,
    "nbgrader": {
     "cell_type": "code",
     "checksum": "91c73ec55643e4c87e0236cf3c0e99bc",
     "grade": false,
     "grade_id": "cell-b725a5d7df43afc7",
     "locked": false,
     "schema_version": 3,
     "solution": true,
     "task": false
    }
   },
   "outputs": [],
   "source": [
    "def cvxopt_solve_qp(Q, c, A=None, B=None, E=None, d=None):\n",
    "    # Fill your code value in 'None'\n",
    "    # Some 'None' can be avoided.\n",
    "    Q_new = .5 * (Q + Q.T)\n",
    "    args = [cvxopt.matrix(Q_new), cvxopt.matrix(c)]\n",
    "    if A is not None:\n",
    "        args.extend([cvxopt.matrix(A), cvxopt.matrix(B)])\n",
    "        if E is not None:\n",
    "            args.extend([cvxopt.matrix(E), cvxopt.matrix(d)])\n",
    "    sol = cvxopt.solvers.qp(*args)\n",
    "    if sol is not None and 'optimal' not in sol['status']:\n",
    "        return None\n",
    "    x = None\n",
    "    # YOUR CODE HERE\n",
    "    x = np.array(sol['x']).reshape((Q.shape[1],))\n",
    "    return x"
   ]
  },
  {
   "cell_type": "code",
   "execution_count": 9,
   "metadata": {
    "deletable": false,
    "editable": false,
    "nbgrader": {
     "cell_type": "code",
     "checksum": "cffc0152473ac7fd00036068fcc5af8b",
     "grade": true,
     "grade_id": "cell-578fb1a6746cabe5",
     "locked": true,
     "points": 10,
     "schema_version": 3,
     "solution": false,
     "task": false
    }
   },
   "outputs": [
    {
     "name": "stdout",
     "output_type": "stream",
     "text": [
      "     pcost       dcost       gap    pres   dres\n",
      " 0:  2.8800e-02  1.0464e+00  1e+01  1e+00  3e+01\n",
      " 1:  1.8859e-01 -8.5852e-01  1e+00  2e-01  3e+00\n",
      " 2:  1.6523e-01  3.7852e-02  1e-01  4e-16  9e-16\n",
      " 3:  8.2300e-02  7.2465e-02  1e-02  0e+00  1e-15\n",
      " 4:  8.0043e-02  7.9915e-02  1e-04  4e-16  1e-15\n",
      " 5:  8.0000e-02  7.9999e-02  1e-06  4e-16  4e-16\n",
      " 6:  8.0000e-02  8.0000e-02  1e-08  0e+00  2e-15\n",
      "Optimal solution found.\n",
      "x_test: [-0.40000001  4.20000012]\n",
      "success!\n"
     ]
    }
   ],
   "source": [
    "# Test function: Do not remove\n",
    "Q_test = np.array([[1, 0],[0, 0]])\n",
    "c_test = np.zeros([2])\n",
    "A_test = np.array([[15., 1.],[14., 1.], [13., 1], [-5.,-1.],[-6.,-1.],[-8,-1]])\n",
    "B_test = -np.ones([6])\n",
    "try:\n",
    "    x_test = cvxopt_solve_qp(Q_test, c_test, A_test, B_test)\n",
    "    print('x_test:', x_test)\n",
    "except:\n",
    "    assert False, \"cvxopt_solve_qp is incorrect\"\n",
    "\n",
    "print(\"success!\")\n",
    "# End Test function"
   ]
  },
  {
   "cell_type": "markdown",
   "metadata": {
    "deletable": false,
    "editable": false,
    "nbgrader": {
     "cell_type": "markdown",
     "checksum": "5e3d907f964efd168916d89b5805ca67",
     "grade": false,
     "grade_id": "cell-163f9b78fbd51036",
     "locked": true,
     "schema_version": 3,
     "solution": false,
     "task": false
    }
   },
   "source": [
    "**Expected result (or look-alike)**:\\\n",
    "     pcost       dcost       gap    pres   dres\\\n",
    " 0:  2.8800e-02  1.0464e+00  1e+01  1e+00  3e+01\\\n",
    " 1:  1.8859e-01 -8.5852e-01  1e+00  2e-01  3e+00\\\n",
    " 2:  1.6523e-01  3.7852e-02  1e-01  4e-16  4e-16\\\n",
    " 3:  8.2300e-02  7.2465e-02  1e-02  6e-16  3e-15\\\n",
    " 4:  8.0043e-02  7.9915e-02  1e-04  7e-16  2e-16\\\n",
    " 5:  8.0000e-02  7.9999e-02  1e-06  2e-16  1e-15\\\n",
    " 6:  8.0000e-02  8.0000e-02  1e-08  8e-16  1e-15\\\n",
    "Optimal solution found.\\\n",
    "x_test: [-0.40000001  4.20000012]\\"
   ]
  },
  {
   "cell_type": "markdown",
   "metadata": {
    "deletable": false,
    "editable": false,
    "nbgrader": {
     "cell_type": "markdown",
     "checksum": "e61785a2741aba9ecee743b1d4ea5019",
     "grade": false,
     "grade_id": "cell-4ab09d896374cbc6",
     "locked": true,
     "schema_version": 3,
     "solution": false,
     "task": false
    }
   },
   "source": [
    "### Exercise 1.2: Find Q, c, A, B for input into cvxopt_solve_qp function (10 points)\n",
    "\n",
    "Now you should use the `cvxopt_solve_qp` function to find $\\mathbf{w}$ and $b$ for the data $\\mathtt{X}, \\mathbf{y}$ prepared earlier. You'll need to set up numpy arrays for $\\mathtt{Q}$, $\\mathbf{c}$, $\\mathtt{A}$, and $\\mathtt{B}$ that when passed to the QP solver will give us the optimal decision boundary."
   ]
  },
  {
   "cell_type": "code",
   "execution_count": 10,
   "metadata": {
    "deletable": false,
    "nbgrader": {
     "cell_type": "code",
     "checksum": "f2ec32f56a4be9634e842a491be5ff4e",
     "grade": false,
     "grade_id": "cell-b3c4535270564f26",
     "locked": false,
     "schema_version": 3,
     "solution": true,
     "task": false
    }
   },
   "outputs": [
    {
     "name": "stdout",
     "output_type": "stream",
     "text": [
      "     pcost       dcost       gap    pres   dres\n",
      " 0:  1.4721e-03  6.5053e+00  5e+01  2e+00  4e+02\n",
      " 1:  1.0012e-02 -4.7161e+00  1e+01  6e-01  1e+02\n",
      " 2:  2.6180e-02 -4.8172e+00  7e+00  2e-01  6e+01\n",
      " 3:  3.9767e-02 -4.5363e-01  5e-01  1e-02  2e+00\n",
      " 4:  3.5404e-02  1.8200e-02  2e-02  5e-15  1e-13\n",
      " 5:  3.1392e-02  3.0877e-02  5e-04  4e-15  3e-12\n",
      " 6:  3.1250e-02  3.1245e-02  5e-06  4e-15  2e-13\n",
      " 7:  3.1249e-02  3.1248e-02  5e-08  5e-15  2e-13\n",
      "Optimal solution found.\n"
     ]
    }
   ],
   "source": [
    "Q = None\n",
    "c = None\n",
    "A = None\n",
    "B = None\n",
    "# YOUR CODE HERE\n",
    "Q = np.eye(3)\n",
    "Q[2,2] = 0\n",
    "c = np.zeros([3])\n",
    "A = np.multiply(np.tile(-y,[1, 3]), np.concatenate([X, np.ones([20,1])],1))\n",
    "B = -np.ones([20])\n",
    "\n",
    "x = cvxopt_solve_qp(Q, c, A, B)"
   ]
  },
  {
   "cell_type": "code",
   "execution_count": 11,
   "metadata": {
    "deletable": false,
    "editable": false,
    "nbgrader": {
     "cell_type": "code",
     "checksum": "dbc62596523e99288764720015ba5f84",
     "grade": true,
     "grade_id": "cell-f03eb689e172de12",
     "locked": true,
     "points": 10,
     "schema_version": 3,
     "solution": false,
     "task": false
    }
   },
   "outputs": [
    {
     "name": "stdout",
     "output_type": "stream",
     "text": [
      "Q:\n",
      " [[1. 0. 0.]\n",
      " [0. 1. 0.]\n",
      " [0. 0. 0.]]\n",
      "c:\n",
      " [0. 0. 0.]\n",
      "A:\n",
      " [[ 164.411   42.38     1.   ]\n",
      " [ 157.308   42.15     1.   ]\n",
      " [ 159.579   49.739    1.   ]\n",
      " [-168.524  -64.353   -1.   ]\n",
      " [-171.597  -61.793   -1.   ]\n",
      " [-179.469  -74.552   -1.   ]]\n",
      "B:\n",
      " [-1. -1. -1. -1. -1. -1. -1. -1. -1. -1. -1. -1. -1. -1. -1. -1. -1. -1.\n",
      " -1. -1.]\n",
      "x:\n",
      " [  0.16001143   0.19207647 -38.32646165]\n",
      "success!\n"
     ]
    }
   ],
   "source": [
    "print('Q:\\n', Q)\n",
    "print('c:\\n', c)\n",
    "print('A:\\n', A[7:13])\n",
    "print('B:\\n', B)\n",
    "print('x:\\n', x)\n",
    "# Test function: Do not remove\n",
    "assert Q.shape == (3, 3) and Q[2,2] == Q[0,1] and Q[2,0] == 0 and Q[0,0] == Q[1,1] and Q[0,0] == 1, 'Q value is incorrect'\n",
    "assert c.shape == 3 or c.shape == (3,) or c.shape == (3,1), 'Size of c is incorrect'\n",
    "assert np.all((c == 0)), 'c value is incorrect'\n",
    "assert A.shape == (20,3), 'Size of A is incorrect'\n",
    "assert np.max(A[:,2]) == 1 and np.min(A[:,2]) == -1, 'A value is incorrect'\n",
    "assert not np.array_equal(np.round(A[:,0:2],1), np.round(X,1)), 'A value is incorrect'\n",
    "assert np.array_equal(np.round(x,1), np.round([0.16001143, 0.19207647, -38.32646165],1)), 'x value is incorrect'\n",
    "\n",
    "print(\"success!\")\n",
    "# End Test function"
   ]
  },
  {
   "cell_type": "markdown",
   "metadata": {
    "deletable": false,
    "editable": false,
    "nbgrader": {
     "cell_type": "markdown",
     "checksum": "95c1fa1fe1e39871c75c3d86abb01e16",
     "grade": false,
     "grade_id": "cell-f9097502c97cb76d",
     "locked": true,
     "schema_version": 3,
     "solution": false,
     "task": false
    }
   },
   "source": [
    "**Expected Result (or look-alike)**:\\\n",
    "Q:\\\n",
    " [[1. 0. 0.]\\\n",
    " [0. 1. 0.]\\\n",
    " [0. 0. 0.]]\\\n",
    "c:\\\n",
    " [0. 0. 0.]\\\n",
    "A:\\\n",
    " [[ 164.411   42.38     1.   ]\\\n",
    " [ 157.308   42.15     1.   ]\\\n",
    " [ 159.579   49.739    1.   ]\\\n",
    " [-168.524  -64.353   -1.   ]\\\n",
    " [-171.597  -61.793   -1.   ]\\\n",
    " [-179.469  -74.552   -1.   ]]\\\n",
    "B:\\\n",
    " [-1. -1. -1. -1. -1. -1. -1. -1. -1. -1. -1. -1. -1. -1. -1. -1. -1. -1. -1. -1.]\\\n",
    "x:\\\n",
    " [  0.16001143   0.19207647 -38.32646165]\\"
   ]
  },
  {
   "cell_type": "markdown",
   "metadata": {
    "deletable": false,
    "editable": false,
    "nbgrader": {
     "cell_type": "markdown",
     "checksum": "8d7e6a3d7e92daa8cb7bed1b1578500f",
     "grade": false,
     "grade_id": "cell-a602aa628ce04a87",
     "locked": true,
     "schema_version": 3,
     "solution": false,
     "task": false
    }
   },
   "source": [
    "### Exercise 1.3: Use x from above to find w and b (5 points)\n",
    "\n",
    "Now you've got the optimal parameter vector for the QP problem. Extract $\\mathbf{w}$ and $b$, and be sure to normalize $\\mathbf{w}$ to unit length and $b$ accordingly."
   ]
  },
  {
   "cell_type": "code",
   "execution_count": 12,
   "metadata": {
    "deletable": false,
    "nbgrader": {
     "cell_type": "code",
     "checksum": "0b4e7e94a0a3774594ae6223ef9a022e",
     "grade": false,
     "grade_id": "cell-a4ea37e3ba33da01",
     "locked": false,
     "schema_version": 3,
     "solution": true,
     "task": false
    }
   },
   "outputs": [],
   "source": [
    "w = None\n",
    "b = None\n",
    "# YOUR CODE HERE\n",
    "w = np.matrix([[x[0]],[x[1]]])\n",
    "b = x[2]\n",
    "w_norm = np.linalg.norm(w)\n",
    "w = w / w_norm\n",
    "b = b / w_norm"
   ]
  },
  {
   "cell_type": "code",
   "execution_count": 13,
   "metadata": {
    "deletable": false,
    "editable": false,
    "nbgrader": {
     "cell_type": "code",
     "checksum": "c93c59bb9029b7b28d36eeab7ebc6b46",
     "grade": true,
     "grade_id": "cell-1a06a5cefb1fda2c",
     "locked": true,
     "points": 5,
     "schema_version": 3,
     "solution": false,
     "task": false
    }
   },
   "outputs": [
    {
     "name": "stdout",
     "output_type": "stream",
     "text": [
      "Optimal w: [0.640061 0.768324] b: -153.309495\n"
     ]
    },
    {
     "data": {
      "image/png": "[encoded data removed]",
      "text/plain": [
       "<Figure size 432x288 with 1 Axes>"
      ]
     },
     "metadata": {
      "needs_background": "light"
     },
     "output_type": "display_data"
    },
    {
     "name": "stdout",
     "output_type": "stream",
     "text": [
      "success!\n"
     ]
    }
   ],
   "source": [
    "print('Optimal w: [%f %f] b: %f' % (w[0,0],w[1,0],b))\n",
    "\n",
    "axes = plot_mf(Xf, Xm)\n",
    "plot_w(axes, w, b)\n",
    "plt.show()\n",
    "\n",
    "# Test function: Do not remove\n",
    "assert w.shape == 2 or w.shape ==(2,) or w.shape == (2,1), 'Size of w is incorrect'\n",
    "assert w[0] > 0 and w[1] > 0 and w[0] <= 1 and w[1] <= 1, 'w value is incorrect'\n",
    "assert isinstance(b, (float, int)), 'Type of b is incorrect'\n",
    "assert b < 0, 'b value is incorrect'\n",
    "\n",
    "print(\"success!\")\n",
    "# End Test function"
   ]
  },
  {
   "attachments": {
    "lab06-1.png": {
     "image/png": "[encoded data removed]"
    }
   },
   "cell_type": "markdown",
   "metadata": {
    "deletable": false,
    "editable": false,
    "nbgrader": {
     "cell_type": "markdown",
     "checksum": "bb2e793c9428b7a3a4fe55e0be10901e",
     "grade": false,
     "grade_id": "cell-5cbe18da87dae14d",
     "locked": true,
     "schema_version": 3,
     "solution": false,
     "task": false
    }
   },
   "source": [
    "**Expected result (Or look-alike)**:\\\n",
    "Optimal w: [0.640061 0.768324] b: -153.309495\n",
    "\n",
    "![lab06-1.png](attachment:lab06-1.png)"
   ]
  },
  {
   "cell_type": "markdown",
   "metadata": {},
   "source": [
    "Here's some code to get the prediction accuracy of a linear SVM with parameters $\\mathbf{w}$ and $b$ already identified:"
   ]
  },
  {
   "cell_type": "code",
   "execution_count": 14,
   "metadata": {},
   "outputs": [
    {
     "name": "stdout",
     "output_type": "stream",
     "text": [
      "1.0\n"
     ]
    }
   ],
   "source": [
    "def predict_linear(X,w,b):\n",
    "    s = X@w+b\n",
    "    s[s >= 0] = 1\n",
    "    s[s < 0] = -1\n",
    "    return s\n",
    "y_pred = predict_linear(X,w,b)\n",
    "accuracy = np.sum(y_pred==y)/y.size\n",
    "print(accuracy)"
   ]
  },
  {
   "cell_type": "markdown",
   "metadata": {
    "deletable": false,
    "editable": false,
    "nbgrader": {
     "cell_type": "markdown",
     "checksum": "19f07bd4c532f21bb5b08c4843c71acb",
     "grade": false,
     "grade_id": "cell-095ce13ecac0d1ef",
     "locked": true,
     "schema_version": 3,
     "solution": false,
     "task": false
    }
   },
   "source": [
    "## Exercise 2 (in lab): non-separable data (5 points)\n",
    "\n",
    "Take the example of the annulus from the logistic regression lab. Verify that cvxopt cannot find a decision boundary for this case. Show your results in your lab report.\n",
    "\n",
    "**Note**: You don't need to separate the data into train/test subsets."
   ]
  },
  {
   "cell_type": "code",
   "execution_count": 15,
   "metadata": {
    "deletable": false,
    "editable": false,
    "nbgrader": {
     "cell_type": "code",
     "checksum": "6e9db836d1b0bcf199ba1c433d3589de",
     "grade": false,
     "grade_id": "cell-3b70d3305e5739cd",
     "locked": true,
     "schema_version": 3,
     "solution": false,
     "task": false
    }
   },
   "outputs": [],
   "source": [
    "# Generate data for class 1\n",
    "mu_1 = np.array([1.0, 2.0])\n",
    "sigma_1 = 1\n",
    "num_sample = 100\n",
    "cov_mat = np.matrix([[sigma_1,0],[0,sigma_1]])\n",
    "X1 = np.random.multivariate_normal(mean= mu_1, cov=cov_mat, size = num_sample)\n",
    "\n",
    "# Generate data for class 2\n",
    "angle = np.random.uniform(0, 2*np.pi, num_sample)\n",
    "d =  np.random.normal(np.square(3*sigma_1),np.square(.5*sigma_1),num_sample)\n",
    "X2 = np.array([X1[:,0] + d*np.cos(angle), X1[:,1] + d*np.sin(angle)]).T\n",
    "\n",
    "# Combine X1 and X2 into single dataset\n",
    "X_annulus = np.concatenate([X1, X2],axis = 0)\n",
    "y_annulus = np.append(-np.ones(num_sample),np.ones(num_sample))[:,np.newaxis]"
   ]
  },
  {
   "cell_type": "code",
   "execution_count": 16,
   "metadata": {},
   "outputs": [
    {
     "data": {
      "image/png": "[encoded data removed]",
      "text/plain": [
       "<Figure size 576x576 with 1 Axes>"
      ]
     },
     "metadata": {
      "needs_background": "light"
     },
     "output_type": "display_data"
    }
   ],
   "source": [
    "def plot_annulus(X1, X2):\n",
    "    ax = plt.axes() \n",
    "    plt.title('Sample data for classification problem')\n",
    "    plt.grid(axis='both', alpha=.25)\n",
    "    plt.plot(X1[:,0],X1[:,1],'b.', label = 'Class 1')\n",
    "    plt.plot(X2[:,0],X2[:,1],'g*', label = 'Class 2')\n",
    "    plt.legend(loc=2)\n",
    "    ax.set_aspect('equal', 'datalim')\n",
    "    return ax\n",
    "\n",
    "fig1 = plt.figure(figsize=(8,8))\n",
    "plot_annulus(X1, X2)\n",
    "plt.show()\n"
   ]
  },
  {
   "cell_type": "markdown",
   "metadata": {
    "deletable": false,
    "editable": false,
    "nbgrader": {
     "cell_type": "markdown",
     "checksum": "cc51047287b2715e78e1ae92e7dd919a",
     "grade": false,
     "grade_id": "cell-06053fcc6e62a4b5",
     "locked": true,
     "schema_version": 3,
     "solution": false,
     "task": false
    }
   },
   "source": [
    "### Exercise 2.1: Fill in Q, c, A, B for the annulus data and find w and b\n",
    "\n",
    "Here you just have to repeat the same process as in Exercise 1 but with the annulus data generated above."
   ]
  },
  {
   "cell_type": "code",
   "execution_count": 17,
   "metadata": {
    "deletable": false,
    "nbgrader": {
     "cell_type": "code",
     "checksum": "f9b1043e26883aa23de72c2f03888761",
     "grade": false,
     "grade_id": "cell-b4b54b0b928e56de",
     "locked": false,
     "schema_version": 3,
     "solution": true,
     "task": false
    }
   },
   "outputs": [
    {
     "name": "stdout",
     "output_type": "stream",
     "text": [
      "     pcost       dcost       gap    pres   dres\n",
      " 0:  5.4262e-05  1.9949e+02  2e+02  2e+00  4e-14\n",
      " 1:  5.0204e-09  4.7051e+02  5e+00  1e+00  6e-14\n",
      " 2:  4.7746e-13  4.2636e+04  5e+00  1e+00  9e-12\n",
      " 3:  4.7719e-17  3.7707e+08  4e+02  1e+00  4e-08\n",
      " 4:  4.7719e-21  3.3340e+14  4e+06  1e+00  6e-02\n",
      " 5:  4.7720e-25  2.9478e+22  3e+12  1e+00  4e+06\n",
      " 6:  1.2917e-26  2.5391e+32  1e+21  1e+00  4e+16\n",
      " 7:  1.5717e-25  4.2614e+40  2e+29  1e+00  6e+24\n",
      " 8:  3.6386e-26  1.8084e+47  7e+35  1e+00  3e+31\n",
      " 9:  4.3381e-26  1.0087e+54  4e+42  1e+00  3e+38\n",
      "10:  7.3839e-26  2.8173e+61  1e+50  1e+00  2e+45\n",
      "11:  9.0827e-26  2.1776e+68  9e+56  1e+00  5e+52\n",
      "12:  9.5143e-26  4.3883e+75  2e+64  1e+00  8e+59\n",
      "13:  1.1300e-25  5.1185e+82  2e+71  1e+00  1e+67\n",
      "14:  1.0395e-25  1.1213e+90  4e+78  1e+00  2e+74\n",
      "15:  1.2121e-25  1.5023e+97  6e+85  1e+00  2e+81\n",
      "16:  1.0678e-25  3.1943e+104  1e+93  1e+00  6e+88\n",
      "17:  1.2397e-25  4.5080e+111  2e+100  1e+00  8e+95\n",
      "18:  1.0821e-25  9.0705e+118  4e+107  1e+00 3e+103\n",
      "19:  1.2437e-25  1.3241e+126  5e+114  1e+00 4e+110\n",
      "20:  1.0511e-25  2.7820e+133  1e+122  1e+00 3e+117\n",
      "21:  1.1377e-25  4.8465e+140  2e+129  1e+00 8e+124\n",
      "22:  9.0967e-26  1.6365e+148  7e+136  1e+00 5e+132\n",
      "23:  9.8971e-26  2.9147e+155  1e+144  1e+00 3e+139\n",
      "24:  8.8321e-26  1.1941e+163  5e+151  1e+00 3e+147\n",
      "25:  1.0549e-25  1.5921e+170  6e+158  1e+00    inf\n",
      "26:  9.6717e-26  3.7745e+177  1e+166  1e+00    inf\n",
      "27:  1.0105e-25  6.9653e+184  3e+173  1e+00    inf\n",
      "28:  8.8539e-26  3.0933e+192  1e+181  1e+00    inf\n",
      "29:  1.0181e-25  3.0456e+199  1e+188  1e+00    inf\n",
      "30:  9.5804e-26  9.1123e+206  4e+195  1e+00    inf\n",
      "31:  1.1457e-25  1.1493e+214  5e+202  1e+00    inf\n",
      "32:  1.0379e-25  2.2956e+221  9e+209  1e+00    inf\n",
      "33:  1.1860e-25  3.3935e+228  1e+217  1e+00    inf\n",
      "34:  9.9419e-26  8.4047e+235  3e+224  1e+00    inf\n",
      "35:  1.0261e-25  1.6060e+243  6e+231  1e+00    inf\n",
      "36:  8.7397e-26  7.2225e+250  3e+239  1e+00    inf\n",
      "37:  1.0053e-25  7.0721e+257  3e+246  1e+00    inf\n",
      "38:  9.4864e-26  2.1295e+265  8e+253  1e+00    inf\n",
      "39:  1.1381e-25  2.7141e+272  1e+261  1e+00    inf\n",
      "40:  1.0205e-25  5.2956e+279  2e+268  1e+00    inf\n",
      "41:  1.1106e-25  8.7983e+286  3e+275  1e+00    inf\n"
     ]
    }
   ],
   "source": [
    "# Try to use try/catch to get output\n",
    "get_error = False\n",
    "try:\n",
    "    Q = None\n",
    "    c = None\n",
    "    A = None\n",
    "    B = None\n",
    "    x = None\n",
    "    w = None\n",
    "    b = None\n",
    "    # YOUR CODE HERE\n",
    "    Q = np.eye(3)\n",
    "    Q[2,2] = 0\n",
    "    c = np.zeros([3])\n",
    "    A = np.multiply(np.tile(-y_annulus,[1, 3]), np.concatenate([X_annulus, np.ones([200,1])],1))\n",
    "    B = -np.ones([200])\n",
    "    x = cvxopt_solve_qp(Q, c, A, B)\n",
    "    w = np.matrix([[x[0]],[x[1]]])\n",
    "    b = x[2]\n",
    "    w_norm = np.linalg.norm(w)\n",
    "    w = w / w_norm\n",
    "    b = b / w_norm\n",
    "    output_str = 'Optimal w: [%f %f] b: %f' % (w[0,0],w[1,0],b)\n",
    "    get_error = False\n",
    "except Exception as e:\n",
    "    output_str = e\n",
    "    get_error = True"
   ]
  },
  {
   "cell_type": "code",
   "execution_count": 18,
   "metadata": {
    "deletable": false,
    "editable": false,
    "nbgrader": {
     "cell_type": "code",
     "checksum": "67fe2b8552b7f23921c8a50802ba0c70",
     "grade": true,
     "grade_id": "cell-2cf82920ca94dd9f",
     "locked": true,
     "points": 5,
     "schema_version": 3,
     "solution": false,
     "task": false
    }
   },
   "outputs": [
    {
     "name": "stdout",
     "output_type": "stream",
     "text": [
      "domain error\n",
      "success!\n"
     ]
    }
   ],
   "source": [
    "print(output_str)\n",
    "\n",
    "# Test function: Do not remove\n",
    "assert Q.shape == (3, 3) and Q[2,2] == Q[0,1] and Q[2,0] == 0 and Q[0,0] == Q[1,1] and Q[0,0] == 1, 'Q value is incorrect'\n",
    "assert c.shape == 3 or c.shape == (3,) or c.shape == (3,1), 'Size of c is incorrect'\n",
    "assert np.all((c == 0)), 'c value is incorrect'\n",
    "assert A.shape == (200,3), 'Size of A is incorrect'\n",
    "assert str(output_str) == 'domain error' or \"'NoneType' object is not subscriptable\" or get_error, 'Output incorrect'\n",
    "\n",
    "print(\"success!\")\n",
    "# End Test function"
   ]
  },
  {
   "cell_type": "markdown",
   "metadata": {
    "deletable": false,
    "editable": false,
    "nbgrader": {
     "cell_type": "markdown",
     "checksum": "7ecbc864597bebe959e5c4b18145207b",
     "grade": false,
     "grade_id": "cell-923f7bb35cc0c350",
     "locked": true,
     "schema_version": 3,
     "solution": false,
     "task": false
    }
   },
   "source": [
    "**Expected result**: Show that there was an error and that the optimization did not converge."
   ]
  },
  {
   "cell_type": "markdown",
   "metadata": {},
   "source": [
    "## Generalized Lagrangian optimization for SVMs\n",
    "\n",
    "Now we consider the generalized Lagrangian for the SVM. This technique is suitable for solving problems of the form\n",
    "  $$ \\begin{array}{rl}\n",
    "    \\min_{\\mathbf{w}} & f(\\mathbf{w}) \\\\\n",
    "    \\text{subject to} & g_i(\\mathbf{w}) \\le 0, i \\in 1..k \\\\\n",
    "                      & h_i(\\mathbf{w}) = 0, i \\in 1..l\n",
    "   \\end{array}$$\n",
    "\n",
    "The generalized Lagrangian is\n",
    "$$\\cal{L}(\\mathbf{w},\\mathbf{\\alpha},\\mathbf{\\beta}) = f(\\mathbf{w}) + \\sum_{i=1}^k \\alpha_i g_i(\\mathbf{w}) + \\sum_{i=1}^l \\beta_i h_i(\\mathbf{w}),$$\n",
    "which has been cleverly arranged to be equal to $f(\\mathbf{w})$ whenever $\\mathbf{w}$ satisfies the constraints and $\\infty$ otherwise.\n",
    "\n",
    "### Primal and dual Lagrangian problems\n",
    "\n",
    "The primal problem is to find\n",
    "$$p^* = \\min_{\\mathbf{w}}\\theta_{\\cal P}(\\mathbf{w}) = \\min_\\mathbf{w}\\max_{\\mathbf{\\alpha},\\mathbf{\\beta},\\alpha_i \\ge 0} {\\cal L}(\\mathbf{w},\\mathbf{\\alpha},\\mathbf{\\beta})$$\n",
    "and the dual problem is to find\n",
    "$$d^* = \\max_{\\mathbf{\\alpha},\\mathbf{\\beta},\\alpha_i \\ge 0} \\theta_{\\cal D}(\\mathbf{\\alpha},\\mathbf{\\beta}) =  \\max_{\\mathbf{\\alpha},\\mathbf{\\beta},\\alpha_i \\ge 0} \\min_\\mathbf{w}{\\cal L}(\\mathbf{w},\\mathbf{\\alpha},\\mathbf{\\beta}).$$\n",
    "If $f$ is convex, the $g_i$'s are affine, the $h_i$'s are convex, and the $g_i$'s are strictly\n",
    "feasible, it turns out that the solutions to the primal and dual problem are the same, and the KKT conditions hold:\n",
    "$$ \\begin{array}{rcl}\n",
    "  \\frac{\\partial}{\\partial w_i}{\\cal L}(\\mathbf{w}^*,\\mathbf{\\alpha}^*,\\mathbf{\\beta}^*) & = & 0, i \\in 1..n \\\\\n",
    "  \\frac{\\partial}{\\partial \\beta_i}{\\cal L}(\\mathbf{w}^*,\\mathbf{\\alpha}^*,\\mathbf{\\beta}^*) & = & 0, i \\in 1..l \\\\\n",
    "  \\alpha_i^*g_i(\\mathbf{w}^*) & = & 0, i \\in 1..k \\\\\n",
    "  g_i(\\mathbf{w}^*) & \\le & 0, i \\in 1..k \\\\\n",
    "  \\alpha_i^* & \\ge & 0, i \\in 1..k\n",
    "  \\end{array} $$"
   ]
  },
  {
   "cell_type": "markdown",
   "metadata": {},
   "source": [
    "### Solving the dual Lagrangian problem\n",
    "\n",
    "The dual problem (finding $\\mathbf{\\alpha}$ maximizing\n",
    "the Lagrangian with the optimal $\\mathbf{w}$ turns out to be easiest to solve and gives us the ability to use kernels other than the linear (inner product) kernel.\n",
    "\n",
    "We first solve for $\\mathbf{w}$ assuming fixed $\\mathbf{\\alpha}$ and $\\mathbf{\\beta}$ (we don't have equality constraints though, so no need for $\\mathbf{\\beta}$).\n",
    "\n",
    "We need to rewrite the SVM constraints in the necessary form with $g_i(\\mathbf{w})=0$. For the SVM, the constraints are\n",
    "$$g_i(\\mathbf{w},b) = -y^{(i)}(\\mathbf{w}^\\top\\mathbf{x}^{(i)} + b) + 1 \\ge 0.$$\n",
    "Using that definition of $g_i(\\mathbf{w},b)$, we obtain the Lagrangian\n",
    "$${\\cal L}(\\mathbf{w},b,\\mathbf{\\alpha}) = \\frac{1}{2}\\|\\mathbf{w}\\|^2 - \\sum_{i=1}^m\\alpha_i\\left[ y^{(i)}(\\mathbf{w}^\\top\\mathbf{x}^{(i)} + b) -1 \\right] $$\n",
    "Taking the gradient of ${\\cal L}$ with respect to $\\mathbf{w}$ and setting it to 0, we obtain\n",
    "\n",
    "$$\\nabla_\\mathbf{w}{\\cal L}(\\mathbf{w},b,\\mathbf{\\alpha}) = \\mathbf{w} - \\sum_{i=1}^m\\alpha_i y^{(i)} \\mathbf{x}^{(i)} = 0,$$\n",
    "which gives us\n",
    "\n",
    "$$\\mathbf{w}=\\sum_{i=1}^m\\alpha_i y^{(i)} \\mathbf{x}^{(i)}.$$\n",
    "\n",
    "From $\\frac{\\partial {\\cal L}}{\\partial b} = 0$, we obtain\n",
    "$$\\sum_{i=1}^m \\alpha_i y^{(i)} = 0,$$\n",
    "which is interesting (think about what it means also considering that $\\alpha_i > 0$ only for examples on the margin.\n",
    "Unfortunately it doesn't help us find $b$! In any case, we plug this definition for the optimal $\\mathbf{w}$ into the original Lagrangian,\n",
    "to obtain\n",
    "$${\\cal L}(\\mathbf{w},b,\\mathbf{\\alpha}) = \\sum_{i=1}^m \\alpha_i - \\frac{1}{2}\\sum_{i,j=1}^m y^{(i)} y^{(j)} \\alpha_i \\alpha_j (\\mathbf{x}^{(i)})^\\top\\mathbf{x}^{(j)} - b\\sum_{i=1}^m \\alpha_i y^{(i)}. $$\n",
    "We already know that the last term is 0, so we get\n",
    "$${\\cal L}(\\mathbf{w},b,\\mathbf{\\alpha}) = \\sum_{i=1}^m \\alpha_i - \\frac{1}{2}\\sum_{i,j=1}^m y^{(i)} y^{(j)} \\alpha_i \\alpha_j \\left< \\mathbf{x}^{(i)},\\mathbf{x}^{(j)} \\right> . $$\n",
    "OK! We've eliminated $\\mathbf{w}$ and $b$ from the optimization. Now we just need to maximize ${\\cal L}$ with respect to $\\mathbf{\\alpha}$.\n",
    "This gives us the final (dual) optimization problem\n",
    "$$ \\begin{array}{rl}\n",
    "  \\max_{\\mathbf{\\alpha}} & W(\\mathbf{\\alpha}) = \\sum_{i=1}^m \\alpha_i - \\frac{1}{2} \\sum_{i,j=1}^m y^{(i)} y^{(j)} \\alpha_i \\alpha_j \\left< \\mathbf{x}^{(i)}, \\mathbf{x}^{(j)} \\right> \\\\\n",
    "  \\text{such that} & \\alpha_i \\ge 0, i \\in 1..m \\\\\n",
    "                   & \\sum_{i=1}^m \\alpha_i y^{(i)} = 0\n",
    "\\end{array} $$\n",
    "This turns out to be QP again!\n",
    "\n",
    "Aside: once we solve for $\\mathbf{\\alpha}$, we obtain $\\mathbf{w}$ according to the equation above, then it turns out that the optimal $b$ can be obtained as in\n",
    "the lecture notes."
   ]
  },
  {
   "cell_type": "markdown",
   "metadata": {},
   "source": [
    "### QP solution to dual problem\n",
    "\n",
    "We need to negate our objective function to turn the max (SVM formulation) into a min (QP formalation).\n",
    "\n",
    "For the second term of $W(\\mathbf{\\alpha})$, first let $\\mathtt{K}$ be the kernel matrix with $\\mathtt{K}_{ij} = \\left< \\mathbf{x}^{(i)}, \\mathbf{x}^{(j)} \\right>$. Then $\\mathbf{\\alpha}^\\top \\text{diag}(\\mathbf{y}) \\mathtt{K} \\text{diag}(\\mathbf{y}) \\mathbf{\\alpha}$ gives us the summation in the second term ($\\text{diag}(\\mathbf{y})$ is just the square diagonal matrix with $\\mathbf{y}$ as its diagonal).\n",
    "\n",
    "The (negated) first term of $W(\\mathbf{\\alpha})$ can be written in QP form with $\\mathbf{c} = \\begin{bmatrix} -1 & -1 & \\ldots \\end{bmatrix}^\\top$.\n",
    "\n",
    "So that gives us our QP setup:\n",
    "$$ \\mathtt{Q} = \\text{diag}(\\mathbf{y}) \\mathtt{K} \\text{diag}(\\mathbf{y}) \\; \\; \\;\n",
    "   \\mathbf{c} = \\begin{bmatrix} -1 \\\\ -1 \\\\ \\vdots \\end{bmatrix} $$\n",
    "\n",
    "$$\\mathtt{A} = -\\mathtt{I}_{m\\times m} \\;\\;\\;\n",
    "  \\mathbf{b} = \\begin{bmatrix} 0 \\\\ 0 \\\\ \\vdots \\end{bmatrix} $$\n",
    "\n",
    "$$\\mathtt{E} = \\mathbf{y}^\\top \\;\\;\\;\n",
    "  \\mathbf{d} = \\begin{bmatrix} 0 \\end{bmatrix}. $$\n",
    "\n",
    "OK, now the code:"
   ]
  },
  {
   "cell_type": "code",
   "execution_count": 19,
   "metadata": {},
   "outputs": [],
   "source": [
    "m = X.shape[0];\n",
    "n = X.shape[1];\n",
    "\n",
    "# Transform data set so that each attribute has a\n",
    "# mean of 0 and a standard deviation of 1\n",
    "\n",
    "def preprocess(X):\n",
    "    means = X.mean(0);\n",
    "    scales = 1/np.std(X,0);\n",
    "    Xh = np.concatenate([X.T,np.ones([1,20])],0);\n",
    "    Tm = np.matrix(np.eye(3));\n",
    "    Tm[0:2,2:3] = -X.mean(0).T;\n",
    "    Ts = np.matrix(np.eye(3));\n",
    "    Ts[0:2,0:2] = np.diagflat(scales);\n",
    "    T = Ts*Tm;\n",
    "    XX = (T * Xh);\n",
    "    XX = XX[0:2,:].T;\n",
    "    return XX, T;\n",
    "\n",
    "# RBF/Gaussian kernel\n",
    "\n",
    "def gauss_kernel(X):\n",
    "    sigma = 0.2\n",
    "    m = X.shape[0];\n",
    "    K = np.matrix(np.zeros([m,m]));\n",
    "    for i in range(0,m):\n",
    "        for j in range(0,m):\n",
    "            K[i,j] = (X[i,:] - X[j,:]).reshape(1,-1) @ (X[i,:] - X[j,:]).reshape(-1,1)\n",
    "    K = np.exp(-K/(2*sigma*sigma))      \n",
    "    return K;\n",
    "\n",
    "def linear_kernel(X):\n",
    "    m = X.shape[0];\n",
    "    K = np.matrix(np.zeros([m,m]));\n",
    "    for i in range(0,m):\n",
    "        for j in range(0,m):\n",
    "            K[i,j] = (X[i,:].reshape(1,-1)@X[j,:].reshape(-1,1))\n",
    "    return K;"
   ]
  },
  {
   "cell_type": "markdown",
   "metadata": {},
   "source": [
    "## Exercise 3 (in lab): linearly separable data (15 points)\n",
    "\n",
    "Take the example data from Exercise 1. Verify that you can use the dual optmization to find the decision boundary for such \"easy\" cases. Show your results in your lab report."
   ]
  },
  {
   "cell_type": "markdown",
   "metadata": {},
   "source": [
    "### Exercise 3.1: Find Q, c, A, b, E, d for input into cvxopt_solve_qp function (10 points)\n",
    "\n",
    "Here you need to set up the QP variables appropriate to get the solution to the dual optimization problem. When we pass them to cvxopt, we should get $\\mathbf{\\alpha}^*$, the optimal Lagrangian parameters. We know from inspection which examples in the original data will be the support vectors with non-zero $\\alpha_i$'s."
   ]
  },
  {
   "cell_type": "code",
   "execution_count": 20,
   "metadata": {
    "deletable": false,
    "nbgrader": {
     "cell_type": "code",
     "checksum": "e797f1397a7fd7d750abe044ca6b8329",
     "grade": false,
     "grade_id": "cell-2601acb8866c12cb",
     "locked": false,
     "schema_version": 3,
     "solution": true,
     "task": false
    }
   },
   "outputs": [
    {
     "name": "stdout",
     "output_type": "stream",
     "text": [
      "     pcost       dcost       gap    pres   dres\n",
      " 0: -2.7646e+00 -4.9725e+00  5e+01  6e+00  2e+00\n",
      " 1: -6.4101e+00 -3.8299e+00  1e+01  2e+00  6e-01\n",
      " 2: -5.0055e+00 -1.2719e+00  7e+00  8e-01  2e-01\n",
      " 3: -5.1552e-02 -4.0648e-02  5e-01  3e-02  1e-02\n",
      " 4: -1.8200e-02 -3.5404e-02  2e-02  1e-17  2e-13\n",
      " 5: -3.0877e-02 -3.1392e-02  5e-04  8e-18  2e-13\n",
      " 6: -3.1245e-02 -3.1250e-02  5e-06  1e-17  3e-13\n",
      " 7: -3.1248e-02 -3.1249e-02  5e-08  8e-18  1e-13\n",
      "Optimal solution found.\n"
     ]
    }
   ],
   "source": [
    "Q = None\n",
    "c = None\n",
    "A = None\n",
    "B = None\n",
    "E = None\n",
    "d = None\n",
    "\n",
    "K = linear_kernel(X)\n",
    "# YOUR CODE HERE\n",
    "Q = np.multiply(y * y.T, K)\n",
    "c = -np.ones([m]);\n",
    "A = -np.eye(m);\n",
    "B = np.zeros([m]);\n",
    "E = y.T;\n",
    "d = np.zeros(1);\n",
    "alpha_star = cvxopt_solve_qp(Q, c, A, B, E, d)"
   ]
  },
  {
   "cell_type": "code",
   "execution_count": 21,
   "metadata": {
    "deletable": false,
    "editable": false,
    "nbgrader": {
     "cell_type": "code",
     "checksum": "b5c87a466ffa9414d8587cdce144e0d0",
     "grade": true,
     "grade_id": "cell-d38331f5aaf30b63",
     "locked": true,
     "points": 10,
     "schema_version": 3,
     "solution": false,
     "task": false
    }
   },
   "outputs": [
    {
     "name": "stdout",
     "output_type": "stream",
     "text": [
      "Q rank: 2\n",
      "Optimal alpha:\n",
      " [3.12484796e-02 1.13821985e-09 7.68004003e-10 6.22346942e-10\n",
      " 6.43114906e-10 8.93974185e-10 6.60695980e-10 4.31409827e-10\n",
      " 6.68557407e-10 1.19689394e-09 1.56332821e-02 1.56151999e-02\n",
      " 5.00606721e-10 6.71834910e-10 4.89168003e-10 4.93113729e-10\n",
      " 4.90935291e-10 4.85894510e-10 9.54348935e-10 4.42078646e-10]\n",
      "success!\n"
     ]
    }
   ],
   "source": [
    "print('Q rank: %d' % np.linalg.matrix_rank(Q))\n",
    "print(\"Optimal alpha:\\n\", alpha_star)\n",
    "\n",
    "# Test function: Do not remove\n",
    "assert Q.shape == (20, 20), 'Size of Q is incorrect'\n",
    "assert np.linalg.matrix_rank(Q) == 2, 'Q rank is incorrect'\n",
    "assert np.all((c == -1)), 'c value is incorrect'\n",
    "assert A.shape == (20,20), 'Size of A is incorrect'\n",
    "assert np.all((B == 0)), 'b value is incorrect'\n",
    "assert np.array_equal(np.round(E,1), np.round(y.T,1)), 'E value is incorrect'\n",
    "assert d.shape == (1,) or d.shape == 1 or d.shape == (1,1) , 'Size of d is incorrect'\n",
    "assert np.all((d == 0)), 'd value is incorrect'\n",
    "assert alpha_star.shape == (20,) or alpha_star.shape == 20 or alpha_star.shape == (20,1), 'Size of alpha_star is incorrect'\n",
    "\n",
    "print(\"success!\")\n",
    "# End Test function"
   ]
  },
  {
   "cell_type": "markdown",
   "metadata": {
    "deletable": false,
    "editable": false,
    "nbgrader": {
     "cell_type": "markdown",
     "checksum": "8b45baa38233acbb8dcc54432273d231",
     "grade": false,
     "grade_id": "cell-f29b7226479b7dcf",
     "locked": true,
     "schema_version": 3,
     "solution": false,
     "task": false
    }
   },
   "source": [
    "**Expected Result (or look a like):**\\\n",
    "Q rank: 2\\\n",
    "Optimal alpha:\\\n",
    " [3.12484796e-02 1.13821985e-09 7.68004003e-10 6.22346942e-10\\\n",
    " 6.43114906e-10 8.93974184e-10 6.60695980e-10 4.31409827e-10\\\n",
    " 6.68557407e-10 1.19689394e-09 1.56332821e-02 1.56151999e-02\\\n",
    " 5.00606721e-10 6.71834910e-10 4.89168003e-10 4.93113729e-10\\\n",
    " 4.90935291e-10 4.85894509e-10 9.54348935e-10 4.42078646e-10]"
   ]
  },
  {
   "cell_type": "markdown",
   "metadata": {
    "deletable": false,
    "editable": false,
    "nbgrader": {
     "cell_type": "markdown",
     "checksum": "cee1ddaf53d9fba3a69df20c4d480d81",
     "grade": false,
     "grade_id": "cell-b419f69d3dd7ff82",
     "locked": true,
     "schema_version": 3,
     "solution": false,
     "task": false
    }
   },
   "source": [
    "### Exercise 3.2: write get_wb function (5 points)\n",
    "\n",
    "Next, try to write the `get_wb()` function that, given the optimal $\\alpha_i$'s, returns\n",
    "the corresponding $\\mathbf{w}$ and $b$. If you get stuck, refer to the handout from lecture,\n",
    "but it will be better for you to try to figure it out for yourself."
   ]
  },
  {
   "cell_type": "code",
   "execution_count": 22,
   "metadata": {
    "deletable": false,
    "nbgrader": {
     "cell_type": "code",
     "checksum": "1d5fd5e4d15ce88d701d9717883c5a31",
     "grade": false,
     "grade_id": "cell-1323cda22d92c94d",
     "locked": false,
     "schema_version": 3,
     "solution": true,
     "task": false
    }
   },
   "outputs": [],
   "source": [
    "def get_wb(X, y, alpha, K):\n",
    "    # Find the support vectors\n",
    "    S = alpha > 1e-6\n",
    "    XS = None\n",
    "    yS = None\n",
    "    alphaS = None\n",
    "    alphaSyS = None\n",
    "    w = None\n",
    "    # Find b\n",
    "    KS = None\n",
    "    NS = None\n",
    "    b = None\n",
    "    # Normalize w,b\n",
    "    scalef = None\n",
    "    w = None\n",
    "    b = None\n",
    "    \n",
    "    # YOUR CODE HERE\n",
    "    # Find the support vectors\n",
    "    XS = X[S,:]\n",
    "    yS = y[S]\n",
    "    alphaS = alpha[S]\n",
    "    alphaSyS = np.tile(np.multiply(yS.T, alphaS).T, n)\n",
    "    w = sum(np.multiply(alphaSyS, XS)).T\n",
    "    # Find b\n",
    "    KS = K[S,:][:,S]\n",
    "    NS = yS.shape[0]\n",
    "    b = (np.sum(yS) - np.sum(np.multiply(alphaS,yS.T)*KS))/NS\n",
    "    # Normalize w,b\n",
    "    scalef = np.linalg.norm(w)\n",
    "    w = w / scalef\n",
    "    b = b / scalef\n",
    "    return w,b"
   ]
  },
  {
   "cell_type": "code",
   "execution_count": 23,
   "metadata": {
    "deletable": false,
    "editable": false,
    "nbgrader": {
     "cell_type": "code",
     "checksum": "6b8c9b50d01d58e4c32f7cd65f05f67f",
     "grade": true,
     "grade_id": "cell-37fb98710c508a69",
     "locked": true,
     "points": 5,
     "schema_version": 3,
     "solution": false,
     "task": false
    }
   },
   "outputs": [
    {
     "name": "stdout",
     "output_type": "stream",
     "text": [
      "Optimal w: [0.640062,0.768324] b: -153.309583\n"
     ]
    },
    {
     "data": {
      "image/png": "[encoded data removed]",
      "text/plain": [
       "<Figure size 432x288 with 1 Axes>"
      ]
     },
     "metadata": {
      "needs_background": "light"
     },
     "output_type": "display_data"
    },
    {
     "name": "stdout",
     "output_type": "stream",
     "text": [
      "success!\n"
     ]
    }
   ],
   "source": [
    "# Test function: Do not remove\n",
    "w,b = get_wb(X, y, alpha_star, K)\n",
    "\n",
    "print(\"Optimal w: [%f,%f] b: %f\" % (w[0],w[1],b))\n",
    "\n",
    "axes = plot_mf(Xf, Xm)\n",
    "plot_w(axes, w, b)\n",
    "plt.show()\n",
    "\n",
    "print(\"success!\")\n",
    "# End test function"
   ]
  },
  {
   "attachments": {
    "lab06-2.png": {
     "image/png": "[encoded data removed]"
    }
   },
   "cell_type": "markdown",
   "metadata": {
    "deletable": false,
    "editable": false,
    "nbgrader": {
     "cell_type": "markdown",
     "checksum": "de1c6c585c3a843c8adfe031982e3e6c",
     "grade": false,
     "grade_id": "cell-71293c160e5d5af2",
     "locked": true,
     "schema_version": 3,
     "solution": false,
     "task": false
    }
   },
   "source": [
    "**Expected Result (Or look-alike)**:\\\n",
    "Optimal w: [0.640062,0.768324] b: -153.309583\n",
    "\n",
    "![lab06-2.png](attachment:lab06-2.png)"
   ]
  },
  {
   "cell_type": "code",
   "execution_count": 24,
   "metadata": {
    "deletable": false,
    "editable": false,
    "nbgrader": {
     "cell_type": "code",
     "checksum": "3ecb51d4236ed41d5d614bb550eb7fc9",
     "grade": false,
     "grade_id": "cell-208510915b6513f2",
     "locked": true,
     "schema_version": 3,
     "solution": false,
     "task": false
    }
   },
   "outputs": [
    {
     "name": "stdout",
     "output_type": "stream",
     "text": [
      "1.0\n"
     ]
    }
   ],
   "source": [
    "y_pred = predict_linear(X,w,b)\n",
    "accuracy = np.sum(y_pred==y)/y.size\n",
    "print(accuracy)"
   ]
  },
  {
   "cell_type": "markdown",
   "metadata": {
    "deletable": false,
    "editable": false,
    "nbgrader": {
     "cell_type": "markdown",
     "checksum": "8d42c4d778225bddf95209af989f8c68",
     "grade": false,
     "grade_id": "cell-230105cf02c2f813",
     "locked": true,
     "schema_version": 3,
     "solution": false,
     "task": false
    }
   },
   "source": [
    "### Exercise 4.1 (in lab): non-separable data, linear kernel (15 points)\n",
    "\n",
    "Again, take the example of the annulus from the logistic regression lab. Verify that the dual optimization with the linear kernel still cannot find a decision boundary for this case. Show your results in your lab report.\n",
    "As before, you'll want to set up $\\mathtt{Q}$, $\\mathbf{c}$, $\\mathtt{A}$, $\\mathtt{B}$, $\\mathtt{E}$, and $\\mathbf{d}$ appropriately but now for the dual optimization problem."
   ]
  },
  {
   "cell_type": "code",
   "execution_count": 25,
   "metadata": {
    "deletable": false,
    "nbgrader": {
     "cell_type": "code",
     "checksum": "355f98d5e2897cc3b22dbb4c0b99bbaa",
     "grade": false,
     "grade_id": "cell-d2542c8e66fcc8b8",
     "locked": false,
     "schema_version": 3,
     "solution": true,
     "task": false
    }
   },
   "outputs": [
    {
     "name": "stdout",
     "output_type": "stream",
     "text": [
      "(200, 2)\n"
     ]
    }
   ],
   "source": [
    "(m, n) = X_annulus.shape\n",
    "print(X_annulus.shape)\n",
    "K_annulus = linear_kernel(X_annulus);\n",
    "\n",
    "Q_annulus = None\n",
    "c = None\n",
    "A = None\n",
    "B = None\n",
    "E = None\n",
    "d = None\n",
    "\n",
    "#YOUR CODE HERE\n",
    "Q_annulus = np.multiply(y_annulus * y_annulus.T, K_annulus)\n",
    "c = -np.ones([m])\n",
    "A = -np.eye(m)\n",
    "B = np.zeros([m])\n",
    "E = y_annulus.T\n",
    "d = np.zeros(1)"
   ]
  },
  {
   "cell_type": "code",
   "execution_count": 26,
   "metadata": {
    "deletable": false,
    "editable": false,
    "nbgrader": {
     "cell_type": "code",
     "checksum": "71a5d905e8da1a2b3677387b591388c3",
     "grade": true,
     "grade_id": "cell-0701239f81d55f9b",
     "locked": true,
     "points": 10,
     "schema_version": 3,
     "solution": false,
     "task": false
    }
   },
   "outputs": [
    {
     "name": "stdout",
     "output_type": "stream",
     "text": [
      "     pcost       dcost       gap    pres   dres\n",
      " 0: -1.9949e+02 -4.2142e+02  2e+02  2e-14  2e+00\n",
      " 1: -4.7051e+02 -4.7576e+02  5e+00  1e-13  1e+00\n",
      " 2: -4.2636e+04 -4.2640e+04  5e+00  6e-12  1e+00\n",
      " 3: -3.7427e+08 -3.7427e+08  7e+02  1e-07  1e+00\n",
      " 4: -1.1098e+09 -1.1098e+09  2e+03  2e-07  1e+00\n",
      "Terminated (singular KKT matrix).\n",
      "Optimal alpha: None\n",
      "success!\n"
     ]
    }
   ],
   "source": [
    "alpha_star_annulus = cvxopt_solve_qp(Q_annulus, c, A, B, E, d)\n",
    "\n",
    "print(\"Optimal alpha:\", alpha_star_annulus)\n",
    "# Test function: Do not remove\n",
    "assert alpha_star_annulus is None, \"alpha_star_annulus cannot be calculated.\"\n",
    "\n",
    "print(\"success!\")\n",
    "# End test function"
   ]
  },
  {
   "cell_type": "code",
   "execution_count": 27,
   "metadata": {
    "deletable": false,
    "editable": false,
    "nbgrader": {
     "cell_type": "code",
     "checksum": "973adee32d4a53d0a38c6f11ecb56b17",
     "grade": true,
     "grade_id": "cell-4946b0b751c99bc4",
     "locked": true,
     "points": 5,
     "schema_version": 3,
     "solution": false,
     "task": false
    }
   },
   "outputs": [
    {
     "name": "stdout",
     "output_type": "stream",
     "text": [
      "'>' not supported between instances of 'NoneType' and 'float'\n",
      "success!\n"
     ]
    }
   ],
   "source": [
    "get_error = False\n",
    "try:\n",
    "    w,b = get_wb(X_annulus, y_annulus, alpha_star_annulus, K_annulus)\n",
    "\n",
    "    output_str = \"Optimal w: [%f,%f] b: %f\" % (w[0],w[1],b)\n",
    "    plot_mf(Xf,Xm)\n",
    "    plot_w(w,b)\n",
    "    get_error = False\n",
    "except Exception as e:\n",
    "    output_str = str(e)\n",
    "    get_error = True\n",
    "    \n",
    "print(output_str)\n",
    "# Test function: Do not remove\n",
    "assert str(output_str) == 'domain error' or \"'NoneType' object is not subscriptable\" or get_error, 'Output incorrect'\n",
    "\n",
    "print(\"success!\")\n",
    "# End Test function"
   ]
  },
  {
   "cell_type": "markdown",
   "metadata": {},
   "source": [
    "**Expected Result**: Error due to `alpha_star` being `None`."
   ]
  },
  {
   "cell_type": "markdown",
   "metadata": {
    "deletable": false,
    "editable": false,
    "nbgrader": {
     "cell_type": "markdown",
     "checksum": "1b263b043a8ef9bd8305c4457754aa2c",
     "grade": false,
     "grade_id": "cell-4f2c3660925558f8",
     "locked": true,
     "schema_version": 3,
     "solution": false,
     "task": false
    }
   },
   "source": [
    "### Exercise 5.1 (in lab): \"easy\" non-separable data, Gaussian (RBF) kernel with non-overlapping data (10 points)\n",
    "\n",
    "Now we'll use the Gaussian (radial basis function) kernel instead of the linear kernel implemented in the code above and verify that we can correctly solve the easy non-separable data where a transformation to a feature space makes the data linearly separable. We already know that a simple polar transformation will give us linearly separable data, but it turns out we can achieve the same thing using the RBF kernel.\n",
    "\n",
    "By the way, you might think about which solution is better for our annulus problem: the explicit transformation or the RBF kernel. See how many support vectors we get before you decide."
   ]
  },
  {
   "cell_type": "code",
   "execution_count": 28,
   "metadata": {
    "deletable": false,
    "nbgrader": {
     "cell_type": "code",
     "checksum": "2c8d90ec2f3816231de26676970f5165",
     "grade": false,
     "grade_id": "cell-cf5d4590bf29c5da",
     "locked": false,
     "schema_version": 3,
     "solution": true,
     "task": false
    }
   },
   "outputs": [],
   "source": [
    "(m, n) = X_annulus.shape\n",
    "K_annulus = None\n",
    "Q_annulus = None\n",
    "c = None\n",
    "A = None\n",
    "B = None\n",
    "E = None\n",
    "d = None\n",
    "\n",
    "# YOUR CODE HERE\n",
    "K_annulus = gauss_kernel(X_annulus)\n",
    "Q_annulus = np.multiply(y_annulus * y_annulus.T, K_annulus)\n",
    "c = -np.ones([m])\n",
    "A = -np.eye(m)\n",
    "B = np.zeros([m])\n",
    "E = y_annulus.T\n",
    "d = np.zeros(1)"
   ]
  },
  {
   "cell_type": "code",
   "execution_count": 29,
   "metadata": {
    "deletable": false,
    "editable": false,
    "nbgrader": {
     "cell_type": "code",
     "checksum": "bc412a2c524847bcb7275d864a57e72c",
     "grade": true,
     "grade_id": "cell-4c3700a6cf49c105",
     "locked": true,
     "points": 10,
     "schema_version": 3,
     "solution": false,
     "task": false
    }
   },
   "outputs": [
    {
     "name": "stdout",
     "output_type": "stream",
     "text": [
      "     pcost       dcost       gap    pres   dres\n",
      " 0: -4.9149e+01 -1.3803e+02  9e+01  8e-15  2e+00\n",
      " 1: -5.6183e+01 -6.4770e+01  9e+00  2e-14  3e-01\n",
      " 2: -5.8946e+01 -6.0864e+01  2e+00  5e-15  4e-02\n",
      " 3: -5.9103e+01 -5.9303e+01  2e-01  1e-14  3e-03\n",
      " 4: -5.9127e+01 -5.9144e+01  2e-02  3e-14  2e-04\n",
      " 5: -5.9129e+01 -5.9130e+01  5e-04  3e-14  5e-06\n",
      " 6: -5.9129e+01 -5.9129e+01  4e-05  2e-14  3e-07\n",
      " 7: -5.9129e+01 -5.9129e+01  6e-07  3e-14  3e-09\n",
      "Optimal solution found.\n",
      "Q rank: 200\n",
      "Optimal alpha:\n",
      "[7.67181173e-01 1.39562473e-07 2.90850719e-02 7.93375267e-01\n",
      " 4.32442026e-01]\n",
      "success!\n"
     ]
    }
   ],
   "source": [
    "alpha_star_annulus = cvxopt_solve_qp(Q_annulus, c, A, B, E, d)\n",
    "\n",
    "print('Q rank: %d' % np.linalg.matrix_rank(Q_annulus))\n",
    "print(\"Optimal alpha:\")\n",
    "print(alpha_star_annulus[:5])\n",
    "\n",
    "# Test function: Do not remove\n",
    "assert np.linalg.matrix_rank(Q_annulus) > 2, \"Q rank is incorrect\"\n",
    "assert alpha_star_annulus is not None, \"alpha_star_annulus cannot be calculated.\"\n",
    "\n",
    "print(\"success!\")\n",
    "# End test function"
   ]
  },
  {
   "cell_type": "markdown",
   "metadata": {
    "deletable": false,
    "editable": false,
    "nbgrader": {
     "cell_type": "markdown",
     "checksum": "0134c63f28a18c618c3cbc398644f97d",
     "grade": false,
     "grade_id": "cell-e63752ddd52ecef2",
     "locked": true,
     "schema_version": 3,
     "solution": false,
     "task": false
    }
   },
   "source": [
    "**Expected result (or look-alike)**:\\\n",
    "     pcost       dcost       gap    pres   dres\\\n",
    " 0: -5.0795e+01 -1.3928e+02  9e+01  1e-15  2e+00\\\n",
    " 1: -5.9073e+01 -6.6466e+01  7e+00  2e-14  3e-01\\\n",
    " 2: -6.2076e+01 -6.3563e+01  1e+00  1e-14  4e-02\\\n",
    " 3: -6.2184e+01 -6.2423e+01  2e-01  8e-15  5e-03\\\n",
    " 4: -6.2205e+01 -6.2232e+01  3e-02  3e-14  5e-04\\\n",
    " 5: -6.2209e+01 -6.2209e+01  7e-04  4e-14  6e-06\\\n",
    " 6: -6.2209e+01 -6.2209e+01  1e-05  1e-14  7e-08\\\n",
    "Optimal solution found.\\\n",
    "Q rank: 200\\\n",
    "Optimal alpha:\\\n",
    "[5.77224260e-01 1.31648362e+00 1.17475881e+00 4.38419640e-01 8.16578932e-07]"
   ]
  },
  {
   "cell_type": "markdown",
   "metadata": {
    "deletable": false,
    "editable": false,
    "nbgrader": {
     "cell_type": "markdown",
     "checksum": "e496990226d5811976e111ec4c4faf5d",
     "grade": false,
     "grade_id": "cell-237476f85c279987",
     "locked": true,
     "schema_version": 3,
     "solution": false,
     "task": false
    }
   },
   "source": [
    "With the nonlinear kernel, we no longer have a $\\mathbf{w}$ and $b$ in the input space. First,\n",
    "let's revise our prediction method using just support vectors, their $\\alpha_i$'s, and their\n",
    "labels:"
   ]
  },
  {
   "cell_type": "code",
   "execution_count": 31,
   "metadata": {},
   "outputs": [
    {
     "data": {
      "text/plain": [
       "1.0"
      ]
     },
     "execution_count": 31,
     "metadata": {},
     "output_type": "execute_result"
    }
   ],
   "source": [
    "def predict(x, X, y, alpha):\n",
    "    s = []\n",
    "    sigma = 0.2\n",
    "    for j in range(x.shape[0]):\n",
    "        ss = 0\n",
    "        for i in range(X.shape[0]):\n",
    "            ss += alpha[i]*y[i]*np.exp((-(X[i]-x[j])@(X[i]-x[j]))/(2*sigma*sigma))\n",
    "        s.append(ss)\n",
    "    s = np.array(s)\n",
    "    s[s >= 0] = 1\n",
    "    s[s < 0] = -1\n",
    "    return s\n",
    "    \n",
    "y_pred = predict(X_annulus, X_annulus, y_annulus, alpha_star_annulus)\n",
    "np.sum(y_annulus == y_pred)/y_annulus.size"
   ]
  },
  {
   "cell_type": "markdown",
   "metadata": {},
   "source": [
    "Another problem is graphing the decision boundary. Since the decision boundary is in feature space, which is infinite dimensional in the case of the RBF kernel, we can't exactly graph it! Instead, consider the 2-dimensional input space, let's obtain the prediction of the model at each point in a regular grid over the space, then let's plot the resulting mesh on top of the data."
   ]
  },
  {
   "cell_type": "code",
   "execution_count": 32,
   "metadata": {},
   "outputs": [
    {
     "name": "stderr",
     "output_type": "stream",
     "text": [
      "/tmp/ipykernel_4690/1978198863.py:18: MatplotlibDeprecationWarning: Auto-removal of grids by pcolor() and pcolormesh() is deprecated since 3.5 and will be removed two minor releases later; please call grid(False) first.\n",
      "  ax.pcolormesh(x_mesh, y_mesh, y_pred, cmap='viridis', shading='auto', alpha=0.1)\n"
     ]
    },
    {
     "data": {
      "image/png": "[encoded data removed]",
      "text/plain": [
       "<Figure size 576x576 with 1 Axes>"
      ]
     },
     "metadata": {
      "needs_background": "light"
     },
     "output_type": "display_data"
    }
   ],
   "source": [
    "x_series = np.linspace(-15, 15, 100)\n",
    "y_series = np.linspace(-15, 15, 100)\n",
    "\n",
    "x_mesh, y_mesh = np.meshgrid(x_series, y_series)\n",
    "\n",
    "x_mesh = x_mesh.reshape(-1, 1)\n",
    "y_mesh = y_mesh.reshape(-1, 1)\n",
    "\n",
    "mesh = np.append(x_mesh, y_mesh, axis=1)\n",
    "y_pred = predict(mesh, X_annulus, y_annulus, alpha_star_annulus)\n",
    "\n",
    "x_mesh = x_mesh.reshape(100, 100)\n",
    "y_mesh = y_mesh.reshape(100, 100)\n",
    "y_pred = y_pred.reshape(100, 100)\n",
    "\n",
    "fig1 = plt.figure(figsize=(8,8))\n",
    "ax = plot_annulus(X1, X2)\n",
    "ax.pcolormesh(x_mesh, y_mesh, y_pred, cmap='viridis', shading='auto', alpha=0.1)\n",
    "plt.show()"
   ]
  },
  {
   "attachments": {
    "lab06-3.png": {
     "image/png": "[encoded data removed]"
    }
   },
   "cell_type": "markdown",
   "metadata": {
    "deletable": false,
    "editable": false,
    "nbgrader": {
     "cell_type": "markdown",
     "checksum": "836b2b1b0c0bb2628f09d5573738e9cc",
     "grade": false,
     "grade_id": "cell-41f023f34ac9ef6f",
     "locked": true,
     "schema_version": 3,
     "solution": false,
     "task": false
    }
   },
   "source": [
    "**Expected Result**:\n",
    "\n",
    "![lab06-3.png](attachment:lab06-3.png)"
   ]
  },
  {
   "cell_type": "markdown",
   "metadata": {
    "deletable": false,
    "editable": false,
    "nbgrader": {
     "cell_type": "markdown",
     "checksum": "79ed6521678fba67bac72462e35a6388",
     "grade": false,
     "grade_id": "cell-873518651396f614",
     "locked": true,
     "points": 30,
     "schema_version": 3,
     "solution": false,
     "task": true
    }
   },
   "source": [
    "## Exercise 6 (take home): more difficult non-separable data\n",
    "\n",
    "Now find or generate a dataset in which the decision boundary is nonlinear AND the data overlap along that nonlinear boundary. Show that the result."
   ]
  },
  {
   "cell_type": "markdown",
   "metadata": {},
   "source": [
    "### Answer\n",
    "\n",
    "- **The implementation of the class SVMModel used for this exercise was obtained from the SVM.ipynb notebook provided with the lab class 07 materials**"
   ]
  },
  {
   "cell_type": "code",
   "execution_count": 5,
   "metadata": {},
   "outputs": [],
   "source": [
    "from sklearn.model_selection import train_test_split\n",
    "from numpy import linalg\n",
    "import pylab as pl"
   ]
  },
  {
   "cell_type": "code",
   "execution_count": 6,
   "metadata": {},
   "outputs": [],
   "source": [
    "class SVMModel:\n",
    "    \n",
    "    def linear_kernel(self,x1, x2):\n",
    "        return np.dot(x1, x2)\n",
    "\n",
    "    def polynomial_kernel(self,x, y, p=2):\n",
    "        return (1 + np.dot(x, y)) ** p\n",
    "\n",
    "    def gaussian_kernel(self,x, y, sigma=100):\n",
    "        return np.exp(-linalg.norm(x-y)**2 / (2 * (sigma ** 2)))\n",
    "\n",
    "    def fit(self, X, y, kernel, C):\n",
    "        n_samples, n_features = X.shape\n",
    "\n",
    "        # Gram matrix\n",
    "        # initialize kernel matrix    \n",
    "        K = np.zeros((n_samples, n_samples))\n",
    "        # Kernel matrix\n",
    "\n",
    "        for i in range(n_samples):\n",
    "            for j in range(n_samples):\n",
    "                if kernel == 'linear_kernel':\n",
    "                    K[i,j] = self.linear_kernel(X[i], X[j])\n",
    "                elif kernel == 'polynomial_kernel':\n",
    "                    K[i,j] = self.polynomial_kernel(X[i], X[j])\n",
    "                else:\n",
    "                    K[i,j] = self.gaussian_kernel(X[i], X[j])\n",
    "\n",
    "\n",
    "        P = cvxopt.matrix(np.outer(y,y) * K)\n",
    "        q = cvxopt.matrix(np.ones(n_samples) * -1)\n",
    "        A = cvxopt.matrix(y, (1,n_samples))\n",
    "        A = cvxopt.matrix(A, (1, n_samples), 'd')\n",
    "        #A = -np.eye(n_samples)\n",
    "        #print(A)\n",
    "        b = cvxopt.matrix(0.0)\n",
    "\n",
    "        if C is None:\n",
    "            G = cvxopt.matrix(np.diag(np.ones(n_samples) * -1))\n",
    "            h = cvxopt.matrix(np.zeros(n_samples))\n",
    "        else:\n",
    "            tmp1 = np.diag(np.ones(n_samples) * -1)\n",
    "            tmp2 = np.identity(n_samples)\n",
    "            G = cvxopt.matrix(np.vstack((tmp1, tmp2)))\n",
    "            tmp1 = np.zeros(n_samples)\n",
    "            tmp2 = np.ones(n_samples) * C\n",
    "            h = cvxopt.matrix(np.hstack((tmp1, tmp2)))\n",
    "\n",
    "        # solve QP problem\n",
    "        solution = cvxopt.solvers.qp(P, q, G, h, A, b)\n",
    "\n",
    "        # Lagrange multipliers\n",
    "        a = np.ravel(solution['x'])\n",
    "\n",
    "        # Support vectors have non zero lagrange multipliers\n",
    "        sv_idx = a > 1e-5\n",
    "        ind = np.arange(len(a))[sv_idx]\n",
    "        a = a[sv_idx]    \n",
    "        sv = X[sv_idx]\n",
    "        sv_y = y[sv_idx]\n",
    "        print(\"%d support vectors out of %d points\" % (len(a), n_samples))\n",
    "\n",
    "        # Intercept\n",
    "        b = 0\n",
    "        for n in range(len(a)):\n",
    "            b += sv_y[n]\n",
    "            b -= np.sum(a * sv_y * K[ind[n],sv_idx])\n",
    "        b /= len(a)\n",
    "\n",
    "        # Weight vector\n",
    "        if kernel == 'linear_kernel':\n",
    "            w = np.zeros(n_features)\n",
    "            for n in range(len(a)):\n",
    "                w += a[n] * sv_y[n] * sv[n]\n",
    "        else:\n",
    "            w = None\n",
    "        return sv, sv_y, a, w, b\n",
    "\n",
    "    def project(self,X, kernel,sv, sv_y, a, w, b):\n",
    "        if w is not None:\n",
    "            return np.dot(X, w) + b\n",
    "        else:\n",
    "            y_predict = np.zeros(len(X))\n",
    "            for i in range(len(X)):\n",
    "                s = 0\n",
    "                for a_val, sv_y_val, sv_val in zip(a, sv_y, sv):\n",
    "                    if kernel == 'polynomial_kernel':\n",
    "                        s += a_val * sv_y_val * self.polynomial_kernel(X[i], sv_val)\n",
    "                    else:\n",
    "                        s += a_val * sv_y_val * self.gaussian_kernel(X[i], sv_val)\n",
    "                y_predict[i] = s\n",
    "            return y_predict + b\n",
    "\n",
    "    def predict(self,X, kernel, sv, sv_y, a, w, b):\n",
    "        return np.sign(self.project(X, kernel,sv, sv_y, a, w, b))\n",
    "    \n",
    "    def plot_contour(self,X1_train, X2_train, kernel, sv, sv_y, a, w, b):\n",
    "        pl.plot(X1_train[:,0], X1_train[:,1], \"ro\")\n",
    "        pl.plot(X2_train[:,0], X2_train[:,1], \"bo\")\n",
    "        pl.scatter(sv[:,0], sv[:,1], s=100, c=\"g\")\n",
    "        # here we choose the range between -7 and 7 as we have choosen\n",
    "        # the mean to be between -4 and 4 while generating data with the variance of 0.8\n",
    "        X1, X2 = np.meshgrid(np.linspace(-7,7,50), np.linspace(-7,7,50))\n",
    "        X = np.array([[x1, x2] for x1, x2 in zip(np.ravel(X1), np.ravel(X2))])\n",
    "        Z = self.project(X, kernel,sv, sv_y, a, w, b).reshape(X1.shape)\n",
    "        pl.contour(X1, X2, Z, [0.0], colors='k', linewidths=1, origin='lower')\n",
    "        pl.contour(X1, X2, Z + 1, [0.0], colors='grey', linewidths=1, origin='lower')\n",
    "        pl.contour(X1, X2, Z - 1, [0.0], colors='grey', linewidths=1, origin='lower')\n",
    "\n",
    "        pl.axis(\"tight\")\n",
    "        pl.show()"
   ]
  },
  {
   "cell_type": "markdown",
   "metadata": {},
   "source": [
    "#### Generating a nonlinear AND overlapping dataset"
   ]
  },
  {
   "cell_type": "code",
   "execution_count": 7,
   "metadata": {},
   "outputs": [],
   "source": [
    "mean1 = [-1, 2]\n",
    "mean2 = [1, -1]\n",
    "mean3 = [-3.5, 4]\n",
    "cov1 = [[1.0,-0.8], [-0.8, 1.0]]\n",
    "cov2 = [[1.0,0.8], [0.8, 1.0]]\n",
    "X1 = np.random.multivariate_normal(mean1, cov1, 100)\n",
    "y1 = np.ones(len(X1))\n",
    "X2 = np.random.multivariate_normal(mean2, cov2, 50)\n",
    "X2 = np.vstack((X2, np.random.multivariate_normal(mean3, cov2, 50)))\n",
    "y2 = np.ones(len(X2)) * -1\n",
    "\n",
    "X = np.concatenate([X1, X2],axis = 0)\n",
    "y = np.concatenate([y1, y2],axis = 0)"
   ]
  },
  {
   "cell_type": "markdown",
   "metadata": {},
   "source": [
    "#### Distribution of the data"
   ]
  },
  {
   "cell_type": "code",
   "execution_count": 8,
   "metadata": {},
   "outputs": [
    {
     "data": {
      "text/plain": [
       "Text(0.5, 1.0, 'Data Distribution')"
      ]
     },
     "execution_count": 8,
     "metadata": {},
     "output_type": "execute_result"
    },
    {
     "data": {
      "image/png": "[encoded data removed]",
      "text/plain": [
       "<Figure size 576x576 with 1 Axes>"
      ]
     },
     "metadata": {
      "needs_background": "light"
     },
     "output_type": "display_data"
    }
   ],
   "source": [
    "plt.figure(figsize=(8, 8))\n",
    "plt.plot(X1[:,0], X1[:,1], 'ro', label='Class 0')\n",
    "plt.plot(X2[:,0], X2[:,1], 'bo', label='Class 1')\n",
    "plt.legend()\n",
    "plt.title('Data Distribution')"
   ]
  },
  {
   "cell_type": "markdown",
   "metadata": {},
   "source": [
    "#### Train, Test Split"
   ]
  },
  {
   "cell_type": "code",
   "execution_count": 9,
   "metadata": {},
   "outputs": [],
   "source": [
    "X_train, X_test, y_train, y_test = train_test_split(X, y, test_size=0.3, random_state=1234)"
   ]
  },
  {
   "cell_type": "markdown",
   "metadata": {},
   "source": [
    "#### Distribution of the data in Test set and Training set"
   ]
  },
  {
   "cell_type": "code",
   "execution_count": 10,
   "metadata": {},
   "outputs": [
    {
     "data": {
      "image/png": "[encoded data removed]",
      "text/plain": [
       "<Figure size 576x576 with 1 Axes>"
      ]
     },
     "metadata": {
      "needs_background": "light"
     },
     "output_type": "display_data"
    },
    {
     "data": {
      "image/png": "[encoded data removed]",
      "text/plain": [
       "<Figure size 576x576 with 1 Axes>"
      ]
     },
     "metadata": {
      "needs_background": "light"
     },
     "output_type": "display_data"
    }
   ],
   "source": [
    "X_train1 = X_train[y_train==-1]\n",
    "X_train2 = X_train[y_train==1]\n",
    "\n",
    "plt.figure(figsize=(8, 8))\n",
    "plt.plot(X_train1[:,0], X_train1[:,1], 'ro', label='Class 0')\n",
    "plt.plot(X_train2[:,0], X_train2[:,1], 'bo', label='Class 1')\n",
    "plt.legend()\n",
    "plt.title('Training data Distribution')\n",
    "plt.show()\n",
    "\n",
    "X_test1 = X_test[y_test==-1]\n",
    "X_test2 = X_test[y_test==1]\n",
    "\n",
    "plt.figure(figsize=(8, 8))\n",
    "plt.plot(X_test1[:,0], X_test1[:,1], 'ro', label='Class 0')\n",
    "plt.plot(X_test2[:,0], X_test2[:,1], 'bo', label='Class 1')\n",
    "plt.legend()\n",
    "plt.title('Test data Distribution')\n",
    "plt.show()"
   ]
  },
  {
   "cell_type": "markdown",
   "metadata": {},
   "source": [
    "#### Applying Linear Kernel"
   ]
  },
  {
   "cell_type": "code",
   "execution_count": 11,
   "metadata": {},
   "outputs": [
    {
     "name": "stdout",
     "output_type": "stream",
     "text": [
      "     pcost       dcost       gap    pres   dres\n",
      " 0: -6.8970e+03 -3.0469e+05  3e+05  2e-13  2e-12\n",
      " 1: -7.2559e+03 -1.6797e+04  1e+04  7e-15  1e-12\n",
      " 2: -1.2126e+04 -1.4352e+04  2e+03  3e-13  3e-12\n",
      " 3: -1.2514e+04 -1.3380e+04  9e+02  5e-13  2e-12\n",
      " 4: -1.2719e+04 -1.3034e+04  3e+02  2e-13  2e-12\n",
      " 5: -1.2822e+04 -1.2909e+04  9e+01  3e-13  2e-12\n",
      " 6: -1.2860e+04 -1.2866e+04  6e+00  1e-13  2e-12\n",
      " 7: -1.2862e+04 -1.2863e+04  4e-01  1e-13  2e-12\n",
      " 8: -1.2862e+04 -1.2862e+04  2e-02  2e-13  2e-12\n",
      " 9: -1.2862e+04 -1.2862e+04  2e-04  3e-13  2e-12\n",
      "Optimal solution found.\n",
      "135 support vectors out of 140 points\n"
     ]
    },
    {
     "data": {
      "image/png": "[encoded data removed]",
      "text/plain": [
       "<Figure size 576x576 with 1 Axes>"
      ]
     },
     "metadata": {
      "needs_background": "light"
     },
     "output_type": "display_data"
    },
    {
     "name": "stdout",
     "output_type": "stream",
     "text": [
      "SVM accuracy - linear_kernel:  0.7666666666666667\n"
     ]
    }
   ],
   "source": [
    "SVM_l = SVMModel()\n",
    "\n",
    "kernel = 'linear_kernel'\n",
    "C = 100.1\n",
    "sv, sv_y, a, w, b = SVM_l.fit(X_train,y_train,kernel=kernel,C=C)\n",
    "\n",
    "X_train1 = X_train[y_train==-1]\n",
    "X_train2 = X_train[y_train==1]\n",
    "plt.figure(figsize=(8,8))\n",
    "SVM_l.plot_contour(X_train1, X_train2, kernel, sv, sv_y, a, w, b)\n",
    "\n",
    "y_pred = SVM_l.predict(X_test,kernel,sv,sv_y,a,w,b).astype(int)\n",
    "accuracy_l = np.sum(y_test == y_pred)/y_test.size\n",
    "print(\"SVM accuracy - linear_kernel: \", accuracy_l)"
   ]
  },
  {
   "cell_type": "code",
   "execution_count": 13,
   "metadata": {},
   "outputs": [
    {
     "data": {
      "text/plain": [
       "(140,)"
      ]
     },
     "execution_count": 13,
     "metadata": {},
     "output_type": "execute_result"
    }
   ],
   "source": [
    "y_train.shape"
   ]
  },
  {
   "cell_type": "markdown",
   "metadata": {},
   "source": [
    "#### Applying Polynomial Kernel"
   ]
  },
  {
   "cell_type": "code",
   "execution_count": 125,
   "metadata": {},
   "outputs": [
    {
     "name": "stdout",
     "output_type": "stream",
     "text": [
      "     pcost       dcost       gap    pres   dres\n",
      " 0: -7.1832e+02 -8.3354e+05  2e+06  7e-01  3e-11\n",
      " 1:  7.8667e+02 -2.8721e+05  5e+05  1e-01  3e-11\n",
      " 2:  1.7084e+03 -1.1302e+05  2e+05  3e-02  2e-11\n",
      " 3:  9.6803e+02 -4.8150e+04  6e+04  9e-03  2e-11\n",
      " 4: -5.1130e+01 -1.4586e+04  2e+04  2e-03  2e-11\n",
      " 5: -6.1577e+02 -8.8205e+03  8e+03  5e-04  2e-11\n",
      " 6: -9.3284e+02 -2.9500e+03  2e+03  1e-04  2e-11\n",
      " 7: -1.1242e+03 -2.8645e+03  2e+03  8e-05  3e-11\n",
      " 8: -1.2466e+03 -2.4535e+03  1e+03  4e-05  2e-11\n",
      " 9: -1.3244e+03 -2.1251e+03  8e+02  2e-05  3e-11\n",
      "10: -1.3424e+03 -1.8377e+03  5e+02  2e-06  3e-11\n",
      "11: -1.4170e+03 -1.7343e+03  3e+02  1e-06  2e-11\n",
      "12: -1.4824e+03 -1.6121e+03  1e+02  3e-07  2e-11\n",
      "13: -1.4878e+03 -1.5875e+03  1e+02  1e-07  3e-11\n",
      "14: -1.5121e+03 -1.5499e+03  4e+01  1e-13  4e-11\n",
      "15: -1.5248e+03 -1.5323e+03  7e+00  9e-14  3e-11\n",
      "16: -1.5282e+03 -1.5283e+03  9e-02  4e-14  4e-11\n",
      "17: -1.5282e+03 -1.5282e+03  9e-04  1e-13  3e-11\n",
      "Optimal solution found.\n",
      "21 support vectors out of 140 points\n"
     ]
    },
    {
     "data": {
      "image/png": "[encoded data removed]",
      "text/plain": [
       "<Figure size 576x576 with 1 Axes>"
      ]
     },
     "metadata": {
      "needs_background": "light"
     },
     "output_type": "display_data"
    },
    {
     "name": "stdout",
     "output_type": "stream",
     "text": [
      "SVM accuracy - polynomial_kernel:  0.9166666666666666\n"
     ]
    }
   ],
   "source": [
    "SVM_p = SVMModel()\n",
    "\n",
    "kernel = 'polynomial_kernel'\n",
    "C = 100.1\n",
    "sv, sv_y, a, w, b = SVM_p.fit(X_train,y_train,kernel=kernel,C=C)\n",
    "\n",
    "X_train1 = X_train[y_train==-1]\n",
    "X_train2 = X_train[y_train==1]\n",
    "plt.figure(figsize=(8,8))\n",
    "SVM_p.plot_contour(X_train1, X_train2, kernel, sv, sv_y, a, w, b)\n",
    "\n",
    "y_pred = SVM_p.predict(X_test,kernel,sv,sv_y,a,w,b).astype(int)\n",
    "accuracy_p = np.sum(y_test == y_pred)/y_test.size\n",
    "print(\"SVM accuracy - polynomial_kernel: \", accuracy_p)"
   ]
  },
  {
   "cell_type": "markdown",
   "metadata": {},
   "source": [
    "#### Applying Gaussian Kernel"
   ]
  },
  {
   "cell_type": "code",
   "execution_count": 126,
   "metadata": {},
   "outputs": [
    {
     "name": "stdout",
     "output_type": "stream",
     "text": [
      "     pcost       dcost       gap    pres   dres\n",
      " 0: -6.8020e+03 -5.3786e+04  5e+04  1e-13  2e-13\n",
      " 1: -8.3955e+03 -1.4527e+04  6e+03  8e-14  1e-13\n",
      " 2: -1.2336e+04 -1.3362e+04  1e+03  2e-13  2e-13\n",
      " 3: -1.2597e+04 -1.2999e+04  4e+02  4e-13  2e-13\n",
      " 4: -1.2701e+04 -1.2872e+04  2e+02  4e-14  2e-13\n",
      " 5: -1.2763e+04 -1.2796e+04  3e+01  4e-13  3e-13\n",
      " 6: -1.2777e+04 -1.2781e+04  4e+00  2e-13  2e-13\n",
      " 7: -1.2778e+04 -1.2779e+04  1e+00  6e-14  2e-13\n",
      " 8: -1.2779e+04 -1.2779e+04  3e-02  8e-13  3e-13\n",
      " 9: -1.2779e+04 -1.2779e+04  3e-04  5e-13  2e-13\n",
      "Optimal solution found.\n",
      "140 support vectors out of 140 points\n"
     ]
    },
    {
     "data": {
      "image/png": "[encoded data removed]",
      "text/plain": [
       "<Figure size 576x576 with 1 Axes>"
      ]
     },
     "metadata": {
      "needs_background": "light"
     },
     "output_type": "display_data"
    },
    {
     "name": "stdout",
     "output_type": "stream",
     "text": [
      "SVM accuracy - gaussian_kernel:  0.7\n"
     ]
    }
   ],
   "source": [
    "SVM_g = SVMModel()\n",
    "\n",
    "kernel = 'gaussian_kernel'\n",
    "C = 100.1\n",
    "sv, sv_y, a, w, b = SVM_g.fit(X_train,y_train,kernel=kernel,C=C)\n",
    "\n",
    "X_train1 = X_train[y_train==-1]\n",
    "X_train2 = X_train[y_train==1]\n",
    "plt.figure(figsize=(8,8))\n",
    "SVM_g.plot_contour(X_train1, X_train2, kernel, sv, sv_y, a, w, b)\n",
    "\n",
    "y_pred = SVM_g.predict(X_test,kernel,sv,sv_y,a,w,b).astype(int)\n",
    "accuracy_g = np.sum(y_test == y_pred)/y_test.size\n",
    "print(\"SVM accuracy - gaussian_kernel: \", accuracy_g)"
   ]
  },
  {
   "cell_type": "markdown",
   "metadata": {},
   "source": [
    "#### Comparison of Results\n",
    "\n",
    "| Kernel function  |  accuracy | \n",
    "| :----: | --- |\n",
    "| Linear | 0.67 | \n",
    "| Polynomial | 0.92 | \n",
    "| Gaussian | 0.7 | \n",
    "\n",
    "- For the experimental non-linear and overlapping dataset used in this exercise, for the above train-test split, I got the best accuracy SVM model when the Polynomial kernel was applied."
   ]
  },
  {
   "cell_type": "code",
   "execution_count": null,
   "metadata": {},
   "outputs": [],
   "source": []
  },
  {
   "cell_type": "code",
   "execution_count": null,
   "metadata": {},
   "outputs": [],
   "source": []
  }
 ],
 "metadata": {
  "kernelspec": {
   "display_name": "Python 3 (ipykernel)",
   "language": "python",
   "name": "python3"
  },
  "language_info": {
   "codemirror_mode": {
    "name": "ipython",
    "version": 3
   },
   "file_extension": ".py",
   "mimetype": "text/x-python",
   "name": "python",
   "nbconvert_exporter": "python",
   "pygments_lexer": "ipython3",
   "version": "3.9.12"
  }
 },
 "nbformat": 4,
 "nbformat_minor": 4
}

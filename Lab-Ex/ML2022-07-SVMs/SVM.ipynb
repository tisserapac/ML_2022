{
 "cells": [
  {
   "cell_type": "markdown",
   "metadata": {},
   "source": [
    "Before you turn this problem in, make sure everything runs as expected. First, **restart the kernel** (in the menubar, select Kernel$\\rightarrow$Restart) and then **run all cells** (in the menubar, select Cell$\\rightarrow$Run All).\n",
    "\n",
    "Make sure you fill in any place that says `YOUR CODE HERE` or \"YOUR ANSWER HERE\", as well as your name and collaborators below:"
   ]
  },
  {
   "cell_type": "code",
   "execution_count": 1,
   "metadata": {},
   "outputs": [],
   "source": [
    "NAME = \"\"\n",
    "ID = \"\""
   ]
  },
  {
   "cell_type": "markdown",
   "metadata": {},
   "source": [
    "---"
   ]
  },
  {
   "cell_type": "code",
   "execution_count": 2,
   "metadata": {},
   "outputs": [],
   "source": [
    "import numpy as np\n",
    "from numpy import linalg\n",
    "import cvxopt\n",
    "import cvxopt.solvers\n",
    "import pylab as pl\n",
    "import matplotlib.pyplot as plt"
   ]
  },
  {
   "cell_type": "code",
   "execution_count": 3,
   "metadata": {},
   "outputs": [],
   "source": [
    "class SVMModel:\n",
    "    \n",
    "    def linear_kernel(self,x1, x2):\n",
    "        return np.dot(x1, x2)\n",
    "\n",
    "    def polynomial_kernel(self,x, y, p=2):\n",
    "        return (1 + np.dot(x, y)) ** p\n",
    "\n",
    "    def gaussian_kernel(self,x, y, sigma=100):\n",
    "        return np.exp(-linalg.norm(x-y)**2 / (2 * (sigma ** 2)))\n",
    "\n",
    "    def fit(self, X, y, kernel, C):\n",
    "        n_samples, n_features = X.shape\n",
    "\n",
    "        # Gram matrix\n",
    "        # initialize kernel matrix    \n",
    "        K = np.zeros((n_samples, n_samples))\n",
    "        # Kernel matrix\n",
    "\n",
    "        for i in range(n_samples):\n",
    "            for j in range(n_samples):\n",
    "                if kernel == 'linear_kernel':\n",
    "                    K[i,j] = self.linear_kernel(X[i], X[j])\n",
    "                elif kernel == 'polynomial_kernel':\n",
    "                    K[i,j] = self.polynomial_kernel(X[i], X[j])\n",
    "                else:\n",
    "                    K[i,j] = self.gaussian_kernel(X[i], X[j])\n",
    "\n",
    "\n",
    "        P = cvxopt.matrix(np.outer(y,y) * K)\n",
    "        q = cvxopt.matrix(np.ones(n_samples) * -1)\n",
    "        A = cvxopt.matrix(y, (1,n_samples))\n",
    "        b = cvxopt.matrix(0.0)\n",
    "\n",
    "        if C is None:\n",
    "            G = cvxopt.matrix(np.diag(np.ones(n_samples) * -1))\n",
    "            h = cvxopt.matrix(np.zeros(n_samples))\n",
    "        else:\n",
    "            tmp1 = np.diag(np.ones(n_samples) * -1)\n",
    "            tmp2 = np.identity(n_samples)\n",
    "            G = cvxopt.matrix(np.vstack((tmp1, tmp2)))\n",
    "            tmp1 = np.zeros(n_samples)\n",
    "            tmp2 = np.ones(n_samples) * C\n",
    "            h = cvxopt.matrix(np.hstack((tmp1, tmp2)))\n",
    "\n",
    "        # solve QP problem\n",
    "        solution = cvxopt.solvers.qp(P, q, G, h, A, b)\n",
    "\n",
    "        # Lagrange multipliers\n",
    "        a = np.ravel(solution['x'])\n",
    "\n",
    "        # Support vectors have non zero lagrange multipliers\n",
    "        sv_idx = a > 1e-5\n",
    "        ind = np.arange(len(a))[sv_idx]\n",
    "        a = a[sv_idx]    \n",
    "        sv = X[sv_idx]\n",
    "        sv_y = y[sv_idx]\n",
    "        print(\"%d support vectors out of %d points\" % (len(a), n_samples))\n",
    "\n",
    "        # Intercept\n",
    "        b = 0\n",
    "        for n in range(len(a)):\n",
    "            b += sv_y[n]\n",
    "            b -= np.sum(a * sv_y * K[ind[n],sv_idx])\n",
    "        b /= len(a)\n",
    "\n",
    "        # Weight vector\n",
    "        if kernel == 'linear_kernel':\n",
    "            w = np.zeros(n_features)\n",
    "            for n in range(len(a)):\n",
    "                w += a[n] * sv_y[n] * sv[n]\n",
    "        else:\n",
    "            w = None\n",
    "        return sv, sv_y, a, w, b\n",
    "\n",
    "    def project(self,X, kernel,sv, sv_y, a, w, b):\n",
    "        if w is not None:\n",
    "            return np.dot(X, w) + b\n",
    "        else:\n",
    "            y_predict = np.zeros(len(X))\n",
    "            for i in range(len(X)):\n",
    "                s = 0\n",
    "                for a_val, sv_y_val, sv_val in zip(a, sv_y, sv):\n",
    "                    if kernel == 'polynomial_kernel':\n",
    "                        s += a_val * sv_y_val * self.polynomial_kernel(X[i], sv_val)\n",
    "                    else:\n",
    "                        s += a_val * sv_y_val * self.gaussian_kernel(X[i], sv_val)\n",
    "                y_predict[i] = s\n",
    "            return y_predict + b\n",
    "\n",
    "    def predict(self,X, kernel, sv, sv_y, a, w, b):\n",
    "        return np.sign(self.project(X, kernel,sv, sv_y, a, w, b))\n",
    "    \n",
    "    def plot_contour(self,X1_train, X2_train, kernel, sv, sv_y, a, w, b):\n",
    "        pl.plot(X1_train[:,0], X1_train[:,1], \"ro\")\n",
    "        pl.plot(X2_train[:,0], X2_train[:,1], \"bo\")\n",
    "        pl.scatter(sv[:,0], sv[:,1], s=100, c=\"g\")\n",
    "        # here we choose the range between -7 and 7 as we have choosen\n",
    "        # the mean to be between -4 and 4 while generating data with the variance of 0.8\n",
    "        X1, X2 = np.meshgrid(np.linspace(-7,7,50), np.linspace(-7,7,50))\n",
    "        X = np.array([[x1, x2] for x1, x2 in zip(np.ravel(X1), np.ravel(X2))])\n",
    "        Z = self.project(X, kernel,sv, sv_y, a, w, b).reshape(X1.shape)\n",
    "        pl.contour(X1, X2, Z, [0.0], colors='k', linewidths=1, origin='lower')\n",
    "        pl.contour(X1, X2, Z + 1, [0.0], colors='grey', linewidths=1, origin='lower')\n",
    "        pl.contour(X1, X2, Z - 1, [0.0], colors='grey', linewidths=1, origin='lower')\n",
    "\n",
    "        pl.axis(\"tight\")\n",
    "        pl.show()"
   ]
  },
  {
   "cell_type": "code",
   "execution_count": 4,
   "metadata": {},
   "outputs": [],
   "source": [
    "# Generate data for class 1\n",
    "\n",
    "mu_1 = np.array([1.0, 2.0])\n",
    "sigma_1 = 1\n",
    "num_sample = 100\n",
    "cov_mat = np.matrix([[sigma_1,0],[0,sigma_1]])\n",
    "X1 = np.random.multivariate_normal(mean= mu_1, cov=cov_mat, size = num_sample)\n",
    "#X1[0] = np.array([8,8])\n",
    "\n",
    "# Generate data for class 2\n",
    "\n",
    "angle = np.random.uniform(0, 2*np.pi, num_sample)\n",
    "d =  np.random.normal(np.square(3*sigma_1),np.square(.5*sigma_1),num_sample)\n",
    "X2 = np.array([X1[:,0] + d*np.cos(angle), X1[:,1] + d*np.sin(angle)]).T\n",
    "\n",
    "# Combine X1 and X2 into single dataset\n",
    "\n",
    "X = np.concatenate([X1, X2],axis = 0)\n",
    "y = np.append(-np.ones(num_sample),np.ones(num_sample))"
   ]
  },
  {
   "cell_type": "code",
   "execution_count": 5,
   "metadata": {},
   "outputs": [],
   "source": [
    "mean1 = np.array([0, 2])\n",
    "mean2 = np.array([2, 0])\n",
    "cov = np.array([[1.8, 1.6], [1.6, 1.8]])\n",
    "X1 = np.random.multivariate_normal(mean1, cov, 100)\n",
    "X2 = np.random.multivariate_normal(mean2, cov, 100)\n",
    "\n",
    "X = np.concatenate([X1, X2],axis = 0)\n",
    "y = np.append(-np.ones(len(X1)),np.ones(len(X2)))"
   ]
  },
  {
   "cell_type": "code",
   "execution_count": 6,
   "metadata": {},
   "outputs": [
    {
     "name": "stdout",
     "output_type": "stream",
     "text": [
      "     pcost       dcost       gap    pres   dres\n",
      " 0: -2.0550e+01 -4.5103e+01  7e+02  2e+01  2e+00\n",
      " 1: -3.3444e+01 -4.4153e+01  5e+02  1e+01  1e+00\n",
      " 2: -1.0714e+02 -1.0345e+02  4e+02  1e+01  9e-01\n",
      " 3: -2.9329e+02 -2.4822e+02  4e+02  9e+00  8e-01\n",
      " 4: -4.0137e+02 -2.9553e+02  5e+02  8e+00  7e-01\n",
      " 5: -2.3202e+02 -9.1744e+01  3e+02  3e+00  3e-01\n",
      " 6: -1.5813e+01 -2.3505e+01  3e+01  1e-01  1e-02\n",
      " 7: -1.7536e+01 -1.8680e+01  3e+00  1e-02  1e-03\n",
      " 8: -1.8296e+01 -1.8311e+01  4e-02  2e-04  1e-05\n",
      " 9: -1.8307e+01 -1.8307e+01  4e-04  2e-06  1e-07\n",
      "10: -1.8307e+01 -1.8307e+01  4e-06  2e-08  1e-09\n",
      "Optimal solution found.\n",
      "5 support vectors out of 200 points\n"
     ]
    }
   ],
   "source": [
    "SVM = SVMModel()\n",
    "\n",
    "kernel = 'polynomial_kernel'\n",
    "\n",
    "sv, sv_y, a, w, b = SVM.fit(X,y,kernel=kernel,C=None)"
   ]
  },
  {
   "cell_type": "code",
   "execution_count": 7,
   "metadata": {},
   "outputs": [],
   "source": [
    "#y_pred"
   ]
  },
  {
   "cell_type": "code",
   "execution_count": 8,
   "metadata": {},
   "outputs": [
    {
     "data": {
      "image/png": "[encoded data removed]",
      "text/plain": [
       "<Figure size 432x288 with 1 Axes>"
      ]
     },
     "metadata": {
      "needs_background": "light"
     },
     "output_type": "display_data"
    }
   ],
   "source": [
    "SVM.plot_contour(X1, X2, kernel, sv, sv_y, a, w, b)"
   ]
  },
  {
   "cell_type": "code",
   "execution_count": 9,
   "metadata": {},
   "outputs": [],
   "source": [
    "resolution = 200\n",
    "x_series = np.linspace(-15,15,resolution)\n",
    "y_series = np.linspace(-15,15,resolution)\n",
    "\n",
    "x_mesh,y_mesh = np.meshgrid(x_series,y_series)\n",
    "\n",
    "x_mesh = x_mesh.reshape(-1,1)\n",
    "y_mesh = y_mesh.reshape(-1,1)\n",
    "\n",
    "mesh = np.append(x_mesh,y_mesh,axis=1)\n",
    "y_pred = SVM.predict(mesh,kernel,sv,sv_y,a,w,b).astype(int)\n",
    "\n",
    "x_mesh = x_mesh.reshape(resolution,resolution)\n",
    "y_mesh = y_mesh.reshape(resolution,resolution)\n",
    "y_pred = y_pred.reshape(resolution,resolution)"
   ]
  },
  {
   "cell_type": "code",
   "execution_count": 10,
   "metadata": {},
   "outputs": [
    {
     "data": {
      "image/png": "[encoded data removed]",
      "text/plain": [
       "<Figure size 720x720 with 1 Axes>"
      ]
     },
     "metadata": {
      "needs_background": "light"
     },
     "output_type": "display_data"
    }
   ],
   "source": [
    "plt.figure(figsize=(10,10))\n",
    "plt.scatter(X1[:,0],X1[:,1])\n",
    "plt.scatter(X2[:,0],X2[:,1])\n",
    "plt.pcolormesh(x_mesh,y_mesh,y_pred,cmap='viridis',shading='auto',alpha=0.1)\n",
    "plt.grid(True)"
   ]
  },
  {
   "cell_type": "code",
   "execution_count": null,
   "metadata": {},
   "outputs": [],
   "source": []
  },
  {
   "cell_type": "code",
   "execution_count": null,
   "metadata": {},
   "outputs": [],
   "source": []
  }
 ],
 "metadata": {
  "kernelspec": {
   "display_name": "Python 3 (ipykernel)",
   "language": "python",
   "name": "python3"
  },
  "language_info": {
   "codemirror_mode": {
    "name": "ipython",
    "version": 3
   },
   "file_extension": ".py",
   "mimetype": "text/x-python",
   "name": "python",
   "nbconvert_exporter": "python",
   "pygments_lexer": "ipython3",
   "version": "3.9.12"
  }
 },
 "nbformat": 4,
 "nbformat_minor": 4
}

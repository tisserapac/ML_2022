{
 "cells": [
  {
   "cell_type": "markdown",
   "metadata": {},
   "source": [
    "Before you turn this problem in, make sure everything runs as expected. First, **restart the kernel** (in the menubar, select Kernel$\\rightarrow$Restart) and then **run all cells** (in the menubar, select Cell$\\rightarrow$Run All).\n",
    "\n",
    "Make sure you fill in any place that says `YOUR CODE HERE` or \"YOUR ANSWER HERE\", as well as your name and collaborators below:"
   ]
  },
  {
   "cell_type": "code",
   "execution_count": null,
   "metadata": {},
   "outputs": [],
   "source": [
    "NAME = \"\"\n",
    "ID = \"\""
   ]
  },
  {
   "cell_type": "markdown",
   "metadata": {},
   "source": [
    "---"
   ]
  },
  {
   "cell_type": "markdown",
   "metadata": {},
   "source": [
    "### SVM supplementary example"
   ]
  },
  {
   "cell_type": "markdown",
   "metadata": {},
   "source": [
    "In this example we will implement SVM classification using linear and Gaussian kernel.\n",
    "\n",
    "This example has been adapted from <a herf=\"https://pythonprogramming.net/soft-margin-kernel-cvxopt-svm-machine-learning-tutorial/\">pythonprogramming.net</a>"
   ]
  },
  {
   "cell_type": "code",
   "execution_count": 2,
   "metadata": {},
   "outputs": [
    {
     "name": "stdout",
     "output_type": "stream",
     "text": [
      "Collecting cvxopt\n",
      "  Downloading cvxopt-1.3.0-cp39-cp39-manylinux_2_17_x86_64.manylinux2014_x86_64.whl (12.7 MB)\n",
      "\u001b[K     |████████████████████████████████| 12.7 MB 9.2 MB/s eta 0:00:01    |██████████████████▍             | 7.3 MB 1.5 MB/s eta 0:00:04\n",
      "\u001b[?25hInstalling collected packages: cvxopt\n",
      "Successfully installed cvxopt-1.3.0\n"
     ]
    }
   ],
   "source": [
    "!pip install cvxopt"
   ]
  },
  {
   "cell_type": "code",
   "execution_count": 3,
   "metadata": {},
   "outputs": [],
   "source": [
    "import numpy as np\n",
    "from numpy import linalg\n",
    "import cvxopt\n",
    "import cvxopt.solvers\n",
    "import pylab as pl"
   ]
  },
  {
   "cell_type": "markdown",
   "metadata": {},
   "source": [
    "Define linear, polynomial and Gaussian kernel."
   ]
  },
  {
   "cell_type": "code",
   "execution_count": 4,
   "metadata": {},
   "outputs": [],
   "source": [
    "def linear_kernel(x1, x2):\n",
    "    return np.dot(x1, x2)\n",
    "\n",
    "def polynomial_kernel(x, y, p=3):\n",
    "    return (1 + np.dot(x, y)) ** p\n",
    "\n",
    "def gaussian_kernel(x, y, sigma=5.0):\n",
    "    return np.exp(-linalg.norm(x-y)**2 / (2 * (sigma ** 2)))"
   ]
  },
  {
   "cell_type": "markdown",
   "metadata": {},
   "source": [
    "Define **fit** function to implement cvxopt using linear, polynomial and Gaussian kernel. \n",
    "\n",
    "Here the C hyperparameter controls the level of misclassification in SVM optimization. So the C hypermeter which is set before the training model and used to control error, a very small value of C will cause the optimizer to look for a larger-margin (soft margin) separating hyperplane, even if that hyperplane misclassifies more datapairs.\n",
    "\n",
    "Here **a** are the Lagrange multipliers and **sv** are the support vectors.\n"
   ]
  },
  {
   "cell_type": "code",
   "execution_count": 5,
   "metadata": {},
   "outputs": [],
   "source": [
    "\n",
    "def fit(X, y, kernel, C):\n",
    "    n_samples, n_features = X.shape\n",
    "\n",
    "    # Gram matrix\n",
    "    # initialize kernel matrix    \n",
    "    K = np.zeros((n_samples, n_samples))\n",
    "    # Kernel matrix\n",
    "    \n",
    "    for i in range(n_samples):\n",
    "        for j in range(n_samples):\n",
    "            if kernel == 'linear_kernel':\n",
    "                K[i,j] = linear_kernel(X[i], X[j])\n",
    "            elif kernel == 'polynomial_kernel':\n",
    "                K[i,j] = polynomial_kernel(X[i], X[j])\n",
    "            else:\n",
    "                K[i,j] = gaussian_kernel(X[i], X[j])\n",
    "            \n",
    "     \n",
    "    P = cvxopt.matrix(np.outer(y,y) * K)\n",
    "    q = cvxopt.matrix(np.ones(n_samples) * -1)\n",
    "    A = cvxopt.matrix(y, (1,n_samples))\n",
    "    b = cvxopt.matrix(0.0)\n",
    "\n",
    "    if C is None:\n",
    "        G = cvxopt.matrix(np.diag(np.ones(n_samples) * -1))\n",
    "        h = cvxopt.matrix(np.zeros(n_samples))\n",
    "    else:\n",
    "        tmp1 = np.diag(np.ones(n_samples) * -1)\n",
    "        tmp2 = np.identity(n_samples)\n",
    "        G = cvxopt.matrix(np.vstack((tmp1, tmp2)))\n",
    "        tmp1 = np.zeros(n_samples)\n",
    "        tmp2 = np.ones(n_samples) * C\n",
    "        h = cvxopt.matrix(np.hstack((tmp1, tmp2)))\n",
    "\n",
    "    # solve QP problem\n",
    "    solution = cvxopt.solvers.qp(P, q, G, h, A, b)\n",
    "\n",
    "    # Lagrange multipliers\n",
    "    a = np.ravel(solution['x'])\n",
    "\n",
    "    # Support vectors have non zero lagrange multipliers\n",
    "    sv_idx = a > 1e-5\n",
    "    ind = np.arange(len(a))[sv_idx]\n",
    "    a = a[sv_idx]    \n",
    "    sv = X[sv_idx]\n",
    "    sv_y = y[sv_idx]\n",
    "    print(\"%d support vectors out of %d points\" % (len(a), n_samples))\n",
    "\n",
    "    # Intercept\n",
    "    b = 0\n",
    "    for n in range(len(a)):\n",
    "        b += sv_y[n]\n",
    "        b -= np.sum(a * sv_y * K[ind[n],sv_idx])\n",
    "    b /= len(a)\n",
    "\n",
    "    # Weight vector\n",
    "    if kernel == 'linear_kernel':\n",
    "        w = np.zeros(n_features)\n",
    "        for n in range(len(a)):\n",
    "            w += a[n] * sv_y[n] * sv[n]\n",
    "    else:\n",
    "        w = None\n",
    "    return sv, sv_y, a, w, b\n"
   ]
  },
  {
   "cell_type": "markdown",
   "metadata": {},
   "source": [
    " Define **project** and **predict** function."
   ]
  },
  {
   "cell_type": "code",
   "execution_count": 6,
   "metadata": {},
   "outputs": [],
   "source": [
    "def project(X, kernel,sv, sv_y, a, w, b):\n",
    "    if w is not None:\n",
    "        return np.dot(X, w) + b\n",
    "    else:\n",
    "        y_predict = np.zeros(len(X))\n",
    "        for i in range(len(X)):\n",
    "            s = 0\n",
    "            for a_val, sv_y_val, sv_val in zip(a, sv_y, sv):\n",
    "                if kernel == 'polynomial_kernel':\n",
    "                    s += a_val * sv_y_val * polynomial_kernel(X[i], sv_val)\n",
    "                else:\n",
    "                    s += a_val * sv_y_val * gaussian_kernel(X[i], sv_val)\n",
    "            y_predict[i] = s\n",
    "        return y_predict + b\n",
    "\n",
    "def predict(X, kernel, sv, sv_y, a, w, b):\n",
    "    return np.sign(project(X, kernel,sv, sv_y, a, w, b))\n"
   ]
  },
  {
   "cell_type": "code",
   "execution_count": 7,
   "metadata": {},
   "outputs": [],
   "source": [
    "def gen_lin_separable_data():\n",
    "    # generate training data in the 2-d case\n",
    "    mean1 = np.array([0, 2])\n",
    "    mean2 = np.array([2, 0])\n",
    "    cov = np.array([[0.8, 0.6], [0.6, 0.8]])\n",
    "    X1 = np.random.multivariate_normal(mean1, cov, 100)\n",
    "    y1 = np.ones(len(X1))\n",
    "    X2 = np.random.multivariate_normal(mean2, cov, 100)\n",
    "    y2 = np.ones(len(X2)) * -1\n",
    "    return X1, y1, X2, y2\n",
    "\n",
    "def gen_non_lin_separable_data():\n",
    "    mean1 = [-1, 2]\n",
    "    mean2 = [1, -1]\n",
    "    mean3 = [4, -4]\n",
    "    mean4 = [-4, 4]\n",
    "    cov = [[1.0,0.8], [0.8, 1.0]]\n",
    "    X1 = np.random.multivariate_normal(mean1, cov, 50)\n",
    "    X1 = np.vstack((X1, np.random.multivariate_normal(mean3, cov, 50)))\n",
    "    y1 = np.ones(len(X1))\n",
    "    X2 = np.random.multivariate_normal(mean2, cov, 50)\n",
    "    X2 = np.vstack((X2, np.random.multivariate_normal(mean4, cov, 50)))\n",
    "    y2 = np.ones(len(X2)) * -1\n",
    "    return X1, y1, X2, y2\n",
    "\n",
    "def gen_lin_separable_overlap_data():\n",
    "    # generate training data in the 2-d case\n",
    "    mean1 = np.array([0, 2])\n",
    "    mean2 = np.array([2, 0])\n",
    "    cov = np.array([[1.5, 1.0], [1.0, 1.5]])\n",
    "    X1 = np.random.multivariate_normal(mean1, cov, 100)\n",
    "    y1 = np.ones(len(X1))\n",
    "    X2 = np.random.multivariate_normal(mean2, cov, 100)\n",
    "    y2 = np.ones(len(X2)) * -1\n",
    "    return X1, y1, X2, y2"
   ]
  },
  {
   "cell_type": "code",
   "execution_count": 8,
   "metadata": {},
   "outputs": [],
   "source": [
    "def split_train(X1, y1, X2, y2):\n",
    "    X1_train = X1[:90]\n",
    "    y1_train = y1[:90]\n",
    "    X2_train = X2[:90]\n",
    "    y2_train = y2[:90]\n",
    "    X_train = np.vstack((X1_train, X2_train))\n",
    "    y_train = np.hstack((y1_train, y2_train))\n",
    "    return X_train, y_train\n",
    "\n",
    "def split_test(X1, y1, X2, y2):\n",
    "    X1_test = X1[90:]\n",
    "    y1_test = y1[90:]\n",
    "    X2_test = X2[90:]\n",
    "    y2_test = y2[90:]\n",
    "    X_test = np.vstack((X1_test, X2_test))\n",
    "    y_test = np.hstack((y1_test, y2_test))\n",
    "    return X_test, y_test"
   ]
  },
  {
   "cell_type": "code",
   "execution_count": 9,
   "metadata": {},
   "outputs": [],
   "source": [
    "def plot_margin(X1_train, X2_train, w, b, sv):\n",
    "    def f(x, w, b, c=0):\n",
    "        # given x, return y such that [x,y] in on the line\n",
    "        # w.x + b = c\n",
    "        return (-w[0] * x - b + c) / w[1]\n",
    "\n",
    "    pl.plot(X1_train[:,0], X1_train[:,1], \"ro\")\n",
    "    pl.plot(X2_train[:,0], X2_train[:,1], \"bo\")\n",
    "    pl.scatter(sv[:,0], sv[:,1], s=100, c=\"g\")\n",
    "\n",
    "    # w.x + b = 0\n",
    "    a0 = -4; a1 = f(a0, w, b)\n",
    "    b0 = 4; b1 = f(b0, w, b)\n",
    "    pl.plot([a0,b0], [a1,b1], \"k\")\n",
    "\n",
    "    # w.x + b = 1\n",
    "    a0 = -4; a1 = f(a0, w, b, 1)\n",
    "    b0 = 4; b1 = f(b0, w, b, 1)\n",
    "    pl.plot([a0,b0], [a1,b1], \"k--\")\n",
    "\n",
    "    # w.x + b = -1\n",
    "    a0 = -4; a1 = f(a0, w, b, -1)\n",
    "    b0 = 4; b1 = f(b0, w, b, -1)\n",
    "    pl.plot([a0,b0], [a1,b1], \"k--\")\n",
    "\n",
    "    pl.axis(\"tight\")\n",
    "    pl.show()\n"
   ]
  },
  {
   "cell_type": "code",
   "execution_count": 10,
   "metadata": {},
   "outputs": [],
   "source": [
    "def plot_contour(X1_train, X2_train, kernel, sv, sv_y, a, w, b):\n",
    "    pl.plot(X1_train[:,0], X1_train[:,1], \"ro\")\n",
    "    pl.plot(X2_train[:,0], X2_train[:,1], \"bo\")\n",
    "    pl.scatter(sv[:,0], sv[:,1], s=100, c=\"g\")\n",
    "    # here we choose the range between -7 and 7 as we have choosen\n",
    "    # the mean to be between -4 and 4 while generating data with the variance of 0.8\n",
    "    X1, X2 = np.meshgrid(np.linspace(-7,7,50), np.linspace(-7,7,50))\n",
    "    X = np.array([[x1, x2] for x1, x2 in zip(np.ravel(X1), np.ravel(X2))])\n",
    "    Z = project(X, kernel,sv, sv_y, a, w, b).reshape(X1.shape)\n",
    "    pl.contour(X1, X2, Z, [0.0], colors='k', linewidths=1, origin='lower')\n",
    "    pl.contour(X1, X2, Z + 1, [0.0], colors='grey', linewidths=1, origin='lower')\n",
    "    pl.contour(X1, X2, Z - 1, [0.0], colors='grey', linewidths=1, origin='lower')\n",
    "\n",
    "    pl.axis(\"tight\")\n",
    "    pl.show()"
   ]
  },
  {
   "cell_type": "code",
   "execution_count": 11,
   "metadata": {},
   "outputs": [],
   "source": [
    "def test_linear():\n",
    "    X1, y1, X2, y2 = gen_lin_separable_data()\n",
    "    X_train, y_train = split_train(X1, y1, X2, y2)\n",
    "    X_test, y_test = split_test(X1, y1, X2, y2)\n",
    "\n",
    "    kernel = 'linear_kernel'\n",
    "    C = None\n",
    "    sv, sv_y, a, w, b = fit(X_train, y_train,kernel, C)\n",
    "\n",
    "    y_predict = predict(X_test,kernel,sv, sv_y, a, w, b)\n",
    "    correct = np.sum(y_predict == y_test)\n",
    "    print(\"%d out of %d predictions correct\" % (correct, len(y_predict)))\n",
    "\n",
    "    plot_margin(X_train[y_train==1], X_train[y_train==-1], w, b, sv)\n",
    "\n",
    "def test_non_linear():\n",
    "    X1, y1, X2, y2 = gen_non_lin_separable_data()\n",
    "    X_train, y_train = split_train(X1, y1, X2, y2)\n",
    "    X_test, y_test = split_test(X1, y1, X2, y2)\n",
    "\n",
    "    kernel = 'gaussian_kernel'\n",
    "    C = None\n",
    "    sv, sv_y, a, w, b = fit(X_train, y_train,kernel, C)\n",
    "    y_predict = predict(X_test,kernel,sv, sv_y, a, w, b)\n",
    "    correct = np.sum(y_predict == y_test)\n",
    "    print(\"%d out of %d predictions correct\" % (correct, len(y_predict)))\n",
    "\n",
    "    plot_contour(X_train[y_train==1], X_train[y_train==-1], kernel, sv, sv_y, a, w, b)\n",
    "\n",
    "def test_soft():\n",
    "    X1, y1, X2, y2 = gen_lin_separable_overlap_data()\n",
    "    X_train, y_train = split_train(X1, y1, X2, y2)\n",
    "    X_test, y_test = split_test(X1, y1, X2, y2)\n",
    "\n",
    "    kernel = 'linear_kernel'\n",
    "    C=1000.1\n",
    "    sv, sv_y, a, w, b = fit(X_train, y_train,kernel, C)\n",
    "    y_predict = predict(X_test,kernel,sv, sv_y, a, w, b)\n",
    "    correct = np.sum(y_predict == y_test)\n",
    "    print(\"%d out of %d predictions correct\" % (correct, len(y_predict)))\n",
    "\n",
    "    plot_contour(X_train[y_train==1], X_train[y_train==-1], kernel, sv, sv_y, a, w, b)\n"
   ]
  },
  {
   "cell_type": "code",
   "execution_count": 12,
   "metadata": {},
   "outputs": [
    {
     "name": "stdout",
     "output_type": "stream",
     "text": [
      "     pcost       dcost       gap    pres   dres\n",
      " 0: -1.7948e+01 -3.0686e+01  5e+02  2e+01  2e+00\n",
      " 1: -1.4142e+01 -5.2411e+00  7e+01  3e+00  2e-01\n",
      " 2: -1.1981e+00 -2.0147e+00  2e+00  5e-02  3e-03\n",
      " 3: -1.4235e+00 -1.6250e+00  4e-01  1e-02  7e-04\n",
      " 4: -1.5847e+00 -1.6015e+00  3e-02  4e-04  3e-05\n",
      " 5: -1.5996e+00 -1.6010e+00  2e-03  1e-05  1e-06\n",
      " 6: -1.6009e+00 -1.6009e+00  2e-05  1e-07  1e-08\n",
      " 7: -1.6009e+00 -1.6009e+00  2e-07  1e-09  1e-10\n",
      "Optimal solution found.\n",
      "3 support vectors out of 180 points\n",
      "20 out of 20 predictions correct\n"
     ]
    },
    {
     "data": {
      "image/png": "[encoded data removed]",
      "text/plain": [
       "<Figure size 432x288 with 1 Axes>"
      ]
     },
     "metadata": {
      "needs_background": "light"
     },
     "output_type": "display_data"
    }
   ],
   "source": [
    "test_linear()"
   ]
  },
  {
   "cell_type": "code",
   "execution_count": 13,
   "metadata": {},
   "outputs": [
    {
     "name": "stdout",
     "output_type": "stream",
     "text": [
      "     pcost       dcost       gap    pres   dres\n",
      " 0: -5.7320e+01 -1.5796e+02  5e+02  2e+01  2e+00\n",
      " 1: -8.5464e+01 -1.8037e+02  2e+02  6e+00  6e-01\n",
      " 2: -1.1575e+02 -2.0170e+02  1e+02  4e+00  4e-01\n",
      " 3: -1.3459e+02 -1.9676e+02  8e+01  2e+00  2e-01\n",
      " 4: -1.5651e+02 -2.0730e+02  6e+01  7e-01  7e-02\n",
      " 5: -1.8305e+02 -1.8864e+02  6e+00  6e-02  6e-03\n",
      " 6: -1.8676e+02 -1.8714e+02  4e-01  1e-03  1e-04\n",
      " 7: -1.8707e+02 -1.8708e+02  1e-02  2e-05  2e-06\n",
      " 8: -1.8708e+02 -1.8708e+02  3e-04  3e-07  4e-08\n",
      " 9: -1.8708e+02 -1.8708e+02  1e-05  3e-09  3e-10\n",
      "Optimal solution found.\n",
      "12 support vectors out of 180 points\n",
      "20 out of 20 predictions correct\n"
     ]
    },
    {
     "data": {
      "image/png": "[encoded data removed]",
      "text/plain": [
       "<Figure size 432x288 with 1 Axes>"
      ]
     },
     "metadata": {
      "needs_background": "light"
     },
     "output_type": "display_data"
    }
   ],
   "source": [
    "test_non_linear()"
   ]
  },
  {
   "cell_type": "code",
   "execution_count": 14,
   "metadata": {},
   "outputs": [
    {
     "name": "stdout",
     "output_type": "stream",
     "text": [
      "     pcost       dcost       gap    pres   dres\n",
      " 0:  1.4558e+05 -9.6810e+07  2e+08  6e-01  4e-12\n",
      " 1:  4.1992e+05 -2.0086e+07  3e+07  5e-02  4e-11\n",
      " 2:  3.8607e+05 -3.1109e+06  5e+06  7e-03  5e-12\n",
      " 3:  8.7066e+04 -5.0691e+05  6e+05  4e-04  2e-12\n",
      " 4:  6.4050e+02 -7.1522e+04  7e+04  2e-05  2e-12\n",
      " 5: -4.5609e+03 -1.4766e+04  1e+04  3e-06  2e-12\n",
      " 6: -6.1255e+03 -1.6154e+04  1e+04  2e-06  2e-12\n",
      " 7: -4.7264e+03 -1.4680e+04  1e+04  2e-06  2e-12\n",
      " 8: -5.8823e+03 -1.1317e+04  5e+03  9e-07  2e-12\n",
      " 9: -6.5013e+03 -1.1471e+04  5e+03  7e-07  2e-12\n",
      "10: -7.0224e+03 -1.1482e+04  4e+03  5e-07  2e-12\n",
      "11: -7.2039e+03 -1.1459e+04  4e+03  4e-07  2e-12\n",
      "12: -7.0720e+03 -1.1256e+04  4e+03  4e-07  2e-12\n",
      "13: -7.8622e+03 -1.1033e+04  3e+03  1e-07  2e-12\n",
      "14: -7.8220e+03 -1.0581e+04  3e+03  6e-08  2e-12\n",
      "15: -8.3102e+03 -9.9056e+03  2e+03  1e-08  2e-12\n",
      "16: -8.9511e+03 -9.1284e+03  2e+02  3e-10  3e-12\n",
      "17: -9.0035e+03 -9.0498e+03  5e+01  7e-11  2e-12\n",
      "18: -8.9994e+03 -9.0447e+03  5e+01  5e-11  3e-12\n",
      "19: -9.0057e+03 -9.0356e+03  3e+01  3e-11  2e-12\n",
      "20: -9.0112e+03 -9.0278e+03  2e+01  2e-12  3e-12\n",
      "21: -9.0179e+03 -9.0208e+03  3e+00  1e-12  3e-12\n",
      "22: -9.0190e+03 -9.0191e+03  5e-02  2e-12  2e-12\n",
      "23: -9.0191e+03 -9.0191e+03  5e-04  7e-13  3e-12\n",
      "Optimal solution found.\n",
      "11 support vectors out of 180 points\n",
      "19 out of 20 predictions correct\n"
     ]
    },
    {
     "data": {
      "image/png": "[encoded data removed]",
      "text/plain": [
       "<Figure size 432x288 with 1 Axes>"
      ]
     },
     "metadata": {
      "needs_background": "light"
     },
     "output_type": "display_data"
    }
   ],
   "source": [
    "test_soft()"
   ]
  },
  {
   "cell_type": "code",
   "execution_count": null,
   "metadata": {},
   "outputs": [],
   "source": []
  }
 ],
 "metadata": {
  "kernelspec": {
   "display_name": "Python 3 (ipykernel)",
   "language": "python",
   "name": "python3"
  },
  "language_info": {
   "codemirror_mode": {
    "name": "ipython",
    "version": 3
   },
   "file_extension": ".py",
   "mimetype": "text/x-python",
   "name": "python",
   "nbconvert_exporter": "python",
   "pygments_lexer": "ipython3",
   "version": "3.9.12"
  }
 },
 "nbformat": 4,
 "nbformat_minor": 4
}

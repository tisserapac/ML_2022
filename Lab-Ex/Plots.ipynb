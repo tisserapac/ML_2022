{
 "cells": [
  {
   "cell_type": "markdown",
   "id": "bb343db5",
   "metadata": {},
   "source": [
    "### Simple Scatter Plot"
   ]
  },
  {
   "cell_type": "code",
   "execution_count": null,
   "id": "7661ed89",
   "metadata": {},
   "outputs": [],
   "source": [
    "data_txt = np.loadtxt('lab1data1.txt', delimiter=',', usecols=(0, 1))\n",
    "print(data_txt.shape)\n",
    "\n",
    "plt.scatter(data_txt[:,0], data_txt[:,1])\n",
    "plt.xlabel('X')\n",
    "plt.ylabel('y')\n",
    "plt.title('data 1')\n",
    "plt.show()"
   ]
  },
  {
   "cell_type": "markdown",
   "id": "d1f92f8a",
   "metadata": {},
   "source": [
    "<img src=\"Plots/plot1.png\" title=\"Plot1\" style=\"width: 400px;\" />"
   ]
  },
  {
   "cell_type": "code",
   "execution_count": null,
   "id": "26f577e2",
   "metadata": {},
   "outputs": [],
   "source": [
    "#Line\n",
    "X_data_min = X_data[:,1].min()\n",
    "X_data_max = X_data[:,1].max()\n",
    "#Returns num evenly spaced samples, calculated over the interval [start, stop].\n",
    "x = np.linspace(X_data_min-1,X_data_max+1,10)\n",
    "y = theta2[0]+theta2[1]*x\n",
    "plt.plot(x, y, label='RPrediction', c='green')\n",
    "\n",
    "#Scatter\n",
    "plt.scatter(X_data[:,1], y_data)\n",
    "\n",
    "plt.xlabel(\"x\")\n",
    "plt.ylabel(\"y\")\n",
    "\n",
    "plt.legend()\n",
    "plt.title('Linear regression result')\n",
    "plt.show()"
   ]
  },
  {
   "cell_type": "markdown",
   "id": "539fa6fe",
   "metadata": {},
   "source": [
    "<img src=\"Plots/plot2.png\" title=\"Plot1\" style=\"width: 400px;\" />"
   ]
  },
  {
   "cell_type": "code",
   "execution_count": null,
   "id": "cfddaa80",
   "metadata": {},
   "outputs": [],
   "source": [
    "# Make three subplots, in one row and three columns\n",
    "fig, ax = plt.subplots(1,3)\n",
    "fig.set_figheight(5)\n",
    "fig.set_figwidth(20)\n",
    "fig.subplots_adjust(left=.2, bottom=None, right=None, top=None, wspace=.2, hspace=.2)\n",
    "plt1 = plt.subplot(1,3,1)\n",
    "plt2 = plt.subplot(1,3,2)\n",
    "plt3 = plt.subplot(1,3,3)\n",
    "\n",
    "# Variable 1: square footage\n",
    "plt1.hist(data[:,0], label='Sq. feet', edgecolor='black')\n",
    "plt1.set_title('House Size')\n",
    "plt1.set_xlabel('units')\n",
    "plt1.set_ylabel('Frequency')\n",
    "plt1.grid(axis='both', alpha=.25)\n",
    "\n",
    "# Variable 2: number of bedrooms\n",
    "plt2.hist(data[:,1], label='Bedroom', edgecolor='black')\n",
    "plt2.set_title('Bedrooms')\n",
    "plt2.set_xlabel('units')\n",
    "plt2.set_ylabel('Frequency')\n",
    "plt2.grid(axis='both', alpha=.25)\n",
    "\n",
    "# Variable 3: home price\n",
    "plt3.hist(data[:,2], label='Price', edgecolor='black')\n",
    "plt3.set_title('Price')\n",
    "plt3.set_xlabel('units')\n",
    "plt3.set_ylabel('Frequency')\n",
    "plt3.grid(axis='both', alpha=.25)"
   ]
  },
  {
   "cell_type": "markdown",
   "id": "79b6dcd7",
   "metadata": {},
   "source": [
    "<img src=\"Plots/plot3.png\" title=\"Plot1\" style=\"height: 300px;\" />"
   ]
  },
  {
   "cell_type": "markdown",
   "id": "a56f0dd4",
   "metadata": {},
   "source": [
    "#### Legend location"
   ]
  },
  {
   "cell_type": "code",
   "execution_count": null,
   "id": "96f18a98",
   "metadata": {},
   "outputs": [],
   "source": [
    "plt.legend(loc=0)"
   ]
  },
  {
   "cell_type": "code",
   "execution_count": null,
   "id": "4d31831d",
   "metadata": {},
   "outputs": [],
   "source": [
    "# Plot the data\n",
    "idx_0 = np.where(y == 0)\n",
    "idx_1 = np.where(y == 1)\n",
    "\n",
    "fig1 = plt.figure(figsize=(5, 5)) \n",
    "ax = plt.axes()\n",
    "ax.set_aspect(aspect = 'equal', adjustable = 'box')\n",
    "plt.title('Distribution')\n",
    "plt.xlabel('Exam 1')\n",
    "plt.ylabel('Exam 2')\n",
    "plt.grid(axis='both', alpha=.25)\n",
    "ax.scatter(exam1_data[idx_0], exam2_data[idx_0], s=50, c='r', marker='*', label='Not Admitted')\n",
    "ax.scatter(exam1_data[idx_1], exam2_data[idx_1], s=50, c='b', marker='o', label='Admitted')\n",
    "plt.show()"
   ]
  },
  {
   "cell_type": "markdown",
   "id": "8fec5a37",
   "metadata": {},
   "source": [
    "<img src=\"Plots/plot4.png\" title=\"Plot1\" style=\"height: 300px;\" />"
   ]
  },
  {
   "cell_type": "code",
   "execution_count": null,
   "id": "907d78eb",
   "metadata": {},
   "outputs": [],
   "source": []
  },
  {
   "cell_type": "code",
   "execution_count": null,
   "id": "03788abd",
   "metadata": {},
   "outputs": [],
   "source": []
  },
  {
   "cell_type": "code",
   "execution_count": null,
   "id": "13b58f80",
   "metadata": {},
   "outputs": [],
   "source": []
  },
  {
   "cell_type": "code",
   "execution_count": null,
   "id": "9da572ef",
   "metadata": {},
   "outputs": [],
   "source": []
  }
 ],
 "metadata": {
  "kernelspec": {
   "display_name": "Python 3 (ipykernel)",
   "language": "python",
   "name": "python3"
  },
  "language_info": {
   "codemirror_mode": {
    "name": "ipython",
    "version": 3
   },
   "file_extension": ".py",
   "mimetype": "text/x-python",
   "name": "python",
   "nbconvert_exporter": "python",
   "pygments_lexer": "ipython3",
   "version": "3.9.12"
  }
 },
 "nbformat": 4,
 "nbformat_minor": 5
}

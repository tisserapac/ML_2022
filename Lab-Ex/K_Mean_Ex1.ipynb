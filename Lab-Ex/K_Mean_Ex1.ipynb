{
 "cells": [
  {
   "cell_type": "code",
   "execution_count": 66,
   "id": "50d7bc53",
   "metadata": {},
   "outputs": [],
   "source": [
    "import numpy as np\n",
    "import matplotlib.pyplot as plt\n",
    "import random"
   ]
  },
  {
   "cell_type": "code",
   "execution_count": 67,
   "id": "26f3c5c8",
   "metadata": {},
   "outputs": [],
   "source": [
    "mu1 = [10, 10]\n",
    "Sigma1 = [[4, 0], [0, 4]]\n",
    "X1 = np.random.multivariate_normal(mu1, Sigma1, 100)"
   ]
  },
  {
   "cell_type": "code",
   "execution_count": 68,
   "id": "fdf09952",
   "metadata": {},
   "outputs": [],
   "source": [
    "#X1"
   ]
  },
  {
   "cell_type": "code",
   "execution_count": 69,
   "id": "344f30a7",
   "metadata": {},
   "outputs": [],
   "source": [
    "Sigma2 = [[4, 0], [0, 4]]\n",
    "X2 = np.random.multivariate_normal(mu1, Sigma1, 100)"
   ]
  },
  {
   "cell_type": "code",
   "execution_count": 70,
   "id": "656f4baa",
   "metadata": {},
   "outputs": [],
   "source": [
    "#X2"
   ]
  },
  {
   "cell_type": "code",
   "execution_count": 71,
   "id": "85fb017c",
   "metadata": {},
   "outputs": [],
   "source": [
    "mu2 = [30, 30]\n",
    "Sigma2 = [[4, 0], [0, 4]]\n",
    "X3 = np.random.multivariate_normal(mu1, Sigma1, 100)"
   ]
  },
  {
   "cell_type": "code",
   "execution_count": 72,
   "id": "e292dc3b",
   "metadata": {},
   "outputs": [],
   "source": [
    "X = np.concatenate((X1, X2,X3), 0)\n",
    "#X"
   ]
  },
  {
   "cell_type": "code",
   "execution_count": 73,
   "id": "91fbb1e8",
   "metadata": {},
   "outputs": [
    {
     "data": {
      "image/png": "[encoded data removed]",
      "text/plain": [
       "<Figure size 432x288 with 1 Axes>"
      ]
     },
     "metadata": {
      "needs_background": "light"
     },
     "output_type": "display_data"
    }
   ],
   "source": [
    "plt.scatter(X[:,0], X[:,1])\n",
    "\n",
    "plt.scatter(X2[:,0], X2[:,1])\n",
    "\n",
    "plt.scatter(X3[:,0], X3[:,1])\n",
    "plt.show()"
   ]
  },
  {
   "cell_type": "code",
   "execution_count": 74,
   "id": "57eca1c4",
   "metadata": {},
   "outputs": [],
   "source": [
    "iter = 10\n",
    "m = X.shape[0]\n",
    "k = 3\n",
    "indexes = np.arange(m)\n",
    "np.random.shuffle(indexes)\n",
    "means = X[indexes,:]\n",
    "#means"
   ]
  },
  {
   "cell_type": "code",
   "execution_count": 76,
   "id": "4f93518f",
   "metadata": {},
   "outputs": [],
   "source": [
    "def euclidean(point, data):\n",
    "    return np.sqrt(np.sum((point - data)**2, axis=1))"
   ]
  },
  {
   "cell_type": "code",
   "execution_count": 79,
   "id": "35325a94",
   "metadata": {},
   "outputs": [
    {
     "ename": "IndexError",
     "evalue": "list index out of range",
     "output_type": "error",
     "traceback": [
      "\u001b[0;31m---------------------------------------------------------------------------\u001b[0m",
      "\u001b[0;31mIndexError\u001b[0m                                Traceback (most recent call last)",
      "Input \u001b[0;32mIn [79]\u001b[0m, in \u001b[0;36m<cell line: 5>\u001b[0;34m()\u001b[0m\n\u001b[1;32m      8\u001b[0m dists \u001b[38;5;241m=\u001b[39m euclidean(x, current_centroids)\n\u001b[1;32m      9\u001b[0m centroid_idx \u001b[38;5;241m=\u001b[39m np\u001b[38;5;241m.\u001b[39margmin(dists)\n\u001b[0;32m---> 10\u001b[0m \u001b[43mclustered_points\u001b[49m\u001b[43m[\u001b[49m\u001b[43mcentroid_idx\u001b[49m\u001b[43m]\u001b[49m\u001b[38;5;241m.\u001b[39mappend(x)\n\u001b[1;32m     11\u001b[0m prev_centroids \u001b[38;5;241m=\u001b[39m current_centroids\n\u001b[1;32m     12\u001b[0m current_centroids \u001b[38;5;241m=\u001b[39m [np\u001b[38;5;241m.\u001b[39mmean(cluster, axis\u001b[38;5;241m=\u001b[39m\u001b[38;5;241m0\u001b[39m) \u001b[38;5;28;01mfor\u001b[39;00m cluster \u001b[38;5;129;01min\u001b[39;00m clustered_points]\n",
      "\u001b[0;31mIndexError\u001b[0m: list index out of range"
     ]
    }
   ],
   "source": [
    "iteration = 0\n",
    "current_centroids = means\n",
    "prev_centroids = None\n",
    "iteration = 0\n",
    "while np.not_equal(current_centroids, prev_centroids).any() and iteration < iter:\n",
    "    clustered_points = [[] for _ in range(k)]\n",
    "    for x in X:\n",
    "        dists = euclidean(x, current_centroids)\n",
    "        \n",
    "        centroid_idx = np.argmin(dists)\n",
    "        clustered_points[centroid_idx].append(x)\n",
    "        prev_centroids = current_centroids\n",
    "        current_centroids = [np.mean(cluster, axis=0) for cluster in clustered_points]\n",
    "    iteration = iteration + 1\n",
    "        \n",
    "    \n",
    "    \n",
    "    "
   ]
  },
  {
   "cell_type": "code",
   "execution_count": null,
   "id": "8802f01e",
   "metadata": {},
   "outputs": [],
   "source": []
  }
 ],
 "metadata": {
  "kernelspec": {
   "display_name": "Python 3 (ipykernel)",
   "language": "python",
   "name": "python3"
  },
  "language_info": {
   "codemirror_mode": {
    "name": "ipython",
    "version": 3
   },
   "file_extension": ".py",
   "mimetype": "text/x-python",
   "name": "python",
   "nbconvert_exporter": "python",
   "pygments_lexer": "ipython3",
   "version": "3.9.12"
  }
 },
 "nbformat": 4,
 "nbformat_minor": 5
}

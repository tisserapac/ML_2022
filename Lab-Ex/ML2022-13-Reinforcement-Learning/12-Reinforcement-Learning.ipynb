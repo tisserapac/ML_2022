{
 "cells": [
  {
   "cell_type": "code",
   "execution_count": 1,
   "metadata": {},
   "outputs": [],
   "source": [
    "NAME = \"Anjana Tissera\"\n",
    "ID = \"123459\""
   ]
  },
  {
   "cell_type": "markdown",
   "metadata": {},
   "source": [
    "# Lab 13: Reinforcement Learning (RL)\n",
    "\n",
    "**I bring lab 13 and 14 of RL in RTML class (Up to DQN, remove self-environment creation). Please design exercise at below :-)**\n",
    "\n",
    "Today we'll have a gentle introduction to reinforcement learning.\n",
    "The material in today's lab comes from these references:\n",
    "\n",
    " - Pytorch 1.x Reinforcement Learning Cookbook (Packtpub)\n",
    " - Hands-On Reinforcement Learning for Games (Packtpub)\n",
    " - https://www.kdnuggets.com/2018/03/5-things-reinforcement-learning.html\n",
    " - Reinforcement Learning: An Introduction (Sutton et al.)\n",
    " - https://github.com/werner-duvaud/muzero-general (simulator code)\n",
    "\n",
    "\n",
    "## Reinforcement learning\n",
    "\n",
    "Reinforcement Learning (RL) is a machine learning technique that enables an agent to learn in an interactive environment by trial and error using feedback on its actions and experiences.\n",
    "RL uses rewards and punishment as signals for \"good\" and \"bad\" behavior.\n",
    "\n",
    "Generally, at each step, the agent outputs an action, which is input to the environment. The environment evolves according to its dynamics, the agent observes the new state of the environment\n",
    "and (optionally) a reward, and the process continues until hopefully the agent learns what behavior maximizes its reward.\n",
    "\n",
    "<img src=\"img/RL.jpg\" title=\"Introduction\" style=\"width: 600px;\" />\n",
    "\n",
    "\n",
    "## Markov decision process (MDP)\n",
    "\n",
    "Markov decision process (MDP) is a discrete-time stochastic control process.\n",
    "It provides a mathematical framework for modeling decision making in situations where outcomes are partly random and partly under the control of a decision maker.\n",
    "MDPs are useful for studying optimization problems solved via dynamic programming.\n",
    "They are used in many disciplines, including robotics, automatic control, economics and manufacturing.\n",
    "\n",
    "The MDP model is based on the idea of an environment that evolves as a Markov chain.\n",
    "\n",
    "### Markov chain\n",
    "\n",
    "A Markov chain is a model of the dynamics of a discrete time system that obeys the (first order) \"Markov property,\" meaning that the state $s^{t+1}$ at time\n",
    "$t+1$ is conditionally independent of the state at times $0, \\ldots, t-1$ given the state at time $t$, i.e.,\n",
    "\n",
    "$$ p(s^{t+1} \\mid s^t, s^{t-1}, \\ldots, s^0) = p(s^{t+1} \\mid s^t). $$\n",
    "\n",
    "Informally, we might say that the current state is all you need to know to predict the next state.\n",
    "\n",
    "A Markov chain is defined by a set of possible states $S={s_0, s_1, \\ldots, s_n}$ and a transition matrix $T(s,s')$ containing the propbabilities of state $s$ (current state) transitioning to state $s'$ (next state).\n",
    "\n",
    "Here is a visualization of a simple Markov chain:\n",
    "\n",
    "<img src=\"img/RL_markov.png\" title=\"Markov chain\" style=\"width: 600px;\" />\n",
    "\n",
    "You might be interested in [this Markov chain simulator](https://setosa.io/ev/markov-chains/) and the [full screen diagram](https://setosa.io/markov/index.html).\n",
    "\n",
    "Now, the dynamics of the environment in a MDP are slightly different from that of a simple Markov chain. We have to consider how the agent's\n",
    "actions affect the system's dynamics. At each time step, rather than just\n",
    "transitioning randomly to the next state, we add the agent's action as an external input or disturbance $a \\in A$, so (assuming a small number of discrete\n",
    "states and actions) the transition probabilities become a 3D tensor of size $|S|\\times |A|\\times |S|$\n",
    "mapping each state/action pair to a probability distribution over the states.\n",
    "\n",
    "### A simple MDP\n",
    "\n",
    "Assume we have **Three states** (**A**, **B**, **C**), the Markov chain is:\n",
    "\n",
    "<img src=\"img/MarkovChain.PNG\" title=\"Markov chain example\" style=\"width: 400px;\" />\n",
    "\n",
    "The transition matrix is:\n",
    "\n",
    "$$\n",
    "T =\n",
    "\\begin{bmatrix}\n",
    "0.3 & 0.5 & 0.2 \\\\ \n",
    "0.8 & 0.1 & 0.1 \\\\\n",
    "0.1 & 0.3 & 0.6\n",
    "\\end{bmatrix}\n",
    "$$\n",
    "\n",
    "Each row means current state, and each column means the next state to go. If you consider $0.5$ in the matrix (row 0, and column 1), you can say that \"now you are in state **A** and the possible to go to next state of **B** is 0.5\"\n"
   ]
  },
  {
   "cell_type": "code",
   "execution_count": 2,
   "metadata": {},
   "outputs": [
    {
     "name": "stdout",
     "output_type": "stream",
     "text": [
      "tensor([[0.3000, 0.5000, 0.2000],\n",
      "        [0.8000, 0.1000, 0.1000],\n",
      "        [0.1000, 0.3000, 0.6000]])\n"
     ]
    }
   ],
   "source": [
    "import torch\n",
    "\n",
    "T = torch.tensor([[0.3, 0.5, 0.2],\n",
    "                  [0.8, 0.1, 0.1],\n",
    "                  [0.1, 0.3, 0.6]])\n",
    "\n",
    "# show the matrix\n",
    "print(T)"
   ]
  },
  {
   "cell_type": "markdown",
   "metadata": {},
   "source": [
    "#### Probability after k steps\n",
    "\n",
    "The probability after $k$ steps equation is:\n",
    "$$ T_n = T^n $$\n",
    "\n",
    "Thus, if we want to find the T state at step 2, 5, 10, 20, we can do as:"
   ]
  },
  {
   "cell_type": "code",
   "execution_count": 3,
   "metadata": {},
   "outputs": [
    {
     "name": "stdout",
     "output_type": "stream",
     "text": [
      "state transition at k=2: tensor([[0.5100, 0.2600, 0.2300],\n",
      "        [0.3300, 0.4400, 0.2300],\n",
      "        [0.3300, 0.2600, 0.4100]])\n",
      "state transition at k=5: tensor([[0.3991, 0.3230, 0.2779],\n",
      "        [0.4153, 0.3100, 0.2746],\n",
      "        [0.3926, 0.3165, 0.2908]])\n",
      "state transition at k=10: tensor([[0.4026, 0.3170, 0.2804],\n",
      "        [0.4024, 0.3172, 0.2804],\n",
      "        [0.4024, 0.3170, 0.2806]])\n",
      "state transition at k=20: tensor([[0.4024, 0.3171, 0.2805],\n",
      "        [0.4024, 0.3171, 0.2805],\n",
      "        [0.4024, 0.3171, 0.2805]])\n"
     ]
    }
   ],
   "source": [
    "T_2 = torch.matrix_power(T,2)\n",
    "print('state transition at k=2:', T_2)\n",
    "T_5 = torch.matrix_power(T,5)\n",
    "print('state transition at k=5:', T_5)\n",
    "T_10 = torch.matrix_power(T,10)\n",
    "print('state transition at k=10:', T_10)\n",
    "T_20 = torch.matrix_power(T,20)\n",
    "print('state transition at k=20:', T_20)"
   ]
  },
  {
   "cell_type": "markdown",
   "metadata": {},
   "source": [
    "The state transition after step 10 to 20 steps are going to converges. This means that, no matter what state the process is in, it has the same probability of transitioning to A (40.24%), B (31.71%), and C (28.05%).\n",
    "\n",
    "### Initial Distribution\n",
    "\n",
    "Assume we have the initial distribution of three state is:\n",
    "\n",
    "$$\n",
    "V=\n",
    "\\begin{bmatrix}\n",
    "0.2 & 0.5 & 0.3\n",
    "\\end{bmatrix}\n",
    "$$\n",
    "\n",
    "The initial distribution means you can go to any states at the first time, but it depends on the probability. In this matrix, we can say that there are possible to go to state A more than other states."
   ]
  },
  {
   "cell_type": "code",
   "execution_count": 4,
   "metadata": {},
   "outputs": [
    {
     "name": "stdout",
     "output_type": "stream",
     "text": [
      "tensor([[0.2000, 0.5000, 0.3000]])\n"
     ]
    }
   ],
   "source": [
    "V_0 = torch.tensor([[0.2, 0.5, 0.3]])\n",
    "\n",
    "print(V_0)"
   ]
  },
  {
   "cell_type": "markdown",
   "metadata": {},
   "source": [
    "Try to calculate the state distribution after state 1, 2, 5, 10, and 20"
   ]
  },
  {
   "cell_type": "code",
   "execution_count": 5,
   "metadata": {},
   "outputs": [
    {
     "name": "stdout",
     "output_type": "stream",
     "text": [
      "Distribution of states after 1 step:\n",
      "tensor([[0.4900, 0.2400, 0.2700]])\n",
      "\n",
      "Distribution of states after 2 step:\n",
      "tensor([[0.3660, 0.3500, 0.2840]])\n",
      "\n",
      "Distribution of states after 5 step:\n",
      "tensor([[0.4053, 0.3146, 0.2801]])\n",
      "\n",
      "Distribution of states after 10 step:\n",
      "tensor([[0.4024, 0.3171, 0.2805]])\n",
      "\n",
      "Distribution of states after 20 step:\n",
      "tensor([[0.4024, 0.3171, 0.2805]])\n",
      "\n"
     ]
    }
   ],
   "source": [
    "V_1 = torch.mm(V_0, T)\n",
    "print(\"Distribution of states after 1 step:\\n{}\\n\".format(V_1))\n",
    "V_2 = torch.mm(V_0, T_2)\n",
    "print(\"Distribution of states after 2 step:\\n{}\\n\".format(V_2))\n",
    "V_5 = torch.mm(V_0, T_5)\n",
    "print(\"Distribution of states after 5 step:\\n{}\\n\".format(V_5))\n",
    "V_10 = torch.mm(V_0, T_10)\n",
    "print(\"Distribution of states after 10 step:\\n{}\\n\".format(V_10))\n",
    "V_20 = torch.mm(V_0, T_20)\n",
    "print(\"Distribution of states after 20 step:\\n{}\\n\".format(V_20))"
   ]
  },
  {
   "cell_type": "markdown",
   "metadata": {},
   "source": [
    "We can see that, after 10 steps, the state distribution converges. The probability of being in A (40.24%), B (31.71%) and the probability of being in s1 (28.05%) remain unchanged in the long run.\n",
    "\n",
    "Starting with $[0.2,0.5,0.3]$, the state distribution after one iteration becomes $[0.4024, 0.3171, 0.2805]$. Details of its calculation are illustrated in the following diagram:\n",
    "\n",
    "<img src=\"img/MarkovDistributionChart.png\" title=\"Markov chain example\" style=\"width: 600px;\" />"
   ]
  },
  {
   "cell_type": "markdown",
   "metadata": {},
   "source": [
    "### Come back to MDP\n",
    "\n",
    "MDP is slightly different from a simple Markov chain because MDP has to consider agent's actions which affect to the system's dynamics.\n",
    "Thus, not only probability of transition of nextstate, but also agent's action need to be calculate. We assign $A$ as all possible actions and $a$ as the action which agent selects (at this situation, $a$ must be in $A$ or $a \\in A$.\n",
    "\n",
    "The transition probabilities become a **3D tensor** of size $|S|\\times |A|\\times |S|$\n",
    "mapping each state/action pair to a probability distribution over the states."
   ]
  },
  {
   "cell_type": "markdown",
   "metadata": {},
   "source": [
    "### A simple MDP\n",
    "\n",
    "Suppose we have **three states (s0, s1, s2) and two actions (a0, a1)** and that the state/action transition tensor is as follows:\n",
    "\n",
    "$$T=\n",
    "\\begin{cases}\n",
    " &\n",
    "\\begin{bmatrix}\n",
    "0.8 & 0.1 & 0.1 \\\\ \n",
    "0.1 & 0.6 & 0.3\n",
    "\\end{bmatrix} \\\\ \n",
    " & \n",
    "\\begin{bmatrix}\n",
    "0.7 & 0.2 & 0.1 \\\\ \n",
    "0.1 & 0.8 & 0.1\n",
    "\\end{bmatrix} \\\\  \n",
    " & \n",
    "\\begin{bmatrix}\n",
    "0.6 & 0.2 & 0.2 \\\\ \n",
    "0.1 & 0.4 & 0.5\n",
    "\\end{bmatrix}\n",
    "\\end{cases}\n",
    "$$\n",
    "\n",
    "The first matrix block is mean current state $s0$, second block is $s1$, and the third block is $s2$.\n",
    "\n",
    "Consider into the matrix block, the rows of matrix block mean actions (a0 is 1st row, and a1 is 2nd row). And the columns of matix block is the same as Markov Chain: next state $s'$"
   ]
  },
  {
   "cell_type": "code",
   "execution_count": 6,
   "metadata": {},
   "outputs": [
    {
     "name": "stdout",
     "output_type": "stream",
     "text": [
      "tensor([[[0.8000, 0.1000, 0.1000],\n",
      "         [0.1000, 0.6000, 0.3000]],\n",
      "\n",
      "        [[0.7000, 0.2000, 0.1000],\n",
      "         [0.1000, 0.8000, 0.1000]],\n",
      "\n",
      "        [[0.6000, 0.2000, 0.2000],\n",
      "         [0.1000, 0.4000, 0.5000]]])\n"
     ]
    }
   ],
   "source": [
    "# State transition function\n",
    "T = torch.tensor([[[0.8, 0.1, 0.1],\n",
    "                   [0.1, 0.6, 0.3]],\n",
    "                  [[0.7, 0.2, 0.1],\n",
    "                   [0.1, 0.8, 0.1]],\n",
    "                  [[0.6, 0.2, 0.2],\n",
    "                   [0.1, 0.4, 0.5]]])\n",
    "\n",
    "# show the matrix\n",
    "print(T)"
   ]
  },
  {
   "cell_type": "markdown",
   "metadata": {},
   "source": [
    "Assume we want to observe at state 2, and see the probability to change to state 1 with playing action 0, we can write in code with"
   ]
  },
  {
   "cell_type": "code",
   "execution_count": 7,
   "metadata": {},
   "outputs": [
    {
     "data": {
      "text/plain": [
       "tensor(0.2000)"
      ]
     },
     "execution_count": 7,
     "metadata": {},
     "output_type": "execute_result"
    }
   ],
   "source": [
    "T[2,0,1]"
   ]
  },
  {
   "cell_type": "markdown",
   "metadata": {},
   "source": [
    "To complete our simple MDP, we need a *reward function* $R$ and a *discount factor* $\\gamma$.\n",
    "\n",
    "**reward function $R$** is a set of rewards that depend on the state and the action taken.\n",
    "\n",
    "**discount factor $\\gamma$** is how important future rewards are to the current state. Discount factor is a value between 0 and 1. A reward $R$ that occurs $n$ steps in the future from the current state, is multiplied by $\\gamma^n$ to describe its importance to the current state (Thus, current reward is $\\gamma^tR$, where $t$ is a number step.\n",
    "\n",
    "Suppose $R = [ -1, 0.1, 0.9 ]$ and $\\gamma = 0.5$. Let's define our MDP in Python with PyTorch tensors:"
   ]
  },
  {
   "cell_type": "code",
   "execution_count": 8,
   "metadata": {},
   "outputs": [],
   "source": [
    "# Reward function\n",
    "R = torch.tensor([-1.,0.1,0.9])\n",
    "\n",
    "# Discount factor\n",
    "gamma = 0.5"
   ]
  },
  {
   "cell_type": "markdown",
   "metadata": {},
   "source": [
    "### The agent's goal\n",
    "\n",
    "Once the MDP is defined, the agent's goal is to **maximize its expected reward**.\n",
    "\n",
    "If we start in state $s^0$ and perform a series of actions $a^0, a^1, \\ldots a^{T-1}$ placing us in state $s^1, s^2, \\ldots s^T$, we obtain the total reward $R_F$\n",
    "\n",
    "$$R_F=\\sum_{t=0}^T \\gamma^{t} R(s^t)$$\n",
    "\n",
    "The agent's goal is to behave so as to maximize the expected total reward. To do so,\n",
    "it should come up with a policy $\\pi : S \\times A \\rightarrow \\mathbb{R}$ giving a probability distribution\n",
    "over actions that can be executed in each state, then when in state $s$, sample action $a$ according to that\n",
    "distribution $\\pi(s,\\cdot)$, and repeat.\n",
    "\n",
    "Now the agent's goal can be clearly specified as finding an optimal policy\n",
    "\n",
    "$$ \\pi^* = \\textrm{argmax}_\\pi \\mathbb{E}_{a^t \\sim \\pi(s^t), s^{t} \\sim T(s^{t-1},a^{t-1})}\\left[ \\sum_{t=0}^T \\gamma^{t} R(s^t) \\right]$$\n",
    "\n",
    "Under a particular policy $\\pi$, then, the *value* of state $s$ is the expected reward we obtain by following $\\pi$ from state $s$:\n",
    "\n",
    "$$ V^\\pi(s) = \\mathbb{E}_{a^t \\sim \\pi(s^t), s^{t} \\sim T(s^{t-1},a^{t-1}) \\mid s^0=s}\\left[ R(s) + \\sum_{t=1}^T \\gamma^{t} R(s^t) \\right]$$\n",
    "\n",
    "The value function clearly obeys the *Bellman equations*\n",
    "\n",
    "$$ V^\\pi(s) = R(s) + \\gamma \\sum_{s',a'} \\pi(s,a') T(s,a',s') V^\\pi(s'). $$ \n",
    "\n",
    "#### Too difficult?\n",
    "\n",
    "OK, lets see the easier version of equation\n",
    "\n",
    "The equation of V relate at time t is:\n",
    "\n",
    "$$V_{t+1}=R+\\gamma * T * V_t$$\n",
    "\n",
    "When the value converges, which mean $V_{t+1}=V_t$, so we can derive the value $V$ as:\n",
    "\n",
    "$$\n",
    "V=R+\\gamma * T * V \\\\\n",
    "V = (I-\\gamma * T)^{-1} * R.\n",
    "$$\n",
    "\n",
    "The function can be writed as:"
   ]
  },
  {
   "cell_type": "code",
   "execution_count": 9,
   "metadata": {},
   "outputs": [],
   "source": [
    "def cal_value_matrix_inversion(gamma, trans_matrix, rewards):\n",
    "    inv = torch.inverse(torch.eye(rewards.shape[0]) - gamma * trans_matrix)\n",
    "    V = torch.mm(inv, rewards.reshape(-1, 1))\n",
    "    return V"
   ]
  },
  {
   "cell_type": "markdown",
   "metadata": {},
   "source": [
    "Asume that we select action $a_0$ in all curcumstances."
   ]
  },
  {
   "cell_type": "code",
   "execution_count": 10,
   "metadata": {},
   "outputs": [],
   "source": [
    "action = 0"
   ]
  },
  {
   "cell_type": "markdown",
   "metadata": {},
   "source": [
    "Find transition matrix:"
   ]
  },
  {
   "cell_type": "code",
   "execution_count": 11,
   "metadata": {},
   "outputs": [
    {
     "name": "stdout",
     "output_type": "stream",
     "text": [
      "tensor([[0.8000, 0.1000, 0.1000],\n",
      "        [0.7000, 0.2000, 0.1000],\n",
      "        [0.6000, 0.2000, 0.2000]])\n"
     ]
    }
   ],
   "source": [
    "trans_matrix = T[:, action]\n",
    "\n",
    "print(trans_matrix)"
   ]
  },
  {
   "cell_type": "markdown",
   "metadata": {},
   "source": [
    "Calculate value from the bellman equation above:"
   ]
  },
  {
   "cell_type": "code",
   "execution_count": 12,
   "metadata": {},
   "outputs": [
    {
     "name": "stdout",
     "output_type": "stream",
     "text": [
      "The value function under the optimal policy is:\n",
      "tensor([[-1.6781],\n",
      "        [-0.5202],\n",
      "        [ 0.3828]])\n"
     ]
    }
   ],
   "source": [
    "V = cal_value_matrix_inversion(gamma, trans_matrix, R)\n",
    "\n",
    "print(\"The value function under the optimal policy is:\\n{}\".format(V))"
   ]
  },
  {
   "cell_type": "markdown",
   "metadata": {},
   "source": [
    "### Policy evaluation\n",
    "\n",
    "To determine how good a particular policy is, we use policy evaluation.\n",
    "Policy evaluation is an iterative algorithm. It starts with arbitrary values for each state\n",
    "and then iteratively updates the values based on the Bellman equations until the values converge. Assume $\\pi$ is the value of a policy, the update equation is:\n",
    "\n",
    "$$ V(s) = \\sum_a \\pi(s,a) \\left[ R(s,a) + \\gamma \\sum_{s'} T(s,a',s') V(s') \\right] $$ \n",
    "\n",
    "$\\pi(s,a)$: the probability of taking action $a$ in stat $s$ under policy $\\pi$\n",
    "$R(s,a)$: the reward received in state $s$ by taking action $a$\n",
    "\n",
    "You can see this algorithm's pseudocode in Sutton's book on page 75.\n",
    "\n",
    "Because Policy evaluation is a loop processing, you need to stop by conditions. There are 2 ways to terminate the iterative updating process.\n",
    "- Fix number of iterations\n",
    "- Set some specific threshold and terminating the process when the values of all states change to lower than the threshold.\n",
    "\n",
    "Here we compute the value of the three states in our MDP assuming the agent always peforms the first action. The function process are:\n",
    "\n",
    "1. Initializes the policy values as all zeros.\n",
    "2. Updates the values based on the Bellman expectation equation.\n",
    "3. Computes the maximal change of the values across all states.\n",
    "4. If the maximal change is greater than the threshold, it keeps updating the values. Otherwise, it terminates the evaluation process and returns the latest values."
   ]
  },
  {
   "cell_type": "code",
   "execution_count": 13,
   "metadata": {},
   "outputs": [],
   "source": [
    "def policy_evaluation(policy, trans_matrix, rewards, gamma, threshold):\n",
    "    \"\"\"\n",
    "    Perform policy evaluation\n",
    "    @param policy: policy matrix containing actions and their \n",
    "                            probability in each state\n",
    "    @param trans_matrix: transformation matrix\n",
    "    @param rewards: rewards for each state\n",
    "    @param gamma: discount factor\n",
    "    @param threshold: the evaluation will stop once values \n",
    "                           for all states are less than the threshold\n",
    "    @return: values of the given policy for all possible states\n",
    "    \"\"\"\n",
    "    n_state = policy.shape[0]\n",
    "    V = torch.zeros(n_state)\n",
    "    V_his = [V]\n",
    "    i = 0\n",
    "    while True:\n",
    "        V_temp = torch.zeros(n_state)\n",
    "        i += 1\n",
    "        for state, actions in enumerate(policy):\n",
    "            for action, action_prob in enumerate(actions):\n",
    "                V_temp[state] += action_prob * (R[state] + gamma * torch.dot(trans_matrix[state, action], V))\n",
    "        max_delta = torch.max(torch.abs(V - V_temp))\n",
    "        V = V_temp.clone()\n",
    "        V_his.append(V)\n",
    "        if max_delta <= threshold:\n",
    "            break\n",
    "    return V, V_his"
   ]
  },
  {
   "cell_type": "markdown",
   "metadata": {},
   "source": [
    "Define the threshold used to determine when to stop the evaluation process and the optimal policy where action a0 is chosen under all circumstances:"
   ]
  },
  {
   "cell_type": "code",
   "execution_count": 14,
   "metadata": {},
   "outputs": [],
   "source": [
    "threshold = 0.0001\n",
    "\n",
    "policy_optimal = torch.tensor([[1.0, 0.0],\n",
    "                               [1.0, 0.0],\n",
    "                               [1.0, 0.0]])"
   ]
  },
  {
   "cell_type": "markdown",
   "metadata": {},
   "source": [
    "Using the policy_evaluation function to find the optimal policy:"
   ]
  },
  {
   "cell_type": "code",
   "execution_count": 15,
   "metadata": {},
   "outputs": [
    {
     "name": "stdout",
     "output_type": "stream",
     "text": [
      "The value function under the optimal policy is:\n",
      "tensor([-1.6780, -0.5201,  0.3829])\n"
     ]
    }
   ],
   "source": [
    "V, V_his = policy_evaluation(policy_optimal, T, R, gamma, threshold)\n",
    "\n",
    "print(\"The value function under the optimal policy is:\\n{}\".format(V))"
   ]
  },
  {
   "cell_type": "markdown",
   "metadata": {},
   "source": [
    "Plot the resulting history of values:"
   ]
  },
  {
   "cell_type": "code",
   "execution_count": 5,
   "metadata": {},
   "outputs": [],
   "source": [
    "import matplotlib.pyplot as plt\n",
    "\n",
    "def plot_history(V_history, gamma):\n",
    "    s = []\n",
    "    text = []\n",
    "    for i in range(len(V_history[0])):\n",
    "        s_x, = plt.plot([v[i] for v in V_history])\n",
    "        s.append(s_x)\n",
    "        text.append('State s' + str(i))\n",
    "\n",
    "    plt.title('Optimal policy with gamma = {}'.format(str(gamma)))\n",
    "    plt.xlabel('Iteration')\n",
    "    plt.ylabel('Policy values')\n",
    "    plt.legend(s, text, loc=\"upper left\")\n",
    "    \n",
    "    plt.show()"
   ]
  },
  {
   "cell_type": "code",
   "execution_count": 17,
   "metadata": {},
   "outputs": [
    {
     "data": {
      "image/png": "[encoded data removed]",
      "text/plain": [
       "<Figure size 432x288 with 1 Axes>"
      ]
     },
     "metadata": {
      "needs_background": "light"
     },
     "output_type": "display_data"
    }
   ],
   "source": [
    "plot_history(V_his, gamma)"
   ]
  },
  {
   "cell_type": "markdown",
   "metadata": {},
   "source": [
    "### Value iteration algorithm\n",
    "\n",
    "The idea behind value iteration is quite similar to that of policy evaluation. It is also an iterative algorithm. It starts with arbitrary policy values and then iteratively updates the values based on the Bellman optimality equation until they converge. So in each iteration, instead of taking the expectation (average) of values across all actions, it picks the action that achieves the maximal policy values:\n",
    "\n",
    "$$ V^*(s) = \\max_a \\left[ R(s,a) + \\gamma \\sum_{s'} T(s,a',s') V^*(s') \\right] $$ \n",
    "\n",
    "$V^*(s)$ denotes the optimal value, which is the value of the optimal policy\n",
    "\n",
    "Once the optimal values are computed, we obtain the optimal policy:\n",
    "\n",
    "$$ \\pi^*(s) = \\text{argmax}_a \\sum_{s'}T(s,a,s') \\left[ R(s,a) + \\gamma V^*(s') \\right] $$ "
   ]
  },
  {
   "cell_type": "markdown",
   "metadata": {},
   "source": [
    "### Apply it to gym environment\n",
    "\n",
    "In this step, we try to use *FrozenLake* environment to see how to implement the value iteration.\n",
    "\n",
    "FrozenLake is a typical Gym environment with a discrete state space. It is about moving an agent from the starting location to the goal location in a grid world, and at the same time avoiding traps. Currently, We use four by four grid (https://gym.openai.com/envs/FrozenLake-v0/)."
   ]
  },
  {
   "cell_type": "markdown",
   "metadata": {},
   "source": [
    "## OpenAI Gym\n",
    "\n",
    "One of the popular simulation environment for RL is OpenAI Gym.\n",
    "\n",
    "[OpenAI](https://openai.com) is a research company trying to develop systems exhibiting *artificial general intelligence* (AGI).\n",
    "They developed Gym to support the development of RL algorithms. Gym\n",
    "provides many reinforcement learning simulations and tasks. Visit [the Gym website](https://gym.openai.com) for a full list of environments.\n",
    "\n",
    "<img src=\"img/RL_gym.PNG\" title=\"Gym example\" style=\"width: 600px;\" />\n",
    "\n",
    "### Install Gym\n",
    "\n",
    "From your local machine, you can follow from [this step](https://github.com/Alisa-Kunapinun/Deep-Reinforcement-learning-lab/tree/main/01-Intro_RL_Setup). However, it is a little bit old (and the gym is update every 2 month!), so try to solve those problems yourself. :-)"
   ]
  },
  {
   "cell_type": "code",
   "execution_count": null,
   "metadata": {},
   "outputs": [],
   "source": [
    "# RUN apt-get update ; apt-get install -y x11-utils xvfb python-opengl\n",
    "# RUN pip install pyglet gym pyvirtualdisplay\n",
    "# RUN pip install -U gym==0.21.0\n",
    "# RUN pip install gym[atari,accept-rom-license]\n",
    "\n",
    "!pip install gym pyvirtualdisplay > /dev/null 2>&1\n",
    "!pip install -U gym==0.21.0\n",
    "#!pip install -U gym[atari,accept-rom-license]\n",
    "!pip install gym[atari,accept-rom-license]"
   ]
  },
  {
   "cell_type": "markdown",
   "metadata": {},
   "source": [
    "#### Test it!"
   ]
  },
  {
   "cell_type": "code",
   "execution_count": 18,
   "metadata": {},
   "outputs": [
    {
     "data": {
      "image/png": "[encoded data removed]",
      "text/plain": [
       "<Figure size 432x288 with 1 Axes>"
      ]
     },
     "metadata": {
      "needs_background": "light"
     },
     "output_type": "display_data"
    }
   ],
   "source": [
    "import gym\n",
    "import numpy as np\n",
    "import matplotlib.pyplot as plt\n",
    "from IPython import display as ipythondisplay\n",
    "\n",
    "from pyvirtualdisplay import Display\n",
    "display = Display(visible=0, size=(400, 300))\n",
    "display.start()\n",
    "\n",
    "# env = gym.make(\"CartPole-v0\")\n",
    "# env = gym.make(\"DoubleDunk-v0\")\n",
    "env = gym.make(\"SpaceInvaders-v0\")\n",
    "# env = gym.make(\"Acrobot-v1\") # double invert pendulum\n",
    "env.reset()\n",
    "prev_screen = env.render(mode='rgb_array')\n",
    "plt.imshow(prev_screen)\n",
    "\n",
    "for i in range(20):\n",
    "    action = env.action_space.sample()\n",
    "    obs, reward, done, info = env.step(action)\n",
    "    # total = env.step(action)\n",
    "    screen = env.render(mode='rgb_array')\n",
    "\n",
    "    plt.imshow(screen)\n",
    "    ipythondisplay.clear_output(wait=True)\n",
    "    ipythondisplay.display(plt.gcf())\n",
    "\n",
    "    if done:\n",
    "        break\n",
    "\n",
    "ipythondisplay.clear_output(wait=True)\n",
    "env.close()"
   ]
  },
  {
   "cell_type": "markdown",
   "metadata": {},
   "source": [
    "### Come back to Value Iteration\n",
    "\n",
    "Import gym library and pytorch library."
   ]
  },
  {
   "cell_type": "code",
   "execution_count": 19,
   "metadata": {},
   "outputs": [],
   "source": [
    "import gym\n",
    "import torch"
   ]
  },
  {
   "cell_type": "markdown",
   "metadata": {},
   "source": [
    "Create Frozen environment and take a look states and actions"
   ]
  },
  {
   "cell_type": "code",
   "execution_count": 20,
   "metadata": {},
   "outputs": [
    {
     "name": "stdout",
     "output_type": "stream",
     "text": [
      "number of states: 16\n",
      "number of actions: 4\n"
     ]
    }
   ],
   "source": [
    "env = gym.make(\"FrozenLake-v1\")\n",
    "\n",
    "n_state = env.observation_space.n\n",
    "print(\"number of states:\", n_state)\n",
    "\n",
    "n_action = env.action_space.n\n",
    "print(\"number of actions:\", n_action)"
   ]
  },
  {
   "cell_type": "markdown",
   "metadata": {},
   "source": [
    "Reset and render the environment. Because the graphical of the environment is **text** style and no image pop-up. We can use render() directly.\n",
    "\n",
    "**Note**: In the new version of gym, the environment is not text, so you need to use **pyvirtualdisplay**. These depend on your version. Check yourself!"
   ]
  },
  {
   "cell_type": "code",
   "execution_count": 21,
   "metadata": {},
   "outputs": [
    {
     "name": "stdout",
     "output_type": "stream",
     "text": [
      "\n",
      "\u001b[41mS\u001b[0mFFF\n",
      "FHFH\n",
      "FFFH\n",
      "HFFG\n",
      "state:  0\n"
     ]
    }
   ],
   "source": [
    "state = env.reset()\n",
    "env.render()\n",
    "\n",
    "print(\"state: \", state)"
   ]
  },
  {
   "cell_type": "markdown",
   "metadata": {},
   "source": [
    "Try to put an down action to make the agent work."
   ]
  },
  {
   "cell_type": "code",
   "execution_count": 22,
   "metadata": {},
   "outputs": [
    {
     "name": "stdout",
     "output_type": "stream",
     "text": [
      "  (Down)\n",
      "S\u001b[41mF\u001b[0mFF\n",
      "FHFH\n",
      "FFFH\n",
      "HFFG\n"
     ]
    }
   ],
   "source": [
    "left = 0\n",
    "down = 1\n",
    "right = 2\n",
    "up = 3\n",
    "new_state, reward, is_done, info = env.step(down)\n",
    "env.render()"
   ]
  },
  {
   "cell_type": "markdown",
   "metadata": {},
   "source": [
    "Check the output of environment class after take action. In the <code>info</code>, and <code>new_state</code>, it says that the agent lands in <code>new_state</code>, with probability 0.3333333333333333. The reward is 0 because the agent has not reached the goal and the episode is not done. You might see the agent landing in different state, or staying in state 0 because of the slippery surface."
   ]
  },
  {
   "cell_type": "code",
   "execution_count": 23,
   "metadata": {},
   "outputs": [
    {
     "name": "stdout",
     "output_type": "stream",
     "text": [
      "state:  1\n",
      "reward:  0.0\n",
      "Finish?:  False\n",
      "information:  {'prob': 0.3333333333333333}\n"
     ]
    }
   ],
   "source": [
    "print(\"state: \", new_state)\n",
    "\n",
    "print(\"reward: \", reward)\n",
    "\n",
    "print(\"Finish?: \", is_done)\n",
    "\n",
    "print(\"information: \", info)"
   ]
  },
  {
   "cell_type": "markdown",
   "metadata": {},
   "source": [
    "Define a function that simulates a FrozenLake episode given a policy and returns the total reward"
   ]
  },
  {
   "cell_type": "code",
   "execution_count": 24,
   "metadata": {},
   "outputs": [],
   "source": [
    "def run_episode(env, policy, render=False):\n",
    "    state = env.reset()\n",
    "    if render:\n",
    "        env.render()\n",
    "    total_reward = 0\n",
    "    is_done = False\n",
    "    step = 1\n",
    "    while not is_done:\n",
    "        action = policy[state].item()\n",
    "        state, reward, is_done, info = env.step(action)\n",
    "        if render:\n",
    "            print('step: ', step)\n",
    "            env.render()\n",
    "        total_reward += reward\n",
    "        step += 1\n",
    "        if is_done:\n",
    "            break\n",
    "    return total_reward"
   ]
  },
  {
   "cell_type": "markdown",
   "metadata": {},
   "source": [
    "Try to run 500 episodes with random policy, and see the results\n",
    "\n",
    "We randomly generated a policy that was composed of 16 actions for the 16 states. Keep in mind that in FrozenLake, the movement direction is only partially dependent on the chosen action. This increases the uncertainty of control."
   ]
  },
  {
   "cell_type": "code",
   "execution_count": 25,
   "metadata": {},
   "outputs": [
    {
     "name": "stdout",
     "output_type": "stream",
     "text": [
      "Average total reward under random policy: 0.002\n",
      "tensor([3, 1, 0, 3, 0, 1, 1, 2, 1, 0, 0, 0, 3, 2, 1, 0])\n"
     ]
    }
   ],
   "source": [
    "n_episode = 500\n",
    "total_rewards = []\n",
    "\n",
    "for episode in range(n_episode):\n",
    "    # Create random policy with integer value deal to number of actions with n_state size.\n",
    "    random_policy = torch.randint(high=n_action, size=(n_state,))\n",
    "    # run an episode\n",
    "    total_reward = run_episode(env, random_policy)\n",
    "    total_rewards.append(total_reward)\n",
    "    \n",
    "    if total_reward == 1:\n",
    "        best_policy = random_policy\n",
    "        break\n",
    "    \n",
    "print('Average total reward under random policy: {}'.format(sum(total_rewards) / n_episode))\n",
    "# see the best policy\n",
    "print(best_policy)"
   ]
  },
  {
   "cell_type": "markdown",
   "metadata": {},
   "source": [
    "Try to run 500 episodes again using the <code>best_policy</code>, to check that the winning rate is good or not."
   ]
  },
  {
   "cell_type": "code",
   "execution_count": 26,
   "metadata": {},
   "outputs": [
    {
     "name": "stdout",
     "output_type": "stream",
     "text": [
      "Average total reward under best policy: 0.044\n"
     ]
    }
   ],
   "source": [
    "total_rewards = []\n",
    "\n",
    "for episode in range(n_episode):# run an episode\n",
    "    total_reward = run_episode(env, best_policy)\n",
    "    total_rewards.append(total_reward)\n",
    "    \n",
    "print('Average total reward under best policy: {}'.format(sum(total_rewards) / n_episode))"
   ]
  },
  {
   "cell_type": "markdown",
   "metadata": {},
   "source": [
    "See the simulator"
   ]
  },
  {
   "cell_type": "code",
   "execution_count": 27,
   "metadata": {},
   "outputs": [
    {
     "name": "stdout",
     "output_type": "stream",
     "text": [
      "\n",
      "\u001b[41mS\u001b[0mFFF\n",
      "FHFH\n",
      "FFFH\n",
      "HFFG\n",
      "step:  1\n",
      "  (Up)\n",
      "\u001b[41mS\u001b[0mFFF\n",
      "FHFH\n",
      "FFFH\n",
      "HFFG\n",
      "step:  2\n",
      "  (Up)\n",
      "\u001b[41mS\u001b[0mFFF\n",
      "FHFH\n",
      "FFFH\n",
      "HFFG\n",
      "step:  3\n",
      "  (Up)\n",
      "\u001b[41mS\u001b[0mFFF\n",
      "FHFH\n",
      "FFFH\n",
      "HFFG\n",
      "step:  4\n",
      "  (Up)\n",
      "S\u001b[41mF\u001b[0mFF\n",
      "FHFH\n",
      "FFFH\n",
      "HFFG\n",
      "step:  5\n",
      "  (Down)\n",
      "SFFF\n",
      "F\u001b[41mH\u001b[0mFH\n",
      "FFFH\n",
      "HFFG\n",
      "Total reward under best policy: 0.0\n"
     ]
    }
   ],
   "source": [
    "total_reward = run_episode(env, best_policy, True)\n",
    "\n",
    "print('Total reward under best policy: {}'.format(total_reward))"
   ]
  },
  {
   "cell_type": "markdown",
   "metadata": {},
   "source": [
    "### Solving FrozenLake with value iteration\n",
    "\n",
    "At above, we found that the best policy from random policy is not good enough, so let's implement value iteration.\n",
    "\n",
    "Set discount factor $\\gamma$ as 0.9 and convergence threshold 0.000001"
   ]
  },
  {
   "cell_type": "code",
   "execution_count": 28,
   "metadata": {},
   "outputs": [],
   "source": [
    "gamma = 0.9\n",
    "threshold = 0.000001"
   ]
  },
  {
   "cell_type": "markdown",
   "metadata": {},
   "source": [
    "Create value iteration function"
   ]
  },
  {
   "cell_type": "code",
   "execution_count": 29,
   "metadata": {},
   "outputs": [],
   "source": [
    "def value_iteration(env, gamma, threshold):\n",
    "    \"\"\"\n",
    "    Solve a given environment with value iteration algorithm\n",
    "    @param env: OpenAI Gym environment\n",
    "    @param gamma: discount factor\n",
    "    @param threshold: the evaluation will stop once values for \n",
    "                       all states are less than the threshold\n",
    "    @return: values of the optimal policy for the given \n",
    "              environment\n",
    "    \"\"\"\n",
    "    n_state = env.observation_space.n\n",
    "    n_action = env.action_space.n\n",
    "    V = torch.zeros(n_state)\n",
    "    while True:\n",
    "        V_temp = torch.empty(n_state)\n",
    "        for state in range(n_state):\n",
    "            v_actions = torch.zeros(n_action)\n",
    "            for action in range(n_action):\n",
    "                # calculate the optimal policy using probability in environment\n",
    "                for trans_prob, new_state, reward, _ in env.env.P[state][action]:\n",
    "                    v_actions[action] += trans_prob * (reward + gamma * V[new_state])\n",
    "            V_temp[state] = torch.max(v_actions)\n",
    "        max_delta = torch.max(torch.abs(V - V_temp))\n",
    "        V = V_temp.clone()\n",
    "        if max_delta <= threshold:\n",
    "            break\n",
    "    return V"
   ]
  },
  {
   "cell_type": "markdown",
   "metadata": {},
   "source": [
    "Find the optimal value using value iteration function"
   ]
  },
  {
   "cell_type": "code",
   "execution_count": 30,
   "metadata": {},
   "outputs": [
    {
     "name": "stdout",
     "output_type": "stream",
     "text": [
      "Optimal values:\n",
      "tensor([0.0689, 0.0614, 0.0744, 0.0558, 0.0918, 0.0000, 0.1122, 0.0000, 0.1454,\n",
      "        0.2475, 0.2996, 0.0000, 0.0000, 0.3799, 0.6390, 0.0000])\n"
     ]
    }
   ],
   "source": [
    "V_optimal = value_iteration(env, gamma, threshold)\n",
    "\n",
    "print('Optimal values:\\n{}'.format(V_optimal))"
   ]
  },
  {
   "cell_type": "markdown",
   "metadata": {},
   "source": [
    "Create a function to extract from optimal value to be optimal policy."
   ]
  },
  {
   "cell_type": "code",
   "execution_count": 31,
   "metadata": {},
   "outputs": [],
   "source": [
    "def extract_optimal_policy(env, V_optimal, gamma):\n",
    "    \"\"\"\n",
    "    Obtain the optimal policy based on the optimal values\n",
    "    @param env: OpenAI Gym environment\n",
    "    @param V_optimal: optimal values\n",
    "    @param gamma: discount factor\n",
    "    @return: optimal policy\n",
    "    \"\"\"\n",
    "    n_state = env.observation_space.n\n",
    "    n_action = env.action_space.n\n",
    "    optimal_policy = torch.zeros(n_state)\n",
    "    for state in range(n_state):\n",
    "        v_actions = torch.zeros(n_action)\n",
    "        for action in range(n_action):\n",
    "            for trans_prob, new_state, reward, _ in env.env.P[state][action]:\n",
    "                v_actions[action] += trans_prob * (reward \n",
    "                           + gamma * V_optimal[new_state])\n",
    "        optimal_policy[state] = torch.argmax(v_actions)\n",
    "    return optimal_policy"
   ]
  },
  {
   "cell_type": "code",
   "execution_count": 32,
   "metadata": {},
   "outputs": [
    {
     "name": "stdout",
     "output_type": "stream",
     "text": [
      "Optimal policy:\n",
      "tensor([0., 3., 0., 3., 0., 0., 0., 0., 3., 1., 0., 0., 0., 2., 1., 0.])\n"
     ]
    }
   ],
   "source": [
    "optimal_policy = extract_optimal_policy(env, V_optimal, gamma)\n",
    "\n",
    "print('Optimal policy:\\n{}'.format(optimal_policy))"
   ]
  },
  {
   "cell_type": "markdown",
   "metadata": {},
   "source": [
    "Try to run 500 episodes again using the <code>optimal_policy</code>, to check that the winning rate is good or not."
   ]
  },
  {
   "cell_type": "code",
   "execution_count": 33,
   "metadata": {},
   "outputs": [
    {
     "name": "stdout",
     "output_type": "stream",
     "text": [
      "Average total reward under optimal policy: 0.712\n"
     ]
    }
   ],
   "source": [
    "total_rewards = []\n",
    "\n",
    "for episode in range(n_episode):# run an episode\n",
    "    total_reward = run_episode(env, optimal_policy)\n",
    "    total_rewards.append(total_reward)\n",
    "    \n",
    "print('Average total reward under optimal policy: {}'.format(sum(total_rewards) / n_episode))"
   ]
  },
  {
   "cell_type": "markdown",
   "metadata": {},
   "source": [
    "You can see that the optimal_policy accuracy is better than the random_policy."
   ]
  },
  {
   "cell_type": "markdown",
   "metadata": {},
   "source": [
    "### Policy iteration\n",
    "\n",
    "Policy iteration starts with a random policy then uses policy evaluation and the resulting values to iteratively improve the policy until an optimal policy is obtained. It is, however,\n",
    "slow, due to the policy evaluation loop within the policy iteration loop.\n",
    "\n",
    "### Implement with policy iteration\n",
    "\n",
    "A policy iteration algorithm can be subdivided into two components: policy evaluation and policy improvement. It starts with an arbitrary policy. And in each iteration, it first computes the policy values given the latest policy, based on the Bellman expectation equation; it then extracts an improved policy out of the resulting policy values, based on the Bellman optimality equation. It iteratively evaluates the policy and generates an improved version until the policy doesn't change any more.\n",
    "\n",
    "$$ V(s) = \\sum_{s'} T(s,a',s') \\left[ R(s,a,s') + \\gamma V(s') \\right] $$ \n",
    "\n",
    "Once the optimal values are computed, we obtain the optimal policy:\n",
    "\n",
    "$$ \\pi(s) = \\text{argmax}_a \\sum_{s'}T(s,a,s') \\left[ R(s,a,s') + \\gamma V(s') \\right] $$ \n",
    "\n",
    "Here's an implementation using a slightly different formulation fo the reward as a function $R(s,a,s')$ of the current state $s$, action taken $a$, and resulting state $s'$:"
   ]
  },
  {
   "cell_type": "code",
   "execution_count": 34,
   "metadata": {
    "tags": []
   },
   "outputs": [],
   "source": [
    "def policy_evaluation(env, policy, gamma, threshold):\n",
    "    \"\"\"\n",
    "    Perform policy evaluation\n",
    "    @param env: OpenAI Gym environment\n",
    "    @param policy: policy matrix containing actions and \n",
    "                            their probability in each state\n",
    "    @param gamma: discount factor\n",
    "    @param threshold: the evaluation will stop once values for all states are less than the threshold\n",
    "    @return: values of the given policy\n",
    "    \"\"\"\n",
    "    n_state = policy.shape[0]\n",
    "    V = torch.zeros(n_state)\n",
    "    while True:\n",
    "        V_temp = torch.zeros(n_state)\n",
    "        for state in range(n_state):\n",
    "            action = policy[state].item()\n",
    "            for trans_prob, new_state, reward, _ in env.env.P[state][action]:\n",
    "                V_temp[state] += trans_prob * (reward + gamma * V[new_state])\n",
    "        max_delta = torch.max(torch.abs(V - V_temp))\n",
    "        V = V_temp.clone()\n",
    "        if max_delta <= threshold:\n",
    "            break\n",
    "    return V"
   ]
  },
  {
   "cell_type": "code",
   "execution_count": 35,
   "metadata": {},
   "outputs": [],
   "source": [
    "def policy_improvement(env, V, gamma):\n",
    "    \"\"\"\n",
    "    Obtain an improved policy based on the values\n",
    "    @param env: OpenAI Gym environment\n",
    "    @param V: policy values\n",
    "    @param gamma: discount factor\n",
    "    @return: the policy\n",
    "    \"\"\"\n",
    "    n_state = env.observation_space.n\n",
    "    n_action = env.action_space.n\n",
    "    policy = torch.zeros(n_state)\n",
    "    for state in range(n_state):\n",
    "        v_actions = torch.zeros(n_action)\n",
    "        for action in range(n_action):\n",
    "            for trans_prob, new_state, reward, _ in env.env.P[state][action]:\n",
    "                v_actions[action] += trans_prob * (reward + gamma * V[new_state])\n",
    "        policy[state] = torch.argmax(v_actions)\n",
    "    return policy"
   ]
  },
  {
   "cell_type": "markdown",
   "metadata": {},
   "source": [
    "Create policy_iteration function. The function combines policy_evaluation and policy_improvement."
   ]
  },
  {
   "cell_type": "code",
   "execution_count": 36,
   "metadata": {},
   "outputs": [],
   "source": [
    "def policy_iteration(env, gamma, threshold):\n",
    "    \"\"\"\n",
    "    Solve a given environment with policy iteration algorithm\n",
    "    @param env: OpenAI Gym environment\n",
    "    @param gamma: discount factor\n",
    "    @param threshold: the evaluation will stop once values \n",
    "                    for all states are less than the threshold\n",
    "    @return: optimal values and the optimal policy for the given \n",
    "              environment\n",
    "    \"\"\"\n",
    "    n_state = env.observation_space.n\n",
    "    n_action = env.action_space.n\n",
    "    policy = torch.randint(high=n_action, size=(n_state,)).float()\n",
    "    while True:\n",
    "        V = policy_evaluation(env, policy, gamma, threshold)\n",
    "        policy_improved = policy_improvement(env, V, gamma)\n",
    "        if torch.equal(policy_improved, policy):\n",
    "            return V, policy_improved\n",
    "        policy = policy_improved"
   ]
  },
  {
   "cell_type": "code",
   "execution_count": 37,
   "metadata": {},
   "outputs": [
    {
     "name": "stdout",
     "output_type": "stream",
     "text": [
      "Optimal values:\n",
      "tensor([0.0689, 0.0614, 0.0744, 0.0558, 0.0918, 0.0000, 0.1122, 0.0000, 0.1454,\n",
      "        0.2475, 0.2996, 0.0000, 0.0000, 0.3799, 0.6390, 0.0000])\n",
      "Optimal policy:\n",
      "tensor([0., 3., 0., 3., 0., 0., 0., 0., 3., 1., 0., 0., 0., 2., 1., 0.])\n"
     ]
    }
   ],
   "source": [
    "# try it\n",
    "V_optimal, optimal_policy = policy_iteration(env, gamma, threshold)\n",
    "\n",
    "print('Optimal values:\\n{}'.format(V_optimal))\n",
    "print('Optimal policy:\\n{}'.format(optimal_policy))"
   ]
  },
  {
   "cell_type": "markdown",
   "metadata": {},
   "source": [
    "Try to run 500 episodes again using the <code>optimal_policy</code>, to check that the winning rate is good or not."
   ]
  },
  {
   "cell_type": "code",
   "execution_count": 38,
   "metadata": {},
   "outputs": [
    {
     "name": "stdout",
     "output_type": "stream",
     "text": [
      "Average total reward under optimal policy: 0.726\n"
     ]
    }
   ],
   "source": [
    "total_rewards = []\n",
    "\n",
    "for episode in range(n_episode):# run an episode\n",
    "    total_reward = run_episode(env, optimal_policy)\n",
    "    total_rewards.append(total_reward)\n",
    "    \n",
    "print('Average total reward under optimal policy: {}'.format(sum(total_rewards) / n_episode))"
   ]
  },
  {
   "cell_type": "markdown",
   "metadata": {},
   "source": [
    "### Atari games environment\n",
    "\n",
    "Atari games includes video games such as Alien, Pong, and Space Race. Here is the example of using the Space Invaders game.\n",
    "\n",
    "Let's create a Space Invaders environment:"
   ]
  },
  {
   "cell_type": "code",
   "execution_count": 39,
   "metadata": {},
   "outputs": [
    {
     "data": {
      "text/plain": [
       "array([[[ 0,  0,  0],\n",
       "        [ 0,  0,  0],\n",
       "        [ 0,  0,  0],\n",
       "        ...,\n",
       "        [ 0,  0,  0],\n",
       "        [ 0,  0,  0],\n",
       "        [ 0,  0,  0]],\n",
       "\n",
       "       [[ 0,  0,  0],\n",
       "        [ 0,  0,  0],\n",
       "        [ 0,  0,  0],\n",
       "        ...,\n",
       "        [ 0,  0,  0],\n",
       "        [ 0,  0,  0],\n",
       "        [ 0,  0,  0]],\n",
       "\n",
       "       [[ 0,  0,  0],\n",
       "        [ 0,  0,  0],\n",
       "        [ 0,  0,  0],\n",
       "        ...,\n",
       "        [ 0,  0,  0],\n",
       "        [ 0,  0,  0],\n",
       "        [ 0,  0,  0]],\n",
       "\n",
       "       ...,\n",
       "\n",
       "       [[80, 89, 22],\n",
       "        [80, 89, 22],\n",
       "        [80, 89, 22],\n",
       "        ...,\n",
       "        [80, 89, 22],\n",
       "        [80, 89, 22],\n",
       "        [80, 89, 22]],\n",
       "\n",
       "       [[80, 89, 22],\n",
       "        [80, 89, 22],\n",
       "        [80, 89, 22],\n",
       "        ...,\n",
       "        [80, 89, 22],\n",
       "        [80, 89, 22],\n",
       "        [80, 89, 22]],\n",
       "\n",
       "       [[80, 89, 22],\n",
       "        [80, 89, 22],\n",
       "        [80, 89, 22],\n",
       "        ...,\n",
       "        [80, 89, 22],\n",
       "        [80, 89, 22],\n",
       "        [80, 89, 22]]], dtype=uint8)"
      ]
     },
     "execution_count": 39,
     "metadata": {},
     "output_type": "execute_result"
    }
   ],
   "source": [
    "import gym\n",
    "# create environment\n",
    "env = gym.make('SpaceInvaders-v0')\n",
    "\n",
    "# reset environments\n",
    "env.reset()"
   ]
  },
  {
   "cell_type": "markdown",
   "metadata": {},
   "source": [
    "Render the environment locally. (You cannot render in Jupyter, or let us know if you find a way!)\n",
    "\n",
    "Locally, you should get output like this:\n",
    "\n",
    "<img src=\"img/RL_SpaceInvaders.PNG\" title=\"Space Invaders\" style=\"width: 600px;\" />"
   ]
  },
  {
   "cell_type": "markdown",
   "metadata": {},
   "source": [
    "After rendering, you'll want to close the environment.\n",
    "\n",
    "<font size=\"3\" color=\"red\"><b>WARNING</b></font>\n",
    "    \n",
    "In JUPYTER NOTEBOOK or JUPYTER LAB, you need to use <code><font color='red'>env.close()</font></code> after <code>env.render()</code>, unless the program will stuck."
   ]
  },
  {
   "cell_type": "code",
   "execution_count": null,
   "metadata": {},
   "outputs": [],
   "source": [
    "# Example 1\n",
    "\n",
    "# import time\n",
    "# env.render()\n",
    "# time.sleep(5)\n",
    "#close the environment\n",
    "# env.close()"
   ]
  },
  {
   "cell_type": "markdown",
   "metadata": {},
   "source": [
    "If you cannot use Atari games due to errors occurring in Windows, you can try another simulator such as CartPole (inverted pendulum):\n",
    "\n",
    "<img src=\"img/RL_CartPole.PNG\" title=\"Cart pole\" style=\"width: 600px;\" />"
   ]
  },
  {
   "cell_type": "code",
   "execution_count": null,
   "metadata": {},
   "outputs": [],
   "source": [
    "# Example 2\n",
    "\n",
    "#import gym\n",
    "#import time\n",
    "# create environment\n",
    "#env = gym.make('CartPole-v0')\n",
    "\n",
    "# reset environments\n",
    "#env.reset()\n",
    "\n",
    "# render the environment\n",
    "#env.render()\n",
    "#time.sleep(5)\n",
    "\n",
    "#env.close()"
   ]
  },
  {
   "cell_type": "markdown",
   "metadata": {},
   "source": [
    "Before try the example above, I have another solution that you can use gym run in Jupyter notebook.\n",
    "One is MP4 and another is real-time showing. <link>[In this link](https://kyso.io/eoin/openai-gym-jupyter#code=both)</link>"
   ]
  },
  {
   "cell_type": "markdown",
   "metadata": {},
   "source": [
    "### Way1: MP4 Running\n",
    "\n",
    "Save the simulation as an mp4 and save it at the end. This method makes the simulation faster since there is no visualising happening every step. In this simulation we just make the space ship take a random move each step."
   ]
  },
  {
   "cell_type": "code",
   "execution_count": 40,
   "metadata": {},
   "outputs": [],
   "source": [
    "import gym\n",
    "from gym import wrappers\n",
    "\n",
    "env = gym.make('SpaceInvaders-v0')\n",
    "env = wrappers.Monitor(env, \"./gym-results\", force=True)\n",
    "env.reset()\n",
    "for _ in range(1000):\n",
    "    action = env.action_space.sample()\n",
    "    observation, reward, done, info = env.step(action)\n",
    "    if done: break\n",
    "env.close()"
   ]
  },
  {
   "cell_type": "markdown",
   "metadata": {},
   "source": [
    "And show MP4 vdo by this code"
   ]
  },
  {
   "cell_type": "code",
   "execution_count": 44,
   "metadata": {},
   "outputs": [
    {
     "data": {
      "text/html": [
       "\n",
       "    <video width=\"360\" height=\"auto\" alt=\"test\" controls><source src=\"data:video/mp4;base64,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\" type=\"video/mp4\" /></video>"
      ],
      "text/plain": [
       "<IPython.core.display.HTML object>"
      ]
     },
     "execution_count": 44,
     "metadata": {},
     "output_type": "execute_result"
    }
   ],
   "source": [
    "import io\n",
    "import base64\n",
    "from IPython.display import HTML\n",
    "\n",
    "video = io.open('./gym-results/openaigym.video.%s.video000000.mp4' % env.file_infix, 'r+b').read()\n",
    "encoded = base64.b64encode(video)\n",
    "HTML(data='''\n",
    "    <video width=\"360\" height=\"auto\" alt=\"test\" controls><source src=\"data:video/mp4;base64,{0}\" type=\"video/mp4\" /></video>'''\n",
    ".format(encoded.decode('ascii')))"
   ]
  },
  {
   "cell_type": "markdown",
   "metadata": {},
   "source": [
    "### Way2: Show as gif in realtime\n",
    "\n",
    "This method is useful for look at the simulation in realtime, but it does make the simulation take longer. It does not save the gif, but if you run this cell you will the image change as the simulation progresses."
   ]
  },
  {
   "cell_type": "code",
   "execution_count": 3,
   "metadata": {},
   "outputs": [],
   "source": [
    "#!pip install pyglet\n",
    "#!pip uninstall -y gym[box2d]"
   ]
  },
  {
   "cell_type": "code",
   "execution_count": 41,
   "metadata": {},
   "outputs": [
    {
     "name": "stdout",
     "output_type": "stream",
     "text": [
      "Track generation: 1163..1465 -> 302-tiles track\n"
     ]
    },
    {
     "data": {
      "text/plain": [
       "<Figure size 648x648 with 0 Axes>"
      ]
     },
     "metadata": {},
     "output_type": "display_data"
    }
   ],
   "source": [
    "import gym\n",
    "from IPython import display\n",
    "import matplotlib\n",
    "import matplotlib.pyplot as plt\n",
    "%matplotlib inline\n",
    "\n",
    "env = gym.make('CarRacing-v0')\n",
    "env.reset()\n",
    "plt.figure(figsize=(9,9))\n",
    "#img = plt.imshow(env.render(mode='rgb_array')) # only call this once\n",
    "for _ in range(100):\n",
    "    #img.set_data(env.render(mode='rgb_array')) # just update the data\n",
    "    #display.display(plt.gcf())\n",
    "    #display.clear_output(wait=True)\n",
    "    env.render()\n",
    "    action = env.action_space.sample()\n",
    "    env.step(action)\n",
    "env.close()"
   ]
  },
  {
   "cell_type": "markdown",
   "metadata": {},
   "source": [
    "#### In this lab, I recommend you to use the way2 for smoother working ;-)"
   ]
  },
  {
   "cell_type": "markdown",
   "metadata": {},
   "source": [
    "Take a look at the action space available, and try to get a sample from the action space:"
   ]
  },
  {
   "cell_type": "code",
   "execution_count": 42,
   "metadata": {},
   "outputs": [
    {
     "name": "stdout",
     "output_type": "stream",
     "text": [
      "Box([-1.  0.  0.], [1. 1. 1.], (3,), float32)\n",
      "[-0.8633327   0.44105127  0.17141902]\n"
     ]
    }
   ],
   "source": [
    "print(env.action_space)\n",
    "action = env.action_space.sample()\n",
    "print(action)"
   ]
  },
  {
   "cell_type": "markdown",
   "metadata": {},
   "source": [
    "Execute an action using `step()`.\n",
    "The `step` method returns the next state after the action is taken.\n",
    " - **new_state**: The new observation\n",
    " - **reward**: The reward associated with that action in that state.\n",
    " - **is_done**: A flag to tell the game end (True).\n",
    " - **info**: extra information"
   ]
  },
  {
   "cell_type": "code",
   "execution_count": 43,
   "metadata": {},
   "outputs": [
    {
     "name": "stdout",
     "output_type": "stream",
     "text": [
      "False\n",
      "-0.10000000000000009\n",
      "{}\n"
     ]
    }
   ],
   "source": [
    "new_state, reward, is_done, info = env.step(action)\n",
    "print(is_done)\n",
    "print(reward)\n",
    "print(info)"
   ]
  },
  {
   "cell_type": "markdown",
   "metadata": {},
   "source": [
    "Let's make a *while* loop with a random agent:"
   ]
  },
  {
   "cell_type": "code",
   "execution_count": 44,
   "metadata": {},
   "outputs": [
    {
     "data": {
      "image/png": "[encoded data removed]",
      "text/plain": [
       "<Figure size 648x648 with 1 Axes>"
      ]
     },
     "metadata": {
      "needs_background": "light"
     },
     "output_type": "display_data"
    }
   ],
   "source": [
    "import time\n",
    "\n",
    "is_done = False\n",
    "env = gym.make('SpaceInvaders-v0')\n",
    "env.reset()\n",
    "plt.figure(figsize=(9,9))\n",
    "img = plt.imshow(env.render(mode='rgb_array')) # only call this once\n",
    "step = 0\n",
    "while step >= 2:\n",
    "# while not is_done:\n",
    "    action = env.action_space.sample()\n",
    "    new_state, reward, is_done, info = env.step(action)\n",
    "    print(info)\n",
    "    img.set_data(env.render(mode='rgb_array')) # just update the data\n",
    "    display.display(plt.gcf())\n",
    "    display.clear_output(wait=True)\n",
    "    time.sleep(0.03)\n",
    "    step += 1\n",
    "env.close()"
   ]
  },
  {
   "cell_type": "markdown",
   "metadata": {},
   "source": [
    "## Using the environments to do reinforcement learning\n",
    "\n",
    "## Monte Carlo (MC) Method\n",
    "\n",
    "Monte Carlo method is a model-free which have no require any prior knowledge of the environment. MC method is more scalable than MDP. MC control is used for finding the optimal policy when a policy is not given. There are 2 basically of MC control: on-policy and off-policy. On-policy method learns about the optimal policy by executing the policy and evaluating and improving it, while Off-policy method learns about the optimal policy using data generated by another policy."
   ]
  },
  {
   "cell_type": "markdown",
   "metadata": {},
   "source": [
    "## Monte Carlo Method Concept\n",
    "\n",
    "MC method is any mothod that uses randomness to solve problems. The algorithm repeats suitable **random sampling** and observes the fraction of samples that obey particular properties in order to make numerical estimations.\n",
    "\n",
    "## Find $\\pi$ using MC method\n",
    "\n",
    "$\\pi$? Yes the $\\pi$ which is used for calculate circle. We assume that if there are some random points which are in the square area. We can calculate $\\pi$ by\n",
    "\n",
    "$$ A_{rect} = (2r)^2 = 4r^2 $$\n",
    "$$ A_{circle} = \\pi r^2 $$\n",
    "\n",
    "Hence,\n",
    "$$ \\frac{A_{circle}}{A_{rect}} = \\frac{\\pi r^2}{4r^2} = \\frac{\\pi}{4} $$\n",
    "\n",
    "Let's try to code:"
   ]
  },
  {
   "cell_type": "code",
   "execution_count": 45,
   "metadata": {},
   "outputs": [],
   "source": [
    "import torch\n",
    "import numpy\n",
    "import math\n",
    "import matplotlib.pyplot as plt"
   ]
  },
  {
   "cell_type": "markdown",
   "metadata": {},
   "source": [
    "Random 2,000 points in the square $x \\in [-1,1]$ and $y \\in [-1,1]$"
   ]
  },
  {
   "cell_type": "code",
   "execution_count": 46,
   "metadata": {},
   "outputs": [],
   "source": [
    "n_point = 2000\n",
    "points = torch.rand((n_point, 2)) * 2 - 1"
   ]
  },
  {
   "cell_type": "markdown",
   "metadata": {},
   "source": [
    "Find the points which are inside the circle, and keep them (this is for plot in the graph only)\n"
   ]
  },
  {
   "cell_type": "code",
   "execution_count": 47,
   "metadata": {},
   "outputs": [],
   "source": [
    "points_circle_x = []\n",
    "points_circle_y = []\n",
    "n_point_circle = 0\n",
    "\n",
    "pi_iteration = []\n",
    "i = 1\n",
    "for point in points:\n",
    "    r = torch.sqrt(point[0] ** 2 + point[1] ** 2)\n",
    "    if r <= 1:\n",
    "        points_circle_x.append(point[0])\n",
    "        points_circle_y.append(point[1])\n",
    "        n_point_circle += 1\n",
    "    pi_iteration.append(4 * (n_point_circle / i))\n",
    "    i += 1\n",
    "        \n",
    "points_circle_x = numpy.asarray(points_circle_x)\n",
    "points_circle_y = numpy.asarray(points_circle_y)"
   ]
  },
  {
   "cell_type": "markdown",
   "metadata": {},
   "source": [
    "Find the estimate $\\pi$"
   ]
  },
  {
   "cell_type": "code",
   "execution_count": 48,
   "metadata": {},
   "outputs": [
    {
     "name": "stdout",
     "output_type": "stream",
     "text": [
      "Estimated value of pi is: 3.154\n"
     ]
    }
   ],
   "source": [
    "pi_estimated = 4 * n_point_circle / n_point\n",
    "print('Estimated value of pi is:', pi_estimated)"
   ]
  },
  {
   "cell_type": "markdown",
   "metadata": {},
   "source": [
    "Plot to show the points and circle"
   ]
  },
  {
   "cell_type": "code",
   "execution_count": 55,
   "metadata": {},
   "outputs": [
    {
     "data": {
      "image/png": "[encoded data removed]",
      "text/plain": [
       "<Figure size 432x288 with 1 Axes>"
      ]
     },
     "metadata": {
      "needs_background": "light"
     },
     "output_type": "display_data"
    }
   ],
   "source": [
    "\n",
    "plt.plot(points[:, 0].numpy(), points[:, 1].numpy(), 'y.')\n",
    "plt.plot(points_circle_x, points_circle_y, 'c.')\n",
    "# plot real circle\n",
    "i = torch.linspace(0, 2 * math.pi,steps=100)\n",
    "plt.plot(torch.cos(i).numpy(), torch.sin(i).numpy(), 'r-')\n",
    "# plot circle from estimate pi\n",
    "i = torch.linspace(0, 2 * pi_estimated,steps=100)\n",
    "plt.plot(torch.cos(i).numpy(), torch.sin(i).numpy(), 'b--')\n",
    "#plt.axes().set_aspect('equal')\n",
    "plt.show()"
   ]
  },
  {
   "cell_type": "code",
   "execution_count": 56,
   "metadata": {},
   "outputs": [
    {
     "data": {
      "image/png": "[encoded data removed]",
      "text/plain": [
       "<Figure size 432x288 with 1 Axes>"
      ]
     },
     "metadata": {
      "needs_background": "light"
     },
     "output_type": "display_data"
    }
   ],
   "source": [
    "plt.plot(pi_iteration)\n",
    "plt.plot([math.pi] * n_point, '--')\n",
    "plt.xlabel('Iteration')\n",
    "plt.ylabel('Estimated pi')\n",
    "plt.title('Estimation history')\n",
    "plt.show()"
   ]
  },
  {
   "cell_type": "markdown",
   "metadata": {},
   "source": [
    "### Monte Carlo Policy Evaluation\n",
    "\n",
    "Last time, we applied **DP** algorithm into policy evaluation. The things we need are:\n",
    "\n",
    "- Full state-value transition matrix\n",
    "- Reward matrix\n",
    "\n",
    "Those are fully known environment. However, in real-life situation, we don't know before we reach the situation. This is the **limitation of model-base algorithm**. To address the problem, the **model-free algorithm** is created for no pre-required prior knowledge both transition and rewards matrices.\n",
    "\n",
    "We need to recall the returns of **Giving Policy (G)** from a process, which are the total rewards over the long run, \n",
    "\n",
    "$$G_t=\\sum_k \\gamma^k R_{t+k+1}$$\n",
    "\n",
    "MC policy evaluation uses **empirical mean return** instead of **expected return (as in DP)** to estimate the value function. There are two ways to perform MC policy evaluation.\n",
    "- First-visit MC prediction -- averages the returns only for the first occurrence of a state, s, in an episode. \n",
    "- Every-visit MC prediction -- averages the returns for every occurrence of a state, s, in an episode.\n",
    "\n",
    "First-visit MC prediction has fewer calculations than the every-visit version, so it is more frequently used.\n",
    "\n",
    "### Incremental means\n",
    "\n",
    "To update the MC method, the incremenatl means have been used for update the policy. An incremental or running mean allows us to keep an average for a list of numbers without having to remember the list. We hold one value that we incrementally update using the following equation:\n",
    "\n",
    "$$V(S_t) = V(S_t) + \\alpha(G_t + V(S_t))$$\n",
    "\n",
    "When $V(S_t)$ is the current state value for the policy, $\\alpha$ is a discount rate, and $G_t$."
   ]
  },
  {
   "cell_type": "markdown",
   "metadata": {},
   "source": [
    "### FrozenLake and First-visit MC policy evaluation\n",
    "\n",
    "Let's start in FrozenLake environment using first-visit MC prediction."
   ]
  },
  {
   "cell_type": "code",
   "execution_count": 57,
   "metadata": {},
   "outputs": [],
   "source": [
    "import torch\n",
    "import gym\n",
    "\n",
    "env = gym.make(\"FrozenLake-v1\")"
   ]
  },
  {
   "cell_type": "markdown",
   "metadata": {},
   "source": [
    "Create a function which simulate for each episode given a policy and returns the reward and state for each step"
   ]
  },
  {
   "cell_type": "code",
   "execution_count": 58,
   "metadata": {},
   "outputs": [],
   "source": [
    "def run_episode(env, policy):\n",
    "    state = env.reset()\n",
    "    # this is the difference between MC and DP, find rewards and states\n",
    "    rewards = []\n",
    "    states = [state]\n",
    "    is_done = False\n",
    "    while not is_done:\n",
    "        action = policy[state].item()\n",
    "        state, reward, is_done, info = env.step(action)\n",
    "        # keep all states and reward\n",
    "        states.append(state)\n",
    "        rewards.append(reward)\n",
    "        if is_done:\n",
    "            break\n",
    "    # convert to torch\n",
    "    states = torch.tensor(states)\n",
    "    rewards = torch.tensor(rewards)\n",
    "    return states, rewards"
   ]
  },
  {
   "cell_type": "markdown",
   "metadata": {},
   "source": [
    "Create MC prediction in first-visit."
   ]
  },
  {
   "cell_type": "code",
   "execution_count": 59,
   "metadata": {},
   "outputs": [],
   "source": [
    "def mc_prediction_first_visit(env, policy, gamma, n_episode):\n",
    "    n_state = policy.shape[0]\n",
    "    V = torch.zeros(n_state)\n",
    "    N = torch.zeros(n_state)\n",
    "    for episode in range(n_episode):\n",
    "        # run 1 episode until end of the episode\n",
    "        states_t, rewards_t = run_episode(env, policy)\n",
    "        return_t = 0\n",
    "        first_visit = torch.zeros(n_state)\n",
    "        G = torch.zeros(n_state)\n",
    "        # take a look the state and reward from the last to first start\n",
    "        # calculate given policy\n",
    "        for state_t, reward_t in zip(reversed(states_t)[1:], reversed(rewards_t)):\n",
    "            # calculate rewards\n",
    "            # because the reward at the last can be only 0 or 1, otherwise are 0\n",
    "            # so the reward at first start will be smallest\n",
    "            return_t = gamma * return_t + reward_t\n",
    "            # put the reward for the state into given policy\n",
    "            # as you can see, if we come in the same state, it will be replaced to the early time when visit\n",
    "            # That's why we call first-visit\n",
    "            G[state_t] = return_t\n",
    "            first_visit[state_t] = 1\n",
    "        # at the end of given policy calculation\n",
    "        # we need to update the state transition by summation them (prepare to average)\n",
    "        for state in range(n_state):\n",
    "            if first_visit[state] > 0:\n",
    "                V[state] += G[state]\n",
    "                N[state] += 1\n",
    "    # average state transition here\n",
    "    for state in range(n_state):\n",
    "        if N[state] > 0:\n",
    "            V[state] = V[state] / N[state]\n",
    "    return V"
   ]
  },
  {
   "cell_type": "markdown",
   "metadata": {},
   "source": [
    "Setup discount rate $\\gamma$ as 1 and simulate 10,000 episodes\n",
    "\n",
    "We tried to used <code>optimal_policy</code> from lab 02 (don't be worry, we just bring the data), and feed it into the first-visit MC function, and see the results."
   ]
  },
  {
   "cell_type": "code",
   "execution_count": 60,
   "metadata": {},
   "outputs": [
    {
     "name": "stdout",
     "output_type": "stream",
     "text": [
      "The value function calculated by first-visit MC prediction:\n",
      " tensor([0.7360, 0.4979, 0.4891, 0.4386, 0.7360, 0.0000, 0.3849, 0.0000, 0.7360,\n",
      "        0.7373, 0.6642, 0.0000, 0.0000, 0.7976, 0.8875, 0.0000])\n"
     ]
    }
   ],
   "source": [
    "gamma = 1\n",
    "n_episode = 10000\n",
    "\n",
    "optimal_policy = torch.tensor([0., 3., 3., 3., 0., 3., 2., 3., 3., 1., 0., 3., 3., 2., 1., 3.])\n",
    "value = mc_prediction_first_visit(env, optimal_policy, gamma, n_episode)\n",
    "print('The value function calculated by first-visit MC prediction:\\n', value)"
   ]
  },
  {
   "cell_type": "markdown",
   "metadata": {},
   "source": [
    "As you can see, in MC-based prediction, it is not necessary to know about the full model of the environment. In most real-world cases, the transition matrix and reward matrix are not known beforehand, or are extremely difficult to obtain. Imagine how many possible states there are playing *chess* or *Go* and the number of possible actions; it is almost impossible to work out the transition matrix and reward matrix. Model-free reinforcement learning is about learning from experience by interacting with the environment.\n",
    "\n",
    "We only considered what could be observed, which included the new state and reward in each step, and made predictions using the Monte Carlo method.\n",
    "\n",
    "Note that the more episodes we simulate, the more accurate predictions we can obtain. If you plot the value updated after each episode, you will see how it converges over time, which is similar to what we saw when estimating the value of $\\pi$.\n",
    "\n",
    "### How about every-visit MC?\n",
    "\n",
    "Take a look at every-visit MC function"
   ]
  },
  {
   "cell_type": "code",
   "execution_count": 61,
   "metadata": {},
   "outputs": [],
   "source": [
    "def mc_prediction_every_visit(env, policy, gamma, n_episode):\n",
    "    n_state = policy.shape[0]\n",
    "    V = torch.zeros(n_state)\n",
    "    N = torch.zeros(n_state)\n",
    "    G = torch.zeros(n_state)\n",
    "    for episode in range(n_episode):\n",
    "        states_t, rewards_t = run_episode(env, policy)\n",
    "        return_t = 0\n",
    "        for state_t, reward_t in zip(reversed(states_t)[1:], reversed(rewards_t)):\n",
    "            return_t = gamma * return_t + reward_t\n",
    "            # Here is the difference, instead of discard the other visit\n",
    "            # we calculate all visiting in the target state\n",
    "            # That's why call every-visit\n",
    "            G[state_t] += return_t\n",
    "            N[state_t] += 1\n",
    "    for state in range(n_state):\n",
    "        if N[state] > 0:\n",
    "            V[state] = G[state] / N[state]\n",
    "    return V"
   ]
  },
  {
   "cell_type": "code",
   "execution_count": 62,
   "metadata": {},
   "outputs": [
    {
     "name": "stdout",
     "output_type": "stream",
     "text": [
      "The value function calculated by every-visit MC prediction:\n",
      " tensor([0.6444, 0.4653, 0.4301, 0.3866, 0.6402, 0.0000, 0.3865, 0.0000, 0.6573,\n",
      "        0.6908, 0.6505, 0.0000, 0.0000, 0.7835, 0.8887, 0.0000])\n"
     ]
    }
   ],
   "source": [
    "e_value = mc_prediction_every_visit(env, optimal_policy, gamma, n_episode)\n",
    "print('The value function calculated by every-visit MC prediction:\\n', e_value)"
   ]
  },
  {
   "cell_type": "markdown",
   "metadata": {},
   "source": [
    "Actually, the every-visit is more accurate than the first-visit, but it takes a lot of calculation, so it is not popular."
   ]
  },
  {
   "cell_type": "markdown",
   "metadata": {},
   "source": [
    "## On-policy Monte Carlo control\n",
    "\n",
    "On-policy Monte Carlo works look-a-like to policy iteration which has 2 phases: evaluation and improvement.\n",
    " - Evaluation phase: it evaluates the **action-values** (called **Q-function** $Q(s,a)$) instead of evaluates the value function.\n",
    " - Improvement phase: the policy is updated by assigning the optimal action to each stage: $\\pi(s)=argmax_a Q(s,a)$\n",
    "      \n",
    "### Developing MC control with epsilon-greedy policy\n",
    "\n",
    "The optimal policy using MC control can find the action with the highest state-action value was selected. However, the best choice available in early episodes does not guarantee an optimal solution. If we just focus on what is temporarily the best option and ignore the overall problem, we will be stuck in local optima instead of reaching the global optimal. In order to address the problem, we use another algorithm: epsilon-greedy policy.\n",
    "\n",
    "In MC control with epsilon-greedy policy, we no longer exploit the best action all the time, but choose an action randomly under certain probabilities. As the name implies, the algorithm has two folds:\n",
    "\n",
    "$$\\pi(s,a) = \\frac{\\epsilon}{|A|}$$\n",
    "\n",
    "when $|A|$ is the number of possible actions\n",
    "\n",
    "#### Greedy\n",
    "\n",
    "Greedy is the action with the highest state-action value is favored, and its probability of being chosen is increased by $1-\\epsilon$:\n",
    "\n",
    "$$\\pi(s,a) = 1 - \\epsilon + \\frac{\\epsilon}{|A|}$$\n",
    "\n",
    "Epsilon-greedy policy exploits the best action most of the time and also keeps exploring different actions from time to time."
   ]
  },
  {
   "cell_type": "markdown",
   "metadata": {},
   "source": [
    "## Modify MC control with epsilon-greedy policy with FrozenLake\n",
    "\n",
    "From the code above, let's modify as below:"
   ]
  },
  {
   "cell_type": "code",
   "execution_count": 63,
   "metadata": {},
   "outputs": [],
   "source": [
    "import torch\n",
    "import gym\n",
    "\n",
    "env = gym.make(\"FrozenLake-v1\")"
   ]
  },
  {
   "cell_type": "markdown",
   "metadata": {},
   "source": [
    "Modify run_episode to return states, actions, rewards"
   ]
  },
  {
   "cell_type": "code",
   "execution_count": 64,
   "metadata": {},
   "outputs": [],
   "source": [
    "def run_episode(env, Q, epsilon, n_action):\n",
    "    \"\"\"\n",
    "    Run a episode and performs epsilon-greedy policy\n",
    "    @param env: OpenAI Gym environment\n",
    "    @param Q: Q-function\n",
    "    @param epsilon: the trade-off between exploration and exploitation\n",
    "    @param n_action: action space\n",
    "    @return: resulting states, actions and rewards for the entire episode\n",
    "    \"\"\"\n",
    "    state = env.reset()\n",
    "    rewards = []\n",
    "    actions = []\n",
    "    states = []\n",
    "    is_done = False\n",
    "    while not is_done:\n",
    "        probs = torch.ones(n_action) * epsilon / n_action\n",
    "        best_action = torch.argmax(Q[state]).item()\n",
    "        probs[best_action] += 1.0 - epsilon\n",
    "        action = torch.multinomial(probs, 1).item()\n",
    "        actions.append(action)\n",
    "        states.append(state)\n",
    "        state, reward, is_done, info = env.step(action)\n",
    "        rewards.append(reward)\n",
    "        if is_done:\n",
    "            break\n",
    "    return states, actions, rewards"
   ]
  },
  {
   "cell_type": "markdown",
   "metadata": {},
   "source": [
    "Create MC_control using epsilon greedy"
   ]
  },
  {
   "cell_type": "code",
   "execution_count": 65,
   "metadata": {},
   "outputs": [],
   "source": [
    "from collections import defaultdict\n",
    "\n",
    "def mc_control_epsilon_greedy(env, gamma, n_episode, epsilon):\n",
    "    \"\"\"\n",
    "    Obtain the optimal policy with on-policy MC control with epsilon_greedy\n",
    "    @param env: OpenAI Gym environment\n",
    "    @param gamma: discount factor\n",
    "    @param n_episode: number of episodes\n",
    "    @param epsilon: the trade-off between exploration and exploitation\n",
    "    @return: the optimal Q-function, and the optimal policy\n",
    "    \"\"\"\n",
    "    n_action = env.action_space.n\n",
    "    G_sum = defaultdict(float)\n",
    "    N = defaultdict(int)\n",
    "    Q = defaultdict(lambda: torch.empty(n_action))\n",
    "    for episode in range(n_episode):\n",
    "        if (episode + 1) % 1000 == 0:\n",
    "            print(\"Training episode {}\".format(episode+1))\n",
    "        states_t, actions_t, rewards_t = run_episode(env, Q, epsilon, n_action)\n",
    "        return_t = 0\n",
    "        G = {}\n",
    "        for state_t, action_t, reward_t in zip(states_t[::-1], actions_t[::-1], rewards_t[::-1]):\n",
    "            return_t = gamma * return_t + reward_t\n",
    "            G[(state_t, action_t)] = return_t\n",
    "        for state_action, return_t in G.items():\n",
    "            state, action = state_action\n",
    "\n",
    "            G_sum[state_action] += return_t\n",
    "            N[state_action] += 1\n",
    "            Q[state][action] = G_sum[state_action] / N[state_action]\n",
    "    policy = {}\n",
    "    for state, actions in Q.items():\n",
    "        policy[state] = torch.argmax(actions).item()\n",
    "    return Q, policy\n"
   ]
  },
  {
   "cell_type": "markdown",
   "metadata": {},
   "source": [
    "Find optimal policy"
   ]
  },
  {
   "cell_type": "code",
   "execution_count": 66,
   "metadata": {
    "scrolled": true
   },
   "outputs": [
    {
     "name": "stdout",
     "output_type": "stream",
     "text": [
      "Training episode 1000\n",
      "Training episode 2000\n",
      "Training episode 3000\n",
      "Training episode 4000\n",
      "Training episode 5000\n",
      "Training episode 6000\n",
      "Training episode 7000\n",
      "Training episode 8000\n",
      "Training episode 9000\n",
      "Training episode 10000\n",
      "Training episode 11000\n",
      "Training episode 12000\n",
      "Training episode 13000\n",
      "Training episode 14000\n",
      "Training episode 15000\n",
      "Training episode 16000\n",
      "Training episode 17000\n",
      "Training episode 18000\n",
      "Training episode 19000\n",
      "Training episode 20000\n",
      "Training episode 21000\n",
      "Training episode 22000\n",
      "Training episode 23000\n",
      "Training episode 24000\n",
      "Training episode 25000\n",
      "Training episode 26000\n",
      "Training episode 27000\n",
      "Training episode 28000\n",
      "Training episode 29000\n",
      "Training episode 30000\n",
      "Training episode 31000\n",
      "Training episode 32000\n",
      "Training episode 33000\n",
      "Training episode 34000\n",
      "Training episode 35000\n",
      "Training episode 36000\n",
      "Training episode 37000\n",
      "Training episode 38000\n",
      "Training episode 39000\n",
      "Training episode 40000\n",
      "Training episode 41000\n",
      "Training episode 42000\n",
      "Training episode 43000\n",
      "Training episode 44000\n",
      "Training episode 45000\n",
      "Training episode 46000\n",
      "Training episode 47000\n",
      "Training episode 48000\n",
      "Training episode 49000\n",
      "Training episode 50000\n",
      "Training episode 51000\n",
      "Training episode 52000\n",
      "Training episode 53000\n",
      "Training episode 54000\n",
      "Training episode 55000\n",
      "Training episode 56000\n",
      "Training episode 57000\n",
      "Training episode 58000\n",
      "Training episode 59000\n",
      "Training episode 60000\n",
      "Training episode 61000\n",
      "Training episode 62000\n",
      "Training episode 63000\n",
      "Training episode 64000\n",
      "Training episode 65000\n",
      "Training episode 66000\n",
      "Training episode 67000\n",
      "Training episode 68000\n",
      "Training episode 69000\n",
      "Training episode 70000\n",
      "Training episode 71000\n",
      "Training episode 72000\n",
      "Training episode 73000\n",
      "Training episode 74000\n",
      "Training episode 75000\n",
      "Training episode 76000\n",
      "Training episode 77000\n",
      "Training episode 78000\n",
      "Training episode 79000\n",
      "Training episode 80000\n",
      "Training episode 81000\n",
      "Training episode 82000\n",
      "Training episode 83000\n",
      "Training episode 84000\n",
      "Training episode 85000\n",
      "Training episode 86000\n",
      "Training episode 87000\n",
      "Training episode 88000\n",
      "Training episode 89000\n",
      "Training episode 90000\n",
      "Training episode 91000\n",
      "Training episode 92000\n",
      "Training episode 93000\n",
      "Training episode 94000\n",
      "Training episode 95000\n",
      "Training episode 96000\n",
      "Training episode 97000\n",
      "Training episode 98000\n",
      "Training episode 99000\n",
      "Training episode 100000\n"
     ]
    }
   ],
   "source": [
    "gamma = 1\n",
    "\n",
    "n_episode = 100000\n",
    "epsilon = 0.1\n",
    "\n",
    "optimal_Q, optimal_policy = mc_control_epsilon_greedy(env, gamma, n_episode, epsilon)"
   ]
  },
  {
   "cell_type": "markdown",
   "metadata": {},
   "source": [
    "To test the optimal policy, we need to run simulation using policy.\n",
    "\n",
    "Let's create simulate_episode function:"
   ]
  },
  {
   "cell_type": "code",
   "execution_count": 67,
   "metadata": {},
   "outputs": [],
   "source": [
    "def simulate_episode(env, policy):\n",
    "    state = env.reset()\n",
    "    is_done = False\n",
    "    while not is_done:\n",
    "        action = policy[state]\n",
    "        state, reward, is_done, info = env.step(action)\n",
    "        if is_done:\n",
    "            return reward"
   ]
  },
  {
   "cell_type": "markdown",
   "metadata": {},
   "source": [
    "Run the optimal policy"
   ]
  },
  {
   "cell_type": "code",
   "execution_count": 68,
   "metadata": {
    "scrolled": true
   },
   "outputs": [
    {
     "name": "stdout",
     "output_type": "stream",
     "text": [
      "Testing episode 1000\n",
      "Testing episode 2000\n",
      "Testing episode 3000\n",
      "Testing episode 4000\n",
      "Testing episode 5000\n",
      "Testing episode 6000\n",
      "Testing episode 7000\n",
      "Testing episode 8000\n",
      "Testing episode 9000\n",
      "Testing episode 10000\n",
      "Testing episode 11000\n",
      "Testing episode 12000\n",
      "Testing episode 13000\n",
      "Testing episode 14000\n",
      "Testing episode 15000\n",
      "Testing episode 16000\n",
      "Testing episode 17000\n",
      "Testing episode 18000\n",
      "Testing episode 19000\n",
      "Testing episode 20000\n",
      "Testing episode 21000\n",
      "Testing episode 22000\n",
      "Testing episode 23000\n",
      "Testing episode 24000\n",
      "Testing episode 25000\n",
      "Testing episode 26000\n",
      "Testing episode 27000\n",
      "Testing episode 28000\n",
      "Testing episode 29000\n",
      "Testing episode 30000\n",
      "Testing episode 31000\n",
      "Testing episode 32000\n",
      "Testing episode 33000\n",
      "Testing episode 34000\n",
      "Testing episode 35000\n",
      "Testing episode 36000\n",
      "Testing episode 37000\n",
      "Testing episode 38000\n",
      "Testing episode 39000\n",
      "Testing episode 40000\n",
      "Testing episode 41000\n",
      "Testing episode 42000\n",
      "Testing episode 43000\n",
      "Testing episode 44000\n",
      "Testing episode 45000\n",
      "Testing episode 46000\n",
      "Testing episode 47000\n",
      "Testing episode 48000\n",
      "Testing episode 49000\n",
      "Testing episode 50000\n"
     ]
    }
   ],
   "source": [
    "n_episode = 50000\n",
    "n_win_optimal = 0\n",
    "n_lose_optimal = 0\n",
    "\n",
    "for episode in range(n_episode):\n",
    "    if (episode + 1) % 1000 == 0:\n",
    "        print(\"Testing episode {}\".format(episode+1))\n",
    "    reward = simulate_episode(env, optimal_policy)\n",
    "    if reward == 1:\n",
    "        n_win_optimal += 1\n",
    "    elif reward == -1:\n",
    "        n_lose_optimal += 1"
   ]
  },
  {
   "cell_type": "code",
   "execution_count": 69,
   "metadata": {},
   "outputs": [
    {
     "name": "stdout",
     "output_type": "stream",
     "text": [
      "Winning probability under the optimal policy: 0.73034\n",
      "Losing probability under the optimal policy: 0.0\n"
     ]
    }
   ],
   "source": [
    "print('Winning probability under the optimal policy: {}'.format(n_win_optimal/n_episode))\n",
    "\n",
    "print('Losing probability under the optimal policy: {}'.format(n_lose_optimal/n_episode))"
   ]
  },
  {
   "cell_type": "markdown",
   "metadata": {},
   "source": [
    "## Implement other environments: LunarLander\n",
    "\n",
    "Let's see the environment:"
   ]
  },
  {
   "cell_type": "code",
   "execution_count": 70,
   "metadata": {},
   "outputs": [
    {
     "data": {
      "image/png": "[encoded data removed]",
      "text/plain": [
       "<Figure size 432x288 with 1 Axes>"
      ]
     },
     "metadata": {
      "needs_background": "light"
     },
     "output_type": "display_data"
    }
   ],
   "source": [
    "import gym\n",
    "import numpy as np\n",
    "import matplotlib.pyplot as plt\n",
    "from IPython import display as ipythondisplay\n",
    "\n",
    "from pyvirtualdisplay import Display\n",
    "display = Display(visible=0, size=(400, 300))\n",
    "display.start()\n",
    "\n",
    "env = gym.make('LunarLander-v2')\n",
    "\n",
    "env.reset()\n",
    "prev_screen = env.render(mode='rgb_array')\n",
    "plt.imshow(prev_screen)\n",
    "\n",
    "for i in range(50):\n",
    "    action = env.action_space.sample()\n",
    "    obs, reward, done, info = env.step(action)\n",
    "    screen = env.render(mode='rgb_array')\n",
    "\n",
    "    plt.imshow(screen)\n",
    "    ipythondisplay.clear_output(wait=True)\n",
    "    ipythondisplay.display(plt.gcf())\n",
    "\n",
    "    if done:\n",
    "        break\n",
    "\n",
    "ipythondisplay.clear_output(wait=True)\n",
    "env.close()"
   ]
  },
  {
   "cell_type": "markdown",
   "metadata": {},
   "source": [
    "Checking state in the environment."
   ]
  },
  {
   "cell_type": "code",
   "execution_count": 71,
   "metadata": {},
   "outputs": [
    {
     "name": "stdout",
     "output_type": "stream",
     "text": [
      "[-0.00606527  1.4182601  -0.61436254  0.32620052  0.00703493  0.13916233\n",
      "  0.          0.        ]\n"
     ]
    }
   ],
   "source": [
    "state = env.reset()\n",
    "print(state)"
   ]
  },
  {
   "cell_type": "markdown",
   "metadata": {},
   "source": [
    "Because the state is floating array, It is not good for creating the Q table. We try to change the state to integer array and convert the state array to tuple"
   ]
  },
  {
   "cell_type": "code",
   "execution_count": 72,
   "metadata": {},
   "outputs": [
    {
     "name": "stdout",
     "output_type": "stream",
     "text": [
      "(0, 14, -6, 3, 0, 1, 0, 0)\n"
     ]
    }
   ],
   "source": [
    "state = tuple((state * 10).astype(int))\n",
    "print(state)"
   ]
  },
  {
   "cell_type": "markdown",
   "metadata": {},
   "source": [
    "Modify run_episode function for supporting the state."
   ]
  },
  {
   "cell_type": "code",
   "execution_count": 73,
   "metadata": {},
   "outputs": [],
   "source": [
    "import numpy as np\n",
    "import torch\n",
    "\n",
    "def run_episode2(env, Q, epsilon, n_action):\n",
    "    \"\"\"\n",
    "    Run a episode and performs epsilon-greedy policy\n",
    "    @param env: OpenAI Gym environment\n",
    "    @param Q: Q-function\n",
    "    @param epsilon: the trade-off between exploration and exploitation\n",
    "    @param n_action: action space\n",
    "    @return: resulting states, actions and rewards for the entire episode\n",
    "    \"\"\"\n",
    "    state = env.reset()\n",
    "    state = tuple((state * 10).astype(int))\n",
    "    rewards = []\n",
    "    actions = []\n",
    "    states = []\n",
    "    is_done = False\n",
    "    while not is_done:\n",
    "        probs = torch.ones(n_action) * epsilon / n_action\n",
    "        #print(Q)\n",
    "        #print(state)\n",
    "        best_action = torch.argmax(Q[state]).item()\n",
    "        probs[best_action] += 1.0 - epsilon\n",
    "        action = torch.multinomial(probs, 1).item()\n",
    "        actions.append(action)\n",
    "        states.append(state)\n",
    "        state, reward, is_done, info = env.step(action)\n",
    "        state = tuple((state * 10).astype(int))\n",
    "        rewards.append(reward)\n",
    "        if is_done:\n",
    "            break\n",
    "    return states, actions, rewards"
   ]
  },
  {
   "cell_type": "code",
   "execution_count": 74,
   "metadata": {},
   "outputs": [],
   "source": [
    "from collections import defaultdict\n",
    "\n",
    "def mc_control_epsilon_greedy2(env, gamma, n_episode, epsilon):\n",
    "    \"\"\"\n",
    "    Obtain the optimal policy with on-policy MC control with epsilon_greedy\n",
    "    @param env: OpenAI Gym environment\n",
    "    @param gamma: discount factor\n",
    "    @param n_episode: number of episodes\n",
    "    @param epsilon: the trade-off between exploration and exploitation\n",
    "    @return: the optimal Q-function, and the optimal policy\n",
    "    \"\"\"\n",
    "    n_action = env.action_space.n\n",
    "    G_sum = defaultdict(float)\n",
    "    N = defaultdict(int)\n",
    "    Q = defaultdict(lambda: torch.empty(n_action))\n",
    "    for episode in range(n_episode):\n",
    "        if (episode + 1) % 500 == 0:\n",
    "            print(\"Training episode {}\".format(episode+1))\n",
    "        states_t, actions_t, rewards_t = run_episode2(env, Q, epsilon, n_action)\n",
    "        return_t = 0\n",
    "        G = {}\n",
    "        for state_t, action_t, reward_t in zip(states_t[::-1], actions_t[::-1], rewards_t[::-1]):\n",
    "            return_t = gamma * return_t + reward_t\n",
    "            G[(state_t, action_t)] = return_t\n",
    "        for state_action, return_t in G.items():\n",
    "            state, action = state_action\n",
    "\n",
    "            G_sum[state_action] += return_t\n",
    "            N[state_action] += 1\n",
    "            Q[state][action] = G_sum[state_action] / N[state_action]\n",
    "    policy = {}\n",
    "    for state, actions in Q.items():\n",
    "        policy[state] = torch.argmax(actions).item()\n",
    "    return Q, policy\n"
   ]
  },
  {
   "cell_type": "code",
   "execution_count": 75,
   "metadata": {},
   "outputs": [
    {
     "name": "stdout",
     "output_type": "stream",
     "text": [
      "Training episode 500\n",
      "Training episode 1000\n",
      "Training episode 1500\n",
      "Training episode 2000\n",
      "Training episode 2500\n",
      "Training episode 3000\n",
      "Training episode 3500\n",
      "Training episode 4000\n",
      "Training episode 4500\n",
      "Training episode 5000\n"
     ]
    }
   ],
   "source": [
    "gamma = 0.5\n",
    "\n",
    "n_episode = 5000\n",
    "epsilon = 0.1\n",
    "\n",
    "optimal_Q, optimal_policy = mc_control_epsilon_greedy2(env, gamma, n_episode, epsilon)"
   ]
  },
  {
   "cell_type": "code",
   "execution_count": 76,
   "metadata": {},
   "outputs": [
    {
     "data": {
      "text/plain": [
       "209753"
      ]
     },
     "execution_count": 76,
     "metadata": {},
     "output_type": "execute_result"
    }
   ],
   "source": [
    "len(optimal_policy)"
   ]
  },
  {
   "cell_type": "code",
   "execution_count": 77,
   "metadata": {},
   "outputs": [],
   "source": [
    "def simulate_episode_render(env, policy):\n",
    "    state = env.reset()\n",
    "    state = tuple((state * 10).astype(int))\n",
    "    is_done = False\n",
    "    while not is_done:\n",
    "        try:\n",
    "            action = policy[state]\n",
    "            print(\"get action\")\n",
    "        except:\n",
    "            action = 0\n",
    "            print(\"no action\")\n",
    "        print(action)\n",
    "        state, reward, is_done, info = env.step(action)\n",
    "        state = tuple((state * 10).astype(int))\n",
    "        screen = env.render(mode='rgb_array')\n",
    "        \n",
    "        plt.imshow(screen)\n",
    "        ipythondisplay.clear_output(wait=True)\n",
    "        ipythondisplay.display(plt.gcf())\n",
    "        if is_done:\n",
    "            return reward"
   ]
  },
  {
   "cell_type": "code",
   "execution_count": 78,
   "metadata": {},
   "outputs": [
    {
     "data": {
      "image/png": "[encoded data removed]",
      "text/plain": [
       "<Figure size 432x288 with 1 Axes>"
      ]
     },
     "metadata": {
      "needs_background": "light"
     },
     "output_type": "display_data"
    }
   ],
   "source": [
    "from gym.wrappers import Monitor\n",
    "\n",
    "vdo_path = 'video_rl/'\n",
    "env = Monitor(gym.make('LunarLander-v2'), vdo_path, force=True)\n",
    "env.reset()\n",
    "prev_screen = env.render(mode='rgb_array')\n",
    "plt.imshow(prev_screen)\n",
    "\n",
    "simulate_episode_render(env, optimal_policy)\n",
    "\n",
    "ipythondisplay.clear_output(wait=True)\n",
    "env.close()"
   ]
  },
  {
   "cell_type": "markdown",
   "metadata": {},
   "source": [
    "### Another example: Blackjack"
   ]
  },
  {
   "cell_type": "code",
   "execution_count": 79,
   "metadata": {},
   "outputs": [
    {
     "name": "stdout",
     "output_type": "stream",
     "text": [
      "after episode 100, win  40  lose  52\n"
     ]
    }
   ],
   "source": [
    "import torch\n",
    "import gym\n",
    "from collections import defaultdict\n",
    "\n",
    "env = gym.make('Blackjack-v1')\n",
    "\n",
    "def run_episode(env, Q, epsilon, n_action):\n",
    "    state = env.reset()\n",
    "    rewards = []\n",
    "    actions = []\n",
    "    states = []\n",
    "    is_done = False\n",
    "    # without epsilon-greedy\n",
    "    # action = torch.randint(0, n_action, [1]).item()\n",
    "    ##################################################\n",
    "    while not is_done:\n",
    "        # with epsilon-greedy\n",
    "        probs = torch.ones(n_action) * epsilon / n_action\n",
    "        best_action = torch.argmax(Q[state]).item()\n",
    "        probs[best_action] += 1.0 - epsilon\n",
    "        action = torch.multinomial(probs, 1).item()\n",
    "        #######################################################\n",
    "        actions.append(action)\n",
    "        states.append(state)\n",
    "        state, reward, is_done, info = env.step(action)\n",
    "        rewards.append(reward)\n",
    "    return states, actions, rewards\n",
    "\n",
    "def mc_control_on_policy(env, gamma, n_episode, epsilon):\n",
    "    n_action = env.action_space.n\n",
    "    G_sum = defaultdict(float)\n",
    "    N = defaultdict(int)\n",
    "    Q = defaultdict(lambda: torch.empty(env.action_space.n))\n",
    "    for episode in range(n_episode):\n",
    "        states_t, actions_t, rewards_t = run_episode(env, Q, epsilon, n_action)\n",
    "        return_t = 0\n",
    "        G = {}\n",
    "        for state_t, action_t, reward_t in zip(states_t[::-1], actions_t[::-1], rewards_t[::-1]):\n",
    "            return_t = gamma * return_t + reward_t\n",
    "            G[(state_t, action_t)] = return_t\n",
    "            for state_action, return_t in G.items():\n",
    "                state, action = state_action\n",
    "                if state[0] <= 21:\n",
    "                    G_sum[state_action] += return_t\n",
    "                    N[state_action] += 1\n",
    "                    Q[state][action] = G_sum[state_action] / N[state_action]\n",
    "    policy = {}\n",
    "    for state, actions in Q.items():\n",
    "        policy[state] = torch.argmax(actions).item()\n",
    "    return Q, policy\n",
    "\n",
    "gamma = 1\n",
    "n_episode = 500000\n",
    "epsilon = 0.1\n",
    "optimal_Q, optimal_policy = mc_control_on_policy(env, gamma, n_episode, epsilon)\n",
    "# print(optimal_policy)\n",
    "# print(optimal_Q)\n",
    "\n",
    "def simulate_episode(env, policy):\n",
    "    state = env.reset()\n",
    "    is_done= False\n",
    "    while not is_done:\n",
    "        action = policy[state]\n",
    "        state, reward, is_done, info = env.step(action)\n",
    "        if is_done:\n",
    "            return reward\n",
    "\n",
    "n_episode = 100\n",
    "n_win_optimal = 0\n",
    "n_lose_optimal = 0\n",
    "for _ in range(n_episode):\n",
    "    reward = simulate_episode(env, optimal_policy)\n",
    "    if reward == 1:\n",
    "        n_win_optimal += 1\n",
    "    elif reward == -1:\n",
    "        n_lose_optimal += 1\n",
    "print('after episode 100, win ', n_win_optimal, ' lose ', n_lose_optimal)"
   ]
  },
  {
   "cell_type": "markdown",
   "metadata": {},
   "source": [
    "## Off-policy Monte Carlo control\n",
    "\n",
    "The Off-policy method optimizes the **target policy** ($\\pi$) using data generated by another policy (**behavior policy** ($b$)).\n",
    " - Target policy: exploitation purposes, greedy with respect to its current Q-function.\n",
    " - Behavior policy: exploration purposes, generate behavior which the target policy used for learning. The behavior policy can be anything to confirm that it can explore all possibilities, then all actions and all states can be chosen with non-zero probabilities.\n",
    "\n",
    "The weight importand for state-action pair is calculated as:\n",
    "\n",
    "$w_t=\\sum_{k=t}[\\pi(a_k|s_k)/b(a_k|s_k)]$\n",
    " - $\\pi(a_k|s_k)$: probabilities of taking action $a_k$ in state $s_k$\n",
    " - $b(a_k|s_k)$: probabilities under the behavior policy."
   ]
  },
  {
   "cell_type": "code",
   "execution_count": 80,
   "metadata": {
    "tags": []
   },
   "outputs": [
    {
     "name": "stdout",
     "output_type": "stream",
     "text": [
      "after episode 100, win  47  lose  50\n"
     ]
    }
   ],
   "source": [
    "import torch\n",
    "import gym\n",
    "from collections import defaultdict\n",
    "\n",
    "env = gym.make('Blackjack-v1')\n",
    "\n",
    "def gen_random_policy(n_action):\n",
    "    probs = torch.ones(n_action) / n_action\n",
    "    def policy_function(state):\n",
    "        return probs\n",
    "    return policy_function\n",
    "\n",
    "random_policy = gen_random_policy(env.action_space.n)\n",
    "\n",
    "def run_episode(env, behavior_policy):\n",
    "    state = env.reset()\n",
    "    rewards = []\n",
    "    actions = []\n",
    "    states = []\n",
    "    is_done = False\n",
    "    while not is_done:\n",
    "        probs = behavior_policy(state)\n",
    "        action = torch.multinomial(probs, 1).item()\n",
    "        actions.append(action)\n",
    "        states.append(state)\n",
    "        state, reward, is_done, info = env.step(action)\n",
    "        rewards.append(reward)\n",
    "        if is_done:\n",
    "            break\n",
    "    return states, actions, rewards\n",
    "\n",
    "def mc_control_off_policy(env, gamma, n_episode, behavior_policy):\n",
    "    n_action = env.action_space.n\n",
    "    G_sum = defaultdict(float)\n",
    "    N = defaultdict(int)\n",
    "    Q = defaultdict(lambda: torch.empty(n_action))\n",
    "    for episode in range(n_episode):\n",
    "        W = {}\n",
    "        w = 1\n",
    "        states_t, actions_t, rewards_t = run_episode(env, behavior_policy)\n",
    "        return_t = 0\n",
    "        G = {}\n",
    "        for state_t, action_t, reward_t in zip(states_t[::-1], actions_t[::-1], rewards_t[::-1]):\n",
    "            return_t = gamma * return_t + reward_t\n",
    "            G[(state_t, action_t)] = return_t\n",
    "            w *= 1./ behavior_policy(state_t)[action_t]\n",
    "            W[(state_t, action_t)] = w\n",
    "            if action_t != torch.argmax(Q[state_t]).item():\n",
    "                break\n",
    "            \n",
    "        for state_action, return_t in G.items():\n",
    "            state, action = state_action\n",
    "            if state[0] <= 21:\n",
    "                G_sum[state_action] += return_t * W[state_action]\n",
    "                N[state_action] += 1\n",
    "                Q[state][action] = G_sum[state_action] / N[state_action]\n",
    "    policy = {}\n",
    "    for state, actions in Q.items():\n",
    "        policy[state] = torch.argmax(actions).item()\n",
    "    return Q, policy\n",
    "\n",
    "gamma = 1\n",
    "n_episode = 500000\n",
    "optimal_Q, optimal_policy = mc_control_off_policy(env, gamma, n_episode, random_policy)\n",
    "# print(optimal_policy)\n",
    "# print(optimal_Q)\n",
    "\n",
    "def simulate_episode(env, policy):\n",
    "    state = env.reset()\n",
    "    is_done= False\n",
    "    while not is_done:\n",
    "        action = policy[state]\n",
    "        state, reward, is_done, info = env.step(action)\n",
    "        if is_done:\n",
    "            return reward\n",
    "\n",
    "n_episode = 100\n",
    "n_win_optimal = 0\n",
    "n_lose_optimal = 0\n",
    "for _ in range(n_episode):\n",
    "    reward = simulate_episode(env, optimal_policy)\n",
    "    if reward == 1:\n",
    "        n_win_optimal += 1\n",
    "    elif reward == -1:\n",
    "        n_lose_optimal += 1\n",
    "print('after episode 100, win ', n_win_optimal, ' lose ', n_lose_optimal)"
   ]
  },
  {
   "cell_type": "markdown",
   "metadata": {},
   "source": [
    "## Temporal Difference (TD)\n",
    "\n",
    "**Makov Decision Process (MDP)** using **Monte Carlo method** which it a *model-free* approach. It does not require the prior knowledge environment. However, all algorithm that we learned, need to play until the end of episode, then it can update its knowledge. This is slow due to waiting some process to success or fail to terminate.\n",
    "\n",
    "For **Temporal Difference(TD)**, it is another method that can learn while it's running each step because learning every time step in an episode, TD increased learning efficiency significantly.\n",
    "\n",
    "Temporal Difference (TD) learning is a model-free learning algorithm like MC learning. In MC learning, Q-function is called and updated at the end of the entire episode, but TD learning update Q-function every step of an episode. One of the TD learning algorithm is Q-learning"
   ]
  },
  {
   "cell_type": "markdown",
   "metadata": {},
   "source": [
    "## Algorithms in TD method\n",
    "\n",
    "The TD method has 2 main algorithms family:\n",
    "1. Q-Learning\n",
    "2. SARSA"
   ]
  },
  {
   "cell_type": "markdown",
   "metadata": {},
   "source": [
    "## Q-Learning\n",
    "\n",
    "Q-Learning is a very popular TD method. It is an off-policy learning algorithm. The Q-function updates the Q policy based on the equation:\n",
    "\n",
    "$$Q(s,a)=Q(s,a)+\\alpha(r+\\gamma \\max_{a'}Q(s',a') - Q(s,a))$$\n",
    "\n",
    "where\n",
    "- s: currenct state\n",
    "- s': next state after taking action\n",
    "- a: action in the current state\n",
    "- a': action will take when go to next state\n",
    "- $\\alpha$: learning rate\n",
    "- $\\gamma$: discount factor\n",
    "\n",
    "$\\max_{a'}Q(s',a')$ means the behavior policy is greedy, where the highest Q-value among those in state $s'$ is selected to generate learning data.\n",
    "\n",
    "In Q-learning, actions are taken according to the epsilon-greedy policy."
   ]
  },
  {
   "cell_type": "markdown",
   "metadata": {},
   "source": [
    "## Q-Learning example: SpaceInvaders\n",
    "\n",
    "Now, let's do the Q-Learning algorithm using SpaceInvaders environment."
   ]
  },
  {
   "cell_type": "code",
   "execution_count": 81,
   "metadata": {},
   "outputs": [
    {
     "data": {
      "text/plain": [
       "array([[[ 0,  0,  0],\n",
       "        [ 0,  0,  0],\n",
       "        [ 0,  0,  0],\n",
       "        ...,\n",
       "        [ 0,  0,  0],\n",
       "        [ 0,  0,  0],\n",
       "        [ 0,  0,  0]],\n",
       "\n",
       "       [[ 0,  0,  0],\n",
       "        [ 0,  0,  0],\n",
       "        [ 0,  0,  0],\n",
       "        ...,\n",
       "        [ 0,  0,  0],\n",
       "        [ 0,  0,  0],\n",
       "        [ 0,  0,  0]],\n",
       "\n",
       "       [[ 0,  0,  0],\n",
       "        [ 0,  0,  0],\n",
       "        [ 0,  0,  0],\n",
       "        ...,\n",
       "        [ 0,  0,  0],\n",
       "        [ 0,  0,  0],\n",
       "        [ 0,  0,  0]],\n",
       "\n",
       "       ...,\n",
       "\n",
       "       [[80, 89, 22],\n",
       "        [80, 89, 22],\n",
       "        [80, 89, 22],\n",
       "        ...,\n",
       "        [80, 89, 22],\n",
       "        [80, 89, 22],\n",
       "        [80, 89, 22]],\n",
       "\n",
       "       [[80, 89, 22],\n",
       "        [80, 89, 22],\n",
       "        [80, 89, 22],\n",
       "        ...,\n",
       "        [80, 89, 22],\n",
       "        [80, 89, 22],\n",
       "        [80, 89, 22]],\n",
       "\n",
       "       [[80, 89, 22],\n",
       "        [80, 89, 22],\n",
       "        [80, 89, 22],\n",
       "        ...,\n",
       "        [80, 89, 22],\n",
       "        [80, 89, 22],\n",
       "        [80, 89, 22]]], dtype=uint8)"
      ]
     },
     "execution_count": 81,
     "metadata": {},
     "output_type": "execute_result"
    }
   ],
   "source": [
    "import torch\n",
    "import gym\n",
    "from collections import defaultdict\n",
    "import numpy\n",
    "\n",
    "env_id = \"SpaceInvaders-v0\"\n",
    "env = gym.make(env_id)\n",
    "\n",
    "env.reset()"
   ]
  },
  {
   "cell_type": "markdown",
   "metadata": {},
   "source": [
    "### Define Epsilon greedy policy\n",
    "\n",
    "As last time the epsilon greedy policy equation can be written as:\n",
    "\n",
    "$$\\pi(s,a) = \\frac{\\epsilon}{|A|}$$\n",
    "\n",
    "when $|A|$ is the number of possible actions, and\n",
    "\n",
    "$$\\pi(s,a) = 1 - \\epsilon + \\frac{\\epsilon}{|A|}$$"
   ]
  },
  {
   "cell_type": "code",
   "execution_count": 82,
   "metadata": {},
   "outputs": [],
   "source": [
    "def gen_epsilon_greedy_policy(n_action, epsilon):\n",
    "    def policy_function(state, Q, available_actions):\n",
    "        probs = torch.ones(n_action) * epsilon / n_action\n",
    "        best_action = torch.argmax(Q[state]).item()\n",
    "        if not(best_action in available_actions):\n",
    "            best_action = -1\n",
    "            Q_max = -800000000\n",
    "            for i in range(n_action):\n",
    "                if i in available_actions and Q_max < Q[state][i]:\n",
    "                    Q_max = Q[state][i]\n",
    "                    best_action = i\n",
    "        probs[best_action] += 1.0 - epsilon\n",
    "        action = torch.multinomial(probs, 1).item()\n",
    "        return action\n",
    "    return policy_function"
   ]
  },
  {
   "cell_type": "markdown",
   "metadata": {},
   "source": [
    "### Define Q-learning function\n",
    "\n",
    "We perform Q-learning in the tasks:\n",
    "\n",
    "1. Initialize the Q-table with all zeros.\n",
    "2. In each episode, we let the agent follow the epsilon-greedy policy to choose what action to take. And we update the Q function for each step.\n",
    "3. Run <code>n_episodes</code> episodes\n",
    "4. Obtain the optimal policy based on the optimal Q function."
   ]
  },
  {
   "cell_type": "code",
   "execution_count": 83,
   "metadata": {},
   "outputs": [],
   "source": [
    "def q_learning(env, gamma, n_episode, alpha, player):\n",
    "    \"\"\"\n",
    "    Obtain the optimal policy with off-policy Q-learning method\n",
    "    @param env: OpenAI Gym environment\n",
    "    @param gamma: discount factor\n",
    "    @param n_episode: number of episodes\n",
    "    @return: the optimal Q-function, and the optimal policy\n",
    "    \"\"\"\n",
    "    n_action = 9\n",
    "    Q = defaultdict(lambda: torch.zeros(n_action))\n",
    "    print('start learning')\n",
    "    for episode in range(n_episode):\n",
    "        print(\"episode: \", episode + 1)\n",
    "        state = env.reset()\n",
    "        state = hash(tuple(state.reshape(-1)))\n",
    "\n",
    "        is_done = False\n",
    "        while not is_done:\n",
    "            action = epsilon_greedy_policy(state, Q, available_actions)\n",
    "            next_state, reward, is_done, info = env.step(action)\n",
    "            next_state = hash(tuple(next_state.reshape(-1)))\n",
    "            td_delta = reward + gamma * torch.max(Q[next_state]) - Q[state][action]\n",
    "            Q[state][action] += alpha * td_delta\n",
    "\n",
    "            length_episode[episode] += 1\n",
    "            total_reward_episode[episode] += reward\n",
    "\n",
    "            if is_done:\n",
    "                break\n",
    "            state = next_state\n",
    "\n",
    "    policy = {}\n",
    "    for state, actions in Q.items():\n",
    "        policy[state] = torch.argmax(actions).item()\n",
    "    return Q, policy"
   ]
  },
  {
   "cell_type": "markdown",
   "metadata": {},
   "source": [
    "### Define initial parameters\n",
    "\n",
    "We specify the $\\gamma=1$, $\\alpha=0.4$, and $\\epsilon=0.1$ with 500 episodes"
   ]
  },
  {
   "cell_type": "code",
   "execution_count": 84,
   "metadata": {},
   "outputs": [],
   "source": [
    "gamma = 1\n",
    "alpha = 0.4\n",
    "epsilon = 0.1\n",
    "\n",
    "n_episode = 500"
   ]
  },
  {
   "cell_type": "markdown",
   "metadata": {},
   "source": [
    "### Create an instance of the epsilon-greedy policy function"
   ]
  },
  {
   "cell_type": "code",
   "execution_count": 85,
   "metadata": {},
   "outputs": [
    {
     "name": "stdout",
     "output_type": "stream",
     "text": [
      "<function gen_epsilon_greedy_policy.<locals>.policy_function at 0x7f02d03b9550>\n"
     ]
    }
   ],
   "source": [
    "available_actions = numpy.arange(env.action_space.n)\n",
    "available_actions = torch.from_numpy(available_actions)\n",
    "epsilon_greedy_policy = gen_epsilon_greedy_policy(env.action_space.n, epsilon)\n",
    "\n",
    "print(epsilon_greedy_policy)"
   ]
  },
  {
   "cell_type": "markdown",
   "metadata": {},
   "source": [
    "### Train it!"
   ]
  },
  {
   "cell_type": "code",
   "execution_count": 86,
   "metadata": {
    "scrolled": true
   },
   "outputs": [
    {
     "name": "stdout",
     "output_type": "stream",
     "text": [
      "start learning\n",
      "episode:  1\n",
      "episode:  2\n",
      "episode:  3\n",
      "episode:  4\n",
      "episode:  5\n",
      "episode:  6\n",
      "episode:  7\n",
      "episode:  8\n",
      "episode:  9\n",
      "episode:  10\n",
      "episode:  11\n",
      "episode:  12\n",
      "episode:  13\n",
      "episode:  14\n",
      "episode:  15\n",
      "episode:  16\n",
      "episode:  17\n",
      "episode:  18\n",
      "episode:  19\n",
      "episode:  20\n",
      "episode:  21\n",
      "episode:  22\n",
      "episode:  23\n",
      "episode:  24\n",
      "episode:  25\n",
      "episode:  26\n",
      "episode:  27\n",
      "episode:  28\n",
      "episode:  29\n",
      "episode:  30\n",
      "episode:  31\n",
      "episode:  32\n",
      "episode:  33\n",
      "episode:  34\n",
      "episode:  35\n",
      "episode:  36\n",
      "episode:  37\n",
      "episode:  38\n",
      "episode:  39\n",
      "episode:  40\n",
      "episode:  41\n",
      "episode:  42\n",
      "episode:  43\n",
      "episode:  44\n",
      "episode:  45\n",
      "episode:  46\n",
      "episode:  47\n",
      "episode:  48\n",
      "episode:  49\n",
      "episode:  50\n",
      "episode:  51\n",
      "episode:  52\n",
      "episode:  53\n",
      "episode:  54\n",
      "episode:  55\n",
      "episode:  56\n",
      "episode:  57\n",
      "episode:  58\n",
      "episode:  59\n",
      "episode:  60\n",
      "episode:  61\n",
      "episode:  62\n",
      "episode:  63\n",
      "episode:  64\n",
      "episode:  65\n",
      "episode:  66\n",
      "episode:  67\n",
      "episode:  68\n",
      "episode:  69\n",
      "episode:  70\n",
      "episode:  71\n",
      "episode:  72\n",
      "episode:  73\n",
      "episode:  74\n",
      "episode:  75\n",
      "episode:  76\n",
      "episode:  77\n",
      "episode:  78\n",
      "episode:  79\n",
      "episode:  80\n",
      "episode:  81\n",
      "episode:  82\n",
      "episode:  83\n",
      "episode:  84\n",
      "episode:  85\n",
      "episode:  86\n",
      "episode:  87\n",
      "episode:  88\n",
      "episode:  89\n",
      "episode:  90\n",
      "episode:  91\n",
      "episode:  92\n",
      "episode:  93\n",
      "episode:  94\n",
      "episode:  95\n",
      "episode:  96\n",
      "episode:  97\n",
      "episode:  98\n",
      "episode:  99\n",
      "episode:  100\n",
      "episode:  101\n",
      "episode:  102\n",
      "episode:  103\n",
      "episode:  104\n",
      "episode:  105\n",
      "episode:  106\n",
      "episode:  107\n",
      "episode:  108\n",
      "episode:  109\n",
      "episode:  110\n",
      "episode:  111\n",
      "episode:  112\n",
      "episode:  113\n",
      "episode:  114\n",
      "episode:  115\n",
      "episode:  116\n",
      "episode:  117\n",
      "episode:  118\n",
      "episode:  119\n",
      "episode:  120\n",
      "episode:  121\n",
      "episode:  122\n",
      "episode:  123\n",
      "episode:  124\n",
      "episode:  125\n",
      "episode:  126\n",
      "episode:  127\n",
      "episode:  128\n",
      "episode:  129\n",
      "episode:  130\n",
      "episode:  131\n",
      "episode:  132\n",
      "episode:  133\n",
      "episode:  134\n",
      "episode:  135\n",
      "episode:  136\n",
      "episode:  137\n",
      "episode:  138\n",
      "episode:  139\n",
      "episode:  140\n",
      "episode:  141\n",
      "episode:  142\n",
      "episode:  143\n",
      "episode:  144\n",
      "episode:  145\n",
      "episode:  146\n",
      "episode:  147\n",
      "episode:  148\n",
      "episode:  149\n",
      "episode:  150\n",
      "episode:  151\n",
      "episode:  152\n",
      "episode:  153\n",
      "episode:  154\n",
      "episode:  155\n",
      "episode:  156\n",
      "episode:  157\n",
      "episode:  158\n",
      "episode:  159\n",
      "episode:  160\n",
      "episode:  161\n",
      "episode:  162\n",
      "episode:  163\n",
      "episode:  164\n",
      "episode:  165\n",
      "episode:  166\n",
      "episode:  167\n",
      "episode:  168\n",
      "episode:  169\n",
      "episode:  170\n",
      "episode:  171\n",
      "episode:  172\n",
      "episode:  173\n",
      "episode:  174\n",
      "episode:  175\n",
      "episode:  176\n",
      "episode:  177\n",
      "episode:  178\n",
      "episode:  179\n",
      "episode:  180\n",
      "episode:  181\n",
      "episode:  182\n",
      "episode:  183\n",
      "episode:  184\n",
      "episode:  185\n",
      "episode:  186\n",
      "episode:  187\n",
      "episode:  188\n",
      "episode:  189\n",
      "episode:  190\n",
      "episode:  191\n",
      "episode:  192\n",
      "episode:  193\n",
      "episode:  194\n",
      "episode:  195\n",
      "episode:  196\n",
      "episode:  197\n",
      "episode:  198\n",
      "episode:  199\n",
      "episode:  200\n",
      "episode:  201\n",
      "episode:  202\n",
      "episode:  203\n",
      "episode:  204\n",
      "episode:  205\n",
      "episode:  206\n",
      "episode:  207\n",
      "episode:  208\n",
      "episode:  209\n",
      "episode:  210\n",
      "episode:  211\n",
      "episode:  212\n",
      "episode:  213\n",
      "episode:  214\n",
      "episode:  215\n",
      "episode:  216\n",
      "episode:  217\n",
      "episode:  218\n",
      "episode:  219\n",
      "episode:  220\n",
      "episode:  221\n",
      "episode:  222\n",
      "episode:  223\n",
      "episode:  224\n",
      "episode:  225\n",
      "episode:  226\n",
      "episode:  227\n",
      "episode:  228\n",
      "episode:  229\n",
      "episode:  230\n",
      "episode:  231\n",
      "episode:  232\n",
      "episode:  233\n",
      "episode:  234\n",
      "episode:  235\n",
      "episode:  236\n",
      "episode:  237\n",
      "episode:  238\n",
      "episode:  239\n",
      "episode:  240\n",
      "episode:  241\n",
      "episode:  242\n",
      "episode:  243\n",
      "episode:  244\n",
      "episode:  245\n",
      "episode:  246\n",
      "episode:  247\n",
      "episode:  248\n",
      "episode:  249\n",
      "episode:  250\n",
      "episode:  251\n",
      "episode:  252\n",
      "episode:  253\n",
      "episode:  254\n",
      "episode:  255\n",
      "episode:  256\n",
      "episode:  257\n",
      "episode:  258\n",
      "episode:  259\n",
      "episode:  260\n",
      "episode:  261\n",
      "episode:  262\n",
      "episode:  263\n",
      "episode:  264\n",
      "episode:  265\n",
      "episode:  266\n",
      "episode:  267\n",
      "episode:  268\n",
      "episode:  269\n",
      "episode:  270\n",
      "episode:  271\n",
      "episode:  272\n",
      "episode:  273\n",
      "episode:  274\n",
      "episode:  275\n",
      "episode:  276\n",
      "episode:  277\n",
      "episode:  278\n",
      "episode:  279\n",
      "episode:  280\n",
      "episode:  281\n",
      "episode:  282\n",
      "episode:  283\n",
      "episode:  284\n",
      "episode:  285\n",
      "episode:  286\n",
      "episode:  287\n",
      "episode:  288\n",
      "episode:  289\n",
      "episode:  290\n",
      "episode:  291\n",
      "episode:  292\n",
      "episode:  293\n",
      "episode:  294\n",
      "episode:  295\n",
      "episode:  296\n",
      "episode:  297\n",
      "episode:  298\n",
      "episode:  299\n",
      "episode:  300\n",
      "episode:  301\n",
      "episode:  302\n",
      "episode:  303\n",
      "episode:  304\n",
      "episode:  305\n",
      "episode:  306\n",
      "episode:  307\n",
      "episode:  308\n",
      "episode:  309\n",
      "episode:  310\n",
      "episode:  311\n",
      "episode:  312\n",
      "episode:  313\n",
      "episode:  314\n",
      "episode:  315\n",
      "episode:  316\n",
      "episode:  317\n",
      "episode:  318\n",
      "episode:  319\n",
      "episode:  320\n",
      "episode:  321\n",
      "episode:  322\n",
      "episode:  323\n",
      "episode:  324\n",
      "episode:  325\n",
      "episode:  326\n",
      "episode:  327\n",
      "episode:  328\n",
      "episode:  329\n",
      "episode:  330\n",
      "episode:  331\n",
      "episode:  332\n",
      "episode:  333\n",
      "episode:  334\n",
      "episode:  335\n",
      "episode:  336\n",
      "episode:  337\n",
      "episode:  338\n",
      "episode:  339\n",
      "episode:  340\n",
      "episode:  341\n",
      "episode:  342\n",
      "episode:  343\n",
      "episode:  344\n",
      "episode:  345\n",
      "episode:  346\n",
      "episode:  347\n",
      "episode:  348\n",
      "episode:  349\n",
      "episode:  350\n",
      "episode:  351\n",
      "episode:  352\n",
      "episode:  353\n",
      "episode:  354\n",
      "episode:  355\n",
      "episode:  356\n",
      "episode:  357\n",
      "episode:  358\n",
      "episode:  359\n",
      "episode:  360\n",
      "episode:  361\n",
      "episode:  362\n",
      "episode:  363\n",
      "episode:  364\n",
      "episode:  365\n",
      "episode:  366\n",
      "episode:  367\n",
      "episode:  368\n",
      "episode:  369\n",
      "episode:  370\n",
      "episode:  371\n",
      "episode:  372\n",
      "episode:  373\n",
      "episode:  374\n",
      "episode:  375\n",
      "episode:  376\n",
      "episode:  377\n",
      "episode:  378\n",
      "episode:  379\n",
      "episode:  380\n",
      "episode:  381\n",
      "episode:  382\n",
      "episode:  383\n",
      "episode:  384\n",
      "episode:  385\n",
      "episode:  386\n",
      "episode:  387\n",
      "episode:  388\n",
      "episode:  389\n",
      "episode:  390\n",
      "episode:  391\n",
      "episode:  392\n",
      "episode:  393\n",
      "episode:  394\n",
      "episode:  395\n",
      "episode:  396\n",
      "episode:  397\n",
      "episode:  398\n",
      "episode:  399\n",
      "episode:  400\n",
      "episode:  401\n",
      "episode:  402\n",
      "episode:  403\n",
      "episode:  404\n",
      "episode:  405\n",
      "episode:  406\n",
      "episode:  407\n",
      "episode:  408\n",
      "episode:  409\n",
      "episode:  410\n",
      "episode:  411\n",
      "episode:  412\n",
      "episode:  413\n",
      "episode:  414\n",
      "episode:  415\n",
      "episode:  416\n",
      "episode:  417\n",
      "episode:  418\n",
      "episode:  419\n",
      "episode:  420\n",
      "episode:  421\n",
      "episode:  422\n",
      "episode:  423\n",
      "episode:  424\n",
      "episode:  425\n",
      "episode:  426\n",
      "episode:  427\n",
      "episode:  428\n",
      "episode:  429\n",
      "episode:  430\n",
      "episode:  431\n",
      "episode:  432\n",
      "episode:  433\n",
      "episode:  434\n",
      "episode:  435\n",
      "episode:  436\n",
      "episode:  437\n",
      "episode:  438\n",
      "episode:  439\n",
      "episode:  440\n",
      "episode:  441\n",
      "episode:  442\n",
      "episode:  443\n",
      "episode:  444\n",
      "episode:  445\n",
      "episode:  446\n",
      "episode:  447\n",
      "episode:  448\n",
      "episode:  449\n",
      "episode:  450\n",
      "episode:  451\n",
      "episode:  452\n",
      "episode:  453\n",
      "episode:  454\n",
      "episode:  455\n",
      "episode:  456\n",
      "episode:  457\n",
      "episode:  458\n",
      "episode:  459\n",
      "episode:  460\n",
      "episode:  461\n",
      "episode:  462\n",
      "episode:  463\n",
      "episode:  464\n",
      "episode:  465\n",
      "episode:  466\n",
      "episode:  467\n",
      "episode:  468\n",
      "episode:  469\n",
      "episode:  470\n",
      "episode:  471\n",
      "episode:  472\n",
      "episode:  473\n",
      "episode:  474\n",
      "episode:  475\n",
      "episode:  476\n",
      "episode:  477\n",
      "episode:  478\n",
      "episode:  479\n",
      "episode:  480\n",
      "episode:  481\n",
      "episode:  482\n",
      "episode:  483\n",
      "episode:  484\n",
      "episode:  485\n",
      "episode:  486\n",
      "episode:  487\n",
      "episode:  488\n",
      "episode:  489\n",
      "episode:  490\n",
      "episode:  491\n",
      "episode:  492\n",
      "episode:  493\n",
      "episode:  494\n",
      "episode:  495\n",
      "episode:  496\n",
      "episode:  497\n",
      "episode:  498\n",
      "episode:  499\n",
      "episode:  500\n"
     ]
    },
    {
     "name": "stderr",
     "output_type": "stream",
     "text": [
      "IOPub data rate exceeded.\n",
      "The notebook server will temporarily stop sending output\n",
      "to the client in order to avoid crashing it.\n",
      "To change this limit, set the config variable\n",
      "`--NotebookApp.iopub_data_rate_limit`.\n",
      "\n",
      "Current values:\n",
      "NotebookApp.iopub_data_rate_limit=1000000.0 (bytes/sec)\n",
      "NotebookApp.rate_limit_window=3.0 (secs)\n",
      "\n"
     ]
    }
   ],
   "source": [
    "length_episode = [0] * n_episode\n",
    "total_reward_episode = [0] * n_episode\n",
    "\n",
    "# agent play first\n",
    "optimal_Q, optimal_policy = q_learning(env, gamma, n_episode, alpha, 1)\n",
    "\n",
    "\n",
    "print('The optimal policy:\\n', optimal_policy)"
   ]
  },
  {
   "cell_type": "markdown",
   "metadata": {},
   "source": [
    "### Display the plot of episode"
   ]
  },
  {
   "cell_type": "code",
   "execution_count": 87,
   "metadata": {
    "tags": []
   },
   "outputs": [
    {
     "data": {
      "image/png": "[encoded data removed]",
      "text/plain": [
       "<Figure size 432x288 with 1 Axes>"
      ]
     },
     "metadata": {
      "needs_background": "light"
     },
     "output_type": "display_data"
    },
    {
     "name": "stdout",
     "output_type": "stream",
     "text": [
      "[35.0, 155.0, 120.0, 5.0, 105.0, 100.0, 105.0, 35.0, 180.0, 20.0, 75.0, 210.0, 30.0, 165.0, 20.0, 50.0, 105.0, 30.0, 80.0, 120.0, 335.0, 180.0, 75.0, 60.0, 30.0, 50.0, 120.0, 15.0, 120.0, 35.0, 105.0, 135.0, 80.0, 150.0, 50.0, 60.0, 55.0, 90.0, 110.0, 75.0, 75.0, 225.0, 185.0, 105.0, 75.0, 60.0, 100.0, 50.0, 110.0, 50.0, 15.0, 160.0, 110.0, 210.0, 50.0, 15.0, 90.0, 45.0, 45.0, 20.0, 55.0, 250.0, 30.0, 50.0, 15.0, 50.0, 30.0, 105.0, 105.0, 60.0, 55.0, 40.0, 55.0, 165.0, 135.0, 50.0, 25.0, 230.0, 310.0, 105.0, 60.0, 155.0, 155.0, 90.0, 40.0, 215.0, 120.0, 5.0, 120.0, 30.0, 75.0, 155.0, 30.0, 125.0, 30.0, 105.0, 65.0, 120.0, 15.0, 75.0]\n"
     ]
    },
    {
     "data": {
      "image/png": "[encoded data removed]",
      "text/plain": [
       "<Figure size 432x288 with 1 Axes>"
      ]
     },
     "metadata": {
      "needs_background": "light"
     },
     "output_type": "display_data"
    }
   ],
   "source": [
    "import matplotlib.pyplot as plt\n",
    "\n",
    "plt.plot(length_episode)\n",
    "plt.title('Episode length over time')\n",
    "plt.xlabel('Episode')\n",
    "plt.ylabel('Length')\n",
    "plt.show()\n",
    "\n",
    "\n",
    "plt.plot(total_reward_episode)\n",
    "print(total_reward_episode[-100:])\n",
    "plt.title('Episode reward over time')\n",
    "plt.xlabel('Episode')\n",
    "plt.ylabel('Total reward')\n",
    "plt.show()"
   ]
  },
  {
   "cell_type": "markdown",
   "metadata": {},
   "source": [
    "### Simulate the optimal policy"
   ]
  },
  {
   "cell_type": "code",
   "execution_count": 88,
   "metadata": {},
   "outputs": [
    {
     "data": {
      "image/png": "[encoded data removed]",
      "text/plain": [
       "<Figure size 648x648 with 1 Axes>"
      ]
     },
     "metadata": {
      "needs_background": "light"
     },
     "output_type": "display_data"
    }
   ],
   "source": [
    "import time\n",
    "from IPython import display\n",
    "import matplotlib\n",
    "import matplotlib.pyplot as plt\n",
    "%matplotlib inline\n",
    "\n",
    "def play_game(Q, available_actions):\n",
    "    done = False\n",
    "    plt.figure(figsize=(9,9))\n",
    "    img = plt.imshow(env.render(mode='rgb_array')) # only call this once\n",
    "    state = env.reset()\n",
    "    state = hash(tuple(state.reshape(-1)))\n",
    "    while(not done):\n",
    "        action = epsilon_greedy_policy(state, Q, available_actions)\n",
    "        next_state, reward, done, _ = env.step(action)\n",
    "        # env.render() No use!\n",
    "        img.set_data(env.render(mode='rgb_array')) # just update the data\n",
    "        display.display(plt.gcf())\n",
    "        display.clear_output(wait=True)\n",
    "        time.sleep(0.03)\n",
    "        state = next_state\n",
    "        state = hash(tuple(state.reshape(-1)))\n",
    "\n",
    "play_game(optimal_Q, available_actions)\n",
    "env.close()"
   ]
  },
  {
   "cell_type": "markdown",
   "metadata": {},
   "source": [
    "## Deep Q-Learning\n",
    "\n",
    "A deep Q-Network (DQN) is similar to a supervised regression model $F_{\\theta}$, but it more specifically maps states to action values directly instead of using a set of features.\n",
    "\n",
    "A DQN is trained to output $Q(s,a)$ values for each action given the input state $s$. In operation, in state $s$, the action $a$ is chosen greedily based on $Q(s,a)$ or stochastically\n",
    "following an epsilon-greedy policy.\n",
    "\n",
    "<img src=\"img/RL2_DQN.png\" title=\"DQN\" style=\"width: 800px;\" />\n",
    "\n",
    "In tabular Q learning, the update rule is an off-policy TD learning rule. When we take\n",
    "action $a$ in state $s$ receiving reward $r$, we update $Q(s,a)$ as\n",
    "\n",
    "$$Q(s,a)=Q(s,a)+\\alpha(r+\\gamma\\max_{a'}Q(s',a')-Q(s,a)),$$\n",
    "\n",
    "where\n",
    " - $s'$ is the resulting state after taking action $a$ in state $s$\n",
    " - $\\max_{a'}Q(s',a')$ is value of the action $a'$ we would take in state $s'$ according to a greedy behavior policy.\n",
    "\n",
    "A DQN does the same thing using backpropagation, minimizing inconsistencies in its $Q$ estimates. At each step, the difference\n",
    "between the estimated value and the observed data from the subsequent step should be minimized, giving us a kind of regression\n",
    "problem, for which a squared error loss function is appopriate, giving us a delta for the $a$th output of\n",
    "\n",
    "$$\\delta_a=r+\\gamma\\max_{a'}Q(s')_{a'}-Q(s)_{a}.$$\n",
    "\n",
    "With an appropriate exploration strategy and learning rate, DQN should find the optimal network model best approximating\n",
    "the state-value function $Q(s,a)$ for each possible state and action.\n",
    "\n",
    "## DQN Example: Cartpole\n",
    "\n",
    "Let's develop a sample DQN application step by step. First, some imports we'll need.\n",
    "\n",
    "**Note**: From now, the coding style have changed for supporting more advance coding."
   ]
  },
  {
   "cell_type": "code",
   "execution_count": 9,
   "metadata": {},
   "outputs": [],
   "source": [
    "import math, random\n",
    "\n",
    "import torch\n",
    "import torch.nn as nn\n",
    "import torch.optim as optim\n",
    "import torch.autograd as autograd \n",
    "import torch.nn.functional as F\n",
    "\n",
    "import matplotlib.pyplot as plt\n",
    "\n",
    "import gym\n",
    "import numpy as np\n",
    "\n",
    "from collections import deque\n",
    "from tqdm import trange\n",
    "\n",
    "# Select GPU or CPU as device\n",
    "\n",
    "device = torch.device(\"cuda:0\" if torch.cuda.is_available() else \"cpu\")"
   ]
  },
  {
   "cell_type": "markdown",
   "metadata": {},
   "source": [
    "### $\\epsilon$ decay schedule\n",
    "\n",
    "$\\epsilon$ is how much the model use the policy action as random. At first, we want $\\epsilon$ high as possible to explore the new path, and the $\\epsilon$ will decreased to exploit the policy at the old state that we have explored.\n",
    "\n",
    "Recall that some of the theoretical results on TD learning assume $\\epsilon$-greedy exploration with $\\epsilon$ decaying slowly to 0\n",
    "over time. Let's define an exponential decay schedule for $\\epsilon$. First, an example:"
   ]
  },
  {
   "cell_type": "code",
   "execution_count": 13,
   "metadata": {},
   "outputs": [
    {
     "data": {
      "image/png": "[encoded data removed]",
      "text/plain": [
       "<Figure size 432x288 with 1 Axes>"
      ]
     },
     "metadata": {
      "needs_background": "light"
     },
     "output_type": "display_data"
    }
   ],
   "source": [
    "epsilon_start = 1.0\n",
    "epsilon_final = 0.01\n",
    "epsilon_decay = 500\n",
    "\n",
    "# Define epsilon as a function of time (episode index)\n",
    "\n",
    "eps_by_episode = lambda episode: epsilon_final + (epsilon_start - epsilon_final) * math.exp(-1. * episode / epsilon_decay)\n",
    "\n",
    "# Note that the above lambda expression is equivalent to explicitly defining a function:\n",
    "# def epsilon_episode(episode):\n",
    "#     return epsilon_final + (epsilon_start - epsilon_final) * math.exp(-1. * episode / epsilon_decay)\n",
    "\n",
    "plt.plot([eps_by_episode(i) for i in range(10000)])\n",
    "plt.title('Epsilon as function of time')\n",
    "plt.xlabel('Time (episode index)')\n",
    "plt.ylabel('Epsilon')\n",
    "plt.show()\n"
   ]
  },
  {
   "cell_type": "markdown",
   "metadata": {},
   "source": [
    "Here's a reusable function to generate an annealing schedule function according to given parameters:"
   ]
  },
  {
   "cell_type": "code",
   "execution_count": 18,
   "metadata": {},
   "outputs": [],
   "source": [
    "# Epsilon annealing schedule generator\n",
    "\n",
    "def gen_eps_by_episode(epsilon_start, epsilon_final, epsilon_decay):\n",
    "    eps_by_episode = lambda episode: epsilon_final + (epsilon_start - epsilon_final) * math.exp(-1. * episode / epsilon_decay)\n",
    "    return eps_by_episode\n",
    "\n",
    "epsilon_start = 1.0\n",
    "epsilon_final = 0.01\n",
    "epsilon_decay = 500\n",
    "eps_by_episode = gen_eps_by_episode(epsilon_start, epsilon_final, epsilon_decay)"
   ]
  },
  {
   "cell_type": "markdown",
   "metadata": {},
   "source": [
    "### Replay buffer\n",
    "\n",
    "We know that deep learning methods learn faster when training samples are combined into batches. This speeds up learning and also makes it more stable by averaging\n",
    "updates over multiple samaples.\n",
    "\n",
    "RL algorithms also benefit from batched training. However, we see that the standard Q learning rule always updates $Q$ estimates using the most recent experience.\n",
    "If we always trained on batches consisting of samples of the most recent behavior, correlations between successive state action pairs will make learning less effective.\n",
    "So we would also like to select random training samples to make them look more like the i.i.d. sampling that supervised learning performs well under.\n",
    "\n",
    "In RL, the standard way of doing this is to create a large buffer of past state action pairs then form training batches by sampling from that replay buffer.\n",
    "Our replay buffer will store tuples consisting of an observed state, an action, the next_state, the reward, and the termination signal obtained by the agent at that point in time:"
   ]
  },
  {
   "cell_type": "code",
   "execution_count": 8,
   "metadata": {},
   "outputs": [],
   "source": [
    "class ReplayBuffer(object):\n",
    "    def __init__(self, capacity):\n",
    "        self.buffer = deque(maxlen=capacity)\n",
    "    \n",
    "    def push(self, state, action, reward, next_state, done):\n",
    "        # Add batch index dimension to state representations\n",
    "        state = np.expand_dims(state, 0)\n",
    "        next_state = np.expand_dims(next_state, 0)            \n",
    "        self.buffer.append((state, action, reward, next_state, done))\n",
    "    \n",
    "    def sample(self, batch_size):\n",
    "        state, action, reward, next_state, done = zip(*random.sample(self.buffer, batch_size))\n",
    "        return np.concatenate(state), action, reward, np.concatenate(next_state), done\n",
    "    \n",
    "    def __len__(self):\n",
    "        return len(self.buffer)"
   ]
  },
  {
   "cell_type": "markdown",
   "metadata": {},
   "source": [
    "### Basic DQN\n",
    "\n",
    "Next, a basic DQN class. We just create a neural network that takes as input a state\n",
    "and returns an output vector indiciating the value of each possible action $Q(s,a)$.\n",
    "\n",
    "The steps we take during learning will be as follows:\n",
    "\n",
    "<img src=\"img/RL2_DQNstep.jpeg\" title=\"\" style=\"width: 600px;\" />\n",
    "\n",
    "To implement the policy, besides the usual `forward()` method, we add one additional method `act()`,\n",
    "which samples an $\\epsilon$-greedy action for state $s$ using the current estimate $Q(s,a)$.\n",
    "`act()` will be used to implement step 1 in the pseudocode above.\n"
   ]
  },
  {
   "cell_type": "code",
   "execution_count": 5,
   "metadata": {},
   "outputs": [],
   "source": [
    "class DQN(nn.Module):\n",
    "    \n",
    "    def __init__(self, n_state, n_action):\n",
    "        super(DQN, self).__init__()        \n",
    "        self.layers = nn.Sequential(\n",
    "            nn.Linear(n_state, 128),\n",
    "            nn.ReLU(),\n",
    "            nn.Linear(128, 128),\n",
    "            nn.ReLU(),\n",
    "            nn.Linear(128, n_action)\n",
    "        )\n",
    "        \n",
    "    def forward(self, x):\n",
    "        return self.layers(x)\n",
    "    \n",
    "    def act(self, state, epsilon):\n",
    "        # Get an epsilon greedy action for given state\n",
    "        if random.random() > epsilon: # Use argmax_a Q(s,a)\n",
    "            state = autograd.Variable(torch.FloatTensor(state).unsqueeze(0), volatile=True).to(device)\n",
    "            q_value = self.forward(state)\n",
    "            q_value = q_value.cpu()\n",
    "            action = q_value.max(1)[1].item()            \n",
    "        else: # get random action\n",
    "            action = random.randrange(env.action_space.n)\n",
    "        return action"
   ]
  },
  {
   "cell_type": "markdown",
   "metadata": {},
   "source": [
    "### Create gym environment, prepare DQN for training\n",
    "\n",
    "Next we set up a gym environment for the cartpole simulation, create a DQN model with Adam optimization, and create a replay buffer of length 1000."
   ]
  },
  {
   "cell_type": "code",
   "execution_count": 94,
   "metadata": {},
   "outputs": [],
   "source": [
    "env_id = \"CartPole-v0\"\n",
    "env = gym.make(env_id)\n",
    "\n",
    "model = DQN(env.observation_space.shape[0], env.action_space.n).to(device)\n",
    "    \n",
    "optimizer = optim.Adam(model.parameters())\n",
    "\n",
    "replay_buffer = ReplayBuffer(3000)"
   ]
  },
  {
   "cell_type": "markdown",
   "metadata": {},
   "source": [
    "### Training step\n",
    "\n",
    "In the training step, we sample a batch from the replay buffer, calculate $Q(s,a)$ and $\\max_{a'} Q(s',a')$, calculate\n",
    "the target $Q$ value $r + \\gamma\\max_{a'}Q(s',a')$, the mean squared loss between the predicted and target $Q$ values,\n",
    "and then backpropagate.\n"
   ]
  },
  {
   "cell_type": "code",
   "execution_count": 15,
   "metadata": {},
   "outputs": [],
   "source": [
    "def compute_td_loss(model, batch_size, gamma=0.99):\n",
    "\n",
    "    # Get batch from replay buffer\n",
    "    state, action, reward, next_state, done = replay_buffer.sample(batch_size)\n",
    "\n",
    "    # Convert to tensors. Creating Variables is not necessary with more recent PyTorch versions.\n",
    "    state      = autograd.Variable(torch.FloatTensor(np.float32(state))).to(device)\n",
    "    next_state = autograd.Variable(torch.FloatTensor(np.float32(next_state)), volatile=True).to(device)\n",
    "    action     = autograd.Variable(torch.LongTensor(action)).to(device)\n",
    "    reward     = autograd.Variable(torch.FloatTensor(reward)).to(device)\n",
    "    done       = autograd.Variable(torch.FloatTensor(done)).to(device)\n",
    "\n",
    "    # Calculate Q(s) and Q(s')\n",
    "    q_values      = model(state)\n",
    "    # print(q_values.shape)\n",
    "    next_q_values = model(next_state)\n",
    "\n",
    "    # Get Q(s,a) and max_a' Q(s',a')\n",
    "    #print(\"action.unsqueeze(1)\", action.unsqueeze(1))\n",
    "    # print(action.unsqueeze(1).shape)\n",
    "    q_value          = q_values.gather(1, action.unsqueeze(1)).squeeze(1)\n",
    "    \n",
    "    next_q_value     = next_q_values.max(1)[0]\n",
    "    #print(\"next_q_value\", next_q_value)\n",
    "    # Calculate target for Q(s,a): r + gamma max_a' Q(s',a')\n",
    "    # Note that the done signal is used to terminate recursion at end of episode.\n",
    "    expected_q_value = reward + gamma * next_q_value * (1 - done)\n",
    "    \n",
    "    # Calculate MSE loss. Variables are not needed in recent PyTorch versions.\n",
    "    loss = (q_value - autograd.Variable(expected_q_value.data)).pow(2).mean()\n",
    "        \n",
    "    optimizer.zero_grad()\n",
    "    loss.backward()\n",
    "    optimizer.step()\n",
    "\n",
    "    return loss"
   ]
  },
  {
   "cell_type": "markdown",
   "metadata": {},
   "source": [
    "### Plot rewards and losses\n",
    "\n",
    "Here's a little function to plot relevant details for us:"
   ]
  },
  {
   "cell_type": "code",
   "execution_count": 6,
   "metadata": {},
   "outputs": [],
   "source": [
    "def plot(episode, rewards, losses):\n",
    "    # clear_output(True)\n",
    "    plt.figure(figsize=(20,5))\n",
    "    plt.subplot(131)\n",
    "    plt.title('episode %s. reward: %s' % (episode, np.mean(rewards[-10:])))\n",
    "    plt.plot(rewards)\n",
    "    plt.subplot(132)\n",
    "    plt.title('loss')\n",
    "    plt.plot(losses)   \n",
    "    plt.show() "
   ]
  },
  {
   "cell_type": "markdown",
   "metadata": {},
   "source": [
    "### Training loop\n",
    "\n",
    "The training loop lets the agent play the game until the end of the episode.\n",
    "Each step is appended to the replay buffer. We don't do any learning until the buffer's length reaches the batch_size.\n"
   ]
  },
  {
   "cell_type": "code",
   "execution_count": 11,
   "metadata": {},
   "outputs": [],
   "source": [
    "def train(env, model, eps_by_episode, optimizer, replay_buffer, episodes = 10000, batch_size=32, gamma = 0.99):\n",
    "    losses = []\n",
    "    all_rewards = []\n",
    "    episode_reward = 0\n",
    "    tot_reward = 0\n",
    "    tr = trange(episodes+1, desc='Agent training', leave=True)\n",
    "\n",
    "    # Get initial state input\n",
    "    state = env.reset()\n",
    "\n",
    "    # Execute episodes iterations\n",
    "    for episode in tr:\n",
    "        tr.set_description(\"Agent training (episode{}) Avg Reward {}\".format(episode+1,tot_reward/(episode+1)))\n",
    "        tr.refresh() \n",
    "\n",
    "        # Get initial epsilon greedy action\n",
    "        epsilon = eps_by_episode(episode)\n",
    "        action = model.act(state, epsilon)\n",
    "        \n",
    "        # Take a step\n",
    "        next_state, reward, done, _ = env.step(action)\n",
    "\n",
    "        # Append experience to replay buffer\n",
    "        replay_buffer.push(state, action, reward, next_state, done)\n",
    "\n",
    "        tot_reward += reward\n",
    "        episode_reward += reward\n",
    "        \n",
    "        state = next_state\n",
    "\n",
    "        # Start a new episode if done signal is received\n",
    "        if done:\n",
    "            state = env.reset()\n",
    "            all_rewards.append(episode_reward)\n",
    "            episode_reward = 0\n",
    "\n",
    "        # Train on a batch if we've got enough experience\n",
    "        # print(len(replay_buffer))\n",
    "        if len(replay_buffer) > batch_size:\n",
    "            loss = compute_td_loss(model, batch_size, gamma)\n",
    "            losses.append(loss.item())\n",
    "            \n",
    "    plot(episode, all_rewards, losses)  \n",
    "    return model,all_rewards, losses"
   ]
  },
  {
   "cell_type": "markdown",
   "metadata": {},
   "source": [
    "### Train!\n",
    "\n",
    "Let's train our DQN model for 10,000 steps in the cartpole simulation:"
   ]
  },
  {
   "cell_type": "code",
   "execution_count": 98,
   "metadata": {},
   "outputs": [
    {
     "name": "stderr",
     "output_type": "stream",
     "text": [
      "Agent training (episode33) Avg Reward 0.9696969696969697:   0%|          | 0/10001 [00:00<?, ?it/s]/tmp/ipykernel_27194/3107134140.py:8: UserWarning: volatile was removed and now has no effect. Use `with torch.no_grad():` instead.\n",
      "  next_state = autograd.Variable(torch.FloatTensor(np.float32(next_state)), volatile=True).to(device)\n",
      "Agent training (episode38) Avg Reward 0.9736842105263158:   0%|          | 33/10001 [00:00<04:40, 35.47it/s]/tmp/ipykernel_27194/2776276185.py:19: UserWarning: volatile was removed and now has no effect. Use `with torch.no_grad():` instead.\n",
      "  state = autograd.Variable(torch.FloatTensor(state).unsqueeze(0), volatile=True).to(device)\n",
      "Agent training (episode10001) Avg Reward 0.9999000099990001: 100%|██████████| 10001/10001 [00:36<00:00, 277.48it/s]\n"
     ]
    },
    {
     "data": {
      "image/png": "[encoded data removed]",
      "text/plain": [
       "<Figure size 1440x360 with 2 Axes>"
      ]
     },
     "metadata": {
      "needs_background": "light"
     },
     "output_type": "display_data"
    }
   ],
   "source": [
    "model,all_rewards, losses = train(env, model, eps_by_episode, optimizer, replay_buffer, episodes = 10000, batch_size=32, gamma = 0.99)"
   ]
  },
  {
   "cell_type": "markdown",
   "metadata": {},
   "source": [
    "### Play in the simulation\n",
    "\n",
    "You can run your simulation in Jupyter if you have OpenGL installed, but after the simulation is finished, you must close the\n",
    "simulator with `env.close()` (this closes the simulator, not the environment)."
   ]
  },
  {
   "cell_type": "code",
   "execution_count": 99,
   "metadata": {},
   "outputs": [
    {
     "data": {
      "image/png": "[encoded data removed]",
      "text/plain": [
       "<Figure size 648x648 with 1 Axes>"
      ]
     },
     "metadata": {
      "needs_background": "light"
     },
     "output_type": "display_data"
    }
   ],
   "source": [
    "import time\n",
    "from IPython import display\n",
    "import matplotlib\n",
    "import matplotlib.pyplot as plt\n",
    "%matplotlib inline\n",
    "\n",
    "def play_game(model):\n",
    "    done = False\n",
    "    plt.figure(figsize=(9,9))\n",
    "    img = plt.imshow(env.render(mode='rgb_array')) # only call this once\n",
    "    state = env.reset()\n",
    "    while(not done):\n",
    "        action = model.act(state, epsilon_final)\n",
    "        next_state, reward, done, _ = env.step(action)\n",
    "        # env.render() No use!\n",
    "        img.set_data(env.render(mode='rgb_array')) # just update the data\n",
    "        display.display(plt.gcf())\n",
    "        display.clear_output(wait=True)\n",
    "        time.sleep(0.03)\n",
    "        state = next_state\n",
    "\n",
    "play_game(model)\n",
    "env.close()"
   ]
  },
  {
   "cell_type": "markdown",
   "metadata": {
    "nbgrader": {
     "grade": false,
     "grade_id": "cell-2f62f416f34d5296",
     "locked": true,
     "points": 50,
     "schema_version": 3,
     "solution": false,
     "task": true
    }
   },
   "source": [
    "### In class exercise (50 points)\n",
    "\n"
   ]
  },
  {
   "cell_type": "markdown",
   "metadata": {},
   "source": [
    "#### Ability to run different environments"
   ]
  },
  {
   "cell_type": "markdown",
   "metadata": {
    "nbgrader": {
     "grade": false,
     "grade_id": "cell-71f183bf97643dd9",
     "locked": true,
     "points": 50,
     "schema_version": 3,
     "solution": false,
     "task": true
    }
   },
   "source": [
    "### Take home exercise (50 points)\n",
    "\n"
   ]
  },
  {
   "cell_type": "markdown",
   "metadata": {},
   "source": [
    "#### Choose one of the environments and implement DQN\n",
    "\n",
    "### Answer:\n",
    "    - In this exercise I trained a Deep Q-Network (DQN) on LunarLander-v2."
   ]
  },
  {
   "cell_type": "code",
   "execution_count": 27,
   "metadata": {},
   "outputs": [],
   "source": [
    "class LunarLanderDQN(nn.Module):\n",
    "    \n",
    "    def __init__(self, n_state, n_action):\n",
    "        super(LunarLanderDQN, self).__init__()        \n",
    "        self.layers = nn.Sequential(\n",
    "            nn.Linear(n_state, 128),\n",
    "            nn.ReLU(),\n",
    "            nn.Linear(128, 128),\n",
    "            nn.ReLU(),\n",
    "            nn.Linear(128, n_action)\n",
    "        )\n",
    "        \n",
    "    def forward(self, x):\n",
    "        return self.layers(x)\n",
    "    \n",
    "    def act(self, state, epsilon):\n",
    "        if random.random() > epsilon:\n",
    "            state = autograd.Variable(torch.FloatTensor(state).unsqueeze(0), volatile=True).to(device)\n",
    "            q_value = self.forward(state)\n",
    "            q_value = q_value.cpu()\n",
    "            action = q_value.max(1)[1].item()            \n",
    "        else: # get random action\n",
    "            action = random.randrange(env.action_space.n)\n",
    "        return action"
   ]
  },
  {
   "cell_type": "code",
   "execution_count": 28,
   "metadata": {},
   "outputs": [],
   "source": [
    "env_id = \"LunarLander-v2\"\n",
    "env = gym.make(env_id)"
   ]
  },
  {
   "cell_type": "code",
   "execution_count": 29,
   "metadata": {},
   "outputs": [
    {
     "name": "stdout",
     "output_type": "stream",
     "text": [
      "State shape:  (8,)\n",
      "Number of actions:  4\n"
     ]
    }
   ],
   "source": [
    "print('State shape: ', env.observation_space.shape)\n",
    "print('Number of actions: ', env.action_space.n)"
   ]
  },
  {
   "cell_type": "code",
   "execution_count": 30,
   "metadata": {},
   "outputs": [],
   "source": [
    "model = LunarLanderDQN(env.observation_space.shape[0], env.action_space.n).to(device)\n",
    "    \n",
    "optimizer = optim.Adam(model.parameters() , lr=0.001)\n",
    "\n",
    "replay_buffer = ReplayBuffer(10000)"
   ]
  },
  {
   "cell_type": "code",
   "execution_count": 31,
   "metadata": {},
   "outputs": [
    {
     "name": "stderr",
     "output_type": "stream",
     "text": [
      "Agent training (episode33) Avg Reward 0.1726962054029765:   0%|          | 0/100001 [00:00<?, ?it/s] /tmp/ipykernel_14945/3107134140.py:8: UserWarning: volatile was removed and now has no effect. Use `with torch.no_grad():` instead.\n",
      "  next_state = autograd.Variable(torch.FloatTensor(np.float32(next_state)), volatile=True).to(device)\n",
      "Agent training (episode85) Avg Reward -0.7414164603877471:   0%|          | 47/100001 [00:00<03:34, 466.99it/s] /tmp/ipykernel_14945/3955033801.py:19: UserWarning: volatile was removed and now has no effect. Use `with torch.no_grad():` instead.\n",
      "  state = autograd.Variable(torch.FloatTensor(state).unsqueeze(0), volatile=True).to(device)\n",
      "Agent training (episode100001) Avg Reward 0.04491461078043789: 100%|██████████| 100001/100001 [07:22<00:00, 225.85it/s]  \n"
     ]
    },
    {
     "data": {
      "image/png": "[encoded data removed]",
      "text/plain": [
       "<Figure size 1440x360 with 2 Axes>"
      ]
     },
     "metadata": {
      "needs_background": "light"
     },
     "output_type": "display_data"
    }
   ],
   "source": [
    "model,all_rewards, losses = train(env, model, eps_by_episode, optimizer, replay_buffer, episodes = 100000, batch_size=32, gamma = 0.99)"
   ]
  },
  {
   "cell_type": "code",
   "execution_count": 32,
   "metadata": {},
   "outputs": [
    {
     "data": {
      "image/png": "[encoded data removed]",
      "text/plain": [
       "<Figure size 648x648 with 1 Axes>"
      ]
     },
     "metadata": {
      "needs_background": "light"
     },
     "output_type": "display_data"
    }
   ],
   "source": [
    "import time\n",
    "from IPython import display\n",
    "import matplotlib\n",
    "import matplotlib.pyplot as plt\n",
    "%matplotlib inline\n",
    "\n",
    "def play_game(model):\n",
    "    done = False\n",
    "    plt.figure(figsize=(9,9))\n",
    "    img = plt.imshow(env.render(mode='rgb_array'))\n",
    "    state = env.reset()\n",
    "    while(not done):\n",
    "        action = model.act(state, epsilon_final)\n",
    "        next_state, reward, done, _ = env.step(action)\n",
    "        # env.render() No use!\n",
    "        img.set_data(env.render(mode='rgb_array'))\n",
    "        display.display(plt.gcf())\n",
    "        display.clear_output(wait=True)\n",
    "        time.sleep(0.03)\n",
    "        state = next_state\n",
    "\n",
    "play_game(model)\n",
    "env.close()"
   ]
  },
  {
   "cell_type": "code",
   "execution_count": null,
   "metadata": {},
   "outputs": [],
   "source": []
  }
 ],
 "metadata": {
  "kernelspec": {
   "display_name": "Python 3 (ipykernel)",
   "language": "python",
   "name": "python3"
  },
  "language_info": {
   "codemirror_mode": {
    "name": "ipython",
    "version": 3
   },
   "file_extension": ".py",
   "mimetype": "text/x-python",
   "name": "python",
   "nbconvert_exporter": "python",
   "pygments_lexer": "ipython3",
   "version": "3.9.12"
  }
 },
 "nbformat": 4,
 "nbformat_minor": 4
}
